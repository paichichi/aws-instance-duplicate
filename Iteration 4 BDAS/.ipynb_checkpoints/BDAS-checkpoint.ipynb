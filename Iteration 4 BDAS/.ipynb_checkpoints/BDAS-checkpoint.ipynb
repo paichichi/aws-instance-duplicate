{
 "cells": [
  {
   "cell_type": "code",
   "execution_count": 1,
   "metadata": {},
   "outputs": [
    {
     "name": "stderr",
     "output_type": "stream",
     "text": [
      "WARNING: An illegal reflective access operation has occurred\n",
      "WARNING: Illegal reflective access by org.apache.spark.unsafe.Platform (file:/home/ubuntu/spark-3.2.1-bin-hadoop2.7/jars/spark-unsafe_2.12-3.2.1.jar) to constructor java.nio.DirectByteBuffer(long,int)\n",
      "WARNING: Please consider reporting this to the maintainers of org.apache.spark.unsafe.Platform\n",
      "WARNING: Use --illegal-access=warn to enable warnings of further illegal reflective access operations\n",
      "WARNING: All illegal access operations will be denied in a future release\n",
      "Using Spark's default log4j profile: org/apache/spark/log4j-defaults.properties\n",
      "Setting default log level to \"WARN\".\n",
      "To adjust logging level use sc.setLogLevel(newLevel). For SparkR, use setLogLevel(newLevel).\n",
      "22/10/12 08:28:53 WARN NativeCodeLoader: Unable to load native-hadoop library for your platform... using builtin-java classes where applicable\n"
     ]
    }
   ],
   "source": [
    "# Must be included at the beginning of each new notebook. Remember to change the app name.\n",
    "import findspark\n",
    "findspark.init('/home/ubuntu/spark-3.2.1-bin-hadoop2.7')\n",
    "import pyspark\n",
    "from pyspark.sql import SparkSession\n",
    "spark = SparkSession.builder.appName('basics').getOrCreate()\n",
    "\n",
    "from pyspark.sql.functions import regexp_replace, col\n",
    "\n",
    "from pyspark.ml.stat import Correlation\n",
    "\n",
    "from pyspark.sql import SparkSession\n",
    "from pyspark.ml.linalg import Vectors\n",
    "from pyspark.ml.feature import VectorAssembler"
   ]
  },
  {
   "cell_type": "code",
   "execution_count": 2,
   "metadata": {},
   "outputs": [
    {
     "name": "stderr",
     "output_type": "stream",
     "text": [
      "                                                                                \r"
     ]
    }
   ],
   "source": [
    "# Let's read in the data. Note that it's in the format of JSON.\n",
    "df = spark.read.csv('data/New_ruf.csv',inferSchema=True, header=True)"
   ]
  },
  {
   "cell_type": "code",
   "execution_count": 3,
   "metadata": {},
   "outputs": [
    {
     "name": "stdout",
     "output_type": "stream",
     "text": [
      "+------------+---------+--------+----------+----------+-------------------+---------+----------+-----------------+------------------+--------------+-------------+--------------------+-------------+--------------+---------------------+------+--------------------------------+---------------------------------+-----------------------------------------+---------------------+----------------------+------------------------------+---------+\n",
      "|BusinessYear|StateCode|IssuerId|SourceName|VersionNum|         ImportDate|IssuerId2|FederalTIN|RateEffectiveDate|RateExpirationDate|        PlanId| RatingAreaId|             Tobacco|          Age|IndividualRate|IndividualTobaccoRate|Couple|PrimarySubscriberAndOneDependent|PrimarySubscriberAndTwoDependents|PrimarySubscriberAndThreeOrMoreDependents|CoupleAndOneDependent|CoupleAndTwoDependents|CoupleAndThreeOrMoreDependents|RowNumber|\n",
      "+------------+---------+--------+----------+----------+-------------------+---------+----------+-----------------+------------------+--------------+-------------+--------------------+-------------+--------------+---------------------+------+--------------------------------+---------------------------------+-----------------------------------------+---------------------+----------------------+------------------------------+---------+\n",
      "|        2016|       AK|   21989|      HIOS|         4|2015-08-22 15:09:32|    21989|93-0438772|       2016-04-01|        2016-06-30|21989AK0080001|Rating Area 1|       No Preference|Family Option|         51.36|                 null| 101.7|                          117.62|                           117.62|                                   117.62|               180.28|                180.28|                        180.28|       14|\n",
      "|        2016|       AK|   21989|      HIOS|         4|2015-08-22 15:09:32|    21989|93-0438772|       2016-01-01|        2016-03-31|21989AK0090001|Rating Area 1|       No Preference|           21|          55.0|                 null|  null|                            null|                             null|                                     null|                 null|                  null|                          null|       15|\n",
      "|        2016|       AK|   21989|      HIOS|         4|2015-08-22 15:09:32|    21989|93-0438772|       2016-04-01|        2016-06-30|21989AK0080001|Rating Area 2|       No Preference|Family Option|         51.36|                 null| 101.7|                          117.62|                           117.62|                                   117.62|               180.28|                180.28|                        180.28|       15|\n",
      "|        2016|       AK|   21989|      HIOS|         4|2015-08-22 15:09:32|    21989|93-0438772|       2016-01-01|        2016-03-31|21989AK0080001|Rating Area 2|       No Preference|Family Option|         50.67|                 null|100.33|                          116.04|                           116.04|                                   116.04|               117.86|                117.86|                        117.86|       15|\n",
      "|        2016|       AK|   21989|      HIOS|         4|2015-08-22 15:09:32|    21989|93-0438772|       2016-01-01|        2016-12-31|21989AK0030001|Rating Area 1|       No Preference|           21|          38.0|                 null|  null|                            null|                             null|                                     null|                 null|                  null|                          null|       15|\n",
      "|        2016|       AK|   21989|      HIOS|         4|2015-08-22 15:09:32|    21989|93-0438772|       2016-07-01|        2016-09-30|21989AK0080001|Rating Area 3|       No Preference|Family Option|         52.06|                 null|103.08|                          119.22|                           119.22|                                   119.22|               182.73|                182.73|                        182.73|       16|\n",
      "|        2016|       AK|   21989|      HIOS|         4|2015-08-22 15:09:32|    21989|93-0438772|       2016-10-01|        2016-12-31|21989AK0080002|Rating Area 1|       No Preference|Family Option|         59.98|                 null|118.76|                          137.35|                           137.35|                                   137.35|               210.53|                210.53|                        210.53|       17|\n",
      "|        2016|       AK|   21989|      HIOS|         4|2015-08-22 15:09:32|    21989|93-0438772|       2016-10-01|        2016-12-31|21989AK0090001|Rating Area 1|       No Preference|           23|          57.0|                 null|  null|                            null|                             null|                                     null|                 null|                  null|                          null|       17|\n",
      "|        2016|       AK|   21989|      HIOS|         4|2015-08-22 15:09:32|    21989|93-0438772|       2016-01-01|        2016-03-31|21989AK0080002|Rating Area 1|       No Preference|Family Option|          57.6|                 null|114.05|                           131.9|                            131.9|                                    131.9|               202.17|                202.17|                        202.17|       17|\n",
      "|        2016|       AK|   21989|      HIOS|         4|2015-08-22 15:09:32|    21989|93-0438772|       2016-07-01|        2016-09-30|21989AK0080002|Rating Area 2|       No Preference|Family Option|         59.18|                 null|117.17|                          135.51|                           135.51|                                   135.51|                207.7|                 207.7|                         207.7|       18|\n",
      "|        2016|       AK|   21989|      HIOS|         4|2015-08-22 15:09:32|    21989|93-0438772|       2016-10-01|        2016-12-31|21989AK0080002|Rating Area 2|       No Preference|Family Option|         59.98|                 null|118.76|                          137.35|                           137.35|                                   137.35|               210.53|                210.53|                        210.53|       18|\n",
      "|        2016|       AK|   21989|      HIOS|         4|2015-08-22 15:09:32|    21989|93-0438772|       2016-07-01|        2016-09-30|21989AK0090001|Rating Area 1|       No Preference|           25|          57.0|                 null|  null|                            null|                             null|                                     null|                 null|                  null|                          null|       19|\n",
      "|        2016|       AK|   21989|      HIOS|         4|2015-08-22 15:09:32|    21989|93-0438772|       2016-04-01|        2016-06-30|21989AK0080002|Rating Area 3|       No Preference|Family Option|         58.38|                 null| 115.6|                          133.69|                           133.69|                                   133.69|               204.92|                204.92|                        204.92|       19|\n",
      "|        2016|       AK|   21989|      HIOS|         4|2015-08-22 15:09:32|    21989|93-0438772|       2016-07-01|        2016-09-30|21989AK0090001|Rating Area 1|       No Preference|           26|          57.0|                 null|  null|                            null|                             null|                                     null|                 null|                  null|                          null|       20|\n",
      "|        2016|       AK|   21989|      HIOS|         4|2015-08-22 15:09:32|    21989|93-0438772|       2016-04-01|        2016-06-30|21989AK0100002|Rating Area 1|       No Preference|Family Option|          51.4|                 null|101.78|                          117.72|                           117.72|                                   117.72|               180.43|                180.43|                        180.43|       22|\n",
      "|        2016|       AK|   21989|      HIOS|         4|2015-08-22 15:09:32|    21989|93-0438772|       2016-01-01|        2016-03-31|21989AK0090001|Rating Area 1|       No Preference|           28|          55.0|                 null|  null|                            null|                             null|                                     null|                 null|                  null|                          null|       22|\n",
      "|        2016|       FL|   27357|      HIOS|         4|2015-10-20 04:38:50|    27357|59-3315064|       2016-01-01|        2016-12-31|27357FL1830025|Rating Area 5|Tobacco User/Non-...|           27|        224.04|               224.04|  null|                            null|                             null|                                     null|                 null|                  null|                          null|     6093|\n",
      "|        2016|       FL|   27357|      HIOS|         4|2015-10-20 04:38:50|    27357|59-3315064|       2016-01-01|        2016-03-31|27357FL1850051|Rating Area 5|Tobacco User/Non-...|           27|        206.88|               206.88|  null|                            null|                             null|                                     null|                 null|                  null|                          null|     6093|\n",
      "|        2016|       FL|   27357|      HIOS|         4|2015-10-20 04:38:50|    27357|59-3315064|       2016-07-01|        2016-09-30|27357FL1850051|Rating Area 5|Tobacco User/Non-...|           28|        221.92|               221.92|  null|                            null|                             null|                                     null|                 null|                  null|                          null|     6094|\n",
      "|        2016|       FL|   27357|      HIOS|         4|2015-10-20 04:38:50|    27357|59-3315064|       2016-04-01|        2016-06-30|27357FL1850051|Rating Area 5|Tobacco User/Non-...|           30|        227.85|               250.64|  null|                            null|                             null|                                     null|                 null|                  null|                          null|     6096|\n",
      "+------------+---------+--------+----------+----------+-------------------+---------+----------+-----------------+------------------+--------------+-------------+--------------------+-------------+--------------+---------------------+------+--------------------------------+---------------------------------+-----------------------------------------+---------------------+----------------------+------------------------------+---------+\n",
      "only showing top 20 rows\n",
      "\n",
      "root\n",
      " |-- BusinessYear: integer (nullable = true)\n",
      " |-- StateCode: string (nullable = true)\n",
      " |-- IssuerId: integer (nullable = true)\n",
      " |-- SourceName: string (nullable = true)\n",
      " |-- VersionNum: integer (nullable = true)\n",
      " |-- ImportDate: string (nullable = true)\n",
      " |-- IssuerId2: integer (nullable = true)\n",
      " |-- FederalTIN: string (nullable = true)\n",
      " |-- RateEffectiveDate: string (nullable = true)\n",
      " |-- RateExpirationDate: string (nullable = true)\n",
      " |-- PlanId: string (nullable = true)\n",
      " |-- RatingAreaId: string (nullable = true)\n",
      " |-- Tobacco: string (nullable = true)\n",
      " |-- Age: string (nullable = true)\n",
      " |-- IndividualRate: double (nullable = true)\n",
      " |-- IndividualTobaccoRate: double (nullable = true)\n",
      " |-- Couple: double (nullable = true)\n",
      " |-- PrimarySubscriberAndOneDependent: double (nullable = true)\n",
      " |-- PrimarySubscriberAndTwoDependents: double (nullable = true)\n",
      " |-- PrimarySubscriberAndThreeOrMoreDependents: double (nullable = true)\n",
      " |-- CoupleAndOneDependent: double (nullable = true)\n",
      " |-- CoupleAndTwoDependents: double (nullable = true)\n",
      " |-- CoupleAndThreeOrMoreDependents: double (nullable = true)\n",
      " |-- RowNumber: integer (nullable = true)\n",
      "\n"
     ]
    }
   ],
   "source": [
    "# Let's see the data.\n",
    "df.show()\n",
    "\n",
    "# And the data schema.\n",
    "df.printSchema()"
   ]
  },
  {
   "cell_type": "code",
   "execution_count": 4,
   "metadata": {},
   "outputs": [
    {
     "name": "stderr",
     "output_type": "stream",
     "text": [
      "                                                                                \r"
     ]
    },
    {
     "name": "stdout",
     "output_type": "stream",
     "text": [
      "+-------+------------+---------+------------------+----------+-----------------+-------------------+------------------+----------+-----------------+------------------+--------------+-------------+--------------------+-----------------+-----------------+---------------------+-----------------+--------------------------------+---------------------------------+-----------------------------------------+---------------------+----------------------+------------------------------+-----------------+\n",
      "|summary|BusinessYear|StateCode|          IssuerId|SourceName|       VersionNum|         ImportDate|         IssuerId2|FederalTIN|RateEffectiveDate|RateExpirationDate|        PlanId| RatingAreaId|             Tobacco|              Age|   IndividualRate|IndividualTobaccoRate|           Couple|PrimarySubscriberAndOneDependent|PrimarySubscriberAndTwoDependents|PrimarySubscriberAndThreeOrMoreDependents|CoupleAndOneDependent|CoupleAndTwoDependents|CoupleAndThreeOrMoreDependents|        RowNumber|\n",
      "+-------+------------+---------+------------------+----------+-----------------+-------------------+------------------+----------+-----------------+------------------+--------------+-------------+--------------------+-----------------+-----------------+---------------------+-----------------+--------------------------------+---------------------------------+-----------------------------------------+---------------------+----------------------+------------------------------+-----------------+\n",
      "|  count|      621965|   621965|            621965|    621965|           621965|             621965|            621965|    621965|           621965|            621965|        621965|       621965|              621965|           621965|           621965|               225853|             2400|                            2400|                             2400|                                     2400|                 2400|                  2400|                          2400|           621965|\n",
      "|   mean|      2016.0|     null| 53368.43118664234|      null|6.374238100214642|               null| 53368.43118664234|      null|             null|              null|          null|         null|                null|42.49474977055552|336.8426085084079|    547.5562329476157|44.33976250000012|               47.00344583333334|                66.17191666666653|                        83.41383333333343|    67.96780000000015|     83.10323749999989|             100.4217083333334|6435.915720337961|\n",
      "| stddev|         0.0|     null|26690.092800662536|      null|3.982014438113312|               null|26690.092800662536|      null|             null|              null|          null|         null|                null|12.69979259933981|529.5370271371768|   272.82068749008266|34.72857831285025|               33.93650222465852|                48.42373994735527|                        60.82163483291768|    54.27612030249849|     64.83817881714239|             77.86404876151495|9141.324031859853|\n",
      "|    min|        2016|       AK|             10046|      HIOS|                1|2015-04-22 02:23:18|             10046|01-0286541|       2015-01-01|        2015-12-31|10046HI0020003|Rating Area 1|       No Preference|             0-20|              0.0|                60.78|              0.0|                             0.0|                              0.0|                                      0.0|                  0.0|                   0.0|                           0.0|               14|\n",
      "|    max|        2016|       WY|             99969|     SERFF|               24|2015-11-21 06:31:07|             99969|99-0107971|       2016-10-01|        2017-01-01|99969OH0080010|Rating Area 9|Tobacco User/Non-...|    Family Option|           9999.0|              2514.42|           137.72|                          146.58|                           192.36|                                   253.61|               222.79|                260.23|                        321.48|            58156|\n",
      "+-------+------------+---------+------------------+----------+-----------------+-------------------+------------------+----------+-----------------+------------------+--------------+-------------+--------------------+-----------------+-----------------+---------------------+-----------------+--------------------------------+---------------------------------+-----------------------------------------+---------------------+----------------------+------------------------------+-----------------+\n",
      "\n"
     ]
    }
   ],
   "source": [
    "df.describe().show()"
   ]
  },
  {
   "cell_type": "code",
   "execution_count": 5,
   "metadata": {},
   "outputs": [
    {
     "name": "stdout",
     "output_type": "stream",
     "text": [
      "root\n",
      " |-- BusinessYear: integer (nullable = true)\n",
      " |-- StateCode: string (nullable = true)\n",
      " |-- IssuerId: integer (nullable = true)\n",
      " |-- SourceName: string (nullable = true)\n",
      " |-- VersionNum: integer (nullable = true)\n",
      " |-- ImportDate: string (nullable = true)\n",
      " |-- IssuerId2: integer (nullable = true)\n",
      " |-- FederalTIN: string (nullable = true)\n",
      " |-- RateEffectiveDate: string (nullable = true)\n",
      " |-- RateExpirationDate: string (nullable = true)\n",
      " |-- PlanId: string (nullable = true)\n",
      " |-- RatingAreaId: string (nullable = true)\n",
      " |-- Tobacco: string (nullable = true)\n",
      " |-- Age: string (nullable = true)\n",
      " |-- IndividualRate: double (nullable = true)\n",
      " |-- IndividualTobaccoRate: double (nullable = true)\n",
      " |-- Couple: double (nullable = true)\n",
      " |-- PrimarySubscriberAndOneDependent: double (nullable = true)\n",
      " |-- PrimarySubscriberAndTwoDependents: double (nullable = true)\n",
      " |-- PrimarySubscriberAndThreeOrMoreDependents: double (nullable = true)\n",
      " |-- CoupleAndOneDependent: double (nullable = true)\n",
      " |-- CoupleAndTwoDependents: double (nullable = true)\n",
      " |-- CoupleAndThreeOrMoreDependents: double (nullable = true)\n",
      " |-- RowNumber: integer (nullable = true)\n",
      "\n"
     ]
    }
   ],
   "source": [
    "df.printSchema()"
   ]
  },
  {
   "cell_type": "code",
   "execution_count": 6,
   "metadata": {},
   "outputs": [
    {
     "name": "stdout",
     "output_type": "stream",
     "text": [
      "+------------+---------+--------+----------+----------+-------------------+---------+----------+-----------------+------------------+--------------+-------------+--------------------+-------------+--------------+---------------------+------+--------------------------------+---------------------------------+-----------------------------------------+---------------------+----------------------+------------------------------+---------+\n",
      "|BusinessYear|StateCode|IssuerId|SourceName|VersionNum|         ImportDate|IssuerId2|FederalTIN|RateEffectiveDate|RateExpirationDate|        PlanId| RatingAreaId|             Tobacco|          Age|IndividualRate|IndividualTobaccoRate|Couple|PrimarySubscriberAndOneDependent|PrimarySubscriberAndTwoDependents|PrimarySubscriberAndThreeOrMoreDependents|CoupleAndOneDependent|CoupleAndTwoDependents|CoupleAndThreeOrMoreDependents|RowNumber|\n",
      "+------------+---------+--------+----------+----------+-------------------+---------+----------+-----------------+------------------+--------------+-------------+--------------------+-------------+--------------+---------------------+------+--------------------------------+---------------------------------+-----------------------------------------+---------------------+----------------------+------------------------------+---------+\n",
      "|        2016|       AK|   21989|      HIOS|         4|2015-08-22 15:09:32|    21989|93-0438772|       2016-04-01|        2016-06-30|21989AK0080001|Rating Area 1|       No Preference|Family Option|         51.36|                 null| 101.7|                          117.62|                           117.62|                                   117.62|               180.28|                180.28|                        180.28|       14|\n",
      "|        2016|       AK|   21989|      HIOS|         4|2015-08-22 15:09:32|    21989|93-0438772|       2016-01-01|        2016-03-31|21989AK0090001|Rating Area 1|       No Preference|           21|          55.0|                 null|  null|                            null|                             null|                                     null|                 null|                  null|                          null|       15|\n",
      "|        2016|       AK|   21989|      HIOS|         4|2015-08-22 15:09:32|    21989|93-0438772|       2016-04-01|        2016-06-30|21989AK0080001|Rating Area 2|       No Preference|Family Option|         51.36|                 null| 101.7|                          117.62|                           117.62|                                   117.62|               180.28|                180.28|                        180.28|       15|\n",
      "|        2016|       AK|   21989|      HIOS|         4|2015-08-22 15:09:32|    21989|93-0438772|       2016-01-01|        2016-03-31|21989AK0080001|Rating Area 2|       No Preference|Family Option|         50.67|                 null|100.33|                          116.04|                           116.04|                                   116.04|               117.86|                117.86|                        117.86|       15|\n",
      "|        2016|       AK|   21989|      HIOS|         4|2015-08-22 15:09:32|    21989|93-0438772|       2016-01-01|        2016-12-31|21989AK0030001|Rating Area 1|       No Preference|           21|          38.0|                 null|  null|                            null|                             null|                                     null|                 null|                  null|                          null|       15|\n",
      "|        2016|       AK|   21989|      HIOS|         4|2015-08-22 15:09:32|    21989|93-0438772|       2016-07-01|        2016-09-30|21989AK0080001|Rating Area 3|       No Preference|Family Option|         52.06|                 null|103.08|                          119.22|                           119.22|                                   119.22|               182.73|                182.73|                        182.73|       16|\n",
      "|        2016|       AK|   21989|      HIOS|         4|2015-08-22 15:09:32|    21989|93-0438772|       2016-10-01|        2016-12-31|21989AK0080002|Rating Area 1|       No Preference|Family Option|         59.98|                 null|118.76|                          137.35|                           137.35|                                   137.35|               210.53|                210.53|                        210.53|       17|\n",
      "|        2016|       AK|   21989|      HIOS|         4|2015-08-22 15:09:32|    21989|93-0438772|       2016-10-01|        2016-12-31|21989AK0090001|Rating Area 1|       No Preference|           23|          57.0|                 null|  null|                            null|                             null|                                     null|                 null|                  null|                          null|       17|\n",
      "|        2016|       AK|   21989|      HIOS|         4|2015-08-22 15:09:32|    21989|93-0438772|       2016-01-01|        2016-03-31|21989AK0080002|Rating Area 1|       No Preference|Family Option|          57.6|                 null|114.05|                           131.9|                            131.9|                                    131.9|               202.17|                202.17|                        202.17|       17|\n",
      "|        2016|       AK|   21989|      HIOS|         4|2015-08-22 15:09:32|    21989|93-0438772|       2016-07-01|        2016-09-30|21989AK0080002|Rating Area 2|       No Preference|Family Option|         59.18|                 null|117.17|                          135.51|                           135.51|                                   135.51|                207.7|                 207.7|                         207.7|       18|\n",
      "|        2016|       AK|   21989|      HIOS|         4|2015-08-22 15:09:32|    21989|93-0438772|       2016-10-01|        2016-12-31|21989AK0080002|Rating Area 2|       No Preference|Family Option|         59.98|                 null|118.76|                          137.35|                           137.35|                                   137.35|               210.53|                210.53|                        210.53|       18|\n",
      "|        2016|       AK|   21989|      HIOS|         4|2015-08-22 15:09:32|    21989|93-0438772|       2016-07-01|        2016-09-30|21989AK0090001|Rating Area 1|       No Preference|           25|          57.0|                 null|  null|                            null|                             null|                                     null|                 null|                  null|                          null|       19|\n",
      "|        2016|       AK|   21989|      HIOS|         4|2015-08-22 15:09:32|    21989|93-0438772|       2016-04-01|        2016-06-30|21989AK0080002|Rating Area 3|       No Preference|Family Option|         58.38|                 null| 115.6|                          133.69|                           133.69|                                   133.69|               204.92|                204.92|                        204.92|       19|\n",
      "|        2016|       AK|   21989|      HIOS|         4|2015-08-22 15:09:32|    21989|93-0438772|       2016-07-01|        2016-09-30|21989AK0090001|Rating Area 1|       No Preference|           26|          57.0|                 null|  null|                            null|                             null|                                     null|                 null|                  null|                          null|       20|\n",
      "|        2016|       AK|   21989|      HIOS|         4|2015-08-22 15:09:32|    21989|93-0438772|       2016-04-01|        2016-06-30|21989AK0100002|Rating Area 1|       No Preference|Family Option|          51.4|                 null|101.78|                          117.72|                           117.72|                                   117.72|               180.43|                180.43|                        180.43|       22|\n",
      "|        2016|       AK|   21989|      HIOS|         4|2015-08-22 15:09:32|    21989|93-0438772|       2016-01-01|        2016-03-31|21989AK0090001|Rating Area 1|       No Preference|           28|          55.0|                 null|  null|                            null|                             null|                                     null|                 null|                  null|                          null|       22|\n",
      "|        2016|       FL|   27357|      HIOS|         4|2015-10-20 04:38:50|    27357|59-3315064|       2016-01-01|        2016-12-31|27357FL1830025|Rating Area 5|Tobacco User/Non-...|           27|        224.04|               224.04|  null|                            null|                             null|                                     null|                 null|                  null|                          null|     6093|\n",
      "|        2016|       FL|   27357|      HIOS|         4|2015-10-20 04:38:50|    27357|59-3315064|       2016-01-01|        2016-03-31|27357FL1850051|Rating Area 5|Tobacco User/Non-...|           27|        206.88|               206.88|  null|                            null|                             null|                                     null|                 null|                  null|                          null|     6093|\n",
      "|        2016|       FL|   27357|      HIOS|         4|2015-10-20 04:38:50|    27357|59-3315064|       2016-07-01|        2016-09-30|27357FL1850051|Rating Area 5|Tobacco User/Non-...|           28|        221.92|               221.92|  null|                            null|                             null|                                     null|                 null|                  null|                          null|     6094|\n",
      "|        2016|       FL|   27357|      HIOS|         4|2015-10-20 04:38:50|    27357|59-3315064|       2016-04-01|        2016-06-30|27357FL1850051|Rating Area 5|Tobacco User/Non-...|           30|        227.85|               250.64|  null|                            null|                             null|                                     null|                 null|                  null|                          null|     6096|\n",
      "+------------+---------+--------+----------+----------+-------------------+---------+----------+-----------------+------------------+--------------+-------------+--------------------+-------------+--------------+---------------------+------+--------------------------------+---------------------------------+-----------------------------------------+---------------------+----------------------+------------------------------+---------+\n",
      "only showing top 20 rows\n",
      "\n"
     ]
    }
   ],
   "source": [
    "df.show()"
   ]
  },
  {
   "cell_type": "code",
   "execution_count": 7,
   "metadata": {},
   "outputs": [
    {
     "name": "stderr",
     "output_type": "stream",
     "text": [
      "                                                                                \r"
     ]
    },
    {
     "data": {
      "text/plain": [
       "[Row(StateCode='AZ'),\n",
       " Row(StateCode='SC'),\n",
       " Row(StateCode='LA'),\n",
       " Row(StateCode='NJ'),\n",
       " Row(StateCode='NC'),\n",
       " Row(StateCode='MO'),\n",
       " Row(StateCode='ND'),\n",
       " Row(StateCode='MS'),\n",
       " Row(StateCode='AL'),\n",
       " Row(StateCode='IN'),\n",
       " Row(StateCode='PA'),\n",
       " Row(StateCode='GA'),\n",
       " Row(StateCode='FL'),\n",
       " Row(StateCode='AK'),\n",
       " Row(StateCode='OK'),\n",
       " Row(StateCode='OR'),\n",
       " Row(StateCode='VA'),\n",
       " Row(StateCode='WY'),\n",
       " Row(StateCode='NH'),\n",
       " Row(StateCode='MI'),\n",
       " Row(StateCode='NV'),\n",
       " Row(StateCode='WI'),\n",
       " Row(StateCode='NE'),\n",
       " Row(StateCode='MT'),\n",
       " Row(StateCode='DE'),\n",
       " Row(StateCode='IL'),\n",
       " Row(StateCode='ME'),\n",
       " Row(StateCode='OH'),\n",
       " Row(StateCode='TN'),\n",
       " Row(StateCode='IA'),\n",
       " Row(StateCode='NM'),\n",
       " Row(StateCode='SD'),\n",
       " Row(StateCode='TX'),\n",
       " Row(StateCode='WV'),\n",
       " Row(StateCode='KS'),\n",
       " Row(StateCode='AR'),\n",
       " Row(StateCode='UT'),\n",
       " Row(StateCode='HI')]"
      ]
     },
     "execution_count": 7,
     "metadata": {},
     "output_type": "execute_result"
    }
   ],
   "source": [
    "df.select('StateCode').distinct().collect()"
   ]
  },
  {
   "cell_type": "code",
   "execution_count": 8,
   "metadata": {},
   "outputs": [
    {
     "name": "stderr",
     "output_type": "stream",
     "text": [
      "                                                                                \r"
     ]
    },
    {
     "data": {
      "image/png": "[encoded data removed]",
      "text/plain": [
       "<Figure size 1600x1280 with 1 Axes>"
      ]
     },
     "metadata": {
      "needs_background": "light"
     },
     "output_type": "display_data"
    }
   ],
   "source": [
    "import numpy as np\n",
    "import matplotlib.pyplot as plt\n",
    "%matplotlib inline\n",
    "from matplotlib.pyplot import figure\n",
    "\n",
    "figure(figsize=(20, 16), dpi=80)\n",
    "\n",
    "# Convert sex to an array using Numpy and plot it using pyplot. \n",
    "sexArr = np.array(df.select('StateCode').collect())\n",
    "plt.hist(sexArr)\n",
    "plt.show()"
   ]
  },
  {
   "cell_type": "code",
   "execution_count": 9,
   "metadata": {},
   "outputs": [
    {
     "name": "stderr",
     "output_type": "stream",
     "text": [
      "                                                                                \r"
     ]
    },
    {
     "data": {
      "image/png": "[encoded data removed]",
      "text/plain": [
       "<Figure size 1600x1280 with 1 Axes>"
      ]
     },
     "metadata": {
      "needs_background": "light"
     },
     "output_type": "display_data"
    }
   ],
   "source": [
    "import numpy as np\n",
    "import matplotlib.pyplot as plt\n",
    "%matplotlib inline\n",
    "from matplotlib.pyplot import figure\n",
    "\n",
    "figure(figsize=(20, 16), dpi=80)\n",
    "\n",
    "# Convert sex to an array using Numpy and plot it using pyplot. \n",
    "sexArr = np.array(df.select('Age').collect())\n",
    "plt.hist(sexArr)\n",
    "plt.show()"
   ]
  },
  {
   "cell_type": "code",
   "execution_count": 10,
   "metadata": {},
   "outputs": [
    {
     "name": "stderr",
     "output_type": "stream",
     "text": [
      "                                                                                \r"
     ]
    },
    {
     "data": {
      "image/png": "[encoded data removed]",
      "text/plain": [
       "<Figure size 1600x1280 with 1 Axes>"
      ]
     },
     "metadata": {
      "needs_background": "light"
     },
     "output_type": "display_data"
    }
   ],
   "source": [
    "figure(figsize=(20, 16), dpi=80)\n",
    "ageArr = np.array(df.filter('Age > 45').select('Age').collect())\n",
    "plt.hist(ageArr)\n",
    "plt.show()"
   ]
  },
  {
   "cell_type": "code",
   "execution_count": 11,
   "metadata": {},
   "outputs": [
    {
     "name": "stderr",
     "output_type": "stream",
     "text": [
      "                                                                                \r"
     ]
    },
    {
     "data": {
      "image/png": "[encoded data removed]",
      "text/plain": [
       "<Figure size 1600x1280 with 1 Axes>"
      ]
     },
     "metadata": {
      "needs_background": "light"
     },
     "output_type": "display_data"
    }
   ],
   "source": [
    "import numpy as np\n",
    "import matplotlib.pyplot as plt\n",
    "%matplotlib inline\n",
    "from matplotlib.pyplot import figure\n",
    "\n",
    "figure(figsize=(20, 16), dpi=80)\n",
    "\n",
    "# Convert sex to an array using Numpy and plot it using pyplot. \n",
    "sexArr = np.array(df.select('Tobacco').collect())\n",
    "plt.hist(sexArr)\n",
    "plt.show()"
   ]
  },
  {
   "cell_type": "code",
   "execution_count": 12,
   "metadata": {},
   "outputs": [],
   "source": [
    "# figure(figsize=(20, 16), dpi=80)\n",
    "# ageArr = np.array(df.filter('Age = Family Option').select('Age').collect())\n",
    "# plt.hist(ageArr)\n",
    "# plt.show()"
   ]
  },
  {
   "cell_type": "code",
   "execution_count": 13,
   "metadata": {
    "scrolled": false
   },
   "outputs": [
    {
     "name": "stdout",
     "output_type": "stream",
     "text": [
      "+------------+---------+--------+----------+----------+-------------------+---------+----------+-----------------+------------------+--------------+-------------+-------------+-------------+--------------+---------------------+------+--------------------------------+---------------------------------+-----------------------------------------+---------------------+----------------------+------------------------------+---------+\n",
      "|BusinessYear|StateCode|IssuerId|SourceName|VersionNum|         ImportDate|IssuerId2|FederalTIN|RateEffectiveDate|RateExpirationDate|        PlanId| RatingAreaId|      Tobacco|          Age|IndividualRate|IndividualTobaccoRate|Couple|PrimarySubscriberAndOneDependent|PrimarySubscriberAndTwoDependents|PrimarySubscriberAndThreeOrMoreDependents|CoupleAndOneDependent|CoupleAndTwoDependents|CoupleAndThreeOrMoreDependents|RowNumber|\n",
      "+------------+---------+--------+----------+----------+-------------------+---------+----------+-----------------+------------------+--------------+-------------+-------------+-------------+--------------+---------------------+------+--------------------------------+---------------------------------+-----------------------------------------+---------------------+----------------------+------------------------------+---------+\n",
      "|        2016|       AK|   21989|      HIOS|         4|2015-08-22 15:09:32|    21989|93-0438772|       2016-04-01|        2016-06-30|21989AK0080001|Rating Area 1|No Preference|Family Option|         51.36|                 null| 101.7|                          117.62|                           117.62|                                   117.62|               180.28|                180.28|                        180.28|       14|\n",
      "|        2016|       AK|   21989|      HIOS|         4|2015-08-22 15:09:32|    21989|93-0438772|       2016-04-01|        2016-06-30|21989AK0080001|Rating Area 2|No Preference|Family Option|         51.36|                 null| 101.7|                          117.62|                           117.62|                                   117.62|               180.28|                180.28|                        180.28|       15|\n",
      "|        2016|       AK|   21989|      HIOS|         4|2015-08-22 15:09:32|    21989|93-0438772|       2016-01-01|        2016-03-31|21989AK0080001|Rating Area 2|No Preference|Family Option|         50.67|                 null|100.33|                          116.04|                           116.04|                                   116.04|               117.86|                117.86|                        117.86|       15|\n",
      "|        2016|       AK|   21989|      HIOS|         4|2015-08-22 15:09:32|    21989|93-0438772|       2016-07-01|        2016-09-30|21989AK0080001|Rating Area 3|No Preference|Family Option|         52.06|                 null|103.08|                          119.22|                           119.22|                                   119.22|               182.73|                182.73|                        182.73|       16|\n",
      "|        2016|       AK|   21989|      HIOS|         4|2015-08-22 15:09:32|    21989|93-0438772|       2016-10-01|        2016-12-31|21989AK0080002|Rating Area 1|No Preference|Family Option|         59.98|                 null|118.76|                          137.35|                           137.35|                                   137.35|               210.53|                210.53|                        210.53|       17|\n",
      "|        2016|       AK|   21989|      HIOS|         4|2015-08-22 15:09:32|    21989|93-0438772|       2016-01-01|        2016-03-31|21989AK0080002|Rating Area 1|No Preference|Family Option|          57.6|                 null|114.05|                           131.9|                            131.9|                                    131.9|               202.17|                202.17|                        202.17|       17|\n",
      "|        2016|       AK|   21989|      HIOS|         4|2015-08-22 15:09:32|    21989|93-0438772|       2016-07-01|        2016-09-30|21989AK0080002|Rating Area 2|No Preference|Family Option|         59.18|                 null|117.17|                          135.51|                           135.51|                                   135.51|                207.7|                 207.7|                         207.7|       18|\n",
      "|        2016|       AK|   21989|      HIOS|         4|2015-08-22 15:09:32|    21989|93-0438772|       2016-10-01|        2016-12-31|21989AK0080002|Rating Area 2|No Preference|Family Option|         59.98|                 null|118.76|                          137.35|                           137.35|                                   137.35|               210.53|                210.53|                        210.53|       18|\n",
      "|        2016|       AK|   21989|      HIOS|         4|2015-08-22 15:09:32|    21989|93-0438772|       2016-04-01|        2016-06-30|21989AK0080002|Rating Area 3|No Preference|Family Option|         58.38|                 null| 115.6|                          133.69|                           133.69|                                   133.69|               204.92|                204.92|                        204.92|       19|\n",
      "|        2016|       AK|   21989|      HIOS|         4|2015-08-22 15:09:32|    21989|93-0438772|       2016-04-01|        2016-06-30|21989AK0100002|Rating Area 1|No Preference|Family Option|          51.4|                 null|101.78|                          117.72|                           117.72|                                   117.72|               180.43|                180.43|                        180.43|       22|\n",
      "|        2016|       AK|   21989|      HIOS|         4|2015-08-22 15:09:32|    21989|93-0438772|       2016-10-01|        2016-12-31|21989AK0110001|Rating Area 1|No Preference|Family Option|           0.0|                 null|   0.0|                           77.37|                            77.37|                                    77.37|                90.57|                 90.57|                         90.57|       24|\n",
      "|        2016|       AK|   21989|      HIOS|         4|2015-08-22 15:09:32|    21989|93-0438772|       2016-10-01|        2016-12-31|21989AK0110001|Rating Area 2|No Preference|Family Option|           0.0|                 null|   0.0|                           77.37|                            77.37|                                    77.37|                90.57|                 90.57|                         90.57|       25|\n",
      "|        2016|       AK|   21989|      HIOS|         4|2015-08-22 15:09:32|    21989|93-0438772|       2016-01-01|        2016-03-31|21989AK0110001|Rating Area 2|No Preference|Family Option|           0.0|                 null|   0.0|                            74.3|                             74.3|                                     74.3|                86.97|                 86.97|                         86.97|       25|\n",
      "|        2016|       AK|   21989|      HIOS|         4|2015-08-22 15:09:32|    21989|93-0438772|       2016-10-01|        2016-12-31|21989AK0120001|Rating Area 1|No Preference|Family Option|           0.0|                 null|   0.0|                           63.66|                            63.66|                                    63.66|                74.51|                 74.51|                         74.51|       27|\n",
      "|        2016|       AK|   21989|      HIOS|         4|2015-08-22 15:09:32|    21989|93-0438772|       2016-10-01|        2016-12-31|21989AK0120001|Rating Area 2|No Preference|Family Option|           0.0|                 null|   0.0|                           63.66|                            63.66|                                    63.66|                74.51|                 74.51|                         74.51|       28|\n",
      "|        2016|       AK|   47904|      HIOS|         2|2015-07-10 02:19:03|    47904|47-0397286|       2016-07-01|        2016-09-30|47904AK0090001|Rating Area 1|No Preference|Family Option|         45.19|                 null| 45.19|                           45.19|                            45.19|                                    45.19|                45.19|                 45.19|                         45.19|       14|\n",
      "|        2016|       AK|   47904|      HIOS|         2|2015-07-10 02:19:03|    47904|47-0397286|       2016-04-01|        2016-06-30|47904AK0090001|Rating Area 3|No Preference|Family Option|         44.81|                 null| 44.81|                           44.81|                            44.81|                                    44.81|                44.81|                 44.81|                         44.81|       16|\n",
      "|        2016|       AK|   47904|      HIOS|         2|2015-07-10 02:19:03|    47904|47-0397286|       2016-07-01|        2016-09-30|47904AK0090001|Rating Area 3|No Preference|Family Option|         45.19|                 null| 45.19|                           45.19|                            45.19|                                    45.19|                45.19|                 45.19|                         45.19|       16|\n",
      "|        2016|       AK|   47904|      HIOS|         2|2015-07-10 02:19:03|    47904|47-0397286|       2016-07-01|        2016-09-30|47904AK0090002|Rating Area 1|No Preference|Family Option|          35.8|                 null|  35.8|                            35.8|                             35.8|                                     35.8|                 35.8|                  35.8|                          35.8|       17|\n",
      "|        2016|       AK|   47904|      HIOS|         2|2015-07-10 02:19:03|    47904|47-0397286|       2016-01-01|        2016-03-31|47904AK0090002|Rating Area 1|No Preference|Family Option|         35.19|                 null| 35.19|                           35.19|                            35.19|                                    35.19|                35.19|                 35.19|                         35.19|       17|\n",
      "+------------+---------+--------+----------+----------+-------------------+---------+----------+-----------------+------------------+--------------+-------------+-------------+-------------+--------------+---------------------+------+--------------------------------+---------------------------------+-----------------------------------------+---------------------+----------------------+------------------------------+---------+\n",
      "only showing top 20 rows\n",
      "\n"
     ]
    }
   ],
   "source": [
    "df.filter(col(\"Age\").contains(\"Family Option\")).show()"
   ]
  },
  {
   "cell_type": "code",
   "execution_count": 14,
   "metadata": {},
   "outputs": [
    {
     "name": "stderr",
     "output_type": "stream",
     "text": [
      "                                                                                \r"
     ]
    },
    {
     "data": {
      "text/plain": [
       "[Row(StateCode='AZ'),\n",
       " Row(StateCode='SC'),\n",
       " Row(StateCode='LA'),\n",
       " Row(StateCode='NJ'),\n",
       " Row(StateCode='NC'),\n",
       " Row(StateCode='MO'),\n",
       " Row(StateCode='ND'),\n",
       " Row(StateCode='MS'),\n",
       " Row(StateCode='AL'),\n",
       " Row(StateCode='IN'),\n",
       " Row(StateCode='PA'),\n",
       " Row(StateCode='GA'),\n",
       " Row(StateCode='FL'),\n",
       " Row(StateCode='AK'),\n",
       " Row(StateCode='OK'),\n",
       " Row(StateCode='OR'),\n",
       " Row(StateCode='VA'),\n",
       " Row(StateCode='WY'),\n",
       " Row(StateCode='NH'),\n",
       " Row(StateCode='MI'),\n",
       " Row(StateCode='NV'),\n",
       " Row(StateCode='WI'),\n",
       " Row(StateCode='NE'),\n",
       " Row(StateCode='MT'),\n",
       " Row(StateCode='DE'),\n",
       " Row(StateCode='IL'),\n",
       " Row(StateCode='ME'),\n",
       " Row(StateCode='OH'),\n",
       " Row(StateCode='TN'),\n",
       " Row(StateCode='IA'),\n",
       " Row(StateCode='NM'),\n",
       " Row(StateCode='SD'),\n",
       " Row(StateCode='TX'),\n",
       " Row(StateCode='WV'),\n",
       " Row(StateCode='KS'),\n",
       " Row(StateCode='AR'),\n",
       " Row(StateCode='UT'),\n",
       " Row(StateCode='HI')]"
      ]
     },
     "execution_count": 14,
     "metadata": {},
     "output_type": "execute_result"
    }
   ],
   "source": [
    "df.select('StateCode').distinct().collect()"
   ]
  },
  {
   "cell_type": "code",
   "execution_count": 15,
   "metadata": {},
   "outputs": [
    {
     "name": "stderr",
     "output_type": "stream",
     "text": [
      "                                                                                \r"
     ]
    }
   ],
   "source": [
    "# Let's read in the data. Note that it's in the format of JSON.\n",
    "df = spark.read.csv('data/New_ruf.csv',inferSchema=True, header=True)"
   ]
  },
  {
   "cell_type": "code",
   "execution_count": 16,
   "metadata": {},
   "outputs": [],
   "source": [
    "df = df.filter((df.StateCode != 'LA') & (df.StateCode != 'NC') & (df.StateCode != 'MO') & (df.StateCode != 'ND')\n",
    "          & (df.StateCode != 'MS') & (df.StateCode != 'AL') & (df.StateCode != 'PA')& (df.StateCode != 'FL')\n",
    "              & (df.StateCode != 'OK')& (df.StateCode != 'OR')& (df.StateCode != 'VA')& (df.StateCode != 'WY')\n",
    "              & (df.StateCode != 'NH')& (df.StateCode != 'MI')& (df.StateCode != 'NV')& (df.StateCode != 'NE')\n",
    "              & (df.StateCode != 'MT')& (df.StateCode != 'DE')& (df.StateCode != 'OH')& (df.StateCode != 'TN')\n",
    "              & (df.StateCode != 'IA')& (df.StateCode != 'NM')& (df.StateCode != 'SD')& (df.StateCode != 'TX')\n",
    "              & (df.StateCode != 'WV')& (df.StateCode != 'KS')& (df.StateCode != 'AR')& (df.StateCode != 'UT')\n",
    "              & (df.StateCode != 'HI')& (df.StateCode != 'IN')& (df.StateCode != 'ME'))"
   ]
  },
  {
   "cell_type": "code",
   "execution_count": 17,
   "metadata": {},
   "outputs": [
    {
     "name": "stderr",
     "output_type": "stream",
     "text": [
      "                                                                                \r"
     ]
    },
    {
     "data": {
      "text/plain": [
       "7"
      ]
     },
     "execution_count": 17,
     "metadata": {},
     "output_type": "execute_result"
    }
   ],
   "source": [
    "len(df.select('StateCode').distinct().collect())"
   ]
  },
  {
   "cell_type": "code",
   "execution_count": 18,
   "metadata": {},
   "outputs": [
    {
     "name": "stderr",
     "output_type": "stream",
     "text": [
      "                                                                                \r"
     ]
    },
    {
     "data": {
      "text/plain": [
       "[Row(StateCode='AZ'),\n",
       " Row(StateCode='SC'),\n",
       " Row(StateCode='NJ'),\n",
       " Row(StateCode='GA'),\n",
       " Row(StateCode='AK'),\n",
       " Row(StateCode='WI'),\n",
       " Row(StateCode='IL')]"
      ]
     },
     "execution_count": 18,
     "metadata": {},
     "output_type": "execute_result"
    }
   ],
   "source": [
    "df.select('StateCode').distinct().collect()"
   ]
  },
  {
   "cell_type": "code",
   "execution_count": 19,
   "metadata": {},
   "outputs": [
    {
     "name": "stderr",
     "output_type": "stream",
     "text": [
      "                                                                                \r"
     ]
    }
   ],
   "source": [
    "from pyspark.ml.feature import StringIndexer\n",
    "indexer = StringIndexer(inputCol='StateCode', outputCol='StateCode_new')\n",
    "indexer_fitted = indexer.fit(df)\n",
    "df_indexed = indexer_fitted.transform(df)\n",
    "df = df_indexed"
   ]
  },
  {
   "cell_type": "code",
   "execution_count": 20,
   "metadata": {},
   "outputs": [
    {
     "name": "stderr",
     "output_type": "stream",
     "text": [
      "                                                                                \r"
     ]
    },
    {
     "data": {
      "text/plain": [
       "[Row(StateCode='AZ'),\n",
       " Row(StateCode='SC'),\n",
       " Row(StateCode='NJ'),\n",
       " Row(StateCode='GA'),\n",
       " Row(StateCode='AK'),\n",
       " Row(StateCode='WI'),\n",
       " Row(StateCode='IL')]"
      ]
     },
     "execution_count": 20,
     "metadata": {},
     "output_type": "execute_result"
    }
   ],
   "source": [
    "df.select('StateCode').distinct().collect()"
   ]
  },
  {
   "cell_type": "code",
   "execution_count": 21,
   "metadata": {},
   "outputs": [
    {
     "name": "stderr",
     "output_type": "stream",
     "text": [
      "                                                                                \r"
     ]
    },
    {
     "data": {
      "text/plain": [
       "[Row(StateCode_new=0.0),\n",
       " Row(StateCode_new=4.0),\n",
       " Row(StateCode_new=2.0),\n",
       " Row(StateCode_new=6.0),\n",
       " Row(StateCode_new=5.0),\n",
       " Row(StateCode_new=1.0),\n",
       " Row(StateCode_new=3.0)]"
      ]
     },
     "execution_count": 21,
     "metadata": {},
     "output_type": "execute_result"
    }
   ],
   "source": [
    "df.select('StateCode_new').distinct().collect()"
   ]
  },
  {
   "cell_type": "code",
   "execution_count": 22,
   "metadata": {},
   "outputs": [
    {
     "name": "stdout",
     "output_type": "stream",
     "text": [
      "+------------+---------+--------+----------+----------+-------------------+---------+----------+-----------------+------------------+--------------+-------------+-------------+-------------+--------------+---------------------+------+--------------------------------+---------------------------------+-----------------------------------------+---------------------+----------------------+------------------------------+---------+-------------+\n",
      "|BusinessYear|StateCode|IssuerId|SourceName|VersionNum|         ImportDate|IssuerId2|FederalTIN|RateEffectiveDate|RateExpirationDate|        PlanId| RatingAreaId|      Tobacco|          Age|IndividualRate|IndividualTobaccoRate|Couple|PrimarySubscriberAndOneDependent|PrimarySubscriberAndTwoDependents|PrimarySubscriberAndThreeOrMoreDependents|CoupleAndOneDependent|CoupleAndTwoDependents|CoupleAndThreeOrMoreDependents|RowNumber|StateCode_new|\n",
      "+------------+---------+--------+----------+----------+-------------------+---------+----------+-----------------+------------------+--------------+-------------+-------------+-------------+--------------+---------------------+------+--------------------------------+---------------------------------+-----------------------------------------+---------------------+----------------------+------------------------------+---------+-------------+\n",
      "|        2016|       AK|   21989|      HIOS|         4|2015-08-22 15:09:32|    21989|93-0438772|       2016-04-01|        2016-06-30|21989AK0080001|Rating Area 1|No Preference|Family Option|         51.36|                 null| 101.7|                          117.62|                           117.62|                                   117.62|               180.28|                180.28|                        180.28|       14|          6.0|\n",
      "|        2016|       AK|   21989|      HIOS|         4|2015-08-22 15:09:32|    21989|93-0438772|       2016-01-01|        2016-03-31|21989AK0090001|Rating Area 1|No Preference|           21|          55.0|                 null|  null|                            null|                             null|                                     null|                 null|                  null|                          null|       15|          6.0|\n",
      "|        2016|       AK|   21989|      HIOS|         4|2015-08-22 15:09:32|    21989|93-0438772|       2016-04-01|        2016-06-30|21989AK0080001|Rating Area 2|No Preference|Family Option|         51.36|                 null| 101.7|                          117.62|                           117.62|                                   117.62|               180.28|                180.28|                        180.28|       15|          6.0|\n",
      "|        2016|       AK|   21989|      HIOS|         4|2015-08-22 15:09:32|    21989|93-0438772|       2016-01-01|        2016-03-31|21989AK0080001|Rating Area 2|No Preference|Family Option|         50.67|                 null|100.33|                          116.04|                           116.04|                                   116.04|               117.86|                117.86|                        117.86|       15|          6.0|\n",
      "|        2016|       AK|   21989|      HIOS|         4|2015-08-22 15:09:32|    21989|93-0438772|       2016-01-01|        2016-12-31|21989AK0030001|Rating Area 1|No Preference|           21|          38.0|                 null|  null|                            null|                             null|                                     null|                 null|                  null|                          null|       15|          6.0|\n",
      "|        2016|       AK|   21989|      HIOS|         4|2015-08-22 15:09:32|    21989|93-0438772|       2016-07-01|        2016-09-30|21989AK0080001|Rating Area 3|No Preference|Family Option|         52.06|                 null|103.08|                          119.22|                           119.22|                                   119.22|               182.73|                182.73|                        182.73|       16|          6.0|\n",
      "|        2016|       AK|   21989|      HIOS|         4|2015-08-22 15:09:32|    21989|93-0438772|       2016-10-01|        2016-12-31|21989AK0080002|Rating Area 1|No Preference|Family Option|         59.98|                 null|118.76|                          137.35|                           137.35|                                   137.35|               210.53|                210.53|                        210.53|       17|          6.0|\n",
      "|        2016|       AK|   21989|      HIOS|         4|2015-08-22 15:09:32|    21989|93-0438772|       2016-10-01|        2016-12-31|21989AK0090001|Rating Area 1|No Preference|           23|          57.0|                 null|  null|                            null|                             null|                                     null|                 null|                  null|                          null|       17|          6.0|\n",
      "|        2016|       AK|   21989|      HIOS|         4|2015-08-22 15:09:32|    21989|93-0438772|       2016-01-01|        2016-03-31|21989AK0080002|Rating Area 1|No Preference|Family Option|          57.6|                 null|114.05|                           131.9|                            131.9|                                    131.9|               202.17|                202.17|                        202.17|       17|          6.0|\n",
      "|        2016|       AK|   21989|      HIOS|         4|2015-08-22 15:09:32|    21989|93-0438772|       2016-07-01|        2016-09-30|21989AK0080002|Rating Area 2|No Preference|Family Option|         59.18|                 null|117.17|                          135.51|                           135.51|                                   135.51|                207.7|                 207.7|                         207.7|       18|          6.0|\n",
      "|        2016|       AK|   21989|      HIOS|         4|2015-08-22 15:09:32|    21989|93-0438772|       2016-10-01|        2016-12-31|21989AK0080002|Rating Area 2|No Preference|Family Option|         59.98|                 null|118.76|                          137.35|                           137.35|                                   137.35|               210.53|                210.53|                        210.53|       18|          6.0|\n",
      "|        2016|       AK|   21989|      HIOS|         4|2015-08-22 15:09:32|    21989|93-0438772|       2016-07-01|        2016-09-30|21989AK0090001|Rating Area 1|No Preference|           25|          57.0|                 null|  null|                            null|                             null|                                     null|                 null|                  null|                          null|       19|          6.0|\n",
      "|        2016|       AK|   21989|      HIOS|         4|2015-08-22 15:09:32|    21989|93-0438772|       2016-04-01|        2016-06-30|21989AK0080002|Rating Area 3|No Preference|Family Option|         58.38|                 null| 115.6|                          133.69|                           133.69|                                   133.69|               204.92|                204.92|                        204.92|       19|          6.0|\n",
      "|        2016|       AK|   21989|      HIOS|         4|2015-08-22 15:09:32|    21989|93-0438772|       2016-07-01|        2016-09-30|21989AK0090001|Rating Area 1|No Preference|           26|          57.0|                 null|  null|                            null|                             null|                                     null|                 null|                  null|                          null|       20|          6.0|\n",
      "|        2016|       AK|   21989|      HIOS|         4|2015-08-22 15:09:32|    21989|93-0438772|       2016-04-01|        2016-06-30|21989AK0100002|Rating Area 1|No Preference|Family Option|          51.4|                 null|101.78|                          117.72|                           117.72|                                   117.72|               180.43|                180.43|                        180.43|       22|          6.0|\n",
      "|        2016|       AK|   21989|      HIOS|         4|2015-08-22 15:09:32|    21989|93-0438772|       2016-01-01|        2016-03-31|21989AK0090001|Rating Area 1|No Preference|           28|          55.0|                 null|  null|                            null|                             null|                                     null|                 null|                  null|                          null|       22|          6.0|\n",
      "|        2016|       AK|   21989|      HIOS|         4|2015-08-22 15:09:32|    21989|93-0438772|       2016-01-01|        2016-12-31|21989AK0030001|Rating Area 1|No Preference|           30|          38.0|                 null|  null|                            null|                             null|                                     null|                 null|                  null|                          null|       24|          6.0|\n",
      "|        2016|       AK|   21989|      HIOS|         4|2015-08-22 15:09:32|    21989|93-0438772|       2016-01-01|        2016-03-31|21989AK0090001|Rating Area 1|No Preference|           30|          55.0|                 null|  null|                            null|                             null|                                     null|                 null|                  null|                          null|       24|          6.0|\n",
      "|        2016|       AK|   21989|      HIOS|         4|2015-08-22 15:09:32|    21989|93-0438772|       2016-04-01|        2016-06-30|21989AK0090001|Rating Area 1|No Preference|           30|          56.0|                 null|  null|                            null|                             null|                                     null|                 null|                  null|                          null|       24|          6.0|\n",
      "|        2016|       AK|   21989|      HIOS|         4|2015-08-22 15:09:32|    21989|93-0438772|       2016-10-01|        2016-12-31|21989AK0110001|Rating Area 1|No Preference|Family Option|           0.0|                 null|   0.0|                           77.37|                            77.37|                                    77.37|                90.57|                 90.57|                         90.57|       24|          6.0|\n",
      "+------------+---------+--------+----------+----------+-------------------+---------+----------+-----------------+------------------+--------------+-------------+-------------+-------------+--------------+---------------------+------+--------------------------------+---------------------------------+-----------------------------------------+---------------------+----------------------+------------------------------+---------+-------------+\n",
      "only showing top 20 rows\n",
      "\n"
     ]
    }
   ],
   "source": [
    "df.show()"
   ]
  },
  {
   "cell_type": "code",
   "execution_count": 23,
   "metadata": {},
   "outputs": [
    {
     "name": "stdout",
     "output_type": "stream",
     "text": [
      "+------------+---------+--------+----------+----------+-------------------+---------+----------+-----------------+------------------+--------------+-------------+-------------+---+--------------+---------------------+------+--------------------------------+---------------------------------+-----------------------------------------+---------------------+----------------------+------------------------------+---------+-------------+\n",
      "|BusinessYear|StateCode|IssuerId|SourceName|VersionNum|         ImportDate|IssuerId2|FederalTIN|RateEffectiveDate|RateExpirationDate|        PlanId| RatingAreaId|      Tobacco|Age|IndividualRate|IndividualTobaccoRate|Couple|PrimarySubscriberAndOneDependent|PrimarySubscriberAndTwoDependents|PrimarySubscriberAndThreeOrMoreDependents|CoupleAndOneDependent|CoupleAndTwoDependents|CoupleAndThreeOrMoreDependents|RowNumber|StateCode_new|\n",
      "+------------+---------+--------+----------+----------+-------------------+---------+----------+-----------------+------------------+--------------+-------------+-------------+---+--------------+---------------------+------+--------------------------------+---------------------------------+-----------------------------------------+---------------------+----------------------+------------------------------+---------+-------------+\n",
      "|        2016|       GA|   17382|      HIOS|         3|2015-08-18 03:25:03|    17382|57-0523959|       2016-01-01|        2016-12-31|17382GA0020001|Rating Area 1|No Preference| 27|          33.0|                 null|  null|                            null|                             null|                                     null|                 null|                  null|                          null|       21|          2.0|\n",
      "|        2016|       GA|   17382|      HIOS|         3|2015-08-18 03:25:03|    17382|57-0523959|       2016-01-01|        2016-12-31|17382GA0020001|Rating Area 1|No Preference| 28|          33.0|                 null|  null|                            null|                             null|                                     null|                 null|                  null|                          null|       22|          2.0|\n",
      "|        2016|       GA|   17382|      HIOS|         3|2015-08-18 03:25:03|    17382|57-0523959|       2016-01-01|        2016-12-31|17382GA0020001|Rating Area 1|No Preference| 36|          33.0|                 null|  null|                            null|                             null|                                     null|                 null|                  null|                          null|       30|          2.0|\n",
      "|        2016|       GA|   17382|      HIOS|         3|2015-08-18 03:25:03|    17382|57-0523959|       2016-01-01|        2016-12-31|17382GA0020001|Rating Area 1|No Preference| 48|          33.0|                 null|  null|                            null|                             null|                                     null|                 null|                  null|                          null|       42|          2.0|\n",
      "|        2016|       GA|   17382|      HIOS|         3|2015-08-18 03:25:03|    17382|57-0523959|       2016-01-01|        2016-12-31|17382GA0020001|Rating Area 1|No Preference| 52|          33.0|                 null|  null|                            null|                             null|                                     null|                 null|                  null|                          null|       46|          2.0|\n",
      "|        2016|       GA|   17382|      HIOS|         3|2015-08-18 03:25:03|    17382|57-0523959|       2016-01-01|        2016-12-31|17382GA0020001|Rating Area 1|No Preference| 58|          33.0|                 null|  null|                            null|                             null|                                     null|                 null|                  null|                          null|       52|          2.0|\n",
      "|        2016|       GA|   17382|      HIOS|         3|2015-08-18 03:25:03|    17382|57-0523959|       2016-01-01|        2016-12-31|17382GA0020001|Rating Area 2|No Preference| 32|          33.0|                 null|  null|                            null|                             null|                                     null|                 null|                  null|                          null|       72|          2.0|\n",
      "|        2016|       GA|   17382|      HIOS|         3|2015-08-18 03:25:03|    17382|57-0523959|       2016-01-01|        2016-12-31|17382GA0020001|Rating Area 2|No Preference| 35|          33.0|                 null|  null|                            null|                             null|                                     null|                 null|                  null|                          null|       75|          2.0|\n",
      "|        2016|       GA|   17382|      HIOS|         3|2015-08-18 03:25:03|    17382|57-0523959|       2016-01-01|        2016-12-31|17382GA0020001|Rating Area 2|No Preference| 41|          33.0|                 null|  null|                            null|                             null|                                     null|                 null|                  null|                          null|       81|          2.0|\n",
      "|        2016|       GA|   17382|      HIOS|         3|2015-08-18 03:25:03|    17382|57-0523959|       2016-01-01|        2016-12-31|17382GA0020001|Rating Area 2|No Preference| 46|          33.0|                 null|  null|                            null|                             null|                                     null|                 null|                  null|                          null|       86|          2.0|\n",
      "|        2016|       GA|   17382|      HIOS|         3|2015-08-18 03:25:03|    17382|57-0523959|       2016-01-01|        2016-12-31|17382GA0020001|Rating Area 2|No Preference| 50|          33.0|                 null|  null|                            null|                             null|                                     null|                 null|                  null|                          null|       90|          2.0|\n",
      "|        2016|       GA|   17382|      HIOS|         3|2015-08-18 03:25:03|    17382|57-0523959|       2016-01-01|        2016-12-31|17382GA0020001|Rating Area 2|No Preference| 56|          33.0|                 null|  null|                            null|                             null|                                     null|                 null|                  null|                          null|       96|          2.0|\n",
      "|        2016|       GA|   17382|      HIOS|         3|2015-08-18 03:25:03|    17382|57-0523959|       2016-01-01|        2016-12-31|17382GA0020001|Rating Area 2|No Preference| 57|          33.0|                 null|  null|                            null|                             null|                                     null|                 null|                  null|                          null|       97|          2.0|\n",
      "|        2016|       GA|   17382|      HIOS|         3|2015-08-18 03:25:03|    17382|57-0523959|       2016-01-01|        2016-12-31|17382GA0020001|Rating Area 3|No Preference| 23|          33.0|                 null|  null|                            null|                             null|                                     null|                 null|                  null|                          null|      109|          2.0|\n",
      "|        2016|       GA|   17382|      HIOS|         3|2015-08-18 03:25:03|    17382|57-0523959|       2016-01-01|        2016-12-31|17382GA0020001|Rating Area 3|No Preference| 26|          33.0|                 null|  null|                            null|                             null|                                     null|                 null|                  null|                          null|      112|          2.0|\n",
      "|        2016|       GA|   17382|      HIOS|         3|2015-08-18 03:25:03|    17382|57-0523959|       2016-01-01|        2016-12-31|17382GA0020001|Rating Area 3|No Preference| 27|          33.0|                 null|  null|                            null|                             null|                                     null|                 null|                  null|                          null|      113|          2.0|\n",
      "|        2016|       GA|   17382|      HIOS|         3|2015-08-18 03:25:03|    17382|57-0523959|       2016-01-01|        2016-12-31|17382GA0020001|Rating Area 3|No Preference| 28|          33.0|                 null|  null|                            null|                             null|                                     null|                 null|                  null|                          null|      114|          2.0|\n",
      "|        2016|       GA|   17382|      HIOS|         3|2015-08-18 03:25:03|    17382|57-0523959|       2016-01-01|        2016-12-31|17382GA0020001|Rating Area 3|No Preference| 41|          33.0|                 null|  null|                            null|                             null|                                     null|                 null|                  null|                          null|      127|          2.0|\n",
      "|        2016|       GA|   17382|      HIOS|         3|2015-08-18 03:25:03|    17382|57-0523959|       2016-01-01|        2016-12-31|17382GA0020001|Rating Area 3|No Preference| 47|          33.0|                 null|  null|                            null|                             null|                                     null|                 null|                  null|                          null|      133|          2.0|\n",
      "|        2016|       GA|   17382|      HIOS|         3|2015-08-18 03:25:03|    17382|57-0523959|       2016-01-01|        2016-12-31|17382GA0020001|Rating Area 3|No Preference| 49|          33.0|                 null|  null|                            null|                             null|                                     null|                 null|                  null|                          null|      135|          2.0|\n",
      "+------------+---------+--------+----------+----------+-------------------+---------+----------+-----------------+------------------+--------------+-------------+-------------+---+--------------+---------------------+------+--------------------------------+---------------------------------+-----------------------------------------+---------------------+----------------------+------------------------------+---------+-------------+\n",
      "only showing top 20 rows\n",
      "\n"
     ]
    }
   ],
   "source": [
    "df.filter(col(\"StateCode_new\").contains(\"2\")).show()"
   ]
  },
  {
   "cell_type": "code",
   "execution_count": 24,
   "metadata": {},
   "outputs": [
    {
     "name": "stderr",
     "output_type": "stream",
     "text": [
      "                                                                                \r"
     ]
    },
    {
     "data": {
      "image/png": "[encoded data removed]",
      "text/plain": [
       "<Figure size 1600x1280 with 1 Axes>"
      ]
     },
     "metadata": {
      "needs_background": "light"
     },
     "output_type": "display_data"
    }
   ],
   "source": [
    "import numpy as np\n",
    "import matplotlib.pyplot as plt\n",
    "%matplotlib inline\n",
    "from matplotlib.pyplot import figure\n",
    "\n",
    "figure(figsize=(20, 16), dpi=80)\n",
    "\n",
    "# Convert sex to an array using Numpy and plot it using pyplot. \n",
    "sexArr = np.array(df.select('IndividualRate').collect())\n",
    "plt.hist(sexArr)\n",
    "plt.show()"
   ]
  },
  {
   "cell_type": "code",
   "execution_count": 25,
   "metadata": {},
   "outputs": [
    {
     "name": "stdout",
     "output_type": "stream",
     "text": [
      "root\n",
      " |-- BusinessYear: integer (nullable = true)\n",
      " |-- StateCode: string (nullable = true)\n",
      " |-- IssuerId: integer (nullable = true)\n",
      " |-- SourceName: string (nullable = true)\n",
      " |-- VersionNum: integer (nullable = true)\n",
      " |-- ImportDate: string (nullable = true)\n",
      " |-- IssuerId2: integer (nullable = true)\n",
      " |-- FederalTIN: string (nullable = true)\n",
      " |-- RateEffectiveDate: string (nullable = true)\n",
      " |-- RateExpirationDate: string (nullable = true)\n",
      " |-- PlanId: string (nullable = true)\n",
      " |-- RatingAreaId: string (nullable = true)\n",
      " |-- Tobacco: string (nullable = true)\n",
      " |-- Age: string (nullable = true)\n",
      " |-- IndividualRate: double (nullable = true)\n",
      " |-- IndividualTobaccoRate: double (nullable = true)\n",
      " |-- Couple: double (nullable = true)\n",
      " |-- PrimarySubscriberAndOneDependent: double (nullable = true)\n",
      " |-- PrimarySubscriberAndTwoDependents: double (nullable = true)\n",
      " |-- PrimarySubscriberAndThreeOrMoreDependents: double (nullable = true)\n",
      " |-- CoupleAndOneDependent: double (nullable = true)\n",
      " |-- CoupleAndTwoDependents: double (nullable = true)\n",
      " |-- CoupleAndThreeOrMoreDependents: double (nullable = true)\n",
      " |-- RowNumber: integer (nullable = true)\n",
      " |-- StateCode_new: double (nullable = false)\n",
      "\n"
     ]
    }
   ],
   "source": [
    "df.printSchema()"
   ]
  },
  {
   "cell_type": "code",
   "execution_count": 26,
   "metadata": {},
   "outputs": [
    {
     "data": {
      "text/plain": [
       "DataFrame[BusinessYear: int, StateCode: string, IssuerId: int, SourceName: string, VersionNum: int, ImportDate: string, IssuerId2: int, FederalTIN: string, RateEffectiveDate: string, RateExpirationDate: string, PlanId: string, RatingAreaId: string, Tobacco: string, Age: string, IndividualRate: double, IndividualTobaccoRate: double, Couple: double, PrimarySubscriberAndOneDependent: double, PrimarySubscriberAndTwoDependents: double, PrimarySubscriberAndThreeOrMoreDependents: double, CoupleAndOneDependent: double, CoupleAndTwoDependents: double, CoupleAndThreeOrMoreDependents: double, RowNumber: int, StateCode_new: double]"
      ]
     },
     "execution_count": 26,
     "metadata": {},
     "output_type": "execute_result"
    }
   ],
   "source": [
    "df.filter(col(\"Age\").contains(\"Family Option\"))"
   ]
  },
  {
   "cell_type": "code",
   "execution_count": 27,
   "metadata": {},
   "outputs": [],
   "source": [
    "\n",
    "# figure(figsize=(20, 16), dpi=80)\n",
    "# ageArr = np.array(df.filter(col(\"StateCode_new\").contains(\"2\")).collect())\n",
    "# plt.hist(ageArr)\n",
    "# plt.show()\n",
    "# "
   ]
  },
  {
   "cell_type": "code",
   "execution_count": 28,
   "metadata": {},
   "outputs": [
    {
     "name": "stderr",
     "output_type": "stream",
     "text": [
      "\r",
      "[Stage 38:>                                                         (0 + 2) / 2]\r"
     ]
    },
    {
     "name": "stdout",
     "output_type": "stream",
     "text": [
      "+------------+---------+--------+----------+----------+-------------------+---------+----------+-----------------+------------------+--------------+--------------+-------------+----+--------------+---------------------+------+--------------------------------+---------------------------------+-----------------------------------------+---------------------+----------------------+------------------------------+---------+-------------+\n",
      "|BusinessYear|StateCode|IssuerId|SourceName|VersionNum|         ImportDate|IssuerId2|FederalTIN|RateEffectiveDate|RateExpirationDate|        PlanId|  RatingAreaId|      Tobacco| Age|IndividualRate|IndividualTobaccoRate|Couple|PrimarySubscriberAndOneDependent|PrimarySubscriberAndTwoDependents|PrimarySubscriberAndThreeOrMoreDependents|CoupleAndOneDependent|CoupleAndTwoDependents|CoupleAndThreeOrMoreDependents|RowNumber|StateCode_new|\n",
      "+------------+---------+--------+----------+----------+-------------------+---------+----------+-----------------+------------------+--------------+--------------+-------------+----+--------------+---------------------+------+--------------------------------+---------------------------------+-----------------------------------------+---------------------+----------------------+------------------------------+---------+-------------+\n",
      "|        2016|       SC|   97325|      HIOS|         2|2015-06-30 02:19:14|    97325|47-0397286|       2016-07-01|        2016-09-30|97325SC0080003|Rating Area 36|No Preference|0-20|         32.29|                 null|  null|                            null|                             null|                                     null|                 null|                  null|                          null|     5856|          0.0|\n",
      "|        2016|       SC|   97325|      HIOS|         2|2015-06-30 02:19:14|    97325|47-0397286|       2016-07-01|        2016-09-30|97325SC0080004|Rating Area 18|No Preference|0-20|          29.1|                 null|  null|                            null|                             null|                                     null|                 null|                  null|                          null|     7144|          0.0|\n",
      "|        2016|       SC|   97325|      HIOS|         2|2015-06-30 02:19:14|    97325|47-0397286|       2016-10-01|        2016-12-31|97325SC0080003|Rating Area 36|No Preference|0-20|         32.56|                 null|  null|                            null|                             null|                                     null|                 null|                  null|                          null|     5856|          0.0|\n",
      "|        2016|       SC|   97325|      HIOS|         2|2015-06-30 02:19:14|    97325|47-0397286|       2016-07-01|        2016-09-30|97325SC0080003|Rating Area 29|No Preference|0-20|         34.82|                 null|  null|                            null|                             null|                                     null|                 null|                  null|                          null|     5534|          0.0|\n",
      "|        2016|       SC|   97325|      HIOS|         2|2015-06-30 02:19:14|    97325|47-0397286|       2016-07-01|        2016-09-30|97325SC0080003|Rating Area 37|No Preference|0-20|         34.82|                 null|  null|                            null|                             null|                                     null|                 null|                  null|                          null|     5902|          0.0|\n",
      "|        2016|       SC|   97325|      HIOS|         2|2015-06-30 02:19:14|    97325|47-0397286|       2016-04-01|        2016-06-30|97325SC0080003|Rating Area 27|No Preference|0-20|         34.52|                 null|  null|                            null|                             null|                                     null|                 null|                  null|                          null|     5442|          0.0|\n",
      "|        2016|       SC|   97325|      HIOS|         2|2015-06-30 02:19:14|    97325|47-0397286|       2016-01-01|        2016-12-31|97325SC0020001|Rating Area 37|No Preference|0-20|         35.51|                 null|  null|                            null|                             null|                                     null|                 null|                  null|                          null|     5902|          0.0|\n",
      "|        2016|       SC|   97325|      HIOS|         2|2015-06-30 02:19:14|    97325|47-0397286|       2016-04-01|        2016-06-30|97325SC0080003|Rating Area 29|No Preference|0-20|         34.52|                 null|  null|                            null|                             null|                                     null|                 null|                  null|                          null|     5534|          0.0|\n",
      "|        2016|       SC|   97325|      HIOS|         2|2015-06-30 02:19:14|    97325|47-0397286|       2016-01-01|        2016-03-31|97325SC0080003|Rating Area 37|No Preference|0-20|         34.23|                 null|  null|                            null|                             null|                                     null|                 null|                  null|                          null|     5902|          0.0|\n",
      "|        2016|       SC|   97325|      HIOS|         2|2015-06-30 02:19:14|    97325|47-0397286|       2016-01-01|        2016-03-31|97325SC0080003|Rating Area 32|No Preference|0-20|         31.73|                 null|  null|                            null|                             null|                                     null|                 null|                  null|                          null|     5672|          0.0|\n",
      "|        2016|       SC|   97325|      HIOS|         2|2015-06-30 02:19:14|    97325|47-0397286|       2016-04-01|        2016-06-30|97325SC0080003|Rating Area 39|No Preference|0-20|         34.52|                 null|  null|                            null|                             null|                                     null|                 null|                  null|                          null|     5994|          0.0|\n",
      "|        2016|       SC|   97325|      HIOS|         2|2015-06-30 02:19:14|    97325|47-0397286|       2016-07-01|        2016-09-30|97325SC0080003|Rating Area 34|No Preference|0-20|         32.29|                 null|  null|                            null|                             null|                                     null|                 null|                  null|                          null|     5764|          0.0|\n",
      "|        2016|       SC|   97325|      HIOS|         2|2015-06-30 02:19:14|    97325|47-0397286|       2016-04-01|        2016-06-30|97325SC0080003|Rating Area 41|No Preference|0-20|         32.01|                 null|  null|                            null|                             null|                                     null|                 null|                  null|                          null|     6086|          0.0|\n",
      "|        2016|       SC|   97325|      HIOS|         2|2015-06-30 02:19:14|    97325|47-0397286|       2016-01-01|        2016-03-31|97325SC0080003|Rating Area 46|No Preference|0-20|         34.23|                 null|  null|                            null|                             null|                                     null|                 null|                  null|                          null|     6316|          0.0|\n",
      "|        2016|       SC|   97325|      HIOS|         2|2015-06-30 02:19:14|    97325|47-0397286|       2016-01-01|        2016-12-31|97325SC0020002|Rating Area 15|No Preference|0-20|         27.93|                 null|  null|                            null|                             null|                                     null|                 null|                  null|                          null|     7006|          0.0|\n",
      "|        2016|       SC|   97325|      HIOS|         2|2015-06-30 02:19:14|    97325|47-0397286|       2016-07-01|        2016-09-30|97325SC0080004| Rating Area 1|No Preference|0-20|         27.67|                 null|  null|                            null|                             null|                                     null|                 null|                  null|                          null|     6362|          0.0|\n",
      "|        2016|       SC|   97325|      HIOS|         2|2015-06-30 02:19:14|    97325|47-0397286|       2016-01-01|        2016-12-31|97325SC0020001|Rating Area 31|No Preference|0-20|         35.51|                 null|  null|                            null|                             null|                                     null|                 null|                  null|                          null|     5626|          0.0|\n",
      "|        2016|       SC|   97325|      HIOS|         2|2015-06-30 02:19:14|    97325|47-0397286|       2016-01-01|        2016-03-31|97325SC0080004| Rating Area 3|No Preference|0-20|          27.2|                 null|  null|                            null|                             null|                                     null|                 null|                  null|                          null|     6454|          0.0|\n",
      "|        2016|       SC|   97325|      HIOS|         2|2015-06-30 02:19:14|    97325|47-0397286|       2016-01-01|        2016-12-31|97325SC0020001|Rating Area 30|No Preference|0-20|         35.51|                 null|  null|                            null|                             null|                                     null|                 null|                  null|                          null|     5580|          0.0|\n",
      "|        2016|       SC|   97325|      HIOS|         2|2015-06-30 02:19:14|    97325|47-0397286|       2016-04-01|        2016-06-30|97325SC0080004| Rating Area 3|No Preference|0-20|         27.43|                 null|  null|                            null|                             null|                                     null|                 null|                  null|                          null|     6454|          0.0|\n",
      "+------------+---------+--------+----------+----------+-------------------+---------+----------+-----------------+------------------+--------------+--------------+-------------+----+--------------+---------------------+------+--------------------------------+---------------------------------+-----------------------------------------+---------------------+----------------------+------------------------------+---------+-------------+\n",
      "only showing top 20 rows\n",
      "\n"
     ]
    },
    {
     "name": "stderr",
     "output_type": "stream",
     "text": [
      "\r",
      "[Stage 38:=============================>                            (1 + 1) / 2]\r",
      "\r",
      "                                                                                \r"
     ]
    }
   ],
   "source": [
    "df.orderBy('Age').show()"
   ]
  },
  {
   "cell_type": "code",
   "execution_count": 29,
   "metadata": {},
   "outputs": [
    {
     "name": "stderr",
     "output_type": "stream",
     "text": [
      "                                                                                \r"
     ]
    },
    {
     "data": {
      "image/png": "[encoded data removed]",
      "text/plain": [
       "<Figure size 1440x1152 with 1 Axes>"
      ]
     },
     "metadata": {
      "needs_background": "light"
     },
     "output_type": "display_data"
    }
   ],
   "source": [
    "figure(figsize=(20, 16))\n",
    "ageArr = np.array(df.filter('Age < 45').select('Age').collect())\n",
    "plt.hist(ageArr)\n",
    "plt.show()"
   ]
  },
  {
   "cell_type": "code",
   "execution_count": 30,
   "metadata": {},
   "outputs": [
    {
     "name": "stderr",
     "output_type": "stream",
     "text": [
      "                                                                                \r"
     ]
    },
    {
     "data": {
      "text/plain": [
       "119163"
      ]
     },
     "execution_count": 30,
     "metadata": {},
     "output_type": "execute_result"
    }
   ],
   "source": [
    "len(df.filter('Age < 45').select('Age').collect())"
   ]
  },
  {
   "cell_type": "code",
   "execution_count": 31,
   "metadata": {},
   "outputs": [
    {
     "name": "stderr",
     "output_type": "stream",
     "text": [
      "                                                                                \r"
     ]
    },
    {
     "data": {
      "text/plain": [
       "94248"
      ]
     },
     "execution_count": 31,
     "metadata": {},
     "output_type": "execute_result"
    }
   ],
   "source": [
    "len(df.filter('Age > 45').select('Age').collect())"
   ]
  },
  {
   "cell_type": "code",
   "execution_count": 32,
   "metadata": {},
   "outputs": [],
   "source": [
    "# figure(figsize=(20, 16))\n",
    "\n",
    "# # Convert sex to an array using Numpy and plot it using pyplot. \n",
    "# sexArr = np.array(df.select('Couple').collect())\n",
    "# plt.hist(sexArr)\n",
    "# plt.show()"
   ]
  },
  {
   "cell_type": "code",
   "execution_count": 33,
   "metadata": {},
   "outputs": [
    {
     "name": "stderr",
     "output_type": "stream",
     "text": [
      "                                                                                \r"
     ]
    },
    {
     "data": {
      "text/plain": [
       "[Row(Age='Family Option'),\n",
       " Row(Age='Family Option'),\n",
       " Row(Age='Family Option'),\n",
       " Row(Age='Family Option'),\n",
       " Row(Age='Family Option'),\n",
       " Row(Age='Family Option'),\n",
       " Row(Age='Family Option'),\n",
       " Row(Age='Family Option'),\n",
       " Row(Age='Family Option'),\n",
       " Row(Age='Family Option'),\n",
       " Row(Age='Family Option'),\n",
       " Row(Age='Family Option'),\n",
       " Row(Age='Family Option'),\n",
       " Row(Age='Family Option'),\n",
       " Row(Age='Family Option'),\n",
       " Row(Age='Family Option'),\n",
       " Row(Age='Family Option'),\n",
       " Row(Age='Family Option'),\n",
       " Row(Age='Family Option'),\n",
       " Row(Age='Family Option'),\n",
       " Row(Age='Family Option'),\n",
       " Row(Age='Family Option'),\n",
       " Row(Age='Family Option'),\n",
       " Row(Age='Family Option'),\n",
       " Row(Age='Family Option'),\n",
       " Row(Age='Family Option'),\n",
       " Row(Age='Family Option'),\n",
       " Row(Age='Family Option'),\n",
       " Row(Age='Family Option'),\n",
       " Row(Age='Family Option'),\n",
       " Row(Age='Family Option'),\n",
       " Row(Age='Family Option'),\n",
       " Row(Age='Family Option'),\n",
       " Row(Age='Family Option'),\n",
       " Row(Age='Family Option'),\n",
       " Row(Age='Family Option'),\n",
       " Row(Age='Family Option'),\n",
       " Row(Age='Family Option'),\n",
       " Row(Age='Family Option'),\n",
       " Row(Age='Family Option'),\n",
       " Row(Age='Family Option'),\n",
       " Row(Age='Family Option'),\n",
       " Row(Age='Family Option'),\n",
       " Row(Age='Family Option'),\n",
       " Row(Age='Family Option'),\n",
       " Row(Age='Family Option'),\n",
       " Row(Age='Family Option'),\n",
       " Row(Age='Family Option'),\n",
       " Row(Age='Family Option'),\n",
       " Row(Age='Family Option'),\n",
       " Row(Age='Family Option'),\n",
       " Row(Age='Family Option'),\n",
       " Row(Age='Family Option'),\n",
       " Row(Age='Family Option'),\n",
       " Row(Age='Family Option'),\n",
       " Row(Age='Family Option'),\n",
       " Row(Age='Family Option'),\n",
       " Row(Age='Family Option'),\n",
       " Row(Age='Family Option'),\n",
       " Row(Age='Family Option'),\n",
       " Row(Age='Family Option'),\n",
       " Row(Age='Family Option'),\n",
       " Row(Age='Family Option'),\n",
       " Row(Age='Family Option'),\n",
       " Row(Age='Family Option'),\n",
       " Row(Age='Family Option'),\n",
       " Row(Age='Family Option'),\n",
       " Row(Age='Family Option'),\n",
       " Row(Age='Family Option'),\n",
       " Row(Age='Family Option'),\n",
       " Row(Age='Family Option'),\n",
       " Row(Age='Family Option'),\n",
       " Row(Age='Family Option'),\n",
       " Row(Age='Family Option'),\n",
       " Row(Age='Family Option'),\n",
       " Row(Age='Family Option'),\n",
       " Row(Age='Family Option'),\n",
       " Row(Age='Family Option'),\n",
       " Row(Age='Family Option'),\n",
       " Row(Age='Family Option'),\n",
       " Row(Age='Family Option'),\n",
       " Row(Age='Family Option'),\n",
       " Row(Age='Family Option'),\n",
       " Row(Age='Family Option'),\n",
       " Row(Age='Family Option'),\n",
       " Row(Age='Family Option'),\n",
       " Row(Age='Family Option'),\n",
       " Row(Age='Family Option'),\n",
       " Row(Age='Family Option'),\n",
       " Row(Age='Family Option'),\n",
       " Row(Age='Family Option'),\n",
       " Row(Age='Family Option'),\n",
       " Row(Age='Family Option'),\n",
       " Row(Age='Family Option'),\n",
       " Row(Age='Family Option'),\n",
       " Row(Age='Family Option'),\n",
       " Row(Age='Family Option'),\n",
       " Row(Age='Family Option'),\n",
       " Row(Age='Family Option'),\n",
       " Row(Age='Family Option'),\n",
       " Row(Age='Family Option'),\n",
       " Row(Age='Family Option'),\n",
       " Row(Age='Family Option'),\n",
       " Row(Age='Family Option'),\n",
       " Row(Age='Family Option'),\n",
       " Row(Age='Family Option'),\n",
       " Row(Age='Family Option'),\n",
       " Row(Age='Family Option'),\n",
       " Row(Age='Family Option'),\n",
       " Row(Age='Family Option'),\n",
       " Row(Age='Family Option'),\n",
       " Row(Age='Family Option'),\n",
       " Row(Age='Family Option'),\n",
       " Row(Age='Family Option'),\n",
       " Row(Age='Family Option'),\n",
       " Row(Age='Family Option'),\n",
       " Row(Age='Family Option'),\n",
       " Row(Age='Family Option'),\n",
       " Row(Age='Family Option'),\n",
       " Row(Age='Family Option'),\n",
       " Row(Age='Family Option'),\n",
       " Row(Age='Family Option'),\n",
       " Row(Age='Family Option'),\n",
       " Row(Age='Family Option'),\n",
       " Row(Age='Family Option'),\n",
       " Row(Age='Family Option'),\n",
       " Row(Age='Family Option'),\n",
       " Row(Age='Family Option'),\n",
       " Row(Age='Family Option'),\n",
       " Row(Age='Family Option'),\n",
       " Row(Age='Family Option'),\n",
       " Row(Age='Family Option'),\n",
       " Row(Age='Family Option'),\n",
       " Row(Age='Family Option'),\n",
       " Row(Age='Family Option'),\n",
       " Row(Age='Family Option'),\n",
       " Row(Age='Family Option'),\n",
       " Row(Age='Family Option'),\n",
       " Row(Age='Family Option'),\n",
       " Row(Age='Family Option'),\n",
       " Row(Age='Family Option'),\n",
       " Row(Age='Family Option'),\n",
       " Row(Age='Family Option'),\n",
       " Row(Age='Family Option'),\n",
       " Row(Age='Family Option'),\n",
       " Row(Age='Family Option'),\n",
       " Row(Age='Family Option'),\n",
       " Row(Age='Family Option'),\n",
       " Row(Age='Family Option'),\n",
       " Row(Age='Family Option'),\n",
       " Row(Age='Family Option'),\n",
       " Row(Age='Family Option'),\n",
       " Row(Age='Family Option'),\n",
       " Row(Age='Family Option'),\n",
       " Row(Age='Family Option'),\n",
       " Row(Age='Family Option'),\n",
       " Row(Age='Family Option'),\n",
       " Row(Age='Family Option'),\n",
       " Row(Age='Family Option'),\n",
       " Row(Age='Family Option'),\n",
       " Row(Age='Family Option'),\n",
       " Row(Age='Family Option'),\n",
       " Row(Age='Family Option'),\n",
       " Row(Age='Family Option'),\n",
       " Row(Age='Family Option'),\n",
       " Row(Age='Family Option'),\n",
       " Row(Age='Family Option'),\n",
       " Row(Age='Family Option'),\n",
       " Row(Age='Family Option'),\n",
       " Row(Age='Family Option'),\n",
       " Row(Age='Family Option'),\n",
       " Row(Age='Family Option'),\n",
       " Row(Age='Family Option'),\n",
       " Row(Age='Family Option'),\n",
       " Row(Age='Family Option'),\n",
       " Row(Age='Family Option'),\n",
       " Row(Age='Family Option'),\n",
       " Row(Age='Family Option'),\n",
       " Row(Age='Family Option'),\n",
       " Row(Age='Family Option'),\n",
       " Row(Age='Family Option'),\n",
       " Row(Age='Family Option'),\n",
       " Row(Age='Family Option'),\n",
       " Row(Age='Family Option'),\n",
       " Row(Age='Family Option'),\n",
       " Row(Age='Family Option'),\n",
       " Row(Age='Family Option'),\n",
       " Row(Age='Family Option'),\n",
       " Row(Age='Family Option'),\n",
       " Row(Age='Family Option'),\n",
       " Row(Age='Family Option'),\n",
       " Row(Age='Family Option'),\n",
       " Row(Age='Family Option'),\n",
       " Row(Age='Family Option'),\n",
       " Row(Age='Family Option')]"
      ]
     },
     "execution_count": 33,
     "metadata": {},
     "output_type": "execute_result"
    }
   ],
   "source": [
    "df.filter('couple == 0').select('Age').collect()"
   ]
  },
  {
   "cell_type": "code",
   "execution_count": 34,
   "metadata": {},
   "outputs": [
    {
     "name": "stderr",
     "output_type": "stream",
     "text": [
      "                                                                                \r"
     ]
    },
    {
     "data": {
      "image/png": "[encoded data removed]",
      "text/plain": [
       "<Figure size 1440x1152 with 1 Axes>"
      ]
     },
     "metadata": {
      "needs_background": "light"
     },
     "output_type": "display_data"
    }
   ],
   "source": [
    "figure(figsize=(20, 16))\n",
    "\n",
    "# Convert sex to an array using Numpy and plot it using pyplot. \n",
    "sexArr = np.array(df.filter('couple > 0').select('couple').collect())\n",
    "plt.hist(sexArr)\n",
    "plt.show()"
   ]
  },
  {
   "cell_type": "code",
   "execution_count": 35,
   "metadata": {},
   "outputs": [
    {
     "name": "stderr",
     "output_type": "stream",
     "text": [
      "                                                                                \r"
     ]
    },
    {
     "data": {
      "image/png": "[encoded data removed]",
      "text/plain": [
       "<Figure size 1440x1152 with 1 Axes>"
      ]
     },
     "metadata": {
      "needs_background": "light"
     },
     "output_type": "display_data"
    }
   ],
   "source": [
    "figure(figsize=(20, 16))\n",
    "\n",
    "# Convert sex to an array using Numpy and plot it using pyplot. \n",
    "sexArr = np.array(df.filter('BusinessYear > 0').select('BusinessYear').collect())\n",
    "plt.hist(sexArr)\n",
    "plt.show()"
   ]
  },
  {
   "cell_type": "code",
   "execution_count": 36,
   "metadata": {},
   "outputs": [
    {
     "name": "stdout",
     "output_type": "stream",
     "text": [
      "root\n",
      " |-- BusinessYear: integer (nullable = true)\n",
      " |-- StateCode: string (nullable = true)\n",
      " |-- IssuerId: integer (nullable = true)\n",
      " |-- SourceName: string (nullable = true)\n",
      " |-- VersionNum: integer (nullable = true)\n",
      " |-- ImportDate: string (nullable = true)\n",
      " |-- IssuerId2: integer (nullable = true)\n",
      " |-- FederalTIN: string (nullable = true)\n",
      " |-- RateEffectiveDate: string (nullable = true)\n",
      " |-- RateExpirationDate: string (nullable = true)\n",
      " |-- PlanId: string (nullable = true)\n",
      " |-- RatingAreaId: string (nullable = true)\n",
      " |-- Tobacco: string (nullable = true)\n",
      " |-- Age: string (nullable = true)\n",
      " |-- IndividualRate: double (nullable = true)\n",
      " |-- IndividualTobaccoRate: double (nullable = true)\n",
      " |-- Couple: double (nullable = true)\n",
      " |-- PrimarySubscriberAndOneDependent: double (nullable = true)\n",
      " |-- PrimarySubscriberAndTwoDependents: double (nullable = true)\n",
      " |-- PrimarySubscriberAndThreeOrMoreDependents: double (nullable = true)\n",
      " |-- CoupleAndOneDependent: double (nullable = true)\n",
      " |-- CoupleAndTwoDependents: double (nullable = true)\n",
      " |-- CoupleAndThreeOrMoreDependents: double (nullable = true)\n",
      " |-- RowNumber: integer (nullable = true)\n",
      " |-- StateCode_new: double (nullable = false)\n",
      "\n"
     ]
    }
   ],
   "source": [
    "df.printSchema()"
   ]
  },
  {
   "cell_type": "code",
   "execution_count": 37,
   "metadata": {},
   "outputs": [
    {
     "name": "stdout",
     "output_type": "stream",
     "text": [
      "+------------+---------+--------+----------+----------+-------------------+---------+----------+-----------------+------------------+--------------+-------------+-------------+-------------+--------------+---------------------+------+--------------------------------+---------------------------------+-----------------------------------------+---------------------+----------------------+------------------------------+---------+-------------+\n",
      "|BusinessYear|StateCode|IssuerId|SourceName|VersionNum|         ImportDate|IssuerId2|FederalTIN|RateEffectiveDate|RateExpirationDate|        PlanId| RatingAreaId|      Tobacco|          Age|IndividualRate|IndividualTobaccoRate|Couple|PrimarySubscriberAndOneDependent|PrimarySubscriberAndTwoDependents|PrimarySubscriberAndThreeOrMoreDependents|CoupleAndOneDependent|CoupleAndTwoDependents|CoupleAndThreeOrMoreDependents|RowNumber|StateCode_new|\n",
      "+------------+---------+--------+----------+----------+-------------------+---------+----------+-----------------+------------------+--------------+-------------+-------------+-------------+--------------+---------------------+------+--------------------------------+---------------------------------+-----------------------------------------+---------------------+----------------------+------------------------------+---------+-------------+\n",
      "|        2016|       AK|   21989|      HIOS|         4|2015-08-22 15:09:32|    21989|93-0438772|       2016-04-01|        2016-06-30|21989AK0080001|Rating Area 1|No Preference|Family Option|         51.36|                  0.0| 101.7|                          117.62|                           117.62|                                   117.62|               180.28|                180.28|                        180.28|       14|          6.0|\n",
      "|        2016|       AK|   21989|      HIOS|         4|2015-08-22 15:09:32|    21989|93-0438772|       2016-01-01|        2016-03-31|21989AK0090001|Rating Area 1|No Preference|           21|          55.0|                  0.0|   0.0|                             0.0|                              0.0|                                      0.0|                  0.0|                   0.0|                           0.0|       15|          6.0|\n",
      "|        2016|       AK|   21989|      HIOS|         4|2015-08-22 15:09:32|    21989|93-0438772|       2016-04-01|        2016-06-30|21989AK0080001|Rating Area 2|No Preference|Family Option|         51.36|                  0.0| 101.7|                          117.62|                           117.62|                                   117.62|               180.28|                180.28|                        180.28|       15|          6.0|\n",
      "|        2016|       AK|   21989|      HIOS|         4|2015-08-22 15:09:32|    21989|93-0438772|       2016-01-01|        2016-03-31|21989AK0080001|Rating Area 2|No Preference|Family Option|         50.67|                  0.0|100.33|                          116.04|                           116.04|                                   116.04|               117.86|                117.86|                        117.86|       15|          6.0|\n",
      "|        2016|       AK|   21989|      HIOS|         4|2015-08-22 15:09:32|    21989|93-0438772|       2016-01-01|        2016-12-31|21989AK0030001|Rating Area 1|No Preference|           21|          38.0|                  0.0|   0.0|                             0.0|                              0.0|                                      0.0|                  0.0|                   0.0|                           0.0|       15|          6.0|\n",
      "|        2016|       AK|   21989|      HIOS|         4|2015-08-22 15:09:32|    21989|93-0438772|       2016-07-01|        2016-09-30|21989AK0080001|Rating Area 3|No Preference|Family Option|         52.06|                  0.0|103.08|                          119.22|                           119.22|                                   119.22|               182.73|                182.73|                        182.73|       16|          6.0|\n",
      "|        2016|       AK|   21989|      HIOS|         4|2015-08-22 15:09:32|    21989|93-0438772|       2016-10-01|        2016-12-31|21989AK0080002|Rating Area 1|No Preference|Family Option|         59.98|                  0.0|118.76|                          137.35|                           137.35|                                   137.35|               210.53|                210.53|                        210.53|       17|          6.0|\n",
      "|        2016|       AK|   21989|      HIOS|         4|2015-08-22 15:09:32|    21989|93-0438772|       2016-10-01|        2016-12-31|21989AK0090001|Rating Area 1|No Preference|           23|          57.0|                  0.0|   0.0|                             0.0|                              0.0|                                      0.0|                  0.0|                   0.0|                           0.0|       17|          6.0|\n",
      "|        2016|       AK|   21989|      HIOS|         4|2015-08-22 15:09:32|    21989|93-0438772|       2016-01-01|        2016-03-31|21989AK0080002|Rating Area 1|No Preference|Family Option|          57.6|                  0.0|114.05|                           131.9|                            131.9|                                    131.9|               202.17|                202.17|                        202.17|       17|          6.0|\n",
      "|        2016|       AK|   21989|      HIOS|         4|2015-08-22 15:09:32|    21989|93-0438772|       2016-07-01|        2016-09-30|21989AK0080002|Rating Area 2|No Preference|Family Option|         59.18|                  0.0|117.17|                          135.51|                           135.51|                                   135.51|                207.7|                 207.7|                         207.7|       18|          6.0|\n",
      "|        2016|       AK|   21989|      HIOS|         4|2015-08-22 15:09:32|    21989|93-0438772|       2016-10-01|        2016-12-31|21989AK0080002|Rating Area 2|No Preference|Family Option|         59.98|                  0.0|118.76|                          137.35|                           137.35|                                   137.35|               210.53|                210.53|                        210.53|       18|          6.0|\n",
      "|        2016|       AK|   21989|      HIOS|         4|2015-08-22 15:09:32|    21989|93-0438772|       2016-07-01|        2016-09-30|21989AK0090001|Rating Area 1|No Preference|           25|          57.0|                  0.0|   0.0|                             0.0|                              0.0|                                      0.0|                  0.0|                   0.0|                           0.0|       19|          6.0|\n",
      "|        2016|       AK|   21989|      HIOS|         4|2015-08-22 15:09:32|    21989|93-0438772|       2016-04-01|        2016-06-30|21989AK0080002|Rating Area 3|No Preference|Family Option|         58.38|                  0.0| 115.6|                          133.69|                           133.69|                                   133.69|               204.92|                204.92|                        204.92|       19|          6.0|\n",
      "|        2016|       AK|   21989|      HIOS|         4|2015-08-22 15:09:32|    21989|93-0438772|       2016-07-01|        2016-09-30|21989AK0090001|Rating Area 1|No Preference|           26|          57.0|                  0.0|   0.0|                             0.0|                              0.0|                                      0.0|                  0.0|                   0.0|                           0.0|       20|          6.0|\n",
      "|        2016|       AK|   21989|      HIOS|         4|2015-08-22 15:09:32|    21989|93-0438772|       2016-04-01|        2016-06-30|21989AK0100002|Rating Area 1|No Preference|Family Option|          51.4|                  0.0|101.78|                          117.72|                           117.72|                                   117.72|               180.43|                180.43|                        180.43|       22|          6.0|\n",
      "|        2016|       AK|   21989|      HIOS|         4|2015-08-22 15:09:32|    21989|93-0438772|       2016-01-01|        2016-03-31|21989AK0090001|Rating Area 1|No Preference|           28|          55.0|                  0.0|   0.0|                             0.0|                              0.0|                                      0.0|                  0.0|                   0.0|                           0.0|       22|          6.0|\n",
      "|        2016|       AK|   21989|      HIOS|         4|2015-08-22 15:09:32|    21989|93-0438772|       2016-01-01|        2016-12-31|21989AK0030001|Rating Area 1|No Preference|           30|          38.0|                  0.0|   0.0|                             0.0|                              0.0|                                      0.0|                  0.0|                   0.0|                           0.0|       24|          6.0|\n",
      "|        2016|       AK|   21989|      HIOS|         4|2015-08-22 15:09:32|    21989|93-0438772|       2016-01-01|        2016-03-31|21989AK0090001|Rating Area 1|No Preference|           30|          55.0|                  0.0|   0.0|                             0.0|                              0.0|                                      0.0|                  0.0|                   0.0|                           0.0|       24|          6.0|\n",
      "|        2016|       AK|   21989|      HIOS|         4|2015-08-22 15:09:32|    21989|93-0438772|       2016-04-01|        2016-06-30|21989AK0090001|Rating Area 1|No Preference|           30|          56.0|                  0.0|   0.0|                             0.0|                              0.0|                                      0.0|                  0.0|                   0.0|                           0.0|       24|          6.0|\n",
      "|        2016|       AK|   21989|      HIOS|         4|2015-08-22 15:09:32|    21989|93-0438772|       2016-10-01|        2016-12-31|21989AK0110001|Rating Area 1|No Preference|Family Option|           0.0|                  0.0|   0.0|                           77.37|                            77.37|                                    77.37|                90.57|                 90.57|                         90.57|       24|          6.0|\n",
      "+------------+---------+--------+----------+----------+-------------------+---------+----------+-----------------+------------------+--------------+-------------+-------------+-------------+--------------+---------------------+------+--------------------------------+---------------------------------+-----------------------------------------+---------------------+----------------------+------------------------------+---------+-------------+\n",
      "only showing top 20 rows\n",
      "\n"
     ]
    }
   ],
   "source": [
    "df.na.fill(0).show()"
   ]
  },
  {
   "cell_type": "code",
   "execution_count": 38,
   "metadata": {},
   "outputs": [],
   "source": [
    "df = df.drop(col(\"BusinessYear\"))\n",
    "df = df.drop(col(\"StateCode\"))\n",
    "df = df.drop(col(\"SourceName\"))\n",
    "df = df.drop(col(\"ImportDate\"))\n",
    "df = df.drop(col(\"VersionNum\"))\n",
    "df = df.drop(col(\"RateEffectiveDate\"))\n",
    "df = df.drop(col(\"RateExpirationDate\"))\n",
    "df = df.drop(col(\"PlanId\"))\n",
    "df = df.drop(col(\"IssuerId\"))\n",
    "df = df.drop(col(\"IssuerId2\"))"
   ]
  },
  {
   "cell_type": "code",
   "execution_count": 39,
   "metadata": {},
   "outputs": [
    {
     "name": "stdout",
     "output_type": "stream",
     "text": [
      "root\n",
      " |-- FederalTIN: string (nullable = true)\n",
      " |-- RatingAreaId: string (nullable = true)\n",
      " |-- Tobacco: string (nullable = true)\n",
      " |-- Age: string (nullable = true)\n",
      " |-- IndividualRate: double (nullable = true)\n",
      " |-- IndividualTobaccoRate: double (nullable = true)\n",
      " |-- Couple: double (nullable = true)\n",
      " |-- PrimarySubscriberAndOneDependent: double (nullable = true)\n",
      " |-- PrimarySubscriberAndTwoDependents: double (nullable = true)\n",
      " |-- PrimarySubscriberAndThreeOrMoreDependents: double (nullable = true)\n",
      " |-- CoupleAndOneDependent: double (nullable = true)\n",
      " |-- CoupleAndTwoDependents: double (nullable = true)\n",
      " |-- CoupleAndThreeOrMoreDependents: double (nullable = true)\n",
      " |-- RowNumber: integer (nullable = true)\n",
      " |-- StateCode_new: double (nullable = false)\n",
      "\n"
     ]
    }
   ],
   "source": [
    "df.printSchema()"
   ]
  },
  {
   "cell_type": "code",
   "execution_count": 40,
   "metadata": {},
   "outputs": [],
   "source": [
    "df = df.filter((df.IndividualRate != 0))\n",
    "df = df.filter((df.IndividualRate != 9999))"
   ]
  },
  {
   "cell_type": "code",
   "execution_count": 41,
   "metadata": {},
   "outputs": [
    {
     "name": "stderr",
     "output_type": "stream",
     "text": [
      "                                                                                \r"
     ]
    },
    {
     "data": {
      "image/png": "[encoded data removed]",
      "text/plain": [
       "<Figure size 1600x1280 with 1 Axes>"
      ]
     },
     "metadata": {
      "needs_background": "light"
     },
     "output_type": "display_data"
    }
   ],
   "source": [
    "figure(figsize=(20, 16), dpi=80)\n",
    "\n",
    "# Convert sex to an array using Numpy and plot it using pyplot. \n",
    "sexArr = np.array(df.select('IndividualRate').collect())\n",
    "plt.hist(sexArr)\n",
    "plt.show()"
   ]
  },
  {
   "cell_type": "code",
   "execution_count": 42,
   "metadata": {},
   "outputs": [
    {
     "name": "stderr",
     "output_type": "stream",
     "text": [
      "                                                                                \r"
     ]
    },
    {
     "data": {
      "text/plain": [
       "217558"
      ]
     },
     "execution_count": 42,
     "metadata": {},
     "output_type": "execute_result"
    }
   ],
   "source": [
    "len(df.filter('IndividualRate > 0').select('IndividualRate').collect())"
   ]
  },
  {
   "cell_type": "code",
   "execution_count": 43,
   "metadata": {
    "scrolled": true
   },
   "outputs": [
    {
     "name": "stdout",
     "output_type": "stream",
     "text": [
      "root\n",
      " |-- FederalTIN: string (nullable = true)\n",
      " |-- RatingAreaId: string (nullable = true)\n",
      " |-- Tobacco: string (nullable = true)\n",
      " |-- Age: string (nullable = true)\n",
      " |-- IndividualRate: double (nullable = true)\n",
      " |-- IndividualTobaccoRate: double (nullable = true)\n",
      " |-- Couple: double (nullable = true)\n",
      " |-- PrimarySubscriberAndOneDependent: double (nullable = true)\n",
      " |-- PrimarySubscriberAndTwoDependents: double (nullable = true)\n",
      " |-- PrimarySubscriberAndThreeOrMoreDependents: double (nullable = true)\n",
      " |-- CoupleAndOneDependent: double (nullable = true)\n",
      " |-- CoupleAndTwoDependents: double (nullable = true)\n",
      " |-- CoupleAndThreeOrMoreDependents: double (nullable = true)\n",
      " |-- RowNumber: integer (nullable = true)\n",
      " |-- StateCode_new: double (nullable = false)\n",
      "\n"
     ]
    }
   ],
   "source": [
    "df.printSchema()"
   ]
  },
  {
   "cell_type": "code",
   "execution_count": 44,
   "metadata": {},
   "outputs": [],
   "source": [
    "# x = df.filter('IndividualRate > 0').select('IndividualRate').collect()\n",
    "# y = df.filter('Age > 0').select('Age').collect()\n",
    "\n",
    "# fig, ax = plt.subplots(nrows=2, ncols=2)\n",
    "\n",
    "# for row in ax:\n",
    "#     for col in row:\n",
    "#         col.plot(x, y)\n",
    "\n",
    "# plt.show()"
   ]
  },
  {
   "cell_type": "code",
   "execution_count": 45,
   "metadata": {},
   "outputs": [
    {
     "name": "stderr",
     "output_type": "stream",
     "text": [
      "                                                                                \r"
     ]
    },
    {
     "data": {
      "image/png": "[encoded data removed]",
      "text/plain": [
       "<Figure size 1440x1152 with 1 Axes>"
      ]
     },
     "metadata": {
      "needs_background": "light"
     },
     "output_type": "display_data"
    }
   ],
   "source": [
    "figure(figsize=(20, 16))\n",
    "\n",
    "# Convert sex to an array using Numpy and plot it using pyplot. \n",
    "sexArr = np.array(df.filter('IndividualRate > 0').select('IndividualRate').collect())\n",
    "plt.hist(sexArr)\n",
    "plt.show()"
   ]
  },
  {
   "cell_type": "code",
   "execution_count": 46,
   "metadata": {},
   "outputs": [
    {
     "name": "stderr",
     "output_type": "stream",
     "text": [
      "                                                                                \r"
     ]
    },
    {
     "data": {
      "image/png": "[encoded data removed]",
      "text/plain": [
       "<Figure size 1440x1152 with 1 Axes>"
      ]
     },
     "metadata": {
      "needs_background": "light"
     },
     "output_type": "display_data"
    }
   ],
   "source": [
    "figure(figsize=(20, 16))\n",
    "\n",
    "# Convert sex to an array using Numpy and plot it using pyplot. \n",
    "sexArr = np.array(df.filter('IndividualTobaccoRate > 0').select('IndividualTobaccoRate').collect())\n",
    "plt.hist(sexArr)\n",
    "plt.show()"
   ]
  },
  {
   "cell_type": "code",
   "execution_count": 47,
   "metadata": {},
   "outputs": [
    {
     "name": "stderr",
     "output_type": "stream",
     "text": [
      "[Stage 50:=============================>                            (1 + 1) / 2]\r"
     ]
    },
    {
     "name": "stdout",
     "output_type": "stream",
     "text": [
      "+--------------+\n",
      "|IndividualRate|\n",
      "+--------------+\n",
      "|         733.6|\n",
      "|       1188.51|\n",
      "|         692.0|\n",
      "|         596.0|\n",
      "|        811.75|\n",
      "|         496.0|\n",
      "|        851.08|\n",
      "|        414.95|\n",
      "|        432.71|\n",
      "|        684.71|\n",
      "|        515.86|\n",
      "|        1051.0|\n",
      "|        488.38|\n",
      "|        270.55|\n",
      "|        436.08|\n",
      "|        432.68|\n",
      "|        548.64|\n",
      "|        808.48|\n",
      "|         229.6|\n",
      "|        238.14|\n",
      "+--------------+\n",
      "only showing top 20 rows\n",
      "\n"
     ]
    },
    {
     "name": "stderr",
     "output_type": "stream",
     "text": [
      "\r",
      "                                                                                \r"
     ]
    }
   ],
   "source": [
    "\n",
    "\n",
    "df_summary = df.groupBy(\"IndividualRate\").max().select(['IndividualRate'])\n",
    "df_summary.show()"
   ]
  },
  {
   "cell_type": "code",
   "execution_count": 48,
   "metadata": {},
   "outputs": [
    {
     "name": "stderr",
     "output_type": "stream",
     "text": [
      "                                                                                \r"
     ]
    },
    {
     "data": {
      "image/png": "[encoded data removed]",
      "text/plain": [
       "<Figure size 1440x1152 with 1 Axes>"
      ]
     },
     "metadata": {
      "needs_background": "light"
     },
     "output_type": "display_data"
    }
   ],
   "source": [
    "figure(figsize=(20, 16))\n",
    "\n",
    "# Convert sex to an array using Numpy and plot it using pyplot. \n",
    "sexArr = np.array(df.filter('IndividualRate < 1400').select('IndividualRate').collect())\n",
    "plt.hist(sexArr)\n",
    "plt.show()"
   ]
  },
  {
   "cell_type": "code",
   "execution_count": 49,
   "metadata": {},
   "outputs": [
    {
     "name": "stderr",
     "output_type": "stream",
     "text": [
      "                                                                                \r"
     ]
    },
    {
     "data": {
      "text/plain": [
       "[Row(IndividualRate=51.36),\n",
       " Row(IndividualRate=55.0),\n",
       " Row(IndividualRate=51.36),\n",
       " Row(IndividualRate=50.67),\n",
       " Row(IndividualRate=38.0),\n",
       " Row(IndividualRate=52.06),\n",
       " Row(IndividualRate=59.98),\n",
       " Row(IndividualRate=57.0),\n",
       " Row(IndividualRate=57.6),\n",
       " Row(IndividualRate=59.18),\n",
       " Row(IndividualRate=59.98),\n",
       " Row(IndividualRate=57.0),\n",
       " Row(IndividualRate=58.38),\n",
       " Row(IndividualRate=57.0),\n",
       " Row(IndividualRate=51.4),\n",
       " Row(IndividualRate=55.0),\n",
       " Row(IndividualRate=38.0),\n",
       " Row(IndividualRate=55.0),\n",
       " Row(IndividualRate=56.0),\n",
       " Row(IndividualRate=57.0),\n",
       " Row(IndividualRate=57.0),\n",
       " Row(IndividualRate=38.0),\n",
       " Row(IndividualRate=57.0),\n",
       " Row(IndividualRate=55.0),\n",
       " Row(IndividualRate=38.0),\n",
       " Row(IndividualRate=55.0),\n",
       " Row(IndividualRate=57.0),\n",
       " Row(IndividualRate=38.0),\n",
       " Row(IndividualRate=57.0),\n",
       " Row(IndividualRate=56.0),\n",
       " Row(IndividualRate=38.0),\n",
       " Row(IndividualRate=38.0),\n",
       " Row(IndividualRate=55.0),\n",
       " Row(IndividualRate=38.0),\n",
       " Row(IndividualRate=55.0),\n",
       " Row(IndividualRate=56.0),\n",
       " Row(IndividualRate=38.0),\n",
       " Row(IndividualRate=57.0),\n",
       " Row(IndividualRate=38.0),\n",
       " Row(IndividualRate=57.0),\n",
       " Row(IndividualRate=55.0),\n",
       " Row(IndividualRate=57.0),\n",
       " Row(IndividualRate=56.0),\n",
       " Row(IndividualRate=38.0),\n",
       " Row(IndividualRate=38.0),\n",
       " Row(IndividualRate=57.0),\n",
       " Row(IndividualRate=57.0),\n",
       " Row(IndividualRate=56.0),\n",
       " Row(IndividualRate=57.0),\n",
       " Row(IndividualRate=57.0),\n",
       " Row(IndividualRate=55.0),\n",
       " Row(IndividualRate=56.0),\n",
       " Row(IndividualRate=55.0),\n",
       " Row(IndividualRate=57.0),\n",
       " Row(IndividualRate=56.0),\n",
       " Row(IndividualRate=38.0),\n",
       " Row(IndividualRate=55.0),\n",
       " Row(IndividualRate=57.0),\n",
       " Row(IndividualRate=57.0),\n",
       " Row(IndividualRate=56.0),\n",
       " Row(IndividualRate=38.0),\n",
       " Row(IndividualRate=55.0),\n",
       " Row(IndividualRate=57.0),\n",
       " Row(IndividualRate=57.0),\n",
       " Row(IndividualRate=56.0),\n",
       " Row(IndividualRate=55.0),\n",
       " Row(IndividualRate=55.0),\n",
       " Row(IndividualRate=56.0),\n",
       " Row(IndividualRate=38.0),\n",
       " Row(IndividualRate=55.0),\n",
       " Row(IndividualRate=57.0),\n",
       " Row(IndividualRate=56.0),\n",
       " Row(IndividualRate=55.0),\n",
       " Row(IndividualRate=57.0),\n",
       " Row(IndividualRate=56.0),\n",
       " Row(IndividualRate=57.0),\n",
       " Row(IndividualRate=55.0),\n",
       " Row(IndividualRate=56.0),\n",
       " Row(IndividualRate=57.0),\n",
       " Row(IndividualRate=55.0),\n",
       " Row(IndividualRate=57.0),\n",
       " Row(IndividualRate=57.0),\n",
       " Row(IndividualRate=38.0),\n",
       " Row(IndividualRate=55.0),\n",
       " Row(IndividualRate=55.0),\n",
       " Row(IndividualRate=57.0),\n",
       " Row(IndividualRate=57.0),\n",
       " Row(IndividualRate=43.0),\n",
       " Row(IndividualRate=62.0),\n",
       " Row(IndividualRate=57.0),\n",
       " Row(IndividualRate=38.0),\n",
       " Row(IndividualRate=38.0),\n",
       " Row(IndividualRate=57.0),\n",
       " Row(IndividualRate=57.0),\n",
       " Row(IndividualRate=57.0),\n",
       " Row(IndividualRate=56.0),\n",
       " Row(IndividualRate=57.0),\n",
       " Row(IndividualRate=56.0),\n",
       " Row(IndividualRate=38.0),\n",
       " Row(IndividualRate=38.0),\n",
       " Row(IndividualRate=55.0),\n",
       " Row(IndividualRate=57.0),\n",
       " Row(IndividualRate=38.0),\n",
       " Row(IndividualRate=55.0),\n",
       " Row(IndividualRate=56.0),\n",
       " Row(IndividualRate=57.0),\n",
       " Row(IndividualRate=38.0),\n",
       " Row(IndividualRate=55.0),\n",
       " Row(IndividualRate=55.0),\n",
       " Row(IndividualRate=57.0),\n",
       " Row(IndividualRate=57.0),\n",
       " Row(IndividualRate=55.0),\n",
       " Row(IndividualRate=57.0),\n",
       " Row(IndividualRate=56.0),\n",
       " Row(IndividualRate=38.0),\n",
       " Row(IndividualRate=38.0),\n",
       " Row(IndividualRate=71.0),\n",
       " Row(IndividualRate=66.0),\n",
       " Row(IndividualRate=66.0),\n",
       " Row(IndividualRate=35.0),\n",
       " Row(IndividualRate=35.0),\n",
       " Row(IndividualRate=67.0),\n",
       " Row(IndividualRate=35.0),\n",
       " Row(IndividualRate=67.0),\n",
       " Row(IndividualRate=66.0),\n",
       " Row(IndividualRate=65.0),\n",
       " Row(IndividualRate=35.0),\n",
       " Row(IndividualRate=66.0),\n",
       " Row(IndividualRate=65.0),\n",
       " Row(IndividualRate=35.0),\n",
       " Row(IndividualRate=64.0),\n",
       " Row(IndividualRate=65.0),\n",
       " Row(IndividualRate=35.0),\n",
       " Row(IndividualRate=65.0),\n",
       " Row(IndividualRate=35.0),\n",
       " Row(IndividualRate=67.0),\n",
       " Row(IndividualRate=64.0),\n",
       " Row(IndividualRate=65.0),\n",
       " Row(IndividualRate=67.0),\n",
       " Row(IndividualRate=66.0),\n",
       " Row(IndividualRate=64.0),\n",
       " Row(IndividualRate=65.0),\n",
       " Row(IndividualRate=35.0),\n",
       " Row(IndividualRate=35.0),\n",
       " Row(IndividualRate=67.0),\n",
       " Row(IndividualRate=66.0),\n",
       " Row(IndividualRate=64.0),\n",
       " Row(IndividualRate=35.0),\n",
       " Row(IndividualRate=64.0),\n",
       " Row(IndividualRate=35.0),\n",
       " Row(IndividualRate=38.0),\n",
       " Row(IndividualRate=64.0),\n",
       " Row(IndividualRate=65.0),\n",
       " Row(IndividualRate=66.0),\n",
       " Row(IndividualRate=67.0),\n",
       " Row(IndividualRate=65.0),\n",
       " Row(IndividualRate=66.0),\n",
       " Row(IndividualRate=65.0),\n",
       " Row(IndividualRate=66.0),\n",
       " Row(IndividualRate=65.0),\n",
       " Row(IndividualRate=67.0),\n",
       " Row(IndividualRate=67.0),\n",
       " Row(IndividualRate=65.0),\n",
       " Row(IndividualRate=67.0),\n",
       " Row(IndividualRate=67.0),\n",
       " Row(IndividualRate=67.0),\n",
       " Row(IndividualRate=65.0),\n",
       " Row(IndividualRate=64.0),\n",
       " Row(IndividualRate=67.0),\n",
       " Row(IndividualRate=35.0),\n",
       " Row(IndividualRate=67.0),\n",
       " Row(IndividualRate=35.0),\n",
       " Row(IndividualRate=67.0),\n",
       " Row(IndividualRate=66.0),\n",
       " Row(IndividualRate=66.0),\n",
       " Row(IndividualRate=35.0),\n",
       " Row(IndividualRate=66.0),\n",
       " Row(IndividualRate=65.0),\n",
       " Row(IndividualRate=35.0),\n",
       " Row(IndividualRate=67.0),\n",
       " Row(IndividualRate=65.0),\n",
       " Row(IndividualRate=65.0),\n",
       " Row(IndividualRate=66.0),\n",
       " Row(IndividualRate=64.0),\n",
       " Row(IndividualRate=65.0),\n",
       " Row(IndividualRate=64.0),\n",
       " Row(IndividualRate=64.0),\n",
       " Row(IndividualRate=67.0),\n",
       " Row(IndividualRate=66.0),\n",
       " Row(IndividualRate=65.0),\n",
       " Row(IndividualRate=66.0),\n",
       " Row(IndividualRate=65.0),\n",
       " Row(IndividualRate=65.0),\n",
       " Row(IndividualRate=67.0),\n",
       " Row(IndividualRate=65.0),\n",
       " Row(IndividualRate=64.0),\n",
       " Row(IndividualRate=66.0),\n",
       " Row(IndividualRate=67.0),\n",
       " Row(IndividualRate=66.0),\n",
       " Row(IndividualRate=64.0),\n",
       " Row(IndividualRate=64.0),\n",
       " Row(IndividualRate=67.0),\n",
       " Row(IndividualRate=41.0),\n",
       " Row(IndividualRate=41.0),\n",
       " Row(IndividualRate=38.0),\n",
       " Row(IndividualRate=41.0),\n",
       " Row(IndividualRate=41.0),\n",
       " Row(IndividualRate=41.0),\n",
       " Row(IndividualRate=41.0),\n",
       " Row(IndividualRate=41.0),\n",
       " Row(IndividualRate=41.0),\n",
       " Row(IndividualRate=41.0),\n",
       " Row(IndividualRate=43.0),\n",
       " Row(IndividualRate=43.0),\n",
       " Row(IndividualRate=43.0),\n",
       " Row(IndividualRate=43.0),\n",
       " Row(IndividualRate=43.0),\n",
       " Row(IndividualRate=43.0),\n",
       " Row(IndividualRate=43.0),\n",
       " Row(IndividualRate=43.0),\n",
       " Row(IndividualRate=43.0),\n",
       " Row(IndividualRate=43.0),\n",
       " Row(IndividualRate=43.0),\n",
       " Row(IndividualRate=43.0),\n",
       " Row(IndividualRate=43.0),\n",
       " Row(IndividualRate=43.0),\n",
       " Row(IndividualRate=43.0),\n",
       " Row(IndividualRate=43.0),\n",
       " Row(IndividualRate=43.0),\n",
       " Row(IndividualRate=43.0),\n",
       " Row(IndividualRate=65.94),\n",
       " Row(IndividualRate=45.19),\n",
       " Row(IndividualRate=44.81),\n",
       " Row(IndividualRate=45.19),\n",
       " Row(IndividualRate=35.8),\n",
       " Row(IndividualRate=35.19),\n",
       " Row(IndividualRate=35.19),\n",
       " Row(IndividualRate=35.19),\n",
       " Row(IndividualRate=36.11),\n",
       " Row(IndividualRate=37.31),\n",
       " Row(IndividualRate=37.31),\n",
       " Row(IndividualRate=37.31),\n",
       " Row(IndividualRate=44.36),\n",
       " Row(IndividualRate=37.31),\n",
       " Row(IndividualRate=37.31),\n",
       " Row(IndividualRate=37.31),\n",
       " Row(IndividualRate=37.31),\n",
       " Row(IndividualRate=37.31),\n",
       " Row(IndividualRate=37.31),\n",
       " Row(IndividualRate=37.31),\n",
       " Row(IndividualRate=37.31),\n",
       " Row(IndividualRate=44.36),\n",
       " Row(IndividualRate=25.84),\n",
       " Row(IndividualRate=25.84),\n",
       " Row(IndividualRate=25.84),\n",
       " Row(IndividualRate=25.84),\n",
       " Row(IndividualRate=25.84),\n",
       " Row(IndividualRate=25.84),\n",
       " Row(IndividualRate=25.84),\n",
       " Row(IndividualRate=25.84),\n",
       " Row(IndividualRate=25.84),\n",
       " Row(IndividualRate=25.84),\n",
       " Row(IndividualRate=25.84),\n",
       " Row(IndividualRate=25.84),\n",
       " Row(IndividualRate=25.84),\n",
       " Row(IndividualRate=30.36),\n",
       " Row(IndividualRate=30.36),\n",
       " Row(IndividualRate=30.36),\n",
       " Row(IndividualRate=30.36),\n",
       " Row(IndividualRate=25.84),\n",
       " Row(IndividualRate=25.84),\n",
       " Row(IndividualRate=25.84),\n",
       " Row(IndividualRate=30.36),\n",
       " Row(IndividualRate=38.32),\n",
       " Row(IndividualRate=38.32),\n",
       " Row(IndividualRate=38.32),\n",
       " Row(IndividualRate=38.32),\n",
       " Row(IndividualRate=38.32),\n",
       " Row(IndividualRate=38.32),\n",
       " Row(IndividualRate=38.32),\n",
       " Row(IndividualRate=45.56),\n",
       " Row(IndividualRate=45.56),\n",
       " Row(IndividualRate=38.32),\n",
       " Row(IndividualRate=45.56),\n",
       " Row(IndividualRate=38.32),\n",
       " Row(IndividualRate=38.32),\n",
       " Row(IndividualRate=38.32),\n",
       " Row(IndividualRate=45.56),\n",
       " Row(IndividualRate=45.56),\n",
       " Row(IndividualRate=26.54),\n",
       " Row(IndividualRate=26.54),\n",
       " Row(IndividualRate=31.18),\n",
       " Row(IndividualRate=31.18),\n",
       " Row(IndividualRate=31.18),\n",
       " Row(IndividualRate=31.18),\n",
       " Row(IndividualRate=26.54),\n",
       " Row(IndividualRate=26.54),\n",
       " Row(IndividualRate=26.54),\n",
       " Row(IndividualRate=26.54),\n",
       " Row(IndividualRate=26.54),\n",
       " Row(IndividualRate=26.54),\n",
       " Row(IndividualRate=26.54),\n",
       " Row(IndividualRate=31.18),\n",
       " Row(IndividualRate=26.54),\n",
       " Row(IndividualRate=26.54),\n",
       " Row(IndividualRate=26.54),\n",
       " Row(IndividualRate=26.54),\n",
       " Row(IndividualRate=31.18),\n",
       " Row(IndividualRate=31.18),\n",
       " Row(IndividualRate=77.0),\n",
       " Row(IndividualRate=77.0),\n",
       " Row(IndividualRate=77.0),\n",
       " Row(IndividualRate=77.0),\n",
       " Row(IndividualRate=77.0),\n",
       " Row(IndividualRate=77.0),\n",
       " Row(IndividualRate=77.0),\n",
       " Row(IndividualRate=77.0),\n",
       " Row(IndividualRate=77.0),\n",
       " Row(IndividualRate=77.0),\n",
       " Row(IndividualRate=77.0),\n",
       " Row(IndividualRate=77.0),\n",
       " Row(IndividualRate=77.0),\n",
       " Row(IndividualRate=77.0),\n",
       " Row(IndividualRate=77.0),\n",
       " Row(IndividualRate=77.0),\n",
       " Row(IndividualRate=77.0),\n",
       " Row(IndividualRate=77.0),\n",
       " Row(IndividualRate=77.0),\n",
       " Row(IndividualRate=77.0),\n",
       " Row(IndividualRate=77.0),\n",
       " Row(IndividualRate=77.0),\n",
       " Row(IndividualRate=77.0),\n",
       " Row(IndividualRate=77.0),\n",
       " Row(IndividualRate=342.34),\n",
       " Row(IndividualRate=458.0),\n",
       " Row(IndividualRate=539.12),\n",
       " Row(IndividualRate=539.12),\n",
       " Row(IndividualRate=633.77),\n",
       " Row(IndividualRate=497.0),\n",
       " Row(IndividualRate=661.76),\n",
       " Row(IndividualRate=641.37),\n",
       " Row(IndividualRate=689.58),\n",
       " Row(IndividualRate=559.0),\n",
       " Row(IndividualRate=663.12),\n",
       " Row(IndividualRate=680.66),\n",
       " Row(IndividualRate=667.43),\n",
       " Row(IndividualRate=698.37),\n",
       " Row(IndividualRate=689.0),\n",
       " Row(IndividualRate=770.8),\n",
       " Row(IndividualRate=820.22),\n",
       " Row(IndividualRate=842.65),\n",
       " Row(IndividualRate=781.0),\n",
       " Row(IndividualRate=994.68),\n",
       " Row(IndividualRate=944.07),\n",
       " Row(IndividualRate=962.87),\n",
       " Row(IndividualRate=1005.46),\n",
       " Row(IndividualRate=1158.76),\n",
       " Row(IndividualRate=1099.81),\n",
       " Row(IndividualRate=1151.03),\n",
       " Row(IndividualRate=1300.2),\n",
       " Row(IndividualRate=1360.25),\n",
       " Row(IndividualRate=1313.84),\n",
       " Row(IndividualRate=1373.68),\n",
       " Row(IndividualRate=1166.0),\n",
       " Row(IndividualRate=1315.0),\n",
       " Row(IndividualRate=544.57),\n",
       " Row(IndividualRate=558.97),\n",
       " Row(IndividualRate=588.94),\n",
       " Row(IndividualRate=470.0),\n",
       " Row(IndividualRate=603.07),\n",
       " Row(IndividualRate=631.15),\n",
       " Row(IndividualRate=553.0),\n",
       " Row(IndividualRate=714.97),\n",
       " Row(IndividualRate=719.68),\n",
       " Row(IndividualRate=683.06),\n",
       " Row(IndividualRate=669.82),\n",
       " Row(IndividualRate=687.53),\n",
       " Row(IndividualRate=674.18),\n",
       " Row(IndividualRate=733.81),\n",
       " Row(IndividualRate=740.64),\n",
       " Row(IndividualRate=620.0),\n",
       " Row(IndividualRate=760.76),\n",
       " Row(IndividualRate=702.0),\n",
       " Row(IndividualRate=890.37),\n",
       " Row(IndividualRate=938.09),\n",
       " Row(IndividualRate=962.91),\n",
       " Row(IndividualRate=998.32),\n",
       " Row(IndividualRate=872.0),\n",
       " Row(IndividualRate=1015.62),\n",
       " Row(IndividualRate=1140.0),\n",
       " Row(IndividualRate=1398.25),\n",
       " Row(IndividualRate=1327.11),\n",
       " Row(IndividualRate=1381.0),\n",
       " Row(IndividualRate=569.59),\n",
       " Row(IndividualRate=554.91),\n",
       " Row(IndividualRate=526.68),\n",
       " Row(IndividualRate=526.68),\n",
       " Row(IndividualRate=526.68),\n",
       " Row(IndividualRate=665.0),\n",
       " Row(IndividualRate=528.78),\n",
       " Row(IndividualRate=553.58),\n",
       " Row(IndividualRate=637.37),\n",
       " Row(IndividualRate=620.94),\n",
       " Row(IndividualRate=597.78),\n",
       " Row(IndividualRate=626.56),\n",
       " Row(IndividualRate=664.78),\n",
       " Row(IndividualRate=700.59),\n",
       " Row(IndividualRate=823.0),\n",
       " Row(IndividualRate=705.15),\n",
       " Row(IndividualRate=686.97),\n",
       " Row(IndividualRate=828.0),\n",
       " Row(IndividualRate=690.89),\n",
       " Row(IndividualRate=754.7),\n",
       " Row(IndividualRate=733.6),\n",
       " Row(IndividualRate=1134.0),\n",
       " Row(IndividualRate=965.52),\n",
       " Row(IndividualRate=991.06),\n",
       " Row(IndividualRate=1017.28),\n",
       " Row(IndividualRate=1034.9),\n",
       " Row(IndividualRate=1028.07),\n",
       " Row(IndividualRate=1270.18),\n",
       " Row(IndividualRate=1328.85),\n",
       " Row(IndividualRate=1388.08),\n",
       " Row(IndividualRate=1377.46),\n",
       " Row(IndividualRate=575.34),\n",
       " Row(IndividualRate=575.34),\n",
       " Row(IndividualRate=560.51),\n",
       " Row(IndividualRate=559.17),\n",
       " Row(IndividualRate=589.15),\n",
       " Row(IndividualRate=582.0),\n",
       " Row(IndividualRate=636.0),\n",
       " Row(IndividualRate=616.58),\n",
       " Row(IndividualRate=637.33),\n",
       " Row(IndividualRate=690.0),\n",
       " Row(IndividualRate=689.43),\n",
       " Row(IndividualRate=658.61),\n",
       " Row(IndividualRate=698.4),\n",
       " Row(IndividualRate=749.09),\n",
       " Row(IndividualRate=729.79),\n",
       " Row(IndividualRate=809.38),\n",
       " Row(IndividualRate=788.52),\n",
       " Row(IndividualRate=888.0),\n",
       " Row(IndividualRate=1038.46),\n",
       " Row(IndividualRate=1065.92),\n",
       " Row(IndividualRate=1094.12),\n",
       " Row(IndividualRate=1159.0),\n",
       " Row(IndividualRate=1173.69),\n",
       " Row(IndividualRate=1135.81),\n",
       " Row(IndividualRate=1165.85),\n",
       " Row(IndividualRate=1385.0),\n",
       " Row(IndividualRate=1365.97),\n",
       " Row(IndividualRate=1330.76),\n",
       " Row(IndividualRate=1384.79),\n",
       " Row(IndividualRate=335.51),\n",
       " Row(IndividualRate=541.04),\n",
       " Row(IndividualRate=583.4),\n",
       " Row(IndividualRate=568.36),\n",
       " Row(IndividualRate=543.0),\n",
       " Row(IndividualRate=641.42),\n",
       " Row(IndividualRate=658.39),\n",
       " Row(IndividualRate=550.0),\n",
       " Row(IndividualRate=641.37),\n",
       " Row(IndividualRate=572.0),\n",
       " Row(IndividualRate=579.0),\n",
       " Row(IndividualRate=706.12),\n",
       " Row(IndividualRate=718.59),\n",
       " Row(IndividualRate=716.98),\n",
       " Row(IndividualRate=783.13),\n",
       " Row(IndividualRate=762.94),\n",
       " Row(IndividualRate=743.29),\n",
       " Row(IndividualRate=886.71),\n",
       " Row(IndividualRate=910.17),\n",
       " Row(IndividualRate=901.37),\n",
       " Row(IndividualRate=968.6),\n",
       " Row(IndividualRate=1011.45),\n",
       " Row(IndividualRate=1058.63),\n",
       " Row(IndividualRate=1188.51),\n",
       " Row(IndividualRate=1178.23),\n",
       " Row(IndividualRate=1254.42),\n",
       " Row(IndividualRate=1339.87),\n",
       " Row(IndividualRate=1359.0),\n",
       " Row(IndividualRate=330.16),\n",
       " Row(IndividualRate=338.89),\n",
       " Row(IndividualRate=463.0),\n",
       " Row(IndividualRate=463.0),\n",
       " Row(IndividualRate=550.0),\n",
       " Row(IndividualRate=595.47),\n",
       " Row(IndividualRate=605.74),\n",
       " Row(IndividualRate=548.0),\n",
       " Row(IndividualRate=622.89),\n",
       " Row(IndividualRate=687.13),\n",
       " Row(IndividualRate=652.17),\n",
       " Row(IndividualRate=664.48),\n",
       " Row(IndividualRate=718.62),\n",
       " Row(IndividualRate=628.0),\n",
       " Row(IndividualRate=743.38),\n",
       " Row(IndividualRate=878.88),\n",
       " Row(IndividualRate=856.23),\n",
       " Row(IndividualRate=812.67),\n",
       " Row(IndividualRate=850.1),\n",
       " Row(IndividualRate=959.29),\n",
       " Row(IndividualRate=1004.27),\n",
       " Row(IndividualRate=864.0),\n",
       " Row(IndividualRate=1200.51),\n",
       " Row(IndividualRate=1278.04),\n",
       " Row(IndividualRate=1370.33),\n",
       " Row(IndividualRate=1324.81),\n",
       " Row(IndividualRate=1257.0),\n",
       " Row(IndividualRate=291.86),\n",
       " Row(IndividualRate=497.07),\n",
       " Row(IndividualRate=459.62),\n",
       " Row(IndividualRate=484.26),\n",
       " Row(IndividualRate=658.0),\n",
       " Row(IndividualRate=494.42),\n",
       " Row(IndividualRate=556.22),\n",
       " Row(IndividualRate=527.92),\n",
       " Row(IndividualRate=514.32),\n",
       " Row(IndividualRate=561.25),\n",
       " Row(IndividualRate=572.74),\n",
       " Row(IndividualRate=565.33),\n",
       " Row(IndividualRate=569.01),\n",
       " Row(IndividualRate=572.69),\n",
       " Row(IndividualRate=602.93),\n",
       " Row(IndividualRate=630.5),\n",
       " Row(IndividualRate=614.26),\n",
       " Row(IndividualRate=609.0),\n",
       " Row(IndividualRate=893.0),\n",
       " Row(IndividualRate=642.09),\n",
       " Row(IndividualRate=699.27),\n",
       " Row(IndividualRate=681.25),\n",
       " Row(IndividualRate=756.89),\n",
       " Row(IndividualRate=751.48),\n",
       " Row(IndividualRate=1123.0),\n",
       " Row(IndividualRate=864.88),\n",
       " Row(IndividualRate=927.03),\n",
       " Row(IndividualRate=897.18),\n",
       " Row(IndividualRate=920.91),\n",
       " Row(IndividualRate=970.28),\n",
       " Row(IndividualRate=1196.4),\n",
       " Row(IndividualRate=1280.41),\n",
       " Row(IndividualRate=1391.27),\n",
       " Row(IndividualRate=1378.86),\n",
       " Row(IndividualRate=302.61),\n",
       " Row(IndividualRate=318.83),\n",
       " Row(IndividualRate=476.54),\n",
       " Row(IndividualRate=489.15),\n",
       " Row(IndividualRate=581.92),\n",
       " Row(IndividualRate=674.0),\n",
       " Row(IndividualRate=617.57),\n",
       " Row(IndividualRate=692.0),\n",
       " Row(IndividualRate=697.0),\n",
       " Row(IndividualRate=601.4),\n",
       " Row(IndividualRate=625.13),\n",
       " Row(IndividualRate=604.47),\n",
       " Row(IndividualRate=648.12),\n",
       " Row(IndividualRate=648.58),\n",
       " Row(IndividualRate=879.0),\n",
       " Row(IndividualRate=1148.0),\n",
       " Row(IndividualRate=1071.96),\n",
       " Row(IndividualRate=1044.33),\n",
       " Row(IndividualRate=1255.0),\n",
       " Row(IndividualRate=1214.23),\n",
       " Row(IndividualRate=1273.26),\n",
       " Row(IndividualRate=1306.94),\n",
       " Row(IndividualRate=1240.44),\n",
       " Row(IndividualRate=535.0),\n",
       " Row(IndividualRate=487.22),\n",
       " Row(IndividualRate=487.22),\n",
       " Row(IndividualRate=452.32),\n",
       " Row(IndividualRate=548.0),\n",
       " Row(IndividualRate=599.0),\n",
       " Row(IndividualRate=545.2),\n",
       " Row(IndividualRate=524.86),\n",
       " Row(IndividualRate=553.0),\n",
       " Row(IndividualRate=550.14),\n",
       " Row(IndividualRate=547.06),\n",
       " Row(IndividualRate=568.65),\n",
       " Row(IndividualRate=599.29),\n",
       " Row(IndividualRate=675.0),\n",
       " Row(IndividualRate=634.37),\n",
       " Row(IndividualRate=726.0),\n",
       " Row(IndividualRate=663.11),\n",
       " Row(IndividualRate=773.0),\n",
       " Row(IndividualRate=722.78),\n",
       " Row(IndividualRate=831.2),\n",
       " Row(IndividualRate=879.41),\n",
       " Row(IndividualRate=902.67),\n",
       " Row(IndividualRate=951.06),\n",
       " Row(IndividualRate=987.3),\n",
       " Row(IndividualRate=1013.41),\n",
       " Row(IndividualRate=1097.91),\n",
       " Row(IndividualRate=1147.92),\n",
       " Row(IndividualRate=1235.56),\n",
       " Row(IndividualRate=1203.72),\n",
       " Row(IndividualRate=1333.81),\n",
       " Row(IndividualRate=1299.44),\n",
       " Row(IndividualRate=1329.93),\n",
       " Row(IndividualRate=1351.54),\n",
       " Row(IndividualRate=455.07),\n",
       " Row(IndividualRate=492.15),\n",
       " Row(IndividualRate=492.15),\n",
       " Row(IndividualRate=479.46),\n",
       " Row(IndividualRate=507.74),\n",
       " Row(IndividualRate=440.0),\n",
       " Row(IndividualRate=536.52),\n",
       " Row(IndividualRate=516.5),\n",
       " Row(IndividualRate=530.16),\n",
       " Row(IndividualRate=558.58),\n",
       " Row(IndividualRate=455.0),\n",
       " Row(IndividualRate=527.42),\n",
       " Row(IndividualRate=538.35),\n",
       " Row(IndividualRate=471.0),\n",
       " Row(IndividualRate=574.54),\n",
       " Row(IndividualRate=567.02),\n",
       " Row(IndividualRate=582.01),\n",
       " Row(IndividualRate=628.96),\n",
       " Row(IndividualRate=608.17),\n",
       " Row(IndividualRate=618.91),\n",
       " Row(IndividualRate=669.81),\n",
       " Row(IndividualRate=674.5),\n",
       " Row(IndividualRate=682.6),\n",
       " Row(IndividualRate=783.92),\n",
       " Row(IndividualRate=796.88),\n",
       " Row(IndividualRate=878.97),\n",
       " Row(IndividualRate=801.0),\n",
       " Row(IndividualRate=978.1),\n",
       " Row(IndividualRate=876.0),\n",
       " Row(IndividualRate=1041.64),\n",
       " Row(IndividualRate=1014.8),\n",
       " Row(IndividualRate=1061.68),\n",
       " Row(IndividualRate=1248.04),\n",
       " Row(IndividualRate=1184.54),\n",
       " Row(IndividualRate=298.42),\n",
       " Row(IndividualRate=457.84),\n",
       " Row(IndividualRate=446.04),\n",
       " Row(IndividualRate=389.0),\n",
       " Row(IndividualRate=390.0),\n",
       " Row(IndividualRate=484.31),\n",
       " Row(IndividualRate=468.83),\n",
       " Row(IndividualRate=492.51),\n",
       " Row(IndividualRate=467.45),\n",
       " Row(IndividualRate=524.35),\n",
       " Row(IndividualRate=544.67),\n",
       " Row(IndividualRate=527.67),\n",
       " Row(IndividualRate=534.36),\n",
       " Row(IndividualRate=541.49),\n",
       " Row(IndividualRate=555.82),\n",
       " Row(IndividualRate=559.48),\n",
       " Row(IndividualRate=563.14),\n",
       " Row(IndividualRate=581.8),\n",
       " Row(IndividualRate=566.8),\n",
       " Row(IndividualRate=484.0),\n",
       " Row(IndividualRate=608.77),\n",
       " Row(IndividualRate=585.12),\n",
       " Row(IndividualRate=611.87),\n",
       " Row(IndividualRate=515.0),\n",
       " Row(IndividualRate=654.59),\n",
       " Row(IndividualRate=605.28),\n",
       " Row(IndividualRate=639.6),\n",
       " Row(IndividualRate=656.52),\n",
       " Row(IndividualRate=644.08),\n",
       " Row(IndividualRate=669.06),\n",
       " Row(IndividualRate=729.28),\n",
       " Row(IndividualRate=796.63),\n",
       " Row(IndividualRate=839.33),\n",
       " Row(IndividualRate=917.34),\n",
       " Row(IndividualRate=952.3),\n",
       " Row(IndividualRate=1087.0),\n",
       " Row(IndividualRate=1012.0),\n",
       " Row(IndividualRate=1223.28),\n",
       " Row(IndividualRate=1210.56),\n",
       " Row(IndividualRate=1093.0),\n",
       " Row(IndividualRate=1350.16),\n",
       " Row(IndividualRate=1316.71),\n",
       " Row(IndividualRate=1167.0),\n",
       " Row(IndividualRate=1373.51),\n",
       " Row(IndividualRate=309.41),\n",
       " Row(IndividualRate=301.43),\n",
       " Row(IndividualRate=458.0),\n",
       " Row(IndividualRate=474.7),\n",
       " Row(IndividualRate=462.46),\n",
       " Row(IndividualRate=487.25),\n",
       " Row(IndividualRate=476.59),\n",
       " Row(IndividualRate=576.42),\n",
       " Row(IndividualRate=546.96),\n",
       " Row(IndividualRate=561.43),\n",
       " Row(IndividualRate=599.32),\n",
       " Row(IndividualRate=583.88),\n",
       " Row(IndividualRate=603.22),\n",
       " Row(IndividualRate=570.0),\n",
       " Row(IndividualRate=568.59),\n",
       " Row(IndividualRate=645.61),\n",
       " Row(IndividualRate=644.16),\n",
       " Row(IndividualRate=680.69),\n",
       " Row(IndividualRate=703.6),\n",
       " Row(IndividualRate=650.59),\n",
       " Row(IndividualRate=730.88),\n",
       " Row(IndividualRate=704.2),\n",
       " Row(IndividualRate=831.26),\n",
       " Row(IndividualRate=847.81),\n",
       " Row(IndividualRate=961.92),\n",
       " Row(IndividualRate=987.36),\n",
       " Row(IndividualRate=1004.72),\n",
       " Row(IndividualRate=1051.13),\n",
       " Row(IndividualRate=1136.76),\n",
       " Row(IndividualRate=1156.83),\n",
       " Row(IndividualRate=1333.9),\n",
       " Row(IndividualRate=1351.63),\n",
       " Row(IndividualRate=290.42),\n",
       " Row(IndividualRate=434.09),\n",
       " Row(IndividualRate=468.0),\n",
       " Row(IndividualRate=422.9),\n",
       " Row(IndividualRate=468.0),\n",
       " Row(IndividualRate=479.31),\n",
       " Row(IndividualRate=471.85),\n",
       " Row(IndividualRate=497.15),\n",
       " Row(IndividualRate=540.92),\n",
       " Row(IndividualRate=558.89),\n",
       " Row(IndividualRate=530.46),\n",
       " Row(IndividualRate=575.0),\n",
       " Row(IndividualRate=579.0),\n",
       " Row(IndividualRate=566.21),\n",
       " Row(IndividualRate=562.31),\n",
       " Row(IndividualRate=606.0),\n",
       " Row(IndividualRate=590.8),\n",
       " Row(IndividualRate=622.46),\n",
       " Row(IndividualRate=660.43),\n",
       " Row(IndividualRate=610.67),\n",
       " Row(IndividualRate=651.13),\n",
       " Row(IndividualRate=668.36),\n",
       " Row(IndividualRate=691.45),\n",
       " Row(IndividualRate=709.74),\n",
       " Row(IndividualRate=795.79),\n",
       " Row(IndividualRate=788.72),\n",
       " Row(IndividualRate=954.0),\n",
       " Row(IndividualRate=1019.91),\n",
       " Row(IndividualRate=968.02),\n",
       " Row(IndividualRate=1057.88),\n",
       " Row(IndividualRate=1165.35),\n",
       " Row(IndividualRate=1218.0),\n",
       " Row(IndividualRate=1381.0),\n",
       " Row(IndividualRate=1372.07),\n",
       " Row(IndividualRate=422.0),\n",
       " Row(IndividualRate=450.07),\n",
       " Row(IndividualRate=427.18),\n",
       " Row(IndividualRate=463.83),\n",
       " Row(IndividualRate=449.0),\n",
       " Row(IndividualRate=484.84),\n",
       " Row(IndividualRate=524.35),\n",
       " Row(IndividualRate=505.35),\n",
       " Row(IndividualRate=787.0),\n",
       " Row(IndividualRate=525.43),\n",
       " Row(IndividualRate=528.84),\n",
       " Row(IndividualRate=560.79),\n",
       " Row(IndividualRate=583.02),\n",
       " Row(IndividualRate=560.37),\n",
       " Row(IndividualRate=881.0),\n",
       " Row(IndividualRate=685.33),\n",
       " Row(IndividualRate=861.59),\n",
       " Row(IndividualRate=817.75),\n",
       " Row(IndividualRate=1356.0),\n",
       " Row(IndividualRate=1030.21),\n",
       " Row(IndividualRate=1041.03),\n",
       " Row(IndividualRate=1088.44),\n",
       " Row(IndividualRate=1171.54),\n",
       " Row(IndividualRate=1141.35),\n",
       " Row(IndividualRate=1259.74),\n",
       " Row(IndividualRate=1327.27),\n",
       " Row(IndividualRate=1261.02),\n",
       " Row(IndividualRate=401.1),\n",
       " Row(IndividualRate=411.71),\n",
       " Row(IndividualRate=413.36),\n",
       " Row(IndividualRate=410.73),\n",
       " Row(IndividualRate=596.0),\n",
       " Row(IndividualRate=472.89),\n",
       " Row(IndividualRate=479.65),\n",
       " Row(IndividualRate=645.0),\n",
       " Row(IndividualRate=493.23),\n",
       " Row(IndividualRate=526.61),\n",
       " Row(IndividualRate=519.8),\n",
       " Row(IndividualRate=499.77),\n",
       " Row(IndividualRate=526.17),\n",
       " Row(IndividualRate=564.78),\n",
       " Row(IndividualRate=771.0),\n",
       " Row(IndividualRate=588.64),\n",
       " Row(IndividualRate=544.3),\n",
       " Row(IndividualRate=560.34),\n",
       " Row(IndividualRate=794.0),\n",
       " Row(IndividualRate=626.38),\n",
       " Row(IndividualRate=594.51),\n",
       " Row(IndividualRate=655.8),\n",
       " Row(IndividualRate=673.15),\n",
       " Row(IndividualRate=767.84),\n",
       " Row(IndividualRate=884.91),\n",
       " Row(IndividualRate=894.46),\n",
       " Row(IndividualRate=1071.68),\n",
       " Row(IndividualRate=1088.59),\n",
       " Row(IndividualRate=1117.38),\n",
       " Row(IndividualRate=1177.28),\n",
       " Row(IndividualRate=1146.94),\n",
       " Row(IndividualRate=1267.79),\n",
       " Row(IndividualRate=415.87),\n",
       " Row(IndividualRate=405.15),\n",
       " Row(IndividualRate=405.15),\n",
       " Row(IndividualRate=438.16),\n",
       " Row(IndividualRate=428.58),\n",
       " Row(IndividualRate=447.36),\n",
       " Row(IndividualRate=477.67),\n",
       " Row(IndividualRate=481.99),\n",
       " Row(IndividualRate=469.57),\n",
       " Row(IndividualRate=491.97),\n",
       " Row(IndividualRate=524.92),\n",
       " Row(IndividualRate=535.44),\n",
       " Row(IndividualRate=528.46),\n",
       " Row(IndividualRate=538.71),\n",
       " Row(IndividualRate=541.46),\n",
       " Row(IndividualRate=580.57),\n",
       " Row(IndividualRate=565.6),\n",
       " Row(IndividualRate=585.04),\n",
       " Row(IndividualRate=607.73),\n",
       " Row(IndividualRate=640.3),\n",
       " Row(IndividualRate=684.85),\n",
       " Row(IndividualRate=709.47),\n",
       " Row(IndividualRate=887.88),\n",
       " Row(IndividualRate=951.92),\n",
       " Row(IndividualRate=927.39),\n",
       " Row(IndividualRate=1140.54),\n",
       " Row(IndividualRate=1082.51),\n",
       " Row(IndividualRate=1168.59),\n",
       " Row(IndividualRate=1194.79),\n",
       " Row(IndividualRate=1247.6),\n",
       " Row(IndividualRate=1280.6),\n",
       " Row(IndividualRate=278.36),\n",
       " Row(IndividualRate=438.37),\n",
       " Row(IndividualRate=463.0),\n",
       " Row(IndividualRate=474.08),\n",
       " Row(IndividualRate=472.95),\n",
       " Row(IndividualRate=474.0),\n",
       " Row(IndividualRate=485.0),\n",
       " Row(IndividualRate=489.11),\n",
       " Row(IndividualRate=503.0),\n",
       " Row(IndividualRate=518.0),\n",
       " Row(IndividualRate=549.46),\n",
       " Row(IndividualRate=539.05),\n",
       " Row(IndividualRate=579.33),\n",
       " Row(IndividualRate=542.7),\n",
       " Row(IndividualRate=590.71),\n",
       " Row(IndividualRate=577.0),\n",
       " Row(IndividualRate=605.88),\n",
       " Row(IndividualRate=592.0),\n",
       " Row(IndividualRate=596.2),\n",
       " Row(IndividualRate=628.16),\n",
       " Row(IndividualRate=645.22),\n",
       " Row(IndividualRate=666.93),\n",
       " Row(IndividualRate=684.58),\n",
       " Row(IndividualRate=703.29),\n",
       " Row(IndividualRate=846.71),\n",
       " Row(IndividualRate=878.32),\n",
       " Row(IndividualRate=967.13),\n",
       " Row(IndividualRate=1155.34),\n",
       " Row(IndividualRate=1125.56),\n",
       " Row(IndividualRate=1096.56),\n",
       " Row(IndividualRate=1180.0),\n",
       " Row(IndividualRate=1171.25),\n",
       " Row(IndividualRate=1253.5),\n",
       " Row(IndividualRate=1349.87),\n",
       " Row(IndividualRate=281.17),\n",
       " Row(IndividualRate=478.87),\n",
       " Row(IndividualRate=478.87),\n",
       " Row(IndividualRate=658.0),\n",
       " Row(IndividualRate=442.8),\n",
       " Row(IndividualRate=466.53),\n",
       " Row(IndividualRate=658.0),\n",
       " Row(IndividualRate=661.0),\n",
       " Row(IndividualRate=476.32),\n",
       " Row(IndividualRate=508.59),\n",
       " Row(IndividualRate=537.68),\n",
       " Row(IndividualRate=551.9),\n",
       " Row(IndividualRate=573.69),\n",
       " Row(IndividualRate=537.55),\n",
       " Row(IndividualRate=581.35),\n",
       " Row(IndividualRate=581.3),\n",
       " Row(IndividualRate=573.59),\n",
       " Row(IndividualRate=565.89),\n",
       " Row(IndividualRate=612.0),\n",
       " Row(IndividualRate=607.42),\n",
       " Row(IndividualRate=586.7),\n",
       " Row(IndividualRate=618.15),\n",
       " Row(IndividualRate=633.08),\n",
       " Row(IndividualRate=634.95),\n",
       " Row(IndividualRate=699.79),\n",
       " Row(IndividualRate=729.19),\n",
       " Row(IndividualRate=811.75),\n",
       " Row(IndividualRate=855.26),\n",
       " Row(IndividualRate=893.1),\n",
       " Row(IndividualRate=870.08),\n",
       " Row(IndividualRate=847.65),\n",
       " Row(IndividualRate=945.37),\n",
       " Row(IndividualRate=970.37),\n",
       " Row(IndividualRate=1067.88),\n",
       " Row(IndividualRate=1060.36),\n",
       " Row(IndividualRate=1220.16),\n",
       " Row(IndividualRate=1246.5),\n",
       " Row(IndividualRate=1375.8),\n",
       " Row(IndividualRate=1377.19),\n",
       " Row(IndividualRate=1328.38),\n",
       " Row(IndividualRate=1328.38),\n",
       " Row(IndividualRate=563.0),\n",
       " Row(IndividualRate=485.99),\n",
       " Row(IndividualRate=466.1),\n",
       " Row(IndividualRate=512.77),\n",
       " Row(IndividualRate=526.34),\n",
       " Row(IndividualRate=652.0),\n",
       " Row(IndividualRate=537.47),\n",
       " Row(IndividualRate=555.55),\n",
       " Row(IndividualRate=688.0),\n",
       " Row(IndividualRate=552.08),\n",
       " Row(IndividualRate=692.0),\n",
       " Row(IndividualRate=562.5),\n",
       " Row(IndividualRate=763.0),\n",
       " Row(IndividualRate=581.88),\n",
       " Row(IndividualRate=812.0),\n",
       " Row(IndividualRate=635.56),\n",
       " Row(IndividualRate=619.18),\n",
       " Row(IndividualRate=879.0),\n",
       " Row(IndividualRate=786.09),\n",
       " Row(IndividualRate=1005.0),\n",
       " Row(IndividualRate=964.55),\n",
       " Row(IndividualRate=1054.0),\n",
       " Row(IndividualRate=1100.99),\n",
       " Row(IndividualRate=1121.47),\n",
       " Row(IndividualRate=1207.1),\n",
       " Row(IndividualRate=1194.53),\n",
       " Row(IndividualRate=1265.81),\n",
       " Row(IndividualRate=1391.19),\n",
       " Row(IndividualRate=1355.33),\n",
       " Row(IndividualRate=444.58),\n",
       " Row(IndividualRate=467.3),\n",
       " Row(IndividualRate=465.92),\n",
       " Row(IndividualRate=470.81),\n",
       " Row(IndividualRate=509.17),\n",
       " Row(IndividualRate=484.67),\n",
       " Row(IndividualRate=515.27),\n",
       " Row(IndividualRate=512.39),\n",
       " Row(IndividualRate=561.16),\n",
       " Row(IndividualRate=546.7),\n",
       " Row(IndividualRate=564.95),\n",
       " Row(IndividualRate=594.16),\n",
       " Row(IndividualRate=578.85),\n",
       " Row(IndividualRate=563.93),\n",
       " Row(IndividualRate=621.08),\n",
       " Row(IndividualRate=637.51),\n",
       " Row(IndividualRate=666.88),\n",
       " Row(IndividualRate=794.03),\n",
       " Row(IndividualRate=815.03),\n",
       " Row(IndividualRate=807.78),\n",
       " Row(IndividualRate=955.57),\n",
       " Row(IndividualRate=930.94),\n",
       " Row(IndividualRate=991.42),\n",
       " Row(IndividualRate=1132.8),\n",
       " Row(IndividualRate=1363.0),\n",
       " Row(IndividualRate=1271.28),\n",
       " Row(IndividualRate=1345.76),\n",
       " Row(IndividualRate=1333.74),\n",
       " Row(IndividualRate=255.49),\n",
       " Row(IndividualRate=391.98),\n",
       " Row(IndividualRate=393.0),\n",
       " Row(IndividualRate=381.88),\n",
       " Row(IndividualRate=410.8),\n",
       " Row(IndividualRate=448.93),\n",
       " Row(IndividualRate=433.44),\n",
       " Row(IndividualRate=455.0),\n",
       " Row(IndividualRate=475.87),\n",
       " Row(IndividualRate=494.89),\n",
       " Row(IndividualRate=483.0),\n",
       " Row(IndividualRate=507.98),\n",
       " Row(IndividualRate=475.82),\n",
       " Row(IndividualRate=488.41),\n",
       " Row(IndividualRate=501.33),\n",
       " Row(IndividualRate=500.95),\n",
       " Row(IndividualRate=533.49),\n",
       " Row(IndividualRate=580.99),\n",
       " Row(IndividualRate=596.88),\n",
       " Row(IndividualRate=642.0),\n",
       " Row(IndividualRate=675.25),\n",
       " Row(IndividualRate=737.61),\n",
       " Row(IndividualRate=770.24),\n",
       " Row(IndividualRate=767.0),\n",
       " Row(IndividualRate=842.51),\n",
       " Row(IndividualRate=799.64),\n",
       " Row(IndividualRate=815.32),\n",
       " Row(IndividualRate=920.98),\n",
       " Row(IndividualRate=1001.0),\n",
       " Row(IndividualRate=1075.03),\n",
       " Row(IndividualRate=1097.15),\n",
       " Row(IndividualRate=1126.16),\n",
       " Row(IndividualRate=1219.16),\n",
       " Row(IndividualRate=1187.74),\n",
       " Row(IndividualRate=1207.04),\n",
       " Row(IndividualRate=264.9),\n",
       " ...]"
      ]
     },
     "execution_count": 49,
     "metadata": {},
     "output_type": "execute_result"
    }
   ],
   "source": [
    "df.filter('IndividualRate < 1400').select('IndividualRate').collect()"
   ]
  },
  {
   "cell_type": "code",
   "execution_count": 50,
   "metadata": {},
   "outputs": [
    {
     "name": "stderr",
     "output_type": "stream",
     "text": [
      "\r",
      "[Stage 55:>                                                         (0 + 2) / 2]\r"
     ]
    },
    {
     "name": "stdout",
     "output_type": "stream",
     "text": [
      "+----------+-------------+-------------+---+--------------+---------------------+------+--------------------------------+---------------------------------+-----------------------------------------+---------------------+----------------------+------------------------------+---------+-------------+\n",
      "|FederalTIN| RatingAreaId|      Tobacco|Age|IndividualRate|IndividualTobaccoRate|Couple|PrimarySubscriberAndOneDependent|PrimarySubscriberAndTwoDependents|PrimarySubscriberAndThreeOrMoreDependents|CoupleAndOneDependent|CoupleAndTwoDependents|CoupleAndThreeOrMoreDependents|RowNumber|StateCode_new|\n",
      "+----------+-------------+-------------+---+--------------+---------------------+------+--------------------------------+---------------------------------+-----------------------------------------+---------------------+----------------------+------------------------------+---------+-------------+\n",
      "|39-1462554|Rating Area 1|No Preference| 23|           1.5|                 null|  null|                            null|                             null|                                     null|                 null|                  null|                          null|       17|          1.0|\n",
      "|39-1462554|Rating Area 2|No Preference| 40|           1.5|                 null|  null|                            null|                             null|                                     null|                 null|                  null|                          null|      448|          1.0|\n",
      "|39-1462554|Rating Area 1|No Preference| 34|           1.5|                 null|  null|                            null|                             null|                                     null|                 null|                  null|                          null|       28|          1.0|\n",
      "|39-1462554|Rating Area 1|No Preference| 37|           1.5|                 null|  null|                            null|                             null|                                     null|                 null|                  null|                          null|       31|          1.0|\n",
      "|39-1462554|Rating Area 1|No Preference| 51|           1.5|                 null|  null|                            null|                             null|                                     null|                 null|                  null|                          null|       45|          1.0|\n",
      "|39-1462554|Rating Area 1|No Preference| 25|           1.5|                 null|  null|                            null|                             null|                                     null|                 null|                  null|                          null|      157|          1.0|\n",
      "|39-1462554|Rating Area 1|No Preference| 37|           1.5|                 null|  null|                            null|                             null|                                     null|                 null|                  null|                          null|      169|          1.0|\n",
      "|39-1462554|Rating Area 1|No Preference| 52|           1.5|                 null|  null|                            null|                             null|                                     null|                 null|                  null|                          null|      184|          1.0|\n",
      "|39-1462554|Rating Area 1|No Preference| 57|           1.5|                 null|  null|                            null|                             null|                                     null|                 null|                  null|                          null|      189|          1.0|\n",
      "|39-1462554|Rating Area 1|No Preference| 60|           1.5|                 null|  null|                            null|                             null|                                     null|                 null|                  null|                          null|      192|          1.0|\n",
      "|39-1462554|Rating Area 2|No Preference| 21|           1.5|                 null|  null|                            null|                             null|                                     null|                 null|                  null|                          null|      291|          1.0|\n",
      "|39-1462554|Rating Area 2|No Preference| 27|           1.5|                 null|  null|                            null|                             null|                                     null|                 null|                  null|                          null|      297|          1.0|\n",
      "|39-1462554|Rating Area 2|No Preference| 28|           1.5|                 null|  null|                            null|                             null|                                     null|                 null|                  null|                          null|      298|          1.0|\n",
      "|39-1462554|Rating Area 2|No Preference| 34|           1.5|                 null|  null|                            null|                             null|                                     null|                 null|                  null|                          null|      304|          1.0|\n",
      "|39-1462554|Rating Area 2|No Preference| 49|           1.5|                 null|  null|                            null|                             null|                                     null|                 null|                  null|                          null|      319|          1.0|\n",
      "|39-1462554|Rating Area 2|No Preference| 53|           1.5|                 null|  null|                            null|                             null|                                     null|                 null|                  null|                          null|      323|          1.0|\n",
      "|39-1462554|Rating Area 2|No Preference| 56|           1.5|                 null|  null|                            null|                             null|                                     null|                 null|                  null|                          null|      326|          1.0|\n",
      "|39-1462554|Rating Area 2|No Preference| 59|           1.5|                 null|  null|                            null|                             null|                                     null|                 null|                  null|                          null|      329|          1.0|\n",
      "|39-1462554|Rating Area 2|No Preference| 28|           1.5|                 null|  null|                            null|                             null|                                     null|                 null|                  null|                          null|      436|          1.0|\n",
      "|39-1462554|Rating Area 2|No Preference| 31|           1.5|                 null|  null|                            null|                             null|                                     null|                 null|                  null|                          null|      439|          1.0|\n",
      "+----------+-------------+-------------+---+--------------+---------------------+------+--------------------------------+---------------------------------+-----------------------------------------+---------------------+----------------------+------------------------------+---------+-------------+\n",
      "only showing top 20 rows\n",
      "\n"
     ]
    },
    {
     "name": "stderr",
     "output_type": "stream",
     "text": [
      "\r",
      "[Stage 55:=============================>                            (1 + 1) / 2]\r",
      "\r",
      "                                                                                \r"
     ]
    }
   ],
   "source": [
    "df.orderBy('IndividualRate').show()"
   ]
  },
  {
   "cell_type": "code",
   "execution_count": 51,
   "metadata": {},
   "outputs": [
    {
     "name": "stderr",
     "output_type": "stream",
     "text": [
      "\r",
      "[Stage 56:>                                                         (0 + 2) / 2]\r"
     ]
    },
    {
     "name": "stdout",
     "output_type": "stream",
     "text": [
      "+-------+-----------------+\n",
      "|summary|   IndividualRate|\n",
      "+-------+-----------------+\n",
      "|  count|           217558|\n",
      "|   mean| 429.686888048234|\n",
      "| stddev|298.6632782538915|\n",
      "|    min|              1.5|\n",
      "|    max|           2266.0|\n",
      "+-------+-----------------+\n",
      "\n"
     ]
    },
    {
     "name": "stderr",
     "output_type": "stream",
     "text": [
      "\r",
      "[Stage 56:=============================>                            (1 + 1) / 2]\r",
      "\r",
      "                                                                                \r"
     ]
    }
   ],
   "source": [
    "df.describe(['IndividualRate']).show()"
   ]
  },
  {
   "cell_type": "code",
   "execution_count": 52,
   "metadata": {},
   "outputs": [
    {
     "name": "stderr",
     "output_type": "stream",
     "text": [
      "                                                                                \r"
     ]
    },
    {
     "data": {
      "text/plain": [
       "[Row(RatingAreaId='Rating Area 10'),\n",
       " Row(RatingAreaId='Rating Area 8'),\n",
       " Row(RatingAreaId='Rating Area 43'),\n",
       " Row(RatingAreaId='Rating Area 18'),\n",
       " Row(RatingAreaId='Rating Area 31'),\n",
       " Row(RatingAreaId='Rating Area 12'),\n",
       " Row(RatingAreaId='Rating Area 7'),\n",
       " Row(RatingAreaId='Rating Area 30'),\n",
       " Row(RatingAreaId='Rating Area 44'),\n",
       " Row(RatingAreaId='Rating Area 34'),\n",
       " Row(RatingAreaId='Rating Area 40'),\n",
       " Row(RatingAreaId='Rating Area 19'),\n",
       " Row(RatingAreaId='Rating Area 45'),\n",
       " Row(RatingAreaId='Rating Area 6'),\n",
       " Row(RatingAreaId='Rating Area 42'),\n",
       " Row(RatingAreaId='Rating Area 4'),\n",
       " Row(RatingAreaId='Rating Area 39'),\n",
       " Row(RatingAreaId='Rating Area 33'),\n",
       " Row(RatingAreaId='Rating Area 46'),\n",
       " Row(RatingAreaId='Rating Area 15'),\n",
       " Row(RatingAreaId='Rating Area 27'),\n",
       " Row(RatingAreaId='Rating Area 28'),\n",
       " Row(RatingAreaId='Rating Area 17'),\n",
       " Row(RatingAreaId='Rating Area 2'),\n",
       " Row(RatingAreaId='Rating Area 35'),\n",
       " Row(RatingAreaId='Rating Area 38'),\n",
       " Row(RatingAreaId='Rating Area 26'),\n",
       " Row(RatingAreaId='Rating Area 20'),\n",
       " Row(RatingAreaId='Rating Area 41'),\n",
       " Row(RatingAreaId='Rating Area 29'),\n",
       " Row(RatingAreaId='Rating Area 16'),\n",
       " Row(RatingAreaId='Rating Area 3'),\n",
       " Row(RatingAreaId='Rating Area 11'),\n",
       " Row(RatingAreaId='Rating Area 9'),\n",
       " Row(RatingAreaId='Rating Area 23'),\n",
       " Row(RatingAreaId='Rating Area 25'),\n",
       " Row(RatingAreaId='Rating Area 13'),\n",
       " Row(RatingAreaId='Rating Area 37'),\n",
       " Row(RatingAreaId='Rating Area 5'),\n",
       " Row(RatingAreaId='Rating Area 14'),\n",
       " Row(RatingAreaId='Rating Area 24'),\n",
       " Row(RatingAreaId='Rating Area 36'),\n",
       " Row(RatingAreaId='Rating Area 21'),\n",
       " Row(RatingAreaId='Rating Area 32'),\n",
       " Row(RatingAreaId='Rating Area 1'),\n",
       " Row(RatingAreaId='Rating Area 22')]"
      ]
     },
     "execution_count": 52,
     "metadata": {},
     "output_type": "execute_result"
    }
   ],
   "source": [
    "df.select('RatingAreaId').distinct().collect()"
   ]
  },
  {
   "cell_type": "code",
   "execution_count": 53,
   "metadata": {},
   "outputs": [
    {
     "name": "stderr",
     "output_type": "stream",
     "text": [
      "                                                                                \r"
     ]
    }
   ],
   "source": [
    "indexer = StringIndexer(inputCol='RatingAreaId', outputCol='RatingAreaId_new')\n",
    "indexer_fitted = indexer.fit(df)\n",
    "df_indexed = indexer_fitted.transform(df)\n",
    "df = df_indexed"
   ]
  },
  {
   "cell_type": "code",
   "execution_count": 54,
   "metadata": {},
   "outputs": [
    {
     "name": "stderr",
     "output_type": "stream",
     "text": [
      "                                                                                \r"
     ]
    },
    {
     "data": {
      "text/plain": [
       "[Row(RatingAreaId_new=8.0),\n",
       " Row(RatingAreaId_new=0.0),\n",
       " Row(RatingAreaId_new=7.0),\n",
       " Row(RatingAreaId_new=29.0),\n",
       " Row(RatingAreaId_new=42.0),\n",
       " Row(RatingAreaId_new=44.0),\n",
       " Row(RatingAreaId_new=35.0),\n",
       " Row(RatingAreaId_new=18.0),\n",
       " Row(RatingAreaId_new=1.0),\n",
       " Row(RatingAreaId_new=39.0),\n",
       " Row(RatingAreaId_new=34.0),\n",
       " Row(RatingAreaId_new=37.0),\n",
       " Row(RatingAreaId_new=25.0),\n",
       " Row(RatingAreaId_new=36.0),\n",
       " Row(RatingAreaId_new=41.0),\n",
       " Row(RatingAreaId_new=4.0),\n",
       " Row(RatingAreaId_new=23.0),\n",
       " Row(RatingAreaId_new=45.0),\n",
       " Row(RatingAreaId_new=31.0),\n",
       " Row(RatingAreaId_new=11.0),\n",
       " Row(RatingAreaId_new=21.0),\n",
       " Row(RatingAreaId_new=14.0),\n",
       " Row(RatingAreaId_new=22.0),\n",
       " Row(RatingAreaId_new=3.0),\n",
       " Row(RatingAreaId_new=19.0),\n",
       " Row(RatingAreaId_new=28.0),\n",
       " Row(RatingAreaId_new=2.0),\n",
       " Row(RatingAreaId_new=17.0),\n",
       " Row(RatingAreaId_new=38.0),\n",
       " Row(RatingAreaId_new=27.0),\n",
       " Row(RatingAreaId_new=10.0),\n",
       " Row(RatingAreaId_new=40.0),\n",
       " Row(RatingAreaId_new=30.0),\n",
       " Row(RatingAreaId_new=13.0),\n",
       " Row(RatingAreaId_new=33.0),\n",
       " Row(RatingAreaId_new=6.0),\n",
       " Row(RatingAreaId_new=20.0),\n",
       " Row(RatingAreaId_new=32.0),\n",
       " Row(RatingAreaId_new=5.0),\n",
       " Row(RatingAreaId_new=15.0),\n",
       " Row(RatingAreaId_new=24.0),\n",
       " Row(RatingAreaId_new=9.0),\n",
       " Row(RatingAreaId_new=26.0),\n",
       " Row(RatingAreaId_new=16.0),\n",
       " Row(RatingAreaId_new=12.0),\n",
       " Row(RatingAreaId_new=43.0)]"
      ]
     },
     "execution_count": 54,
     "metadata": {},
     "output_type": "execute_result"
    }
   ],
   "source": [
    "df.select('RatingAreaId_new').distinct().collect()"
   ]
  },
  {
   "cell_type": "code",
   "execution_count": 55,
   "metadata": {},
   "outputs": [
    {
     "name": "stderr",
     "output_type": "stream",
     "text": [
      "                                                                                \r"
     ]
    },
    {
     "data": {
      "text/plain": [
       "[Row(Age='51'),\n",
       " Row(Age='54'),\n",
       " Row(Age='29'),\n",
       " Row(Age='42'),\n",
       " Row(Age='64'),\n",
       " Row(Age='30'),\n",
       " Row(Age='34'),\n",
       " Row(Age='59'),\n",
       " Row(Age='28'),\n",
       " Row(Age='22'),\n",
       " Row(Age='35'),\n",
       " Row(Age='52'),\n",
       " Row(Age='47'),\n",
       " Row(Age='43'),\n",
       " Row(Age='31'),\n",
       " Row(Age='0-20'),\n",
       " Row(Age='61'),\n",
       " Row(Age='27'),\n",
       " Row(Age='26'),\n",
       " Row(Age='46'),\n",
       " Row(Age='60'),\n",
       " Row(Age='23'),\n",
       " Row(Age='41'),\n",
       " Row(Age='55'),\n",
       " Row(Age='40'),\n",
       " Row(Age='38'),\n",
       " Row(Age='25'),\n",
       " Row(Age='44'),\n",
       " Row(Age='53'),\n",
       " Row(Age='65 and over'),\n",
       " Row(Age='58'),\n",
       " Row(Age='33'),\n",
       " Row(Age='48'),\n",
       " Row(Age='24'),\n",
       " Row(Age='32'),\n",
       " Row(Age='56'),\n",
       " Row(Age='36'),\n",
       " Row(Age='37'),\n",
       " Row(Age='49'),\n",
       " Row(Age='63'),\n",
       " Row(Age='39'),\n",
       " Row(Age='62'),\n",
       " Row(Age='21'),\n",
       " Row(Age='Family Option'),\n",
       " Row(Age='50'),\n",
       " Row(Age='45'),\n",
       " Row(Age='57')]"
      ]
     },
     "execution_count": 55,
     "metadata": {},
     "output_type": "execute_result"
    }
   ],
   "source": [
    "df.select('Age').distinct().collect()"
   ]
  },
  {
   "cell_type": "code",
   "execution_count": 56,
   "metadata": {},
   "outputs": [
    {
     "name": "stdout",
     "output_type": "stream",
     "text": [
      "+----------------------------------------+\n",
      "|regexp_replace(Age, Family Option, 0, 1)|\n",
      "+----------------------------------------+\n",
      "|                                       0|\n",
      "|                                      21|\n",
      "|                                       0|\n",
      "|                                       0|\n",
      "|                                      21|\n",
      "|                                       0|\n",
      "|                                       0|\n",
      "|                                      23|\n",
      "|                                       0|\n",
      "|                                       0|\n",
      "|                                       0|\n",
      "|                                      25|\n",
      "|                                       0|\n",
      "|                                      26|\n",
      "|                                       0|\n",
      "|                                      28|\n",
      "|                                      30|\n",
      "|                                      30|\n",
      "|                                      30|\n",
      "|                                      31|\n",
      "+----------------------------------------+\n",
      "only showing top 20 rows\n",
      "\n",
      "+---------------------------------------+\n",
      "|regexp_replace(Age, 65 and over, 65, 1)|\n",
      "+---------------------------------------+\n",
      "|                          Family Option|\n",
      "|                                     21|\n",
      "|                          Family Option|\n",
      "|                          Family Option|\n",
      "|                                     21|\n",
      "|                          Family Option|\n",
      "|                          Family Option|\n",
      "|                                     23|\n",
      "|                          Family Option|\n",
      "|                          Family Option|\n",
      "|                          Family Option|\n",
      "|                                     25|\n",
      "|                          Family Option|\n",
      "|                                     26|\n",
      "|                          Family Option|\n",
      "|                                     28|\n",
      "|                                     30|\n",
      "|                                     30|\n",
      "|                                     30|\n",
      "|                                     31|\n",
      "+---------------------------------------+\n",
      "only showing top 20 rows\n",
      "\n",
      "+--------------------------------+\n",
      "|regexp_replace(Age, 0-20, 20, 1)|\n",
      "+--------------------------------+\n",
      "|                   Family Option|\n",
      "|                              21|\n",
      "|                   Family Option|\n",
      "|                   Family Option|\n",
      "|                              21|\n",
      "|                   Family Option|\n",
      "|                   Family Option|\n",
      "|                              23|\n",
      "|                   Family Option|\n",
      "|                   Family Option|\n",
      "|                   Family Option|\n",
      "|                              25|\n",
      "|                   Family Option|\n",
      "|                              26|\n",
      "|                   Family Option|\n",
      "|                              28|\n",
      "|                              30|\n",
      "|                              30|\n",
      "|                              30|\n",
      "|                              31|\n",
      "+--------------------------------+\n",
      "only showing top 20 rows\n",
      "\n"
     ]
    }
   ],
   "source": [
    "df.select(regexp_replace(col(\"Age\"), \"Family Option\", \"0\")).show()\n",
    "df.select(regexp_replace(col(\"Age\"), \"65 and over\", \"65\")).show()\n",
    "df.select(regexp_replace(col(\"Age\"), \"0-20\", \"20\")).show()"
   ]
  },
  {
   "cell_type": "code",
   "execution_count": 57,
   "metadata": {},
   "outputs": [],
   "source": [
    "df = df.withColumnRenamed(\"StateCode_new\",\"State_Id\")\n",
    "df = df.withColumnRenamed(\"RatingAreaId_new\",\"Area_Id\")\n",
    "df = df.withColumnRenamed(\"Age\",\"Age_group\")"
   ]
  },
  {
   "cell_type": "code",
   "execution_count": 58,
   "metadata": {},
   "outputs": [
    {
     "name": "stdout",
     "output_type": "stream",
     "text": [
      "root\n",
      " |-- Tobacco: string (nullable = true)\n",
      " |-- Age_group: string (nullable = true)\n",
      " |-- IndividualRate: double (nullable = true)\n",
      " |-- IndividualTobaccoRate: double (nullable = true)\n",
      " |-- Couple: double (nullable = true)\n",
      " |-- PrimarySubscriberAndOneDependent: double (nullable = true)\n",
      " |-- PrimarySubscriberAndTwoDependents: double (nullable = true)\n",
      " |-- PrimarySubscriberAndThreeOrMoreDependents: double (nullable = true)\n",
      " |-- CoupleAndOneDependent: double (nullable = true)\n",
      " |-- CoupleAndTwoDependents: double (nullable = true)\n",
      " |-- CoupleAndThreeOrMoreDependents: double (nullable = true)\n",
      " |-- RowNumber: integer (nullable = true)\n",
      " |-- State_Id: double (nullable = false)\n",
      " |-- Area_Id: double (nullable = false)\n",
      "\n"
     ]
    }
   ],
   "source": [
    "df = df.drop(col(\"FederalTIN\"))\n",
    "df = df.drop(col(\"RatingAreaId\"))\n",
    "df.printSchema()"
   ]
  },
  {
   "cell_type": "code",
   "execution_count": 59,
   "metadata": {},
   "outputs": [
    {
     "name": "stdout",
     "output_type": "stream",
     "text": [
      "root\n",
      " |-- Tobacco: string (nullable = true)\n",
      " |-- Age_group: string (nullable = true)\n",
      " |-- IndividualRate: double (nullable = true)\n",
      " |-- IndividualTobaccoRate: double (nullable = true)\n",
      " |-- Couple: double (nullable = true)\n",
      " |-- one rate: double (nullable = true)\n",
      " |-- two_rate: double (nullable = true)\n",
      " |-- three_rate: double (nullable = true)\n",
      " |-- CoupleAndOneDependent: double (nullable = true)\n",
      " |-- CoupleAndTwoDependents: double (nullable = true)\n",
      " |-- CoupleAndThreeOrMoreDependents: double (nullable = true)\n",
      " |-- RowNumber: integer (nullable = true)\n",
      " |-- State_Id: double (nullable = false)\n",
      " |-- Area_Id: double (nullable = false)\n",
      "\n"
     ]
    }
   ],
   "source": [
    "df = df.withColumnRenamed(\"PrimarySubscriberAndOneDependent\",\"one rate\")\n",
    "df = df.withColumnRenamed(\"PrimarySubscriberAndTwoDependents\",\"two_rate\")\n",
    "df = df.withColumnRenamed(\"PrimarySubscriberAndThreeOrMoreDependents\",\"three_rate\")\n",
    "df.printSchema()"
   ]
  },
  {
   "cell_type": "code",
   "execution_count": 60,
   "metadata": {},
   "outputs": [
    {
     "name": "stdout",
     "output_type": "stream",
     "text": [
      "root\n",
      " |-- Tobacco: string (nullable = true)\n",
      " |-- Age_group: string (nullable = true)\n",
      " |-- Individual_Rate: double (nullable = true)\n",
      " |-- Individual_Tobacco_Rate: double (nullable = true)\n",
      " |-- Couple: double (nullable = true)\n",
      " |-- one rate: double (nullable = true)\n",
      " |-- two_rate: double (nullable = true)\n",
      " |-- three_rate: double (nullable = true)\n",
      " |-- couple_one: double (nullable = true)\n",
      " |-- couple_two: double (nullable = true)\n",
      " |-- CoupleAndThreeOrMoreDependents: double (nullable = true)\n",
      " |-- RowNumber: integer (nullable = true)\n",
      " |-- State_Id: double (nullable = false)\n",
      " |-- Area_Id: double (nullable = false)\n",
      "\n"
     ]
    }
   ],
   "source": [
    "df = df.withColumnRenamed(\"IndividualRate\",\"Individual_Rate\")\n",
    "df = df.withColumnRenamed(\"IndividualTobaccoRate\",\"Individual_Tobacco_Rate\")\n",
    "df = df.withColumnRenamed(\"CoupleAndOneDependent\",\"couple_one\")\n",
    "df = df.withColumnRenamed(\"CoupleAndTwoDependents\",\"couple_two\")\n",
    "df = df.withColumnRenamed(\"CoupleAndOneDependent\",\"couple_three\")\n",
    "df.printSchema()"
   ]
  },
  {
   "cell_type": "code",
   "execution_count": 61,
   "metadata": {},
   "outputs": [
    {
     "name": "stdout",
     "output_type": "stream",
     "text": [
      "+-------+--------+\n",
      "|Area_Id|State_Id|\n",
      "+-------+--------+\n",
      "|    3.0|     6.0|\n",
      "|    3.0|     6.0|\n",
      "|    0.0|     6.0|\n",
      "|    0.0|     6.0|\n",
      "|    3.0|     6.0|\n",
      "|    5.0|     6.0|\n",
      "|    3.0|     6.0|\n",
      "|    3.0|     6.0|\n",
      "|    3.0|     6.0|\n",
      "|    0.0|     6.0|\n",
      "|    0.0|     6.0|\n",
      "|    3.0|     6.0|\n",
      "|    5.0|     6.0|\n",
      "|    3.0|     6.0|\n",
      "|    3.0|     6.0|\n",
      "|    3.0|     6.0|\n",
      "|    3.0|     6.0|\n",
      "|    3.0|     6.0|\n",
      "|    3.0|     6.0|\n",
      "|    3.0|     6.0|\n",
      "+-------+--------+\n",
      "only showing top 20 rows\n",
      "\n"
     ]
    }
   ],
   "source": [
    "df.filter(df['State_Id'] > 0).select('Area_Id','State_Id').show()"
   ]
  },
  {
   "cell_type": "code",
   "execution_count": 62,
   "metadata": {},
   "outputs": [
    {
     "name": "stderr",
     "output_type": "stream",
     "text": [
      "                                                                                \r"
     ]
    },
    {
     "data": {
      "text/plain": [
       "92304"
      ]
     },
     "execution_count": 62,
     "metadata": {},
     "output_type": "execute_result"
    }
   ],
   "source": [
    "df.filter(df['State_Id'] == 0).select('Area_Id','State_Id').count()"
   ]
  },
  {
   "cell_type": "code",
   "execution_count": 63,
   "metadata": {},
   "outputs": [
    {
     "name": "stderr",
     "output_type": "stream",
     "text": [
      "                                                                                \r"
     ]
    },
    {
     "data": {
      "text/plain": [
       "55871"
      ]
     },
     "execution_count": 63,
     "metadata": {},
     "output_type": "execute_result"
    }
   ],
   "source": [
    "df.filter(df['State_Id'] == 1).select('Area_Id','State_Id').count()"
   ]
  },
  {
   "cell_type": "code",
   "execution_count": 64,
   "metadata": {},
   "outputs": [
    {
     "name": "stderr",
     "output_type": "stream",
     "text": [
      "                                                                                \r"
     ]
    },
    {
     "data": {
      "text/plain": [
       "28134"
      ]
     },
     "execution_count": 64,
     "metadata": {},
     "output_type": "execute_result"
    }
   ],
   "source": [
    "df.filter(df['State_Id'] == 2).select('Area_Id','State_Id').count()"
   ]
  },
  {
   "cell_type": "code",
   "execution_count": 65,
   "metadata": {},
   "outputs": [
    {
     "name": "stderr",
     "output_type": "stream",
     "text": [
      "                                                                                \r"
     ]
    },
    {
     "data": {
      "text/plain": [
       "18944"
      ]
     },
     "execution_count": 65,
     "metadata": {},
     "output_type": "execute_result"
    }
   ],
   "source": [
    "df.filter(df['State_Id'] == 3).select('Area_Id','State_Id').count()"
   ]
  },
  {
   "cell_type": "code",
   "execution_count": 66,
   "metadata": {},
   "outputs": [
    {
     "name": "stderr",
     "output_type": "stream",
     "text": [
      "                                                                                \r"
     ]
    },
    {
     "data": {
      "text/plain": [
       "10941"
      ]
     },
     "execution_count": 66,
     "metadata": {},
     "output_type": "execute_result"
    }
   ],
   "source": [
    "df.filter(df['State_Id'] == 4).select('Area_Id','State_Id').count()"
   ]
  },
  {
   "cell_type": "code",
   "execution_count": 67,
   "metadata": {},
   "outputs": [
    {
     "name": "stderr",
     "output_type": "stream",
     "text": [
      "                                                                                \r"
     ]
    },
    {
     "data": {
      "text/plain": [
       "7780"
      ]
     },
     "execution_count": 67,
     "metadata": {},
     "output_type": "execute_result"
    }
   ],
   "source": [
    "df.filter(df['State_Id'] == 5).select('Area_Id','State_Id').count()"
   ]
  },
  {
   "cell_type": "code",
   "execution_count": 68,
   "metadata": {},
   "outputs": [
    {
     "name": "stderr",
     "output_type": "stream",
     "text": [
      "                                                                                \r"
     ]
    },
    {
     "data": {
      "text/plain": [
       "3584"
      ]
     },
     "execution_count": 68,
     "metadata": {},
     "output_type": "execute_result"
    }
   ],
   "source": [
    "df.filter(df['State_Id'] == 6).select('Area_Id','State_Id').count()"
   ]
  },
  {
   "cell_type": "code",
   "execution_count": 69,
   "metadata": {},
   "outputs": [
    {
     "name": "stderr",
     "output_type": "stream",
     "text": [
      "                                                                                \r"
     ]
    },
    {
     "data": {
      "image/png": "[encoded data removed]",
      "text/plain": [
       "<Figure size 1440x1152 with 1 Axes>"
      ]
     },
     "metadata": {
      "needs_background": "light"
     },
     "output_type": "display_data"
    }
   ],
   "source": [
    "figure(figsize=(20, 16))\n",
    "\n",
    "# Convert sex to an array using Numpy and plot it using pyplot. \n",
    "sexArr = np.array(df.filter('Individual_Rate >= 0').select('Individual_Rate').collect())\n",
    "plt.hist(sexArr)\n",
    "plt.show()"
   ]
  },
  {
   "cell_type": "code",
   "execution_count": 70,
   "metadata": {},
   "outputs": [
    {
     "name": "stderr",
     "output_type": "stream",
     "text": [
      "                                                                                \r"
     ]
    }
   ],
   "source": [
    "df.toPandas().to_csv('new_spark.csv')"
   ]
  },
  {
   "cell_type": "code",
   "execution_count": 71,
   "metadata": {},
   "outputs": [
    {
     "name": "stderr",
     "output_type": "stream",
     "text": [
      "\r",
      "[Stage 99:=============================>                            (1 + 1) / 2]\r",
      "\r",
      "                                                                                \r"
     ]
    }
   ],
   "source": [
    "# Let's read in the data. Note that it's in the format of JSON.\n",
    "new_df = spark.read.csv('new_spark.csv',inferSchema=True, header=True)"
   ]
  },
  {
   "cell_type": "code",
   "execution_count": 72,
   "metadata": {},
   "outputs": [
    {
     "name": "stdout",
     "output_type": "stream",
     "text": [
      "+---+-------------+-------------+---------------+-----------------------+------+--------+--------+----------+----------+----------+------------------------------+---------+--------+-------+\n",
      "|_c0|      Tobacco|    Age_group|Individual_Rate|Individual_Tobacco_Rate|Couple|one rate|two_rate|three_rate|couple_one|couple_two|CoupleAndThreeOrMoreDependents|RowNumber|State_Id|Area_Id|\n",
      "+---+-------------+-------------+---------------+-----------------------+------+--------+--------+----------+----------+----------+------------------------------+---------+--------+-------+\n",
      "|  0|No Preference|Family Option|          51.36|                   null| 101.7|  117.62|  117.62|    117.62|    180.28|    180.28|                        180.28|       14|     6.0|    3.0|\n",
      "|  1|No Preference|           21|           55.0|                   null|  null|    null|    null|      null|      null|      null|                          null|       15|     6.0|    3.0|\n",
      "|  2|No Preference|Family Option|          51.36|                   null| 101.7|  117.62|  117.62|    117.62|    180.28|    180.28|                        180.28|       15|     6.0|    0.0|\n",
      "|  3|No Preference|Family Option|          50.67|                   null|100.33|  116.04|  116.04|    116.04|    117.86|    117.86|                        117.86|       15|     6.0|    0.0|\n",
      "|  4|No Preference|           21|           38.0|                   null|  null|    null|    null|      null|      null|      null|                          null|       15|     6.0|    3.0|\n",
      "|  5|No Preference|Family Option|          52.06|                   null|103.08|  119.22|  119.22|    119.22|    182.73|    182.73|                        182.73|       16|     6.0|    5.0|\n",
      "|  6|No Preference|Family Option|          59.98|                   null|118.76|  137.35|  137.35|    137.35|    210.53|    210.53|                        210.53|       17|     6.0|    3.0|\n",
      "|  7|No Preference|           23|           57.0|                   null|  null|    null|    null|      null|      null|      null|                          null|       17|     6.0|    3.0|\n",
      "|  8|No Preference|Family Option|           57.6|                   null|114.05|   131.9|   131.9|     131.9|    202.17|    202.17|                        202.17|       17|     6.0|    3.0|\n",
      "|  9|No Preference|Family Option|          59.18|                   null|117.17|  135.51|  135.51|    135.51|     207.7|     207.7|                         207.7|       18|     6.0|    0.0|\n",
      "| 10|No Preference|Family Option|          59.98|                   null|118.76|  137.35|  137.35|    137.35|    210.53|    210.53|                        210.53|       18|     6.0|    0.0|\n",
      "| 11|No Preference|           25|           57.0|                   null|  null|    null|    null|      null|      null|      null|                          null|       19|     6.0|    3.0|\n",
      "| 12|No Preference|Family Option|          58.38|                   null| 115.6|  133.69|  133.69|    133.69|    204.92|    204.92|                        204.92|       19|     6.0|    5.0|\n",
      "| 13|No Preference|           26|           57.0|                   null|  null|    null|    null|      null|      null|      null|                          null|       20|     6.0|    3.0|\n",
      "| 14|No Preference|Family Option|           51.4|                   null|101.78|  117.72|  117.72|    117.72|    180.43|    180.43|                        180.43|       22|     6.0|    3.0|\n",
      "| 15|No Preference|           28|           55.0|                   null|  null|    null|    null|      null|      null|      null|                          null|       22|     6.0|    3.0|\n",
      "| 16|No Preference|           30|           38.0|                   null|  null|    null|    null|      null|      null|      null|                          null|       24|     6.0|    3.0|\n",
      "| 17|No Preference|           30|           55.0|                   null|  null|    null|    null|      null|      null|      null|                          null|       24|     6.0|    3.0|\n",
      "| 18|No Preference|           30|           56.0|                   null|  null|    null|    null|      null|      null|      null|                          null|       24|     6.0|    3.0|\n",
      "| 19|No Preference|           31|           57.0|                   null|  null|    null|    null|      null|      null|      null|                          null|       25|     6.0|    3.0|\n",
      "+---+-------------+-------------+---------------+-----------------------+------+--------+--------+----------+----------+----------+------------------------------+---------+--------+-------+\n",
      "only showing top 20 rows\n",
      "\n"
     ]
    },
    {
     "name": "stderr",
     "output_type": "stream",
     "text": [
      "22/10/12 08:31:24 WARN CSVHeaderChecker: CSV header does not conform to the schema.\n",
      " Header: , Tobacco, Age_group, Individual_Rate, Individual_Tobacco_Rate, Couple, one rate, two_rate, three_rate, couple_one, couple_two, CoupleAndThreeOrMoreDependents, RowNumber, State_Id, Area_Id\n",
      " Schema: _c0, Tobacco, Age_group, Individual_Rate, Individual_Tobacco_Rate, Couple, one rate, two_rate, three_rate, couple_one, couple_two, CoupleAndThreeOrMoreDependents, RowNumber, State_Id, Area_Id\n",
      "Expected: _c0 but found: \n",
      "CSV file: file:///home/ubuntu/722/aws-instance-duplicate/Iteration%204%20BDAS/new_spark.csv\n"
     ]
    }
   ],
   "source": [
    "new_df.show()"
   ]
  },
  {
   "cell_type": "code",
   "execution_count": 73,
   "metadata": {},
   "outputs": [],
   "source": [
    "new_df = new_df.na.fill(0)"
   ]
  },
  {
   "cell_type": "code",
   "execution_count": 74,
   "metadata": {},
   "outputs": [],
   "source": [
    "indexer = StringIndexer(inputCol='Tobacco', outputCol='Tobacco_new')\n",
    "indexer_fitted = indexer.fit(new_df)\n",
    "df_indexed = indexer_fitted.transform(new_df)\n",
    "new_df = df_indexed"
   ]
  },
  {
   "cell_type": "code",
   "execution_count": 75,
   "metadata": {},
   "outputs": [
    {
     "name": "stdout",
     "output_type": "stream",
     "text": [
      "+---+-------------+-------------+---------------+-----------------------+------+--------+--------+----------+----------+----------+------------------------------+---------+--------+-------+-----------+\n",
      "|_c0|      Tobacco|    Age_group|Individual_Rate|Individual_Tobacco_Rate|Couple|one rate|two_rate|three_rate|couple_one|couple_two|CoupleAndThreeOrMoreDependents|RowNumber|State_Id|Area_Id|Tobacco_new|\n",
      "+---+-------------+-------------+---------------+-----------------------+------+--------+--------+----------+----------+----------+------------------------------+---------+--------+-------+-----------+\n",
      "|  0|No Preference|Family Option|          51.36|                    0.0| 101.7|  117.62|  117.62|    117.62|    180.28|    180.28|                        180.28|       14|     6.0|    3.0|        0.0|\n",
      "|  1|No Preference|           21|           55.0|                    0.0|   0.0|     0.0|     0.0|       0.0|       0.0|       0.0|                           0.0|       15|     6.0|    3.0|        0.0|\n",
      "|  2|No Preference|Family Option|          51.36|                    0.0| 101.7|  117.62|  117.62|    117.62|    180.28|    180.28|                        180.28|       15|     6.0|    0.0|        0.0|\n",
      "|  3|No Preference|Family Option|          50.67|                    0.0|100.33|  116.04|  116.04|    116.04|    117.86|    117.86|                        117.86|       15|     6.0|    0.0|        0.0|\n",
      "|  4|No Preference|           21|           38.0|                    0.0|   0.0|     0.0|     0.0|       0.0|       0.0|       0.0|                           0.0|       15|     6.0|    3.0|        0.0|\n",
      "|  5|No Preference|Family Option|          52.06|                    0.0|103.08|  119.22|  119.22|    119.22|    182.73|    182.73|                        182.73|       16|     6.0|    5.0|        0.0|\n",
      "|  6|No Preference|Family Option|          59.98|                    0.0|118.76|  137.35|  137.35|    137.35|    210.53|    210.53|                        210.53|       17|     6.0|    3.0|        0.0|\n",
      "|  7|No Preference|           23|           57.0|                    0.0|   0.0|     0.0|     0.0|       0.0|       0.0|       0.0|                           0.0|       17|     6.0|    3.0|        0.0|\n",
      "|  8|No Preference|Family Option|           57.6|                    0.0|114.05|   131.9|   131.9|     131.9|    202.17|    202.17|                        202.17|       17|     6.0|    3.0|        0.0|\n",
      "|  9|No Preference|Family Option|          59.18|                    0.0|117.17|  135.51|  135.51|    135.51|     207.7|     207.7|                         207.7|       18|     6.0|    0.0|        0.0|\n",
      "| 10|No Preference|Family Option|          59.98|                    0.0|118.76|  137.35|  137.35|    137.35|    210.53|    210.53|                        210.53|       18|     6.0|    0.0|        0.0|\n",
      "| 11|No Preference|           25|           57.0|                    0.0|   0.0|     0.0|     0.0|       0.0|       0.0|       0.0|                           0.0|       19|     6.0|    3.0|        0.0|\n",
      "| 12|No Preference|Family Option|          58.38|                    0.0| 115.6|  133.69|  133.69|    133.69|    204.92|    204.92|                        204.92|       19|     6.0|    5.0|        0.0|\n",
      "| 13|No Preference|           26|           57.0|                    0.0|   0.0|     0.0|     0.0|       0.0|       0.0|       0.0|                           0.0|       20|     6.0|    3.0|        0.0|\n",
      "| 14|No Preference|Family Option|           51.4|                    0.0|101.78|  117.72|  117.72|    117.72|    180.43|    180.43|                        180.43|       22|     6.0|    3.0|        0.0|\n",
      "| 15|No Preference|           28|           55.0|                    0.0|   0.0|     0.0|     0.0|       0.0|       0.0|       0.0|                           0.0|       22|     6.0|    3.0|        0.0|\n",
      "| 16|No Preference|           30|           38.0|                    0.0|   0.0|     0.0|     0.0|       0.0|       0.0|       0.0|                           0.0|       24|     6.0|    3.0|        0.0|\n",
      "| 17|No Preference|           30|           55.0|                    0.0|   0.0|     0.0|     0.0|       0.0|       0.0|       0.0|                           0.0|       24|     6.0|    3.0|        0.0|\n",
      "| 18|No Preference|           30|           56.0|                    0.0|   0.0|     0.0|     0.0|       0.0|       0.0|       0.0|                           0.0|       24|     6.0|    3.0|        0.0|\n",
      "| 19|No Preference|           31|           57.0|                    0.0|   0.0|     0.0|     0.0|       0.0|       0.0|       0.0|                           0.0|       25|     6.0|    3.0|        0.0|\n",
      "+---+-------------+-------------+---------------+-----------------------+------+--------+--------+----------+----------+----------+------------------------------+---------+--------+-------+-----------+\n",
      "only showing top 20 rows\n",
      "\n"
     ]
    },
    {
     "name": "stderr",
     "output_type": "stream",
     "text": [
      "22/10/12 08:31:25 WARN CSVHeaderChecker: CSV header does not conform to the schema.\n",
      " Header: , Tobacco, Age_group, Individual_Rate, Individual_Tobacco_Rate, Couple, one rate, two_rate, three_rate, couple_one, couple_two, CoupleAndThreeOrMoreDependents, RowNumber, State_Id, Area_Id\n",
      " Schema: _c0, Tobacco, Age_group, Individual_Rate, Individual_Tobacco_Rate, Couple, one rate, two_rate, three_rate, couple_one, couple_two, CoupleAndThreeOrMoreDependents, RowNumber, State_Id, Area_Id\n",
      "Expected: _c0 but found: \n",
      "CSV file: file:///home/ubuntu/722/aws-instance-duplicate/Iteration%204%20BDAS/new_spark.csv\n"
     ]
    }
   ],
   "source": [
    "new_df.show()"
   ]
  },
  {
   "cell_type": "code",
   "execution_count": 76,
   "metadata": {},
   "outputs": [
    {
     "data": {
      "text/plain": [
       "-0.03493136704567112"
      ]
     },
     "execution_count": 76,
     "metadata": {},
     "output_type": "execute_result"
    }
   ],
   "source": [
    "new_df.stat.corr('Individual_Tobacco_Rate', 'Couple')"
   ]
  },
  {
   "cell_type": "code",
   "execution_count": 77,
   "metadata": {},
   "outputs": [
    {
     "data": {
      "text/plain": [
       "-0.03500126671089626"
      ]
     },
     "execution_count": 77,
     "metadata": {},
     "output_type": "execute_result"
    }
   ],
   "source": [
    "new_df.stat.corr('Individual_Tobacco_Rate', 'one rate')"
   ]
  },
  {
   "cell_type": "code",
   "execution_count": 78,
   "metadata": {},
   "outputs": [
    {
     "data": {
      "text/plain": [
       "-0.03435734634079404"
      ]
     },
     "execution_count": 78,
     "metadata": {},
     "output_type": "execute_result"
    }
   ],
   "source": [
    "new_df.stat.corr('Individual_Tobacco_Rate', 'two_rate')"
   ]
  },
  {
   "cell_type": "code",
   "execution_count": 79,
   "metadata": {},
   "outputs": [
    {
     "data": {
      "text/plain": [
       "-0.03387761407791986"
      ]
     },
     "execution_count": 79,
     "metadata": {},
     "output_type": "execute_result"
    }
   ],
   "source": [
    "new_df.stat.corr('Individual_Tobacco_Rate', 'three_rate')"
   ]
  },
  {
   "cell_type": "code",
   "execution_count": 80,
   "metadata": {},
   "outputs": [
    {
     "data": {
      "text/plain": [
       "0.8496670506651978"
      ]
     },
     "execution_count": 80,
     "metadata": {},
     "output_type": "execute_result"
    }
   ],
   "source": [
    "new_df.stat.corr('Individual_Tobacco_Rate', 'Tobacco_new')"
   ]
  },
  {
   "cell_type": "code",
   "execution_count": 81,
   "metadata": {},
   "outputs": [
    {
     "data": {
      "text/plain": [
       "-0.3762076457247347"
      ]
     },
     "execution_count": 81,
     "metadata": {},
     "output_type": "execute_result"
    }
   ],
   "source": [
    "new_df.stat.corr('Individual_Tobacco_Rate', 'State_Id')"
   ]
  },
  {
   "cell_type": "code",
   "execution_count": 82,
   "metadata": {},
   "outputs": [
    {
     "data": {
      "text/plain": [
       "0.32034147217493325"
      ]
     },
     "execution_count": 82,
     "metadata": {},
     "output_type": "execute_result"
    }
   ],
   "source": [
    "new_df.stat.corr('Individual_Tobacco_Rate', 'Area_Id')"
   ]
  },
  {
   "cell_type": "code",
   "execution_count": 83,
   "metadata": {},
   "outputs": [],
   "source": [
    "# matrix = Correlation.corr(new_df, 'Individual_Tobacco_Rate').collect()\n",
    "# corr_matrix = matrix.toArray().tolist() \n",
    "# corr_matrix_df = new_df.DataFrame(data=corr_matrix, columns = numeric_variables, index=numeric_variables) \n",
    "# corr_matrix_df .style.background_gradient(cmap='coolwarm').set_precision(2)"
   ]
  },
  {
   "cell_type": "code",
   "execution_count": 84,
   "metadata": {},
   "outputs": [],
   "source": [
    "# import seaborn as sns \n",
    "# import matplotlib.pyplot as plt\n",
    "\n",
    "# plt.figure(figsize=(16,5))  \n",
    "# sns.heatmap(corr_matrix_df, \n",
    "#             xticklabels=corr_matrix_df.columns.values,\n",
    "#             yticklabels=corr_matrix_df.columns.values,  cmap=\"Greens\", annot=True)"
   ]
  },
  {
   "cell_type": "code",
   "execution_count": 85,
   "metadata": {},
   "outputs": [],
   "source": [
    "# import numpy as np\n",
    "# import pandas as pd\n",
    "# import matplotlib.pyplot as plt\n",
    "# from pyspark.conf import SparkConf\n",
    "# from pyspark.sql import SparkSession \n",
    "# from pyspark.ml.feature import VectorAssembler, StandardScaler, PCA"
   ]
  },
  {
   "cell_type": "code",
   "execution_count": 86,
   "metadata": {},
   "outputs": [],
   "source": [
    "# # load the data and convert it to a pandas DataFrame,\n",
    "# # then use that to create the spark DataFrame\n",
    "# X = new_df['Individual_Tobacco_Rate']\n",
    "# y = new_df['Tobacco_new']\n",
    "\n",
    "# data = new_df.DataFrame(X, columns = new_df.feature_names)\n",
    "# dataset = spark.createDataFrame(data, new_df.feature_names)\n",
    "# dataset.show(6)"
   ]
  },
  {
   "cell_type": "code",
   "execution_count": 87,
   "metadata": {},
   "outputs": [],
   "source": [
    "# iris = load_iris()\n",
    "# X = iris['data']\n",
    "# y = iris['target']\n",
    "\n",
    "# data = pd.DataFrame(X, columns = iris.feature_names)\n",
    "# dataset = spark.createDataFrame(data, iris.feature_names)\n",
    "# dataset.show(6)"
   ]
  },
  {
   "cell_type": "code",
   "execution_count": 88,
   "metadata": {},
   "outputs": [
    {
     "data": {
      "image/png": "[encoded data removed]",
      "text/plain": [
       "<Figure size 1440x1152 with 1 Axes>"
      ]
     },
     "metadata": {
      "needs_background": "light"
     },
     "output_type": "display_data"
    }
   ],
   "source": [
    "figure(figsize=(20, 16))\n",
    "\n",
    "# Convert sex to an array using Numpy and plot it using pyplot. \n",
    "sexArr = np.array(new_df.filter('Individual_Rate >= 0').select('Individual_Rate').collect())\n",
    "plt.hist(sexArr)\n",
    "plt.show()"
   ]
  },
  {
   "cell_type": "code",
   "execution_count": 89,
   "metadata": {},
   "outputs": [
    {
     "data": {
      "image/png": "[encoded data removed]",
      "text/plain": [
       "<Figure size 1440x1152 with 1 Axes>"
      ]
     },
     "metadata": {
      "needs_background": "light"
     },
     "output_type": "display_data"
    }
   ],
   "source": [
    "figure(figsize=(20, 16))\n",
    "\n",
    "# Convert sex to an array using Numpy and plot it using pyplot. \n",
    "sexArr = np.array(new_df.filter('Individual_Rate >= 0').select('Individual_Rate').collect())\n",
    "plt.hist(sexArr)\n",
    "plt.show()"
   ]
  },
  {
   "cell_type": "code",
   "execution_count": 90,
   "metadata": {},
   "outputs": [
    {
     "name": "stdout",
     "output_type": "stream",
     "text": [
      "+---+-------------+-------------+---------------+-----------------------+------+--------+--------+----------+----------+----------+------------------------------+---------+--------+-------+-----------+\n",
      "|_c0|      Tobacco|    Age_group|Individual_Rate|Individual_Tobacco_Rate|Couple|one rate|two_rate|three_rate|couple_one|couple_two|CoupleAndThreeOrMoreDependents|RowNumber|State_Id|Area_Id|Tobacco_new|\n",
      "+---+-------------+-------------+---------------+-----------------------+------+--------+--------+----------+----------+----------+------------------------------+---------+--------+-------+-----------+\n",
      "|  0|No Preference|Family Option|          51.36|                    0.0| 101.7|  117.62|  117.62|    117.62|    180.28|    180.28|                        180.28|       14|     6.0|    3.0|        0.0|\n",
      "|  1|No Preference|           21|           55.0|                    0.0|   0.0|     0.0|     0.0|       0.0|       0.0|       0.0|                           0.0|       15|     6.0|    3.0|        0.0|\n",
      "|  2|No Preference|Family Option|          51.36|                    0.0| 101.7|  117.62|  117.62|    117.62|    180.28|    180.28|                        180.28|       15|     6.0|    0.0|        0.0|\n",
      "|  3|No Preference|Family Option|          50.67|                    0.0|100.33|  116.04|  116.04|    116.04|    117.86|    117.86|                        117.86|       15|     6.0|    0.0|        0.0|\n",
      "|  4|No Preference|           21|           38.0|                    0.0|   0.0|     0.0|     0.0|       0.0|       0.0|       0.0|                           0.0|       15|     6.0|    3.0|        0.0|\n",
      "|  5|No Preference|Family Option|          52.06|                    0.0|103.08|  119.22|  119.22|    119.22|    182.73|    182.73|                        182.73|       16|     6.0|    5.0|        0.0|\n",
      "|  6|No Preference|Family Option|          59.98|                    0.0|118.76|  137.35|  137.35|    137.35|    210.53|    210.53|                        210.53|       17|     6.0|    3.0|        0.0|\n",
      "|  7|No Preference|           23|           57.0|                    0.0|   0.0|     0.0|     0.0|       0.0|       0.0|       0.0|                           0.0|       17|     6.0|    3.0|        0.0|\n",
      "|  8|No Preference|Family Option|           57.6|                    0.0|114.05|   131.9|   131.9|     131.9|    202.17|    202.17|                        202.17|       17|     6.0|    3.0|        0.0|\n",
      "|  9|No Preference|Family Option|          59.18|                    0.0|117.17|  135.51|  135.51|    135.51|     207.7|     207.7|                         207.7|       18|     6.0|    0.0|        0.0|\n",
      "| 10|No Preference|Family Option|          59.98|                    0.0|118.76|  137.35|  137.35|    137.35|    210.53|    210.53|                        210.53|       18|     6.0|    0.0|        0.0|\n",
      "| 11|No Preference|           25|           57.0|                    0.0|   0.0|     0.0|     0.0|       0.0|       0.0|       0.0|                           0.0|       19|     6.0|    3.0|        0.0|\n",
      "| 12|No Preference|Family Option|          58.38|                    0.0| 115.6|  133.69|  133.69|    133.69|    204.92|    204.92|                        204.92|       19|     6.0|    5.0|        0.0|\n",
      "| 13|No Preference|           26|           57.0|                    0.0|   0.0|     0.0|     0.0|       0.0|       0.0|       0.0|                           0.0|       20|     6.0|    3.0|        0.0|\n",
      "| 14|No Preference|Family Option|           51.4|                    0.0|101.78|  117.72|  117.72|    117.72|    180.43|    180.43|                        180.43|       22|     6.0|    3.0|        0.0|\n",
      "| 15|No Preference|           28|           55.0|                    0.0|   0.0|     0.0|     0.0|       0.0|       0.0|       0.0|                           0.0|       22|     6.0|    3.0|        0.0|\n",
      "| 16|No Preference|           30|           38.0|                    0.0|   0.0|     0.0|     0.0|       0.0|       0.0|       0.0|                           0.0|       24|     6.0|    3.0|        0.0|\n",
      "| 17|No Preference|           30|           55.0|                    0.0|   0.0|     0.0|     0.0|       0.0|       0.0|       0.0|                           0.0|       24|     6.0|    3.0|        0.0|\n",
      "| 18|No Preference|           30|           56.0|                    0.0|   0.0|     0.0|     0.0|       0.0|       0.0|       0.0|                           0.0|       24|     6.0|    3.0|        0.0|\n",
      "| 19|No Preference|           31|           57.0|                    0.0|   0.0|     0.0|     0.0|       0.0|       0.0|       0.0|                           0.0|       25|     6.0|    3.0|        0.0|\n",
      "+---+-------------+-------------+---------------+-----------------------+------+--------+--------+----------+----------+----------+------------------------------+---------+--------+-------+-----------+\n",
      "only showing top 20 rows\n",
      "\n"
     ]
    },
    {
     "name": "stderr",
     "output_type": "stream",
     "text": [
      "22/10/12 08:31:32 WARN CSVHeaderChecker: CSV header does not conform to the schema.\n",
      " Header: , Tobacco, Age_group, Individual_Rate, Individual_Tobacco_Rate, Couple, one rate, two_rate, three_rate, couple_one, couple_two, CoupleAndThreeOrMoreDependents, RowNumber, State_Id, Area_Id\n",
      " Schema: _c0, Tobacco, Age_group, Individual_Rate, Individual_Tobacco_Rate, Couple, one rate, two_rate, three_rate, couple_one, couple_two, CoupleAndThreeOrMoreDependents, RowNumber, State_Id, Area_Id\n",
      "Expected: _c0 but found: \n",
      "CSV file: file:///home/ubuntu/722/aws-instance-duplicate/Iteration%204%20BDAS/new_spark.csv\n"
     ]
    }
   ],
   "source": [
    "new_df.show()"
   ]
  },
  {
   "cell_type": "code",
   "execution_count": 91,
   "metadata": {},
   "outputs": [
    {
     "name": "stderr",
     "output_type": "stream",
     "text": [
      "22/10/12 08:31:34 WARN InstanceBuilder$NativeBLAS: Failed to load implementation from:dev.ludovic.netlib.blas.JNIBLAS\n",
      "22/10/12 08:31:34 WARN InstanceBuilder$NativeBLAS: Failed to load implementation from:dev.ludovic.netlib.blas.ForeignLinkerBLAS\n",
      "22/10/12 08:31:34 WARN PearsonCorrelation: Pearson correlation matrix contains NaN values.\n",
      "/home/ubuntu/spark-3.2.1-bin-hadoop2.7/python/pyspark/sql/context.py:125: FutureWarning: Deprecated in 3.0.0. Use SparkSession.builder.getOrCreate() instead.\n",
      "  warnings.warn(\n"
     ]
    }
   ],
   "source": [
    "columns = ['Individual_Rate','Tobacco_new','Area_Id']\n",
    "\n",
    "myGraph=spark.createDataFrame([(51.36,0.0,3.0),\n",
    "                               (55.0,0.0,3.0),\n",
    "                               (50.67,0.0,0.0),\n",
    "                              (52.06,0.0,0.0),\n",
    "                              (59.98,0.0,3.0),\n",
    "                              (57.0,0.0,5.0),\n",
    "                              (57.6,0.0,3.0),\n",
    "                              (59.18,0.0,3.0),\n",
    "                              (59.98,0.0,3.0),\n",
    "                              (57.0,0.0,0.0),\n",
    "                              (58.38,0.0,0.0),\n",
    "                              (57.0,0.0,3.0),\n",
    "                              (51.4,0.0,5.0),\n",
    "                              (55.0,0.0,3.0),\n",
    "                              (38.0,0.0,3.0),\n",
    "                              (51.36,0.0,3.0),\n",
    "                              (55.0,0.0,3.0),\n",
    "                              (51.36,0.0,3.0),\n",
    "                              (56.0,0.0,3.0),\n",
    "                              (57.0,0.0,3.0)],\n",
    "                              columns)\n",
    "vector_col = \"corr_features\"\n",
    "assembler = VectorAssembler(inputCols=['Individual_Rate','Tobacco_new','Area_Id'], \n",
    "                            outputCol=vector_col)\n",
    "myGraph_vector = assembler.transform(myGraph).select(vector_col)\n",
    "matrix = Correlation.corr(myGraph_vector, vector_col)"
   ]
  },
  {
   "cell_type": "code",
   "execution_count": 92,
   "metadata": {},
   "outputs": [
    {
     "name": "stdout",
     "output_type": "stream",
     "text": [
      "[[1.0, nan, -0.01013131661260811], [nan, 1.0, nan], [-0.01013131661260811, nan, 1.0]]\n"
     ]
    },
    {
     "name": "stderr",
     "output_type": "stream",
     "text": [
      "22/10/12 08:31:35 WARN PearsonCorrelation: Pearson correlation matrix contains NaN values.\n"
     ]
    }
   ],
   "source": [
    "matrix = Correlation.corr(myGraph_vector, vector_col).collect()[0][0]\n",
    "corrmatrix = matrix.toArray().tolist()\n",
    "print(corrmatrix)"
   ]
  },
  {
   "cell_type": "code",
   "execution_count": 93,
   "metadata": {},
   "outputs": [
    {
     "name": "stdout",
     "output_type": "stream",
     "text": [
      "+--------------------+-----------+--------------------+\n",
      "|     Individual_Rate|Tobacco_new|             Area_Id|\n",
      "+--------------------+-----------+--------------------+\n",
      "|                 1.0|        NaN|-0.01013131661260811|\n",
      "|                 NaN|        1.0|                 NaN|\n",
      "|-0.01013131661260811|        NaN|                 1.0|\n",
      "+--------------------+-----------+--------------------+\n",
      "\n"
     ]
    }
   ],
   "source": [
    "result = spark.createDataFrame(corrmatrix,columns)\n",
    "result.show()"
   ]
  },
  {
   "cell_type": "code",
   "execution_count": 94,
   "metadata": {},
   "outputs": [
    {
     "name": "stdout",
     "output_type": "stream",
     "text": [
      "+---+-------------+-------------+---------------+-----------------------+------+--------+--------+----------+----------+----------+------------------------------+---------+--------+-------+-----------+\n",
      "|_c0|      Tobacco|    Age_group|Individual_Rate|Individual_Tobacco_Rate|Couple|one rate|two_rate|three_rate|couple_one|couple_two|CoupleAndThreeOrMoreDependents|RowNumber|State_Id|Area_Id|Tobacco_new|\n",
      "+---+-------------+-------------+---------------+-----------------------+------+--------+--------+----------+----------+----------+------------------------------+---------+--------+-------+-----------+\n",
      "|  0|No Preference|Family Option|          51.36|                    0.0| 101.7|  117.62|  117.62|    117.62|    180.28|    180.28|                        180.28|       14|     6.0|    3.0|        0.0|\n",
      "|  1|No Preference|           21|           55.0|                    0.0|   0.0|     0.0|     0.0|       0.0|       0.0|       0.0|                           0.0|       15|     6.0|    3.0|        0.0|\n",
      "|  2|No Preference|Family Option|          51.36|                    0.0| 101.7|  117.62|  117.62|    117.62|    180.28|    180.28|                        180.28|       15|     6.0|    0.0|        0.0|\n",
      "|  3|No Preference|Family Option|          50.67|                    0.0|100.33|  116.04|  116.04|    116.04|    117.86|    117.86|                        117.86|       15|     6.0|    0.0|        0.0|\n",
      "|  4|No Preference|           21|           38.0|                    0.0|   0.0|     0.0|     0.0|       0.0|       0.0|       0.0|                           0.0|       15|     6.0|    3.0|        0.0|\n",
      "|  5|No Preference|Family Option|          52.06|                    0.0|103.08|  119.22|  119.22|    119.22|    182.73|    182.73|                        182.73|       16|     6.0|    5.0|        0.0|\n",
      "|  6|No Preference|Family Option|          59.98|                    0.0|118.76|  137.35|  137.35|    137.35|    210.53|    210.53|                        210.53|       17|     6.0|    3.0|        0.0|\n",
      "|  7|No Preference|           23|           57.0|                    0.0|   0.0|     0.0|     0.0|       0.0|       0.0|       0.0|                           0.0|       17|     6.0|    3.0|        0.0|\n",
      "|  8|No Preference|Family Option|           57.6|                    0.0|114.05|   131.9|   131.9|     131.9|    202.17|    202.17|                        202.17|       17|     6.0|    3.0|        0.0|\n",
      "|  9|No Preference|Family Option|          59.18|                    0.0|117.17|  135.51|  135.51|    135.51|     207.7|     207.7|                         207.7|       18|     6.0|    0.0|        0.0|\n",
      "| 10|No Preference|Family Option|          59.98|                    0.0|118.76|  137.35|  137.35|    137.35|    210.53|    210.53|                        210.53|       18|     6.0|    0.0|        0.0|\n",
      "| 11|No Preference|           25|           57.0|                    0.0|   0.0|     0.0|     0.0|       0.0|       0.0|       0.0|                           0.0|       19|     6.0|    3.0|        0.0|\n",
      "| 12|No Preference|Family Option|          58.38|                    0.0| 115.6|  133.69|  133.69|    133.69|    204.92|    204.92|                        204.92|       19|     6.0|    5.0|        0.0|\n",
      "| 13|No Preference|           26|           57.0|                    0.0|   0.0|     0.0|     0.0|       0.0|       0.0|       0.0|                           0.0|       20|     6.0|    3.0|        0.0|\n",
      "| 14|No Preference|Family Option|           51.4|                    0.0|101.78|  117.72|  117.72|    117.72|    180.43|    180.43|                        180.43|       22|     6.0|    3.0|        0.0|\n",
      "| 15|No Preference|           28|           55.0|                    0.0|   0.0|     0.0|     0.0|       0.0|       0.0|       0.0|                           0.0|       22|     6.0|    3.0|        0.0|\n",
      "| 16|No Preference|           30|           38.0|                    0.0|   0.0|     0.0|     0.0|       0.0|       0.0|       0.0|                           0.0|       24|     6.0|    3.0|        0.0|\n",
      "| 17|No Preference|           30|           55.0|                    0.0|   0.0|     0.0|     0.0|       0.0|       0.0|       0.0|                           0.0|       24|     6.0|    3.0|        0.0|\n",
      "| 18|No Preference|           30|           56.0|                    0.0|   0.0|     0.0|     0.0|       0.0|       0.0|       0.0|                           0.0|       24|     6.0|    3.0|        0.0|\n",
      "| 19|No Preference|           31|           57.0|                    0.0|   0.0|     0.0|     0.0|       0.0|       0.0|       0.0|                           0.0|       25|     6.0|    3.0|        0.0|\n",
      "+---+-------------+-------------+---------------+-----------------------+------+--------+--------+----------+----------+----------+------------------------------+---------+--------+-------+-----------+\n",
      "only showing top 20 rows\n",
      "\n"
     ]
    },
    {
     "name": "stderr",
     "output_type": "stream",
     "text": [
      "22/10/12 08:31:35 WARN CSVHeaderChecker: CSV header does not conform to the schema.\n",
      " Header: , Tobacco, Age_group, Individual_Rate, Individual_Tobacco_Rate, Couple, one rate, two_rate, three_rate, couple_one, couple_two, CoupleAndThreeOrMoreDependents, RowNumber, State_Id, Area_Id\n",
      " Schema: _c0, Tobacco, Age_group, Individual_Rate, Individual_Tobacco_Rate, Couple, one rate, two_rate, three_rate, couple_one, couple_two, CoupleAndThreeOrMoreDependents, RowNumber, State_Id, Area_Id\n",
      "Expected: _c0 but found: \n",
      "CSV file: file:///home/ubuntu/722/aws-instance-duplicate/Iteration%204%20BDAS/new_spark.csv\n"
     ]
    }
   ],
   "source": [
    "new_df.show()"
   ]
  },
  {
   "cell_type": "code",
   "execution_count": 95,
   "metadata": {},
   "outputs": [],
   "source": [
    "new_df = new_df.drop(col(\"_c0\"))\n",
    "new_df = new_df.drop(col(\"Tobacco\"))\n",
    "\n",
    "new_df = new_df.filter((new_df.Age_group != 'Family Option'))\n",
    "new_df = new_df.filter((new_df.Age_group != '65 and over'))\n",
    "new_df = new_df.filter((new_df.Age_group != '0-20'))\n",
    "\n",
    "new_df = new_df.drop(col(\"RowNumber\"))\n",
    "new_df = new_df.drop(col(\"one rate\"))\n",
    "new_df = new_df.drop(col(\"two_rate\"))\n",
    "new_df = new_df.drop(col(\"three_rate\"))\n",
    "new_df = new_df.drop(col(\"couple_one\"))\n",
    "new_df = new_df.drop(col(\"couple_two\"))\n",
    "new_df = new_df.drop(col(\"CoupleAndThreeOrMoreDependents\"))"
   ]
  },
  {
   "cell_type": "code",
   "execution_count": 96,
   "metadata": {},
   "outputs": [
    {
     "name": "stdout",
     "output_type": "stream",
     "text": [
      "+---------+---------------+-----------------------+------+--------+-------+-----------+\n",
      "|Age_group|Individual_Rate|Individual_Tobacco_Rate|Couple|State_Id|Area_Id|Tobacco_new|\n",
      "+---------+---------------+-----------------------+------+--------+-------+-----------+\n",
      "|       21|           55.0|                    0.0|   0.0|     6.0|    3.0|        0.0|\n",
      "|       21|           38.0|                    0.0|   0.0|     6.0|    3.0|        0.0|\n",
      "|       23|           57.0|                    0.0|   0.0|     6.0|    3.0|        0.0|\n",
      "|       25|           57.0|                    0.0|   0.0|     6.0|    3.0|        0.0|\n",
      "|       26|           57.0|                    0.0|   0.0|     6.0|    3.0|        0.0|\n",
      "|       28|           55.0|                    0.0|   0.0|     6.0|    3.0|        0.0|\n",
      "|       30|           38.0|                    0.0|   0.0|     6.0|    3.0|        0.0|\n",
      "|       30|           55.0|                    0.0|   0.0|     6.0|    3.0|        0.0|\n",
      "|       30|           56.0|                    0.0|   0.0|     6.0|    3.0|        0.0|\n",
      "|       31|           57.0|                    0.0|   0.0|     6.0|    3.0|        0.0|\n",
      "|       32|           57.0|                    0.0|   0.0|     6.0|    3.0|        0.0|\n",
      "|       34|           38.0|                    0.0|   0.0|     6.0|    3.0|        0.0|\n",
      "|       34|           57.0|                    0.0|   0.0|     6.0|    3.0|        0.0|\n",
      "|       37|           55.0|                    0.0|   0.0|     6.0|    3.0|        0.0|\n",
      "|       37|           38.0|                    0.0|   0.0|     6.0|    3.0|        0.0|\n",
      "|       40|           55.0|                    0.0|   0.0|     6.0|    3.0|        0.0|\n",
      "|       41|           57.0|                    0.0|   0.0|     6.0|    3.0|        0.0|\n",
      "|       42|           38.0|                    0.0|   0.0|     6.0|    3.0|        0.0|\n",
      "|       44|           57.0|                    0.0|   0.0|     6.0|    3.0|        0.0|\n",
      "|       45|           56.0|                    0.0|   0.0|     6.0|    3.0|        0.0|\n",
      "+---------+---------------+-----------------------+------+--------+-------+-----------+\n",
      "only showing top 20 rows\n",
      "\n"
     ]
    }
   ],
   "source": [
    "new_df.show()"
   ]
  },
  {
   "cell_type": "code",
   "execution_count": 97,
   "metadata": {},
   "outputs": [],
   "source": [
    "new_df = new_df.na.fill(0)"
   ]
  },
  {
   "cell_type": "code",
   "execution_count": 98,
   "metadata": {},
   "outputs": [
    {
     "name": "stdout",
     "output_type": "stream",
     "text": [
      "+---------+---------------+-----------------------+------+--------+-------+-----------+\n",
      "|Age_group|Individual_Rate|Individual_Tobacco_Rate|Couple|State_Id|Area_Id|Tobacco_new|\n",
      "+---------+---------------+-----------------------+------+--------+-------+-----------+\n",
      "|       21|           55.0|                    0.0|   0.0|     6.0|    3.0|        0.0|\n",
      "|       21|           38.0|                    0.0|   0.0|     6.0|    3.0|        0.0|\n",
      "|       23|           57.0|                    0.0|   0.0|     6.0|    3.0|        0.0|\n",
      "|       25|           57.0|                    0.0|   0.0|     6.0|    3.0|        0.0|\n",
      "|       26|           57.0|                    0.0|   0.0|     6.0|    3.0|        0.0|\n",
      "|       28|           55.0|                    0.0|   0.0|     6.0|    3.0|        0.0|\n",
      "|       30|           38.0|                    0.0|   0.0|     6.0|    3.0|        0.0|\n",
      "|       30|           55.0|                    0.0|   0.0|     6.0|    3.0|        0.0|\n",
      "|       30|           56.0|                    0.0|   0.0|     6.0|    3.0|        0.0|\n",
      "|       31|           57.0|                    0.0|   0.0|     6.0|    3.0|        0.0|\n",
      "|       32|           57.0|                    0.0|   0.0|     6.0|    3.0|        0.0|\n",
      "|       34|           38.0|                    0.0|   0.0|     6.0|    3.0|        0.0|\n",
      "|       34|           57.0|                    0.0|   0.0|     6.0|    3.0|        0.0|\n",
      "|       37|           55.0|                    0.0|   0.0|     6.0|    3.0|        0.0|\n",
      "|       37|           38.0|                    0.0|   0.0|     6.0|    3.0|        0.0|\n",
      "|       40|           55.0|                    0.0|   0.0|     6.0|    3.0|        0.0|\n",
      "|       41|           57.0|                    0.0|   0.0|     6.0|    3.0|        0.0|\n",
      "|       42|           38.0|                    0.0|   0.0|     6.0|    3.0|        0.0|\n",
      "|       44|           57.0|                    0.0|   0.0|     6.0|    3.0|        0.0|\n",
      "|       45|           56.0|                    0.0|   0.0|     6.0|    3.0|        0.0|\n",
      "+---------+---------------+-----------------------+------+--------+-------+-----------+\n",
      "only showing top 20 rows\n",
      "\n"
     ]
    }
   ],
   "source": [
    "new_df.show()"
   ]
  },
  {
   "cell_type": "code",
   "execution_count": 99,
   "metadata": {},
   "outputs": [
    {
     "data": {
      "text/plain": [
       "[Row(Age_group='51'),\n",
       " Row(Age_group='54'),\n",
       " Row(Age_group='29'),\n",
       " Row(Age_group='42'),\n",
       " Row(Age_group='64'),\n",
       " Row(Age_group='30'),\n",
       " Row(Age_group='34'),\n",
       " Row(Age_group='59'),\n",
       " Row(Age_group='28'),\n",
       " Row(Age_group='22'),\n",
       " Row(Age_group='35'),\n",
       " Row(Age_group='52'),\n",
       " Row(Age_group='47'),\n",
       " Row(Age_group='43'),\n",
       " Row(Age_group='31'),\n",
       " Row(Age_group='61'),\n",
       " Row(Age_group='27'),\n",
       " Row(Age_group='26'),\n",
       " Row(Age_group='46'),\n",
       " Row(Age_group='60'),\n",
       " Row(Age_group='23'),\n",
       " Row(Age_group='41'),\n",
       " Row(Age_group='55'),\n",
       " Row(Age_group='40'),\n",
       " Row(Age_group='38'),\n",
       " Row(Age_group='25'),\n",
       " Row(Age_group='44'),\n",
       " Row(Age_group='53'),\n",
       " Row(Age_group='58'),\n",
       " Row(Age_group='33'),\n",
       " Row(Age_group='48'),\n",
       " Row(Age_group='24'),\n",
       " Row(Age_group='32'),\n",
       " Row(Age_group='56'),\n",
       " Row(Age_group='36'),\n",
       " Row(Age_group='37'),\n",
       " Row(Age_group='49'),\n",
       " Row(Age_group='63'),\n",
       " Row(Age_group='39'),\n",
       " Row(Age_group='62'),\n",
       " Row(Age_group='21'),\n",
       " Row(Age_group='50'),\n",
       " Row(Age_group='45'),\n",
       " Row(Age_group='57')]"
      ]
     },
     "execution_count": 99,
     "metadata": {},
     "output_type": "execute_result"
    }
   ],
   "source": [
    "new_df.select('Age_group').distinct().collect()"
   ]
  },
  {
   "cell_type": "code",
   "execution_count": 100,
   "metadata": {},
   "outputs": [
    {
     "data": {
      "text/plain": [
       "0.38789417600262954"
      ]
     },
     "execution_count": 100,
     "metadata": {},
     "output_type": "execute_result"
    }
   ],
   "source": [
    "new_df.stat.corr('Individual_Tobacco_Rate', 'Individual_Rate')"
   ]
  },
  {
   "cell_type": "code",
   "execution_count": 101,
   "metadata": {},
   "outputs": [
    {
     "data": {
      "text/plain": [
       "nan"
      ]
     },
     "execution_count": 101,
     "metadata": {},
     "output_type": "execute_result"
    }
   ],
   "source": [
    "new_df.stat.corr('Couple', 'Individual_Rate')"
   ]
  },
  {
   "cell_type": "code",
   "execution_count": 102,
   "metadata": {},
   "outputs": [
    {
     "data": {
      "text/plain": [
       "0.017477266450086806"
      ]
     },
     "execution_count": 102,
     "metadata": {},
     "output_type": "execute_result"
    }
   ],
   "source": [
    "new_df.stat.corr('State_Id', 'Individual_Rate')"
   ]
  },
  {
   "cell_type": "code",
   "execution_count": 103,
   "metadata": {},
   "outputs": [
    {
     "data": {
      "text/plain": [
       "-0.061864871498626045"
      ]
     },
     "execution_count": 103,
     "metadata": {},
     "output_type": "execute_result"
    }
   ],
   "source": [
    "new_df.stat.corr('Area_Id', 'Individual_Rate')"
   ]
  },
  {
   "cell_type": "code",
   "execution_count": 104,
   "metadata": {},
   "outputs": [
    {
     "data": {
      "text/plain": [
       "0.16697283258027976"
      ]
     },
     "execution_count": 104,
     "metadata": {},
     "output_type": "execute_result"
    }
   ],
   "source": [
    "new_df.stat.corr('Tobacco_new', 'Individual_Rate')"
   ]
  },
  {
   "cell_type": "code",
   "execution_count": 105,
   "metadata": {},
   "outputs": [],
   "source": [
    "new_df = new_df.withColumn(\"Age_group\",new_df.Age_group.cast('int'))"
   ]
  },
  {
   "cell_type": "markdown",
   "metadata": {},
   "source": [
    "# Linear Regression"
   ]
  },
  {
   "cell_type": "code",
   "execution_count": 170,
   "metadata": {},
   "outputs": [],
   "source": [
    "from pyspark.ml.regression import LinearRegression\n",
    "spark = SparkSession.builder.appName('linear_regression_adv').getOrCreate()"
   ]
  },
  {
   "cell_type": "code",
   "execution_count": 171,
   "metadata": {},
   "outputs": [
    {
     "name": "stdout",
     "output_type": "stream",
     "text": [
      "root\n",
      " |-- Age_group: integer (nullable = true)\n",
      " |-- Individual_Rate: double (nullable = false)\n",
      " |-- Individual_Tobacco_Rate: double (nullable = false)\n",
      " |-- Couple: double (nullable = false)\n",
      " |-- State_Id: double (nullable = false)\n",
      " |-- Area_Id: double (nullable = false)\n",
      " |-- Tobacco_new: double (nullable = false)\n",
      "\n"
     ]
    }
   ],
   "source": [
    "new_df.printSchema()"
   ]
  },
  {
   "cell_type": "code",
   "execution_count": 172,
   "metadata": {},
   "outputs": [],
   "source": [
    "# The input columns are the feature column names, and the output column is what you'd like the new column to be named. \n",
    "assembler = VectorAssembler(\n",
    "    inputCols=[\"Age_group\", \"Individual_Tobacco_Rate\", \n",
    "               \"Couple\",'State_Id', 'Area_Id', 'Tobacco_new'],\n",
    "    outputCol=\"features\")"
   ]
  },
  {
   "cell_type": "code",
   "execution_count": 173,
   "metadata": {},
   "outputs": [],
   "source": [
    "# Now that we've created the assembler variable, let's actually transform the data.\n",
    "output = assembler.transform(new_df)"
   ]
  },
  {
   "cell_type": "code",
   "execution_count": 174,
   "metadata": {},
   "outputs": [
    {
     "name": "stdout",
     "output_type": "stream",
     "text": [
      "root\n",
      " |-- Age_group: integer (nullable = true)\n",
      " |-- Individual_Rate: double (nullable = false)\n",
      " |-- Individual_Tobacco_Rate: double (nullable = false)\n",
      " |-- Couple: double (nullable = false)\n",
      " |-- State_Id: double (nullable = false)\n",
      " |-- Area_Id: double (nullable = false)\n",
      " |-- Tobacco_new: double (nullable = false)\n",
      " |-- features: vector (nullable = true)\n",
      "\n"
     ]
    },
    {
     "data": {
      "text/plain": [
       "[Row(Age_group=21, Individual_Rate=55.0, Individual_Tobacco_Rate=0.0, Couple=0.0, State_Id=6.0, Area_Id=3.0, Tobacco_new=0.0, features=DenseVector([21.0, 0.0, 0.0, 6.0, 3.0, 0.0]))]"
      ]
     },
     "execution_count": 174,
     "metadata": {},
     "output_type": "execute_result"
    }
   ],
   "source": [
    "# Using print schema, you see that the features output column has been added. \n",
    "output.printSchema()\n",
    "\n",
    "# You can see that the features column is a dense vector that combines the various features as expected.\n",
    "output.head(1)"
   ]
  },
  {
   "cell_type": "code",
   "execution_count": 175,
   "metadata": {},
   "outputs": [
    {
     "name": "stdout",
     "output_type": "stream",
     "text": [
      "+--------------------+---------------+\n",
      "|            features|Individual_Rate|\n",
      "+--------------------+---------------+\n",
      "|[21.0,0.0,0.0,6.0...|           55.0|\n",
      "|[21.0,0.0,0.0,6.0...|           38.0|\n",
      "|[23.0,0.0,0.0,6.0...|           57.0|\n",
      "|[25.0,0.0,0.0,6.0...|           57.0|\n",
      "|[26.0,0.0,0.0,6.0...|           57.0|\n",
      "|[28.0,0.0,0.0,6.0...|           55.0|\n",
      "|[30.0,0.0,0.0,6.0...|           38.0|\n",
      "|[30.0,0.0,0.0,6.0...|           55.0|\n",
      "|[30.0,0.0,0.0,6.0...|           56.0|\n",
      "|[31.0,0.0,0.0,6.0...|           57.0|\n",
      "|[32.0,0.0,0.0,6.0...|           57.0|\n",
      "|[34.0,0.0,0.0,6.0...|           38.0|\n",
      "|[34.0,0.0,0.0,6.0...|           57.0|\n",
      "|[37.0,0.0,0.0,6.0...|           55.0|\n",
      "|[37.0,0.0,0.0,6.0...|           38.0|\n",
      "|[40.0,0.0,0.0,6.0...|           55.0|\n",
      "|[41.0,0.0,0.0,6.0...|           57.0|\n",
      "|[42.0,0.0,0.0,6.0...|           38.0|\n",
      "|[44.0,0.0,0.0,6.0...|           57.0|\n",
      "|[45.0,0.0,0.0,6.0...|           56.0|\n",
      "+--------------------+---------------+\n",
      "only showing top 20 rows\n",
      "\n"
     ]
    }
   ],
   "source": [
    "# Let's select two columns (the feature and predictor).\n",
    "# This is now in the appropriate format to be processed by Spark.\n",
    "final_data = output.select(\"features\",'Individual_Rate')\n",
    "final_data.show()"
   ]
  },
  {
   "cell_type": "code",
   "execution_count": 176,
   "metadata": {},
   "outputs": [],
   "source": [
    "train_data,test_data = final_data.randomSplit([0.5,0.5])"
   ]
  },
  {
   "cell_type": "code",
   "execution_count": 177,
   "metadata": {},
   "outputs": [
    {
     "name": "stderr",
     "output_type": "stream",
     "text": [
      "                                                                                \r"
     ]
    },
    {
     "name": "stdout",
     "output_type": "stream",
     "text": [
      "+-------+------------------+\n",
      "|summary|   Individual_Rate|\n",
      "+-------+------------------+\n",
      "|  count|            103707|\n",
      "|   mean|429.95578369830383|\n",
      "| stddev|    291.3657001551|\n",
      "|    min|               1.5|\n",
      "|    max|            2070.0|\n",
      "+-------+------------------+\n",
      "\n"
     ]
    },
    {
     "name": "stderr",
     "output_type": "stream",
     "text": [
      "[Stage 393:============================>                            (1 + 1) / 2]\r"
     ]
    },
    {
     "name": "stdout",
     "output_type": "stream",
     "text": [
      "+-------+-----------------+\n",
      "|summary|  Individual_Rate|\n",
      "+-------+-----------------+\n",
      "|  count|           103644|\n",
      "|   mean|429.3289319208035|\n",
      "| stddev|291.7131396539146|\n",
      "|    min|              1.5|\n",
      "|    max|           2266.0|\n",
      "+-------+-----------------+\n",
      "\n"
     ]
    },
    {
     "name": "stderr",
     "output_type": "stream",
     "text": [
      "\r",
      "                                                                                \r"
     ]
    }
   ],
   "source": [
    "# Let's see our training data.\n",
    "train_data.describe().show()\n",
    "\n",
    "# And our testing data.\n",
    "test_data.describe().show()"
   ]
  },
  {
   "cell_type": "code",
   "execution_count": 178,
   "metadata": {},
   "outputs": [],
   "source": [
    "lr = LinearRegression(labelCol='Individual_Rate')"
   ]
  },
  {
   "cell_type": "code",
   "execution_count": 179,
   "metadata": {},
   "outputs": [
    {
     "name": "stderr",
     "output_type": "stream",
     "text": [
      "22/10/12 09:19:26 WARN Instrumentation: [ce71ce07] regParam is zero, which might cause numerical instability and overfitting.\n",
      "22/10/12 09:19:28 WARN Instrumentation: [ce71ce07] Cholesky solver failed due to singular covariance matrix. Retrying with Quasi-Newton solver.\n",
      "                                                                                \r"
     ]
    }
   ],
   "source": [
    "# Fit the model to the data.\n",
    "lrModel = lr.fit(train_data)"
   ]
  },
  {
   "cell_type": "code",
   "execution_count": 180,
   "metadata": {},
   "outputs": [
    {
     "name": "stdout",
     "output_type": "stream",
     "text": [
      "Coefficients: [7.370274366425174,0.5284907829743152,0.0,14.15040953006456,-2.9030436417459904,-162.74551282204195] Intercept: 73.56089401979004\n"
     ]
    }
   ],
   "source": [
    "# Print the coefficients and intercept for linear regression.\n",
    "print(\"Coefficients: {} Intercept: {}\".format(lrModel.coefficients,lrModel.intercept))"
   ]
  },
  {
   "cell_type": "code",
   "execution_count": 181,
   "metadata": {},
   "outputs": [
    {
     "name": "stderr",
     "output_type": "stream",
     "text": [
      "                                                                                \r"
     ]
    }
   ],
   "source": [
    "# Let's evaluate the model against the test data.\n",
    "test_results = lrModel.evaluate(test_data)"
   ]
  },
  {
   "cell_type": "code",
   "execution_count": 182,
   "metadata": {},
   "outputs": [
    {
     "name": "stderr",
     "output_type": "stream",
     "text": [
      "\r",
      "[Stage 399:>                                                        (0 + 1) / 1]\r"
     ]
    },
    {
     "name": "stdout",
     "output_type": "stream",
     "text": [
      "+-------------------+\n",
      "|          residuals|\n",
      "+-------------------+\n",
      "|-209.84665571471868|\n",
      "| -207.2966557147187|\n",
      "| -197.7966557147187|\n",
      "|-212.69693008114388|\n",
      "|-198.70693008114387|\n",
      "|-197.70693008114387|\n",
      "|-222.03720444756905|\n",
      "|-221.11720444756904|\n",
      "|-212.29720444756904|\n",
      "|-209.35720444756905|\n",
      "|-208.25720444756905|\n",
      "|-143.08720444756904|\n",
      "|-229.40747881399423|\n",
      "|-228.30747881399424|\n",
      "|-221.16747881399422|\n",
      "| -215.9274788139942|\n",
      "|-213.44747881399422|\n",
      "|-212.40747881399423|\n",
      "|-212.40747881399423|\n",
      "|-211.44747881399422|\n",
      "+-------------------+\n",
      "only showing top 20 rows\n",
      "\n",
      "RSME: 234.90398551575583\n"
     ]
    },
    {
     "name": "stderr",
     "output_type": "stream",
     "text": [
      "\r",
      "                                                                                \r"
     ]
    }
   ],
   "source": [
    "# Interesting results! This shows the difference between the predicted value and the test data.\n",
    "test_results.residuals.show()\n",
    "\n",
    "# Let's get some evaluation metrics (as discussed in the previous linear regression notebook).\n",
    "print(\"RSME: {}\".format(test_results.rootMeanSquaredError))"
   ]
  },
  {
   "cell_type": "code",
   "execution_count": 185,
   "metadata": {},
   "outputs": [
    {
     "name": "stdout",
     "output_type": "stream",
     "text": [
      "R2: 0.3515552507914228\n"
     ]
    }
   ],
   "source": [
    "# We can also get the R2 value. \n",
    "print(\"R2: {}\".format(test_results.r2))"
   ]
  },
  {
   "cell_type": "code",
   "execution_count": 186,
   "metadata": {},
   "outputs": [
    {
     "name": "stderr",
     "output_type": "stream",
     "text": [
      "\r",
      "[Stage 400:>                                                        (0 + 1) / 1]\r"
     ]
    },
    {
     "name": "stdout",
     "output_type": "stream",
     "text": [
      "+--------------+\n",
      "|      features|\n",
      "+--------------+\n",
      "|(6,[0],[21.0])|\n",
      "|(6,[0],[21.0])|\n",
      "|(6,[0],[21.0])|\n",
      "|(6,[0],[22.0])|\n",
      "|(6,[0],[22.0])|\n",
      "|(6,[0],[22.0])|\n",
      "|(6,[0],[23.0])|\n",
      "|(6,[0],[23.0])|\n",
      "|(6,[0],[23.0])|\n",
      "|(6,[0],[23.0])|\n",
      "|(6,[0],[23.0])|\n",
      "|(6,[0],[23.0])|\n",
      "|(6,[0],[24.0])|\n",
      "|(6,[0],[24.0])|\n",
      "|(6,[0],[24.0])|\n",
      "|(6,[0],[24.0])|\n",
      "|(6,[0],[24.0])|\n",
      "|(6,[0],[24.0])|\n",
      "|(6,[0],[24.0])|\n",
      "|(6,[0],[24.0])|\n",
      "+--------------+\n",
      "only showing top 20 rows\n",
      "\n"
     ]
    },
    {
     "name": "stderr",
     "output_type": "stream",
     "text": [
      "\r",
      "                                                                                \r"
     ]
    }
   ],
   "source": [
    "# Let's just select the features column (removing the label column).\n",
    "unlabeled_data = test_data.select('features')\n",
    "unlabeled_data.show()"
   ]
  },
  {
   "cell_type": "code",
   "execution_count": 187,
   "metadata": {},
   "outputs": [],
   "source": [
    "# Now we can transform the unlabeled data.\n",
    "predictions = lrModel.transform(unlabeled_data)"
   ]
  },
  {
   "cell_type": "code",
   "execution_count": 188,
   "metadata": {},
   "outputs": [
    {
     "name": "stderr",
     "output_type": "stream",
     "text": [
      "\r",
      "[Stage 401:>                                                        (0 + 1) / 1]\r"
     ]
    },
    {
     "name": "stdout",
     "output_type": "stream",
     "text": [
      "+--------------+------------------+\n",
      "|      features|        prediction|\n",
      "+--------------+------------------+\n",
      "|(6,[0],[21.0])| 228.3366557147187|\n",
      "|(6,[0],[21.0])| 228.3366557147187|\n",
      "|(6,[0],[21.0])| 228.3366557147187|\n",
      "|(6,[0],[22.0])|235.70693008114387|\n",
      "|(6,[0],[22.0])|235.70693008114387|\n",
      "|(6,[0],[22.0])|235.70693008114387|\n",
      "|(6,[0],[23.0])|243.07720444756904|\n",
      "|(6,[0],[23.0])|243.07720444756904|\n",
      "|(6,[0],[23.0])|243.07720444756904|\n",
      "|(6,[0],[23.0])|243.07720444756904|\n",
      "|(6,[0],[23.0])|243.07720444756904|\n",
      "|(6,[0],[23.0])|243.07720444756904|\n",
      "|(6,[0],[24.0])|250.44747881399422|\n",
      "|(6,[0],[24.0])|250.44747881399422|\n",
      "|(6,[0],[24.0])|250.44747881399422|\n",
      "|(6,[0],[24.0])|250.44747881399422|\n",
      "|(6,[0],[24.0])|250.44747881399422|\n",
      "|(6,[0],[24.0])|250.44747881399422|\n",
      "|(6,[0],[24.0])|250.44747881399422|\n",
      "|(6,[0],[24.0])|250.44747881399422|\n",
      "+--------------+------------------+\n",
      "only showing top 20 rows\n",
      "\n"
     ]
    },
    {
     "name": "stderr",
     "output_type": "stream",
     "text": [
      "                                                                                \r"
     ]
    },
    {
     "data": {
      "text/plain": [
       "[Row(features=SparseVector(6, {0: 21.0}), prediction=228.3366557147187)]"
      ]
     },
     "execution_count": 188,
     "metadata": {},
     "output_type": "execute_result"
    }
   ],
   "source": [
    "# It worked! Feeding the unlabeled data features into the model results in a prediction, \n",
    "# which is the amount someone with those features is likely to spend in a year.\n",
    "predictions.show()\n",
    "predictions.head(1)"
   ]
  },
  {
   "cell_type": "code",
   "execution_count": 205,
   "metadata": {},
   "outputs": [
    {
     "name": "stdout",
     "output_type": "stream",
     "text": [
      "root\n",
      " |-- Age_group: integer (nullable = true)\n",
      " |-- Individual_Rate: double (nullable = false)\n",
      " |-- Individual_Tobacco_Rate: double (nullable = false)\n",
      " |-- Couple: double (nullable = false)\n",
      " |-- State_Id: double (nullable = false)\n",
      " |-- Area_Id: double (nullable = false)\n",
      " |-- Tobacco_new: double (nullable = false)\n",
      "\n"
     ]
    }
   ],
   "source": [
    "new_df.printSchema()"
   ]
  },
  {
   "cell_type": "code",
   "execution_count": 220,
   "metadata": {},
   "outputs": [
    {
     "name": "stderr",
     "output_type": "stream",
     "text": [
      "\r",
      "[Stage 416:============================>                            (1 + 1) / 2]\r",
      "\r",
      "                                                                                \r"
     ]
    },
    {
     "data": {
      "image/png": "[encoded data removed]",
      "text/plain": [
       "<Figure size 1440x1152 with 1 Axes>"
      ]
     },
     "metadata": {
      "needs_background": "light"
     },
     "output_type": "display_data"
    }
   ],
   "source": [
    "# figure(figsize=(20, 16))\n",
    "\n",
    "# # Convert sex to an array using Numpy and plot it using pyplot. \n",
    "# sexArr = np.array(predictions.prediction.collect())\n",
    "# plt.hist(sexArr)\n",
    "# plt.show()\n",
    "\n",
    "figure(figsize=(20, 16))\n",
    "\n",
    "# Convert sex to an array using Numpy and plot it using pyplot. \n",
    "sexArr = np.array(new_df.filter('Age_group >= 0').select('Age_group','State_Id','Area_Id').collect())\n",
    "plt.hist(sexArr)\n",
    "plt.show()"
   ]
  },
  {
   "cell_type": "code",
   "execution_count": 216,
   "metadata": {},
   "outputs": [
    {
     "name": "stdout",
     "output_type": "stream",
     "text": [
      "root\n",
      " |-- features: vector (nullable = true)\n",
      " |-- prediction: double (nullable = false)\n",
      "\n"
     ]
    }
   ],
   "source": [
    "predictions.printSchema()"
   ]
  },
  {
   "cell_type": "code",
   "execution_count": 217,
   "metadata": {},
   "outputs": [
    {
     "name": "stderr",
     "output_type": "stream",
     "text": [
      "                                                                                \r"
     ]
    },
    {
     "data": {
      "image/png": "[encoded data removed]",
      "text/plain": [
       "<Figure size 1440x1152 with 1 Axes>"
      ]
     },
     "metadata": {
      "needs_background": "light"
     },
     "output_type": "display_data"
    }
   ],
   "source": [
    "# figure(figsize=(20, 16))\n",
    "\n",
    "# # Convert sex to an array using Numpy and plot it using pyplot. \n",
    "# sexArr = np.array(predictions.prediction.collect())\n",
    "# plt.hist(sexArr)\n",
    "# plt.show()\n",
    "\n",
    "figure(figsize=(20, 16))\n",
    "\n",
    "# Convert sex to an array using Numpy and plot it using pyplot. \n",
    "sexArr = np.array(predictions.filter('prediction >= 0').select('prediction').collect())\n",
    "plt.hist(sexArr)\n",
    "plt.show()"
   ]
  },
  {
   "cell_type": "code",
   "execution_count": 214,
   "metadata": {},
   "outputs": [],
   "source": [
    "assembler = VectorAssembler(\n",
    "    inputCols=[\"Couple\"],\n",
    "    outputCol=\"features\")\n",
    "\n",
    "lr = LinearRegression(labelCol='Individual_Rate')"
   ]
  },
  {
   "cell_type": "code",
   "execution_count": 121,
   "metadata": {},
   "outputs": [],
   "source": [
    "train_data,test_data = final_data.randomSplit([0.8,0.2])"
   ]
  },
  {
   "cell_type": "code",
   "execution_count": 122,
   "metadata": {},
   "outputs": [
    {
     "data": {
      "text/plain": [
       "0.38789417600262954"
      ]
     },
     "execution_count": 122,
     "metadata": {},
     "output_type": "execute_result"
    }
   ],
   "source": [
    "new_df.stat.corr('Individual_Tobacco_Rate', 'Individual_Rate')"
   ]
  },
  {
   "cell_type": "code",
   "execution_count": 123,
   "metadata": {},
   "outputs": [
    {
     "data": {
      "text/plain": [
       "0.49216801559452966"
      ]
     },
     "execution_count": 123,
     "metadata": {},
     "output_type": "execute_result"
    }
   ],
   "source": [
    "new_df.stat.corr('Age_group', 'Individual_Rate')"
   ]
  },
  {
   "cell_type": "code",
   "execution_count": 124,
   "metadata": {},
   "outputs": [
    {
     "data": {
      "text/plain": [
       "nan"
      ]
     },
     "execution_count": 124,
     "metadata": {},
     "output_type": "execute_result"
    }
   ],
   "source": [
    "new_df.stat.corr('Couple', 'Individual_Rate')"
   ]
  },
  {
   "cell_type": "code",
   "execution_count": 125,
   "metadata": {},
   "outputs": [
    {
     "data": {
      "text/plain": [
       "0.017477266450086806"
      ]
     },
     "execution_count": 125,
     "metadata": {},
     "output_type": "execute_result"
    }
   ],
   "source": [
    "new_df.stat.corr('State_Id', 'Individual_Rate')"
   ]
  },
  {
   "cell_type": "code",
   "execution_count": 126,
   "metadata": {},
   "outputs": [
    {
     "data": {
      "text/plain": [
       "-0.061864871498626045"
      ]
     },
     "execution_count": 126,
     "metadata": {},
     "output_type": "execute_result"
    }
   ],
   "source": [
    "new_df.stat.corr('Area_Id', 'Individual_Rate')"
   ]
  },
  {
   "cell_type": "code",
   "execution_count": 127,
   "metadata": {},
   "outputs": [
    {
     "data": {
      "text/plain": [
       "0.16697283258027976"
      ]
     },
     "execution_count": 127,
     "metadata": {},
     "output_type": "execute_result"
    }
   ],
   "source": [
    "new_df.stat.corr('Tobacco_new', 'Individual_Rate')"
   ]
  },
  {
   "cell_type": "code",
   "execution_count": 159,
   "metadata": {},
   "outputs": [
    {
     "name": "stderr",
     "output_type": "stream",
     "text": [
      "                                                                                \r"
     ]
    },
    {
     "name": "stdout",
     "output_type": "stream",
     "text": [
      "+-------------------+\n",
      "|          residuals|\n",
      "+-------------------+\n",
      "| -212.5239813595734|\n",
      "| -208.8739813595734|\n",
      "|-203.34398135957343|\n",
      "|-200.47398135957343|\n",
      "|-194.01398135957342|\n",
      "|-220.52010884050253|\n",
      "|-201.30010884050253|\n",
      "|-200.30010884050253|\n",
      "|  783.6998911594975|\n",
      "|-224.54623632143162|\n",
      "|-211.86623632143161|\n",
      "|-231.83236380236073|\n",
      "|-223.36236380236073|\n",
      "|-218.64236380236073|\n",
      "|-215.87236380236072|\n",
      "|-214.87236380236072|\n",
      "|-214.83236380236073|\n",
      "|-245.26849128328985|\n",
      "|-241.66849128328982|\n",
      "|-222.11849128328984|\n",
      "+-------------------+\n",
      "only showing top 20 rows\n",
      "\n"
     ]
    },
    {
     "name": "stderr",
     "output_type": "stream",
     "text": [
      "                                                                                \r"
     ]
    },
    {
     "data": {
      "image/png": "[encoded data removed]",
      "text/plain": [
       "<Figure size 1440x1152 with 1 Axes>"
      ]
     },
     "metadata": {
      "needs_background": "light"
     },
     "output_type": "display_data"
    }
   ],
   "source": [
    "test_results.residuals.show()\n",
    "\n",
    "figure(figsize=(20, 16))\n",
    "\n",
    "# Convert sex to an array using Numpy and plot it using pyplot. \n",
    "sexArr = np.array(test_results.residuals.collect())\n",
    "plt.hist(sexArr)\n",
    "plt.show()"
   ]
  },
  {
   "cell_type": "code",
   "execution_count": 160,
   "metadata": {},
   "outputs": [
    {
     "name": "stdout",
     "output_type": "stream",
     "text": [
      "RSME: 234.57264389214774\n"
     ]
    }
   ],
   "source": [
    "print(\"RSME: {}\".format(test_results.rootMeanSquaredError))"
   ]
  },
  {
   "cell_type": "code",
   "execution_count": 161,
   "metadata": {},
   "outputs": [
    {
     "name": "stdout",
     "output_type": "stream",
     "text": [
      "MSE: 55024.32526255236\n"
     ]
    }
   ],
   "source": [
    "print(\"MSE: {}\".format(test_results.meanSquaredError))"
   ]
  },
  {
   "cell_type": "code",
   "execution_count": 162,
   "metadata": {},
   "outputs": [
    {
     "name": "stdout",
     "output_type": "stream",
     "text": [
      "MAE: 162.86900767915068\n"
     ]
    }
   ],
   "source": [
    "print(\"MAE: {}\".format(test_results.meanAbsoluteError))"
   ]
  },
  {
   "cell_type": "code",
   "execution_count": 169,
   "metadata": {},
   "outputs": [
    {
     "name": "stderr",
     "output_type": "stream",
     "text": [
      "\r",
      "[Stage 387:>                                                        (0 + 1) / 1]\r"
     ]
    },
    {
     "name": "stdout",
     "output_type": "stream",
     "text": [
      "+--------------------+\n",
      "|            features|\n",
      "+--------------------+\n",
      "|(6,[0,1],[21.0,30...|\n",
      "|(6,[0,1],[21.0,37...|\n",
      "|(6,[0,1],[22.0,17...|\n",
      "|(6,[0,1],[22.0,23...|\n",
      "|(6,[0,1],[22.0,37...|\n",
      "|(6,[0,1],[23.0,30...|\n",
      "|(6,[0,1],[23.0,34...|\n",
      "|(6,[0,1],[23.0,40...|\n",
      "|(6,[0,1],[24.0,20...|\n",
      "|(6,[0,1],[24.0,21...|\n",
      "|(6,[0,1],[24.0,29...|\n",
      "|(6,[0,1],[24.0,29...|\n",
      "|(6,[0,1],[24.0,30...|\n",
      "|(6,[0,1],[24.0,37...|\n",
      "|(6,[0,1],[24.0,38...|\n",
      "|(6,[0,1],[25.0,14...|\n",
      "|(6,[0,1],[25.0,18...|\n",
      "|(6,[0,1],[25.0,31...|\n",
      "|(6,[0,1],[25.0,38...|\n",
      "|(6,[0,1],[25.0,39...|\n",
      "+--------------------+\n",
      "only showing top 20 rows\n",
      "\n"
     ]
    },
    {
     "name": "stderr",
     "output_type": "stream",
     "text": [
      "\r",
      "                                                                                \r"
     ]
    }
   ],
   "source": [
    "unlabeled_data = test_data.select('features')\n",
    "unlabeled_data.show()"
   ]
  },
  {
   "cell_type": "code",
   "execution_count": 163,
   "metadata": {},
   "outputs": [
    {
     "name": "stderr",
     "output_type": "stream",
     "text": [
      "                                                                                \r"
     ]
    },
    {
     "data": {
      "text/plain": [
       "103678"
      ]
     },
     "execution_count": 163,
     "metadata": {},
     "output_type": "execute_result"
    }
   ],
   "source": [
    "len(test_results.residuals.collect())"
   ]
  },
  {
   "cell_type": "code",
   "execution_count": 167,
   "metadata": {},
   "outputs": [
    {
     "name": "stderr",
     "output_type": "stream",
     "text": [
      "\r",
      "[Stage 384:>                                                        (0 + 2) / 2]\r",
      "\r",
      "                                                                                \r"
     ]
    },
    {
     "data": {
      "text/plain": [
       "[Row(Individual_Tobacco_Rate=0.0, Area_Id=3.0, State_Id=6.0),\n",
       " Row(Individual_Tobacco_Rate=0.0, Area_Id=3.0, State_Id=6.0),\n",
       " Row(Individual_Tobacco_Rate=0.0, Area_Id=3.0, State_Id=6.0),\n",
       " Row(Individual_Tobacco_Rate=0.0, Area_Id=3.0, State_Id=6.0),\n",
       " Row(Individual_Tobacco_Rate=0.0, Area_Id=3.0, State_Id=6.0),\n",
       " Row(Individual_Tobacco_Rate=0.0, Area_Id=3.0, State_Id=6.0),\n",
       " Row(Individual_Tobacco_Rate=0.0, Area_Id=3.0, State_Id=6.0),\n",
       " Row(Individual_Tobacco_Rate=0.0, Area_Id=3.0, State_Id=6.0),\n",
       " Row(Individual_Tobacco_Rate=0.0, Area_Id=3.0, State_Id=6.0),\n",
       " Row(Individual_Tobacco_Rate=0.0, Area_Id=3.0, State_Id=6.0),\n",
       " Row(Individual_Tobacco_Rate=0.0, Area_Id=3.0, State_Id=6.0),\n",
       " Row(Individual_Tobacco_Rate=0.0, Area_Id=3.0, State_Id=6.0),\n",
       " Row(Individual_Tobacco_Rate=0.0, Area_Id=3.0, State_Id=6.0),\n",
       " Row(Individual_Tobacco_Rate=0.0, Area_Id=3.0, State_Id=6.0),\n",
       " Row(Individual_Tobacco_Rate=0.0, Area_Id=3.0, State_Id=6.0),\n",
       " Row(Individual_Tobacco_Rate=0.0, Area_Id=3.0, State_Id=6.0),\n",
       " Row(Individual_Tobacco_Rate=0.0, Area_Id=3.0, State_Id=6.0),\n",
       " Row(Individual_Tobacco_Rate=0.0, Area_Id=3.0, State_Id=6.0),\n",
       " Row(Individual_Tobacco_Rate=0.0, Area_Id=3.0, State_Id=6.0),\n",
       " Row(Individual_Tobacco_Rate=0.0, Area_Id=3.0, State_Id=6.0),\n",
       " Row(Individual_Tobacco_Rate=0.0, Area_Id=3.0, State_Id=6.0),\n",
       " Row(Individual_Tobacco_Rate=0.0, Area_Id=3.0, State_Id=6.0),\n",
       " Row(Individual_Tobacco_Rate=0.0, Area_Id=3.0, State_Id=6.0),\n",
       " Row(Individual_Tobacco_Rate=0.0, Area_Id=3.0, State_Id=6.0),\n",
       " Row(Individual_Tobacco_Rate=0.0, Area_Id=3.0, State_Id=6.0),\n",
       " Row(Individual_Tobacco_Rate=0.0, Area_Id=3.0, State_Id=6.0),\n",
       " Row(Individual_Tobacco_Rate=0.0, Area_Id=3.0, State_Id=6.0),\n",
       " Row(Individual_Tobacco_Rate=0.0, Area_Id=3.0, State_Id=6.0),\n",
       " Row(Individual_Tobacco_Rate=0.0, Area_Id=3.0, State_Id=6.0),\n",
       " Row(Individual_Tobacco_Rate=0.0, Area_Id=3.0, State_Id=6.0),\n",
       " Row(Individual_Tobacco_Rate=0.0, Area_Id=3.0, State_Id=6.0),\n",
       " Row(Individual_Tobacco_Rate=0.0, Area_Id=3.0, State_Id=6.0),\n",
       " Row(Individual_Tobacco_Rate=0.0, Area_Id=3.0, State_Id=6.0),\n",
       " Row(Individual_Tobacco_Rate=0.0, Area_Id=0.0, State_Id=6.0),\n",
       " Row(Individual_Tobacco_Rate=0.0, Area_Id=0.0, State_Id=6.0),\n",
       " Row(Individual_Tobacco_Rate=0.0, Area_Id=0.0, State_Id=6.0),\n",
       " Row(Individual_Tobacco_Rate=0.0, Area_Id=0.0, State_Id=6.0),\n",
       " Row(Individual_Tobacco_Rate=0.0, Area_Id=0.0, State_Id=6.0),\n",
       " Row(Individual_Tobacco_Rate=0.0, Area_Id=0.0, State_Id=6.0),\n",
       " Row(Individual_Tobacco_Rate=0.0, Area_Id=0.0, State_Id=6.0),\n",
       " Row(Individual_Tobacco_Rate=0.0, Area_Id=0.0, State_Id=6.0),\n",
       " Row(Individual_Tobacco_Rate=0.0, Area_Id=0.0, State_Id=6.0),\n",
       " Row(Individual_Tobacco_Rate=0.0, Area_Id=0.0, State_Id=6.0),\n",
       " Row(Individual_Tobacco_Rate=0.0, Area_Id=0.0, State_Id=6.0),\n",
       " Row(Individual_Tobacco_Rate=0.0, Area_Id=0.0, State_Id=6.0),\n",
       " Row(Individual_Tobacco_Rate=0.0, Area_Id=0.0, State_Id=6.0),\n",
       " Row(Individual_Tobacco_Rate=0.0, Area_Id=0.0, State_Id=6.0),\n",
       " Row(Individual_Tobacco_Rate=0.0, Area_Id=0.0, State_Id=6.0),\n",
       " Row(Individual_Tobacco_Rate=0.0, Area_Id=0.0, State_Id=6.0),\n",
       " Row(Individual_Tobacco_Rate=0.0, Area_Id=0.0, State_Id=6.0),\n",
       " Row(Individual_Tobacco_Rate=0.0, Area_Id=0.0, State_Id=6.0),\n",
       " Row(Individual_Tobacco_Rate=0.0, Area_Id=0.0, State_Id=6.0),\n",
       " Row(Individual_Tobacco_Rate=0.0, Area_Id=0.0, State_Id=6.0),\n",
       " Row(Individual_Tobacco_Rate=0.0, Area_Id=0.0, State_Id=6.0),\n",
       " Row(Individual_Tobacco_Rate=0.0, Area_Id=0.0, State_Id=6.0),\n",
       " Row(Individual_Tobacco_Rate=0.0, Area_Id=0.0, State_Id=6.0),\n",
       " Row(Individual_Tobacco_Rate=0.0, Area_Id=0.0, State_Id=6.0),\n",
       " Row(Individual_Tobacco_Rate=0.0, Area_Id=0.0, State_Id=6.0),\n",
       " Row(Individual_Tobacco_Rate=0.0, Area_Id=0.0, State_Id=6.0),\n",
       " Row(Individual_Tobacco_Rate=0.0, Area_Id=0.0, State_Id=6.0),\n",
       " Row(Individual_Tobacco_Rate=0.0, Area_Id=0.0, State_Id=6.0),\n",
       " Row(Individual_Tobacco_Rate=0.0, Area_Id=0.0, State_Id=6.0),\n",
       " Row(Individual_Tobacco_Rate=0.0, Area_Id=0.0, State_Id=6.0),\n",
       " Row(Individual_Tobacco_Rate=0.0, Area_Id=0.0, State_Id=6.0),\n",
       " Row(Individual_Tobacco_Rate=0.0, Area_Id=0.0, State_Id=6.0),\n",
       " Row(Individual_Tobacco_Rate=0.0, Area_Id=0.0, State_Id=6.0),\n",
       " Row(Individual_Tobacco_Rate=0.0, Area_Id=0.0, State_Id=6.0),\n",
       " Row(Individual_Tobacco_Rate=0.0, Area_Id=0.0, State_Id=6.0),\n",
       " Row(Individual_Tobacco_Rate=0.0, Area_Id=0.0, State_Id=6.0),\n",
       " Row(Individual_Tobacco_Rate=0.0, Area_Id=0.0, State_Id=6.0),\n",
       " Row(Individual_Tobacco_Rate=0.0, Area_Id=0.0, State_Id=6.0),\n",
       " Row(Individual_Tobacco_Rate=0.0, Area_Id=0.0, State_Id=6.0),\n",
       " Row(Individual_Tobacco_Rate=0.0, Area_Id=0.0, State_Id=6.0),\n",
       " Row(Individual_Tobacco_Rate=0.0, Area_Id=0.0, State_Id=6.0),\n",
       " Row(Individual_Tobacco_Rate=0.0, Area_Id=0.0, State_Id=6.0),\n",
       " Row(Individual_Tobacco_Rate=0.0, Area_Id=0.0, State_Id=6.0),\n",
       " Row(Individual_Tobacco_Rate=0.0, Area_Id=5.0, State_Id=6.0),\n",
       " Row(Individual_Tobacco_Rate=0.0, Area_Id=5.0, State_Id=6.0),\n",
       " Row(Individual_Tobacco_Rate=0.0, Area_Id=5.0, State_Id=6.0),\n",
       " Row(Individual_Tobacco_Rate=0.0, Area_Id=5.0, State_Id=6.0),\n",
       " Row(Individual_Tobacco_Rate=0.0, Area_Id=5.0, State_Id=6.0),\n",
       " Row(Individual_Tobacco_Rate=0.0, Area_Id=5.0, State_Id=6.0),\n",
       " Row(Individual_Tobacco_Rate=0.0, Area_Id=5.0, State_Id=6.0),\n",
       " Row(Individual_Tobacco_Rate=0.0, Area_Id=5.0, State_Id=6.0),\n",
       " Row(Individual_Tobacco_Rate=0.0, Area_Id=5.0, State_Id=6.0),\n",
       " Row(Individual_Tobacco_Rate=0.0, Area_Id=5.0, State_Id=6.0),\n",
       " Row(Individual_Tobacco_Rate=0.0, Area_Id=5.0, State_Id=6.0),\n",
       " Row(Individual_Tobacco_Rate=0.0, Area_Id=5.0, State_Id=6.0),\n",
       " Row(Individual_Tobacco_Rate=0.0, Area_Id=5.0, State_Id=6.0),\n",
       " Row(Individual_Tobacco_Rate=0.0, Area_Id=5.0, State_Id=6.0),\n",
       " Row(Individual_Tobacco_Rate=0.0, Area_Id=5.0, State_Id=6.0),\n",
       " Row(Individual_Tobacco_Rate=0.0, Area_Id=5.0, State_Id=6.0),\n",
       " Row(Individual_Tobacco_Rate=0.0, Area_Id=5.0, State_Id=6.0),\n",
       " Row(Individual_Tobacco_Rate=0.0, Area_Id=5.0, State_Id=6.0),\n",
       " Row(Individual_Tobacco_Rate=0.0, Area_Id=5.0, State_Id=6.0),\n",
       " Row(Individual_Tobacco_Rate=0.0, Area_Id=5.0, State_Id=6.0),\n",
       " Row(Individual_Tobacco_Rate=0.0, Area_Id=5.0, State_Id=6.0),\n",
       " Row(Individual_Tobacco_Rate=0.0, Area_Id=5.0, State_Id=6.0),\n",
       " Row(Individual_Tobacco_Rate=0.0, Area_Id=5.0, State_Id=6.0),\n",
       " Row(Individual_Tobacco_Rate=0.0, Area_Id=5.0, State_Id=6.0),\n",
       " Row(Individual_Tobacco_Rate=0.0, Area_Id=5.0, State_Id=6.0),\n",
       " Row(Individual_Tobacco_Rate=0.0, Area_Id=5.0, State_Id=6.0),\n",
       " Row(Individual_Tobacco_Rate=0.0, Area_Id=3.0, State_Id=6.0),\n",
       " Row(Individual_Tobacco_Rate=0.0, Area_Id=3.0, State_Id=6.0),\n",
       " Row(Individual_Tobacco_Rate=0.0, Area_Id=3.0, State_Id=6.0),\n",
       " Row(Individual_Tobacco_Rate=0.0, Area_Id=3.0, State_Id=6.0),\n",
       " Row(Individual_Tobacco_Rate=0.0, Area_Id=3.0, State_Id=6.0),\n",
       " Row(Individual_Tobacco_Rate=0.0, Area_Id=3.0, State_Id=6.0),\n",
       " Row(Individual_Tobacco_Rate=0.0, Area_Id=3.0, State_Id=6.0),\n",
       " Row(Individual_Tobacco_Rate=0.0, Area_Id=3.0, State_Id=6.0),\n",
       " Row(Individual_Tobacco_Rate=0.0, Area_Id=3.0, State_Id=6.0),\n",
       " Row(Individual_Tobacco_Rate=0.0, Area_Id=3.0, State_Id=6.0),\n",
       " Row(Individual_Tobacco_Rate=0.0, Area_Id=3.0, State_Id=6.0),\n",
       " Row(Individual_Tobacco_Rate=0.0, Area_Id=3.0, State_Id=6.0),\n",
       " Row(Individual_Tobacco_Rate=0.0, Area_Id=3.0, State_Id=6.0),\n",
       " Row(Individual_Tobacco_Rate=0.0, Area_Id=3.0, State_Id=6.0),\n",
       " Row(Individual_Tobacco_Rate=0.0, Area_Id=3.0, State_Id=6.0),\n",
       " Row(Individual_Tobacco_Rate=0.0, Area_Id=3.0, State_Id=6.0),\n",
       " Row(Individual_Tobacco_Rate=0.0, Area_Id=3.0, State_Id=6.0),\n",
       " Row(Individual_Tobacco_Rate=0.0, Area_Id=3.0, State_Id=6.0),\n",
       " Row(Individual_Tobacco_Rate=0.0, Area_Id=3.0, State_Id=6.0),\n",
       " Row(Individual_Tobacco_Rate=0.0, Area_Id=3.0, State_Id=6.0),\n",
       " Row(Individual_Tobacco_Rate=0.0, Area_Id=3.0, State_Id=6.0),\n",
       " Row(Individual_Tobacco_Rate=0.0, Area_Id=3.0, State_Id=6.0),\n",
       " Row(Individual_Tobacco_Rate=0.0, Area_Id=3.0, State_Id=6.0),\n",
       " Row(Individual_Tobacco_Rate=0.0, Area_Id=3.0, State_Id=6.0),\n",
       " Row(Individual_Tobacco_Rate=0.0, Area_Id=3.0, State_Id=6.0),\n",
       " Row(Individual_Tobacco_Rate=0.0, Area_Id=3.0, State_Id=6.0),\n",
       " Row(Individual_Tobacco_Rate=0.0, Area_Id=3.0, State_Id=6.0),\n",
       " Row(Individual_Tobacco_Rate=0.0, Area_Id=3.0, State_Id=6.0),\n",
       " Row(Individual_Tobacco_Rate=0.0, Area_Id=3.0, State_Id=6.0),\n",
       " Row(Individual_Tobacco_Rate=0.0, Area_Id=3.0, State_Id=6.0),\n",
       " Row(Individual_Tobacco_Rate=0.0, Area_Id=3.0, State_Id=6.0),\n",
       " Row(Individual_Tobacco_Rate=0.0, Area_Id=3.0, State_Id=6.0),\n",
       " Row(Individual_Tobacco_Rate=0.0, Area_Id=3.0, State_Id=6.0),\n",
       " Row(Individual_Tobacco_Rate=0.0, Area_Id=0.0, State_Id=6.0),\n",
       " Row(Individual_Tobacco_Rate=0.0, Area_Id=0.0, State_Id=6.0),\n",
       " Row(Individual_Tobacco_Rate=0.0, Area_Id=0.0, State_Id=6.0),\n",
       " Row(Individual_Tobacco_Rate=0.0, Area_Id=0.0, State_Id=6.0),\n",
       " Row(Individual_Tobacco_Rate=0.0, Area_Id=0.0, State_Id=6.0),\n",
       " Row(Individual_Tobacco_Rate=0.0, Area_Id=0.0, State_Id=6.0),\n",
       " Row(Individual_Tobacco_Rate=0.0, Area_Id=0.0, State_Id=6.0),\n",
       " Row(Individual_Tobacco_Rate=0.0, Area_Id=0.0, State_Id=6.0),\n",
       " Row(Individual_Tobacco_Rate=0.0, Area_Id=0.0, State_Id=6.0),\n",
       " Row(Individual_Tobacco_Rate=0.0, Area_Id=0.0, State_Id=6.0),\n",
       " Row(Individual_Tobacco_Rate=0.0, Area_Id=0.0, State_Id=6.0),\n",
       " Row(Individual_Tobacco_Rate=0.0, Area_Id=0.0, State_Id=6.0),\n",
       " Row(Individual_Tobacco_Rate=0.0, Area_Id=0.0, State_Id=6.0),\n",
       " Row(Individual_Tobacco_Rate=0.0, Area_Id=0.0, State_Id=6.0),\n",
       " Row(Individual_Tobacco_Rate=0.0, Area_Id=0.0, State_Id=6.0),\n",
       " Row(Individual_Tobacco_Rate=0.0, Area_Id=0.0, State_Id=6.0),\n",
       " Row(Individual_Tobacco_Rate=0.0, Area_Id=0.0, State_Id=6.0),\n",
       " Row(Individual_Tobacco_Rate=0.0, Area_Id=0.0, State_Id=6.0),\n",
       " Row(Individual_Tobacco_Rate=0.0, Area_Id=0.0, State_Id=6.0),\n",
       " Row(Individual_Tobacco_Rate=0.0, Area_Id=0.0, State_Id=6.0),\n",
       " Row(Individual_Tobacco_Rate=0.0, Area_Id=0.0, State_Id=6.0),\n",
       " Row(Individual_Tobacco_Rate=0.0, Area_Id=0.0, State_Id=6.0),\n",
       " Row(Individual_Tobacco_Rate=0.0, Area_Id=0.0, State_Id=6.0),\n",
       " Row(Individual_Tobacco_Rate=0.0, Area_Id=0.0, State_Id=6.0),\n",
       " Row(Individual_Tobacco_Rate=0.0, Area_Id=0.0, State_Id=6.0),\n",
       " Row(Individual_Tobacco_Rate=0.0, Area_Id=0.0, State_Id=6.0),\n",
       " Row(Individual_Tobacco_Rate=0.0, Area_Id=0.0, State_Id=6.0),\n",
       " Row(Individual_Tobacco_Rate=0.0, Area_Id=0.0, State_Id=6.0),\n",
       " Row(Individual_Tobacco_Rate=0.0, Area_Id=0.0, State_Id=6.0),\n",
       " Row(Individual_Tobacco_Rate=0.0, Area_Id=0.0, State_Id=6.0),\n",
       " Row(Individual_Tobacco_Rate=0.0, Area_Id=0.0, State_Id=6.0),\n",
       " Row(Individual_Tobacco_Rate=0.0, Area_Id=5.0, State_Id=6.0),\n",
       " Row(Individual_Tobacco_Rate=0.0, Area_Id=5.0, State_Id=6.0),\n",
       " Row(Individual_Tobacco_Rate=0.0, Area_Id=5.0, State_Id=6.0),\n",
       " Row(Individual_Tobacco_Rate=0.0, Area_Id=5.0, State_Id=6.0),\n",
       " Row(Individual_Tobacco_Rate=0.0, Area_Id=5.0, State_Id=6.0),\n",
       " Row(Individual_Tobacco_Rate=0.0, Area_Id=5.0, State_Id=6.0),\n",
       " Row(Individual_Tobacco_Rate=0.0, Area_Id=5.0, State_Id=6.0),\n",
       " Row(Individual_Tobacco_Rate=0.0, Area_Id=5.0, State_Id=6.0),\n",
       " Row(Individual_Tobacco_Rate=0.0, Area_Id=5.0, State_Id=6.0),\n",
       " Row(Individual_Tobacco_Rate=0.0, Area_Id=5.0, State_Id=6.0),\n",
       " Row(Individual_Tobacco_Rate=0.0, Area_Id=5.0, State_Id=6.0),\n",
       " Row(Individual_Tobacco_Rate=0.0, Area_Id=5.0, State_Id=6.0),\n",
       " Row(Individual_Tobacco_Rate=0.0, Area_Id=5.0, State_Id=6.0),\n",
       " Row(Individual_Tobacco_Rate=0.0, Area_Id=5.0, State_Id=6.0),\n",
       " Row(Individual_Tobacco_Rate=0.0, Area_Id=5.0, State_Id=6.0),\n",
       " Row(Individual_Tobacco_Rate=0.0, Area_Id=5.0, State_Id=6.0),\n",
       " Row(Individual_Tobacco_Rate=0.0, Area_Id=5.0, State_Id=6.0),\n",
       " Row(Individual_Tobacco_Rate=0.0, Area_Id=5.0, State_Id=6.0),\n",
       " Row(Individual_Tobacco_Rate=0.0, Area_Id=5.0, State_Id=6.0),\n",
       " Row(Individual_Tobacco_Rate=0.0, Area_Id=5.0, State_Id=6.0),\n",
       " Row(Individual_Tobacco_Rate=0.0, Area_Id=3.0, State_Id=6.0),\n",
       " Row(Individual_Tobacco_Rate=0.0, Area_Id=3.0, State_Id=6.0),\n",
       " Row(Individual_Tobacco_Rate=0.0, Area_Id=0.0, State_Id=6.0),\n",
       " Row(Individual_Tobacco_Rate=0.0, Area_Id=0.0, State_Id=6.0),\n",
       " Row(Individual_Tobacco_Rate=0.0, Area_Id=0.0, State_Id=6.0),\n",
       " Row(Individual_Tobacco_Rate=0.0, Area_Id=0.0, State_Id=6.0),\n",
       " Row(Individual_Tobacco_Rate=0.0, Area_Id=0.0, State_Id=6.0),\n",
       " Row(Individual_Tobacco_Rate=0.0, Area_Id=0.0, State_Id=6.0),\n",
       " Row(Individual_Tobacco_Rate=0.0, Area_Id=0.0, State_Id=6.0),\n",
       " Row(Individual_Tobacco_Rate=0.0, Area_Id=3.0, State_Id=6.0),\n",
       " Row(Individual_Tobacco_Rate=0.0, Area_Id=3.0, State_Id=6.0),\n",
       " Row(Individual_Tobacco_Rate=0.0, Area_Id=3.0, State_Id=6.0),\n",
       " Row(Individual_Tobacco_Rate=0.0, Area_Id=3.0, State_Id=6.0),\n",
       " Row(Individual_Tobacco_Rate=0.0, Area_Id=3.0, State_Id=6.0),\n",
       " Row(Individual_Tobacco_Rate=0.0, Area_Id=3.0, State_Id=6.0),\n",
       " Row(Individual_Tobacco_Rate=0.0, Area_Id=3.0, State_Id=6.0),\n",
       " Row(Individual_Tobacco_Rate=0.0, Area_Id=3.0, State_Id=6.0),\n",
       " Row(Individual_Tobacco_Rate=0.0, Area_Id=0.0, State_Id=6.0),\n",
       " Row(Individual_Tobacco_Rate=0.0, Area_Id=0.0, State_Id=6.0),\n",
       " Row(Individual_Tobacco_Rate=0.0, Area_Id=0.0, State_Id=6.0),\n",
       " Row(Individual_Tobacco_Rate=0.0, Area_Id=0.0, State_Id=6.0),\n",
       " Row(Individual_Tobacco_Rate=0.0, Area_Id=0.0, State_Id=6.0),\n",
       " Row(Individual_Tobacco_Rate=0.0, Area_Id=5.0, State_Id=6.0),\n",
       " Row(Individual_Tobacco_Rate=0.0, Area_Id=5.0, State_Id=6.0),\n",
       " Row(Individual_Tobacco_Rate=0.0, Area_Id=5.0, State_Id=6.0),\n",
       " Row(Individual_Tobacco_Rate=0.0, Area_Id=5.0, State_Id=6.0),\n",
       " Row(Individual_Tobacco_Rate=0.0, Area_Id=5.0, State_Id=6.0),\n",
       " Row(Individual_Tobacco_Rate=0.0, Area_Id=3.0, State_Id=6.0),\n",
       " Row(Individual_Tobacco_Rate=0.0, Area_Id=3.0, State_Id=6.0),\n",
       " Row(Individual_Tobacco_Rate=0.0, Area_Id=3.0, State_Id=6.0),\n",
       " Row(Individual_Tobacco_Rate=0.0, Area_Id=3.0, State_Id=6.0),\n",
       " Row(Individual_Tobacco_Rate=0.0, Area_Id=0.0, State_Id=6.0),\n",
       " Row(Individual_Tobacco_Rate=0.0, Area_Id=0.0, State_Id=6.0),\n",
       " Row(Individual_Tobacco_Rate=0.0, Area_Id=0.0, State_Id=6.0),\n",
       " Row(Individual_Tobacco_Rate=0.0, Area_Id=0.0, State_Id=6.0),\n",
       " Row(Individual_Tobacco_Rate=0.0, Area_Id=5.0, State_Id=6.0),\n",
       " Row(Individual_Tobacco_Rate=0.0, Area_Id=5.0, State_Id=6.0),\n",
       " Row(Individual_Tobacco_Rate=0.0, Area_Id=5.0, State_Id=6.0),\n",
       " Row(Individual_Tobacco_Rate=0.0, Area_Id=5.0, State_Id=6.0),\n",
       " Row(Individual_Tobacco_Rate=0.0, Area_Id=5.0, State_Id=6.0),\n",
       " Row(Individual_Tobacco_Rate=0.0, Area_Id=3.0, State_Id=6.0),\n",
       " Row(Individual_Tobacco_Rate=0.0, Area_Id=3.0, State_Id=6.0),\n",
       " Row(Individual_Tobacco_Rate=0.0, Area_Id=3.0, State_Id=6.0),\n",
       " Row(Individual_Tobacco_Rate=0.0, Area_Id=3.0, State_Id=6.0),\n",
       " Row(Individual_Tobacco_Rate=0.0, Area_Id=3.0, State_Id=6.0),\n",
       " Row(Individual_Tobacco_Rate=0.0, Area_Id=3.0, State_Id=6.0),\n",
       " Row(Individual_Tobacco_Rate=0.0, Area_Id=3.0, State_Id=6.0),\n",
       " Row(Individual_Tobacco_Rate=0.0, Area_Id=3.0, State_Id=6.0),\n",
       " Row(Individual_Tobacco_Rate=0.0, Area_Id=3.0, State_Id=6.0),\n",
       " Row(Individual_Tobacco_Rate=0.0, Area_Id=0.0, State_Id=6.0),\n",
       " Row(Individual_Tobacco_Rate=0.0, Area_Id=0.0, State_Id=6.0),\n",
       " Row(Individual_Tobacco_Rate=0.0, Area_Id=0.0, State_Id=6.0),\n",
       " Row(Individual_Tobacco_Rate=0.0, Area_Id=0.0, State_Id=6.0),\n",
       " Row(Individual_Tobacco_Rate=0.0, Area_Id=0.0, State_Id=6.0),\n",
       " Row(Individual_Tobacco_Rate=0.0, Area_Id=0.0, State_Id=6.0),\n",
       " Row(Individual_Tobacco_Rate=0.0, Area_Id=0.0, State_Id=6.0),\n",
       " Row(Individual_Tobacco_Rate=0.0, Area_Id=0.0, State_Id=6.0),\n",
       " Row(Individual_Tobacco_Rate=0.0, Area_Id=5.0, State_Id=6.0),\n",
       " Row(Individual_Tobacco_Rate=0.0, Area_Id=5.0, State_Id=6.0),\n",
       " Row(Individual_Tobacco_Rate=0.0, Area_Id=5.0, State_Id=6.0),\n",
       " Row(Individual_Tobacco_Rate=0.0, Area_Id=5.0, State_Id=6.0),\n",
       " Row(Individual_Tobacco_Rate=0.0, Area_Id=3.0, State_Id=6.0),\n",
       " Row(Individual_Tobacco_Rate=0.0, Area_Id=3.0, State_Id=6.0),\n",
       " Row(Individual_Tobacco_Rate=0.0, Area_Id=3.0, State_Id=6.0),\n",
       " Row(Individual_Tobacco_Rate=0.0, Area_Id=3.0, State_Id=6.0),\n",
       " Row(Individual_Tobacco_Rate=0.0, Area_Id=3.0, State_Id=6.0),\n",
       " Row(Individual_Tobacco_Rate=0.0, Area_Id=3.0, State_Id=6.0),\n",
       " Row(Individual_Tobacco_Rate=0.0, Area_Id=3.0, State_Id=6.0),\n",
       " Row(Individual_Tobacco_Rate=0.0, Area_Id=3.0, State_Id=6.0),\n",
       " Row(Individual_Tobacco_Rate=0.0, Area_Id=3.0, State_Id=6.0),\n",
       " Row(Individual_Tobacco_Rate=0.0, Area_Id=0.0, State_Id=6.0),\n",
       " Row(Individual_Tobacco_Rate=0.0, Area_Id=0.0, State_Id=6.0),\n",
       " Row(Individual_Tobacco_Rate=0.0, Area_Id=5.0, State_Id=6.0),\n",
       " Row(Individual_Tobacco_Rate=0.0, Area_Id=5.0, State_Id=6.0),\n",
       " Row(Individual_Tobacco_Rate=0.0, Area_Id=5.0, State_Id=6.0),\n",
       " Row(Individual_Tobacco_Rate=0.0, Area_Id=5.0, State_Id=6.0),\n",
       " Row(Individual_Tobacco_Rate=0.0, Area_Id=3.0, State_Id=6.0),\n",
       " Row(Individual_Tobacco_Rate=0.0, Area_Id=3.0, State_Id=6.0),\n",
       " Row(Individual_Tobacco_Rate=0.0, Area_Id=3.0, State_Id=6.0),\n",
       " Row(Individual_Tobacco_Rate=0.0, Area_Id=3.0, State_Id=6.0),\n",
       " Row(Individual_Tobacco_Rate=0.0, Area_Id=3.0, State_Id=6.0),\n",
       " Row(Individual_Tobacco_Rate=0.0, Area_Id=3.0, State_Id=6.0),\n",
       " Row(Individual_Tobacco_Rate=0.0, Area_Id=0.0, State_Id=6.0),\n",
       " Row(Individual_Tobacco_Rate=0.0, Area_Id=0.0, State_Id=6.0),\n",
       " Row(Individual_Tobacco_Rate=0.0, Area_Id=0.0, State_Id=6.0),\n",
       " Row(Individual_Tobacco_Rate=0.0, Area_Id=0.0, State_Id=6.0),\n",
       " Row(Individual_Tobacco_Rate=0.0, Area_Id=0.0, State_Id=6.0),\n",
       " Row(Individual_Tobacco_Rate=0.0, Area_Id=0.0, State_Id=6.0),\n",
       " Row(Individual_Tobacco_Rate=0.0, Area_Id=0.0, State_Id=6.0),\n",
       " Row(Individual_Tobacco_Rate=0.0, Area_Id=5.0, State_Id=6.0),\n",
       " Row(Individual_Tobacco_Rate=0.0, Area_Id=5.0, State_Id=6.0),\n",
       " Row(Individual_Tobacco_Rate=0.0, Area_Id=5.0, State_Id=6.0),\n",
       " Row(Individual_Tobacco_Rate=0.0, Area_Id=5.0, State_Id=6.0),\n",
       " Row(Individual_Tobacco_Rate=0.0, Area_Id=5.0, State_Id=6.0),\n",
       " Row(Individual_Tobacco_Rate=0.0, Area_Id=3.0, State_Id=6.0),\n",
       " Row(Individual_Tobacco_Rate=0.0, Area_Id=3.0, State_Id=6.0),\n",
       " Row(Individual_Tobacco_Rate=0.0, Area_Id=3.0, State_Id=6.0),\n",
       " Row(Individual_Tobacco_Rate=0.0, Area_Id=3.0, State_Id=6.0),\n",
       " Row(Individual_Tobacco_Rate=0.0, Area_Id=3.0, State_Id=6.0),\n",
       " Row(Individual_Tobacco_Rate=0.0, Area_Id=3.0, State_Id=6.0),\n",
       " Row(Individual_Tobacco_Rate=0.0, Area_Id=3.0, State_Id=6.0),\n",
       " Row(Individual_Tobacco_Rate=0.0, Area_Id=3.0, State_Id=6.0),\n",
       " Row(Individual_Tobacco_Rate=0.0, Area_Id=3.0, State_Id=6.0),\n",
       " Row(Individual_Tobacco_Rate=0.0, Area_Id=3.0, State_Id=6.0),\n",
       " Row(Individual_Tobacco_Rate=0.0, Area_Id=0.0, State_Id=6.0),\n",
       " Row(Individual_Tobacco_Rate=0.0, Area_Id=0.0, State_Id=6.0),\n",
       " Row(Individual_Tobacco_Rate=0.0, Area_Id=0.0, State_Id=6.0),\n",
       " Row(Individual_Tobacco_Rate=0.0, Area_Id=0.0, State_Id=6.0),\n",
       " Row(Individual_Tobacco_Rate=0.0, Area_Id=0.0, State_Id=6.0),\n",
       " Row(Individual_Tobacco_Rate=0.0, Area_Id=0.0, State_Id=6.0),\n",
       " Row(Individual_Tobacco_Rate=0.0, Area_Id=0.0, State_Id=6.0),\n",
       " Row(Individual_Tobacco_Rate=0.0, Area_Id=0.0, State_Id=6.0),\n",
       " Row(Individual_Tobacco_Rate=0.0, Area_Id=5.0, State_Id=6.0),\n",
       " Row(Individual_Tobacco_Rate=0.0, Area_Id=5.0, State_Id=6.0),\n",
       " Row(Individual_Tobacco_Rate=0.0, Area_Id=5.0, State_Id=6.0),\n",
       " Row(Individual_Tobacco_Rate=0.0, Area_Id=5.0, State_Id=6.0),\n",
       " Row(Individual_Tobacco_Rate=0.0, Area_Id=5.0, State_Id=6.0),\n",
       " Row(Individual_Tobacco_Rate=0.0, Area_Id=5.0, State_Id=6.0),\n",
       " Row(Individual_Tobacco_Rate=0.0, Area_Id=3.0, State_Id=6.0),\n",
       " Row(Individual_Tobacco_Rate=0.0, Area_Id=3.0, State_Id=6.0),\n",
       " Row(Individual_Tobacco_Rate=0.0, Area_Id=3.0, State_Id=6.0),\n",
       " Row(Individual_Tobacco_Rate=0.0, Area_Id=3.0, State_Id=6.0),\n",
       " Row(Individual_Tobacco_Rate=0.0, Area_Id=3.0, State_Id=6.0),\n",
       " Row(Individual_Tobacco_Rate=0.0, Area_Id=3.0, State_Id=6.0),\n",
       " Row(Individual_Tobacco_Rate=0.0, Area_Id=3.0, State_Id=6.0),\n",
       " Row(Individual_Tobacco_Rate=0.0, Area_Id=3.0, State_Id=6.0),\n",
       " Row(Individual_Tobacco_Rate=0.0, Area_Id=3.0, State_Id=6.0),\n",
       " Row(Individual_Tobacco_Rate=0.0, Area_Id=3.0, State_Id=6.0),\n",
       " Row(Individual_Tobacco_Rate=0.0, Area_Id=3.0, State_Id=6.0),\n",
       " Row(Individual_Tobacco_Rate=0.0, Area_Id=3.0, State_Id=6.0),\n",
       " Row(Individual_Tobacco_Rate=0.0, Area_Id=3.0, State_Id=6.0),\n",
       " Row(Individual_Tobacco_Rate=0.0, Area_Id=3.0, State_Id=6.0),\n",
       " Row(Individual_Tobacco_Rate=0.0, Area_Id=3.0, State_Id=6.0),\n",
       " Row(Individual_Tobacco_Rate=0.0, Area_Id=3.0, State_Id=6.0),\n",
       " Row(Individual_Tobacco_Rate=0.0, Area_Id=3.0, State_Id=6.0),\n",
       " Row(Individual_Tobacco_Rate=0.0, Area_Id=3.0, State_Id=6.0),\n",
       " Row(Individual_Tobacco_Rate=0.0, Area_Id=3.0, State_Id=6.0),\n",
       " Row(Individual_Tobacco_Rate=0.0, Area_Id=3.0, State_Id=6.0),\n",
       " Row(Individual_Tobacco_Rate=0.0, Area_Id=3.0, State_Id=6.0),\n",
       " Row(Individual_Tobacco_Rate=0.0, Area_Id=3.0, State_Id=6.0),\n",
       " Row(Individual_Tobacco_Rate=0.0, Area_Id=3.0, State_Id=6.0),\n",
       " Row(Individual_Tobacco_Rate=0.0, Area_Id=3.0, State_Id=6.0),\n",
       " Row(Individual_Tobacco_Rate=0.0, Area_Id=3.0, State_Id=6.0),\n",
       " Row(Individual_Tobacco_Rate=0.0, Area_Id=3.0, State_Id=6.0),\n",
       " Row(Individual_Tobacco_Rate=0.0, Area_Id=3.0, State_Id=6.0),\n",
       " Row(Individual_Tobacco_Rate=0.0, Area_Id=3.0, State_Id=6.0),\n",
       " Row(Individual_Tobacco_Rate=0.0, Area_Id=3.0, State_Id=6.0),\n",
       " Row(Individual_Tobacco_Rate=0.0, Area_Id=3.0, State_Id=6.0),\n",
       " Row(Individual_Tobacco_Rate=0.0, Area_Id=3.0, State_Id=6.0),\n",
       " Row(Individual_Tobacco_Rate=0.0, Area_Id=3.0, State_Id=6.0),\n",
       " Row(Individual_Tobacco_Rate=0.0, Area_Id=3.0, State_Id=6.0),\n",
       " Row(Individual_Tobacco_Rate=0.0, Area_Id=3.0, State_Id=6.0),\n",
       " Row(Individual_Tobacco_Rate=0.0, Area_Id=3.0, State_Id=6.0),\n",
       " Row(Individual_Tobacco_Rate=0.0, Area_Id=3.0, State_Id=6.0),\n",
       " Row(Individual_Tobacco_Rate=0.0, Area_Id=3.0, State_Id=6.0),\n",
       " Row(Individual_Tobacco_Rate=0.0, Area_Id=3.0, State_Id=6.0),\n",
       " Row(Individual_Tobacco_Rate=0.0, Area_Id=3.0, State_Id=6.0),\n",
       " Row(Individual_Tobacco_Rate=0.0, Area_Id=3.0, State_Id=6.0),\n",
       " Row(Individual_Tobacco_Rate=0.0, Area_Id=3.0, State_Id=6.0),\n",
       " Row(Individual_Tobacco_Rate=0.0, Area_Id=3.0, State_Id=6.0),\n",
       " Row(Individual_Tobacco_Rate=0.0, Area_Id=3.0, State_Id=6.0),\n",
       " Row(Individual_Tobacco_Rate=0.0, Area_Id=3.0, State_Id=6.0),\n",
       " Row(Individual_Tobacco_Rate=0.0, Area_Id=3.0, State_Id=6.0),\n",
       " Row(Individual_Tobacco_Rate=0.0, Area_Id=3.0, State_Id=6.0),\n",
       " Row(Individual_Tobacco_Rate=0.0, Area_Id=3.0, State_Id=6.0),\n",
       " Row(Individual_Tobacco_Rate=0.0, Area_Id=3.0, State_Id=6.0),\n",
       " Row(Individual_Tobacco_Rate=0.0, Area_Id=3.0, State_Id=6.0),\n",
       " Row(Individual_Tobacco_Rate=0.0, Area_Id=3.0, State_Id=6.0),\n",
       " Row(Individual_Tobacco_Rate=0.0, Area_Id=3.0, State_Id=6.0),\n",
       " Row(Individual_Tobacco_Rate=0.0, Area_Id=3.0, State_Id=6.0),\n",
       " Row(Individual_Tobacco_Rate=0.0, Area_Id=3.0, State_Id=6.0),\n",
       " Row(Individual_Tobacco_Rate=0.0, Area_Id=3.0, State_Id=6.0),\n",
       " Row(Individual_Tobacco_Rate=0.0, Area_Id=3.0, State_Id=6.0),\n",
       " Row(Individual_Tobacco_Rate=0.0, Area_Id=3.0, State_Id=6.0),\n",
       " Row(Individual_Tobacco_Rate=0.0, Area_Id=3.0, State_Id=6.0),\n",
       " Row(Individual_Tobacco_Rate=0.0, Area_Id=3.0, State_Id=6.0),\n",
       " Row(Individual_Tobacco_Rate=0.0, Area_Id=3.0, State_Id=6.0),\n",
       " Row(Individual_Tobacco_Rate=0.0, Area_Id=3.0, State_Id=6.0),\n",
       " Row(Individual_Tobacco_Rate=0.0, Area_Id=3.0, State_Id=6.0),\n",
       " Row(Individual_Tobacco_Rate=0.0, Area_Id=3.0, State_Id=6.0),\n",
       " Row(Individual_Tobacco_Rate=0.0, Area_Id=3.0, State_Id=6.0),\n",
       " Row(Individual_Tobacco_Rate=0.0, Area_Id=3.0, State_Id=6.0),\n",
       " Row(Individual_Tobacco_Rate=0.0, Area_Id=3.0, State_Id=6.0),\n",
       " Row(Individual_Tobacco_Rate=0.0, Area_Id=3.0, State_Id=6.0),\n",
       " Row(Individual_Tobacco_Rate=0.0, Area_Id=3.0, State_Id=6.0),\n",
       " Row(Individual_Tobacco_Rate=0.0, Area_Id=3.0, State_Id=6.0),\n",
       " Row(Individual_Tobacco_Rate=0.0, Area_Id=3.0, State_Id=6.0),\n",
       " Row(Individual_Tobacco_Rate=0.0, Area_Id=3.0, State_Id=6.0),\n",
       " Row(Individual_Tobacco_Rate=0.0, Area_Id=3.0, State_Id=6.0),\n",
       " Row(Individual_Tobacco_Rate=0.0, Area_Id=3.0, State_Id=6.0),\n",
       " Row(Individual_Tobacco_Rate=0.0, Area_Id=3.0, State_Id=6.0),\n",
       " Row(Individual_Tobacco_Rate=0.0, Area_Id=3.0, State_Id=6.0),\n",
       " Row(Individual_Tobacco_Rate=0.0, Area_Id=3.0, State_Id=6.0),\n",
       " Row(Individual_Tobacco_Rate=0.0, Area_Id=3.0, State_Id=6.0),\n",
       " Row(Individual_Tobacco_Rate=0.0, Area_Id=3.0, State_Id=6.0),\n",
       " Row(Individual_Tobacco_Rate=0.0, Area_Id=3.0, State_Id=6.0),\n",
       " Row(Individual_Tobacco_Rate=0.0, Area_Id=3.0, State_Id=6.0),\n",
       " Row(Individual_Tobacco_Rate=0.0, Area_Id=3.0, State_Id=6.0),\n",
       " Row(Individual_Tobacco_Rate=0.0, Area_Id=3.0, State_Id=6.0),\n",
       " Row(Individual_Tobacco_Rate=0.0, Area_Id=3.0, State_Id=6.0),\n",
       " Row(Individual_Tobacco_Rate=0.0, Area_Id=3.0, State_Id=6.0),\n",
       " Row(Individual_Tobacco_Rate=0.0, Area_Id=3.0, State_Id=6.0),\n",
       " Row(Individual_Tobacco_Rate=0.0, Area_Id=3.0, State_Id=6.0),\n",
       " Row(Individual_Tobacco_Rate=0.0, Area_Id=3.0, State_Id=6.0),\n",
       " Row(Individual_Tobacco_Rate=0.0, Area_Id=3.0, State_Id=6.0),\n",
       " Row(Individual_Tobacco_Rate=0.0, Area_Id=3.0, State_Id=6.0),\n",
       " Row(Individual_Tobacco_Rate=0.0, Area_Id=3.0, State_Id=6.0),\n",
       " Row(Individual_Tobacco_Rate=0.0, Area_Id=3.0, State_Id=6.0),\n",
       " Row(Individual_Tobacco_Rate=0.0, Area_Id=3.0, State_Id=6.0),\n",
       " Row(Individual_Tobacco_Rate=0.0, Area_Id=3.0, State_Id=6.0),\n",
       " Row(Individual_Tobacco_Rate=0.0, Area_Id=3.0, State_Id=6.0),\n",
       " Row(Individual_Tobacco_Rate=0.0, Area_Id=3.0, State_Id=6.0),\n",
       " Row(Individual_Tobacco_Rate=0.0, Area_Id=3.0, State_Id=6.0),\n",
       " Row(Individual_Tobacco_Rate=0.0, Area_Id=3.0, State_Id=6.0),\n",
       " Row(Individual_Tobacco_Rate=0.0, Area_Id=3.0, State_Id=6.0),\n",
       " Row(Individual_Tobacco_Rate=0.0, Area_Id=3.0, State_Id=6.0),\n",
       " Row(Individual_Tobacco_Rate=0.0, Area_Id=3.0, State_Id=6.0),\n",
       " Row(Individual_Tobacco_Rate=0.0, Area_Id=3.0, State_Id=6.0),\n",
       " Row(Individual_Tobacco_Rate=0.0, Area_Id=3.0, State_Id=6.0),\n",
       " Row(Individual_Tobacco_Rate=0.0, Area_Id=3.0, State_Id=6.0),\n",
       " Row(Individual_Tobacco_Rate=0.0, Area_Id=3.0, State_Id=6.0),\n",
       " Row(Individual_Tobacco_Rate=0.0, Area_Id=3.0, State_Id=6.0),\n",
       " Row(Individual_Tobacco_Rate=0.0, Area_Id=3.0, State_Id=6.0),\n",
       " Row(Individual_Tobacco_Rate=0.0, Area_Id=3.0, State_Id=6.0),\n",
       " Row(Individual_Tobacco_Rate=0.0, Area_Id=3.0, State_Id=6.0),\n",
       " Row(Individual_Tobacco_Rate=0.0, Area_Id=3.0, State_Id=6.0),\n",
       " Row(Individual_Tobacco_Rate=0.0, Area_Id=3.0, State_Id=6.0),\n",
       " Row(Individual_Tobacco_Rate=0.0, Area_Id=3.0, State_Id=6.0),\n",
       " Row(Individual_Tobacco_Rate=0.0, Area_Id=3.0, State_Id=6.0),\n",
       " Row(Individual_Tobacco_Rate=0.0, Area_Id=3.0, State_Id=6.0),\n",
       " Row(Individual_Tobacco_Rate=0.0, Area_Id=3.0, State_Id=6.0),\n",
       " Row(Individual_Tobacco_Rate=0.0, Area_Id=3.0, State_Id=6.0),\n",
       " Row(Individual_Tobacco_Rate=0.0, Area_Id=3.0, State_Id=6.0),\n",
       " Row(Individual_Tobacco_Rate=0.0, Area_Id=3.0, State_Id=6.0),\n",
       " Row(Individual_Tobacco_Rate=0.0, Area_Id=3.0, State_Id=6.0),\n",
       " Row(Individual_Tobacco_Rate=0.0, Area_Id=3.0, State_Id=6.0),\n",
       " Row(Individual_Tobacco_Rate=0.0, Area_Id=3.0, State_Id=6.0),\n",
       " Row(Individual_Tobacco_Rate=0.0, Area_Id=3.0, State_Id=6.0),\n",
       " Row(Individual_Tobacco_Rate=0.0, Area_Id=3.0, State_Id=6.0),\n",
       " Row(Individual_Tobacco_Rate=0.0, Area_Id=3.0, State_Id=6.0),\n",
       " Row(Individual_Tobacco_Rate=0.0, Area_Id=3.0, State_Id=6.0),\n",
       " Row(Individual_Tobacco_Rate=0.0, Area_Id=3.0, State_Id=6.0),\n",
       " Row(Individual_Tobacco_Rate=0.0, Area_Id=3.0, State_Id=6.0),\n",
       " Row(Individual_Tobacco_Rate=0.0, Area_Id=3.0, State_Id=6.0),\n",
       " Row(Individual_Tobacco_Rate=0.0, Area_Id=3.0, State_Id=6.0),\n",
       " Row(Individual_Tobacco_Rate=0.0, Area_Id=3.0, State_Id=6.0),\n",
       " Row(Individual_Tobacco_Rate=0.0, Area_Id=3.0, State_Id=6.0),\n",
       " Row(Individual_Tobacco_Rate=0.0, Area_Id=3.0, State_Id=6.0),\n",
       " Row(Individual_Tobacco_Rate=0.0, Area_Id=3.0, State_Id=6.0),\n",
       " Row(Individual_Tobacco_Rate=0.0, Area_Id=3.0, State_Id=6.0),\n",
       " Row(Individual_Tobacco_Rate=0.0, Area_Id=3.0, State_Id=6.0),\n",
       " Row(Individual_Tobacco_Rate=0.0, Area_Id=3.0, State_Id=6.0),\n",
       " Row(Individual_Tobacco_Rate=0.0, Area_Id=3.0, State_Id=6.0),\n",
       " Row(Individual_Tobacco_Rate=0.0, Area_Id=3.0, State_Id=6.0),\n",
       " Row(Individual_Tobacco_Rate=0.0, Area_Id=3.0, State_Id=6.0),\n",
       " Row(Individual_Tobacco_Rate=0.0, Area_Id=3.0, State_Id=6.0),\n",
       " Row(Individual_Tobacco_Rate=0.0, Area_Id=3.0, State_Id=6.0),\n",
       " Row(Individual_Tobacco_Rate=0.0, Area_Id=3.0, State_Id=6.0),\n",
       " Row(Individual_Tobacco_Rate=0.0, Area_Id=3.0, State_Id=6.0),\n",
       " Row(Individual_Tobacco_Rate=0.0, Area_Id=3.0, State_Id=6.0),\n",
       " Row(Individual_Tobacco_Rate=0.0, Area_Id=3.0, State_Id=6.0),\n",
       " Row(Individual_Tobacco_Rate=0.0, Area_Id=3.0, State_Id=6.0),\n",
       " Row(Individual_Tobacco_Rate=0.0, Area_Id=3.0, State_Id=6.0),\n",
       " Row(Individual_Tobacco_Rate=0.0, Area_Id=3.0, State_Id=6.0),\n",
       " Row(Individual_Tobacco_Rate=0.0, Area_Id=3.0, State_Id=6.0),\n",
       " Row(Individual_Tobacco_Rate=0.0, Area_Id=3.0, State_Id=6.0),\n",
       " Row(Individual_Tobacco_Rate=0.0, Area_Id=3.0, State_Id=6.0),\n",
       " Row(Individual_Tobacco_Rate=0.0, Area_Id=3.0, State_Id=6.0),\n",
       " Row(Individual_Tobacco_Rate=0.0, Area_Id=3.0, State_Id=6.0),\n",
       " Row(Individual_Tobacco_Rate=0.0, Area_Id=3.0, State_Id=6.0),\n",
       " Row(Individual_Tobacco_Rate=0.0, Area_Id=3.0, State_Id=6.0),\n",
       " Row(Individual_Tobacco_Rate=0.0, Area_Id=3.0, State_Id=6.0),\n",
       " Row(Individual_Tobacco_Rate=0.0, Area_Id=3.0, State_Id=6.0),\n",
       " Row(Individual_Tobacco_Rate=0.0, Area_Id=3.0, State_Id=6.0),\n",
       " Row(Individual_Tobacco_Rate=0.0, Area_Id=3.0, State_Id=6.0),\n",
       " Row(Individual_Tobacco_Rate=0.0, Area_Id=3.0, State_Id=6.0),\n",
       " Row(Individual_Tobacco_Rate=0.0, Area_Id=3.0, State_Id=6.0),\n",
       " Row(Individual_Tobacco_Rate=0.0, Area_Id=3.0, State_Id=6.0),\n",
       " Row(Individual_Tobacco_Rate=0.0, Area_Id=3.0, State_Id=6.0),\n",
       " Row(Individual_Tobacco_Rate=0.0, Area_Id=3.0, State_Id=6.0),\n",
       " Row(Individual_Tobacco_Rate=0.0, Area_Id=3.0, State_Id=6.0),\n",
       " Row(Individual_Tobacco_Rate=0.0, Area_Id=3.0, State_Id=6.0),\n",
       " Row(Individual_Tobacco_Rate=0.0, Area_Id=3.0, State_Id=6.0),\n",
       " Row(Individual_Tobacco_Rate=0.0, Area_Id=3.0, State_Id=6.0),\n",
       " Row(Individual_Tobacco_Rate=0.0, Area_Id=3.0, State_Id=6.0),\n",
       " Row(Individual_Tobacco_Rate=0.0, Area_Id=3.0, State_Id=6.0),\n",
       " Row(Individual_Tobacco_Rate=0.0, Area_Id=3.0, State_Id=6.0),\n",
       " Row(Individual_Tobacco_Rate=0.0, Area_Id=3.0, State_Id=6.0),\n",
       " Row(Individual_Tobacco_Rate=0.0, Area_Id=3.0, State_Id=6.0),\n",
       " Row(Individual_Tobacco_Rate=0.0, Area_Id=3.0, State_Id=6.0),\n",
       " Row(Individual_Tobacco_Rate=0.0, Area_Id=3.0, State_Id=6.0),\n",
       " Row(Individual_Tobacco_Rate=0.0, Area_Id=3.0, State_Id=6.0),\n",
       " Row(Individual_Tobacco_Rate=0.0, Area_Id=3.0, State_Id=6.0),\n",
       " Row(Individual_Tobacco_Rate=0.0, Area_Id=3.0, State_Id=6.0),\n",
       " Row(Individual_Tobacco_Rate=0.0, Area_Id=3.0, State_Id=6.0),\n",
       " Row(Individual_Tobacco_Rate=0.0, Area_Id=3.0, State_Id=6.0),\n",
       " Row(Individual_Tobacco_Rate=0.0, Area_Id=3.0, State_Id=6.0),\n",
       " Row(Individual_Tobacco_Rate=0.0, Area_Id=3.0, State_Id=6.0),\n",
       " Row(Individual_Tobacco_Rate=0.0, Area_Id=3.0, State_Id=6.0),\n",
       " Row(Individual_Tobacco_Rate=0.0, Area_Id=3.0, State_Id=6.0),\n",
       " Row(Individual_Tobacco_Rate=0.0, Area_Id=3.0, State_Id=6.0),\n",
       " Row(Individual_Tobacco_Rate=0.0, Area_Id=3.0, State_Id=6.0),\n",
       " Row(Individual_Tobacco_Rate=0.0, Area_Id=3.0, State_Id=6.0),\n",
       " Row(Individual_Tobacco_Rate=0.0, Area_Id=3.0, State_Id=6.0),\n",
       " Row(Individual_Tobacco_Rate=0.0, Area_Id=3.0, State_Id=6.0),\n",
       " Row(Individual_Tobacco_Rate=0.0, Area_Id=3.0, State_Id=6.0),\n",
       " Row(Individual_Tobacco_Rate=0.0, Area_Id=3.0, State_Id=6.0),\n",
       " Row(Individual_Tobacco_Rate=0.0, Area_Id=3.0, State_Id=6.0),\n",
       " Row(Individual_Tobacco_Rate=0.0, Area_Id=3.0, State_Id=6.0),\n",
       " Row(Individual_Tobacco_Rate=0.0, Area_Id=3.0, State_Id=6.0),\n",
       " Row(Individual_Tobacco_Rate=0.0, Area_Id=3.0, State_Id=6.0),\n",
       " Row(Individual_Tobacco_Rate=0.0, Area_Id=3.0, State_Id=6.0),\n",
       " Row(Individual_Tobacco_Rate=0.0, Area_Id=3.0, State_Id=6.0),\n",
       " Row(Individual_Tobacco_Rate=0.0, Area_Id=3.0, State_Id=6.0),\n",
       " Row(Individual_Tobacco_Rate=0.0, Area_Id=3.0, State_Id=6.0),\n",
       " Row(Individual_Tobacco_Rate=0.0, Area_Id=3.0, State_Id=6.0),\n",
       " Row(Individual_Tobacco_Rate=0.0, Area_Id=3.0, State_Id=6.0),\n",
       " Row(Individual_Tobacco_Rate=0.0, Area_Id=3.0, State_Id=6.0),\n",
       " Row(Individual_Tobacco_Rate=0.0, Area_Id=3.0, State_Id=6.0),\n",
       " Row(Individual_Tobacco_Rate=0.0, Area_Id=3.0, State_Id=6.0),\n",
       " Row(Individual_Tobacco_Rate=0.0, Area_Id=3.0, State_Id=6.0),\n",
       " Row(Individual_Tobacco_Rate=0.0, Area_Id=3.0, State_Id=6.0),\n",
       " Row(Individual_Tobacco_Rate=0.0, Area_Id=3.0, State_Id=6.0),\n",
       " Row(Individual_Tobacco_Rate=0.0, Area_Id=3.0, State_Id=6.0),\n",
       " Row(Individual_Tobacco_Rate=0.0, Area_Id=3.0, State_Id=6.0),\n",
       " Row(Individual_Tobacco_Rate=0.0, Area_Id=3.0, State_Id=6.0),\n",
       " Row(Individual_Tobacco_Rate=0.0, Area_Id=3.0, State_Id=6.0),\n",
       " Row(Individual_Tobacco_Rate=0.0, Area_Id=3.0, State_Id=6.0),\n",
       " Row(Individual_Tobacco_Rate=0.0, Area_Id=3.0, State_Id=6.0),\n",
       " Row(Individual_Tobacco_Rate=0.0, Area_Id=3.0, State_Id=6.0),\n",
       " Row(Individual_Tobacco_Rate=0.0, Area_Id=3.0, State_Id=6.0),\n",
       " Row(Individual_Tobacco_Rate=0.0, Area_Id=3.0, State_Id=6.0),\n",
       " Row(Individual_Tobacco_Rate=0.0, Area_Id=3.0, State_Id=6.0),\n",
       " Row(Individual_Tobacco_Rate=0.0, Area_Id=3.0, State_Id=6.0),\n",
       " Row(Individual_Tobacco_Rate=0.0, Area_Id=3.0, State_Id=6.0),\n",
       " Row(Individual_Tobacco_Rate=0.0, Area_Id=3.0, State_Id=6.0),\n",
       " Row(Individual_Tobacco_Rate=0.0, Area_Id=3.0, State_Id=6.0),\n",
       " Row(Individual_Tobacco_Rate=0.0, Area_Id=3.0, State_Id=6.0),\n",
       " Row(Individual_Tobacco_Rate=0.0, Area_Id=3.0, State_Id=6.0),\n",
       " Row(Individual_Tobacco_Rate=0.0, Area_Id=3.0, State_Id=6.0),\n",
       " Row(Individual_Tobacco_Rate=0.0, Area_Id=3.0, State_Id=6.0),\n",
       " Row(Individual_Tobacco_Rate=0.0, Area_Id=3.0, State_Id=6.0),\n",
       " Row(Individual_Tobacco_Rate=0.0, Area_Id=3.0, State_Id=6.0),\n",
       " Row(Individual_Tobacco_Rate=0.0, Area_Id=3.0, State_Id=6.0),\n",
       " Row(Individual_Tobacco_Rate=0.0, Area_Id=3.0, State_Id=6.0),\n",
       " Row(Individual_Tobacco_Rate=0.0, Area_Id=3.0, State_Id=6.0),\n",
       " Row(Individual_Tobacco_Rate=0.0, Area_Id=3.0, State_Id=6.0),\n",
       " Row(Individual_Tobacco_Rate=0.0, Area_Id=3.0, State_Id=6.0),\n",
       " Row(Individual_Tobacco_Rate=0.0, Area_Id=3.0, State_Id=6.0),\n",
       " Row(Individual_Tobacco_Rate=0.0, Area_Id=3.0, State_Id=6.0),\n",
       " Row(Individual_Tobacco_Rate=0.0, Area_Id=3.0, State_Id=6.0),\n",
       " Row(Individual_Tobacco_Rate=0.0, Area_Id=3.0, State_Id=6.0),\n",
       " Row(Individual_Tobacco_Rate=0.0, Area_Id=3.0, State_Id=6.0),\n",
       " Row(Individual_Tobacco_Rate=0.0, Area_Id=3.0, State_Id=6.0),\n",
       " Row(Individual_Tobacco_Rate=0.0, Area_Id=3.0, State_Id=6.0),\n",
       " Row(Individual_Tobacco_Rate=0.0, Area_Id=3.0, State_Id=6.0),\n",
       " Row(Individual_Tobacco_Rate=0.0, Area_Id=3.0, State_Id=6.0),\n",
       " Row(Individual_Tobacco_Rate=0.0, Area_Id=3.0, State_Id=6.0),\n",
       " Row(Individual_Tobacco_Rate=0.0, Area_Id=3.0, State_Id=6.0),\n",
       " Row(Individual_Tobacco_Rate=0.0, Area_Id=3.0, State_Id=6.0),\n",
       " Row(Individual_Tobacco_Rate=0.0, Area_Id=3.0, State_Id=6.0),\n",
       " Row(Individual_Tobacco_Rate=0.0, Area_Id=3.0, State_Id=6.0),\n",
       " Row(Individual_Tobacco_Rate=0.0, Area_Id=3.0, State_Id=6.0),\n",
       " Row(Individual_Tobacco_Rate=0.0, Area_Id=3.0, State_Id=6.0),\n",
       " Row(Individual_Tobacco_Rate=0.0, Area_Id=3.0, State_Id=6.0),\n",
       " Row(Individual_Tobacco_Rate=0.0, Area_Id=3.0, State_Id=6.0),\n",
       " Row(Individual_Tobacco_Rate=0.0, Area_Id=3.0, State_Id=6.0),\n",
       " Row(Individual_Tobacco_Rate=0.0, Area_Id=3.0, State_Id=6.0),\n",
       " Row(Individual_Tobacco_Rate=0.0, Area_Id=3.0, State_Id=6.0),\n",
       " Row(Individual_Tobacco_Rate=0.0, Area_Id=3.0, State_Id=6.0),\n",
       " Row(Individual_Tobacco_Rate=0.0, Area_Id=3.0, State_Id=6.0),\n",
       " Row(Individual_Tobacco_Rate=0.0, Area_Id=3.0, State_Id=6.0),\n",
       " Row(Individual_Tobacco_Rate=0.0, Area_Id=3.0, State_Id=6.0),\n",
       " Row(Individual_Tobacco_Rate=0.0, Area_Id=3.0, State_Id=6.0),\n",
       " Row(Individual_Tobacco_Rate=0.0, Area_Id=3.0, State_Id=6.0),\n",
       " Row(Individual_Tobacco_Rate=0.0, Area_Id=3.0, State_Id=6.0),\n",
       " Row(Individual_Tobacco_Rate=0.0, Area_Id=3.0, State_Id=6.0),\n",
       " Row(Individual_Tobacco_Rate=0.0, Area_Id=3.0, State_Id=6.0),\n",
       " Row(Individual_Tobacco_Rate=0.0, Area_Id=3.0, State_Id=6.0),\n",
       " Row(Individual_Tobacco_Rate=0.0, Area_Id=3.0, State_Id=6.0),\n",
       " Row(Individual_Tobacco_Rate=0.0, Area_Id=3.0, State_Id=6.0),\n",
       " Row(Individual_Tobacco_Rate=0.0, Area_Id=3.0, State_Id=6.0),\n",
       " Row(Individual_Tobacco_Rate=0.0, Area_Id=3.0, State_Id=6.0),\n",
       " Row(Individual_Tobacco_Rate=0.0, Area_Id=3.0, State_Id=6.0),\n",
       " Row(Individual_Tobacco_Rate=0.0, Area_Id=3.0, State_Id=6.0),\n",
       " Row(Individual_Tobacco_Rate=0.0, Area_Id=3.0, State_Id=6.0),\n",
       " Row(Individual_Tobacco_Rate=0.0, Area_Id=3.0, State_Id=6.0),\n",
       " Row(Individual_Tobacco_Rate=0.0, Area_Id=3.0, State_Id=6.0),\n",
       " Row(Individual_Tobacco_Rate=0.0, Area_Id=3.0, State_Id=6.0),\n",
       " Row(Individual_Tobacco_Rate=0.0, Area_Id=3.0, State_Id=6.0),\n",
       " Row(Individual_Tobacco_Rate=0.0, Area_Id=3.0, State_Id=6.0),\n",
       " Row(Individual_Tobacco_Rate=0.0, Area_Id=3.0, State_Id=6.0),\n",
       " Row(Individual_Tobacco_Rate=0.0, Area_Id=3.0, State_Id=6.0),\n",
       " Row(Individual_Tobacco_Rate=0.0, Area_Id=3.0, State_Id=6.0),\n",
       " Row(Individual_Tobacco_Rate=0.0, Area_Id=3.0, State_Id=6.0),\n",
       " Row(Individual_Tobacco_Rate=0.0, Area_Id=3.0, State_Id=6.0),\n",
       " Row(Individual_Tobacco_Rate=0.0, Area_Id=3.0, State_Id=6.0),\n",
       " Row(Individual_Tobacco_Rate=0.0, Area_Id=3.0, State_Id=6.0),\n",
       " Row(Individual_Tobacco_Rate=0.0, Area_Id=3.0, State_Id=6.0),\n",
       " Row(Individual_Tobacco_Rate=0.0, Area_Id=3.0, State_Id=6.0),\n",
       " Row(Individual_Tobacco_Rate=0.0, Area_Id=3.0, State_Id=6.0),\n",
       " Row(Individual_Tobacco_Rate=0.0, Area_Id=3.0, State_Id=6.0),\n",
       " Row(Individual_Tobacco_Rate=0.0, Area_Id=3.0, State_Id=6.0),\n",
       " Row(Individual_Tobacco_Rate=0.0, Area_Id=3.0, State_Id=6.0),\n",
       " Row(Individual_Tobacco_Rate=0.0, Area_Id=3.0, State_Id=6.0),\n",
       " Row(Individual_Tobacco_Rate=0.0, Area_Id=3.0, State_Id=6.0),\n",
       " Row(Individual_Tobacco_Rate=0.0, Area_Id=3.0, State_Id=6.0),\n",
       " Row(Individual_Tobacco_Rate=0.0, Area_Id=3.0, State_Id=6.0),\n",
       " Row(Individual_Tobacco_Rate=0.0, Area_Id=3.0, State_Id=6.0),\n",
       " Row(Individual_Tobacco_Rate=0.0, Area_Id=3.0, State_Id=6.0),\n",
       " Row(Individual_Tobacco_Rate=0.0, Area_Id=3.0, State_Id=6.0),\n",
       " Row(Individual_Tobacco_Rate=0.0, Area_Id=3.0, State_Id=6.0),\n",
       " Row(Individual_Tobacco_Rate=0.0, Area_Id=3.0, State_Id=6.0),\n",
       " Row(Individual_Tobacco_Rate=0.0, Area_Id=3.0, State_Id=6.0),\n",
       " Row(Individual_Tobacco_Rate=0.0, Area_Id=3.0, State_Id=6.0),\n",
       " Row(Individual_Tobacco_Rate=0.0, Area_Id=3.0, State_Id=6.0),\n",
       " Row(Individual_Tobacco_Rate=0.0, Area_Id=3.0, State_Id=6.0),\n",
       " Row(Individual_Tobacco_Rate=0.0, Area_Id=3.0, State_Id=6.0),\n",
       " Row(Individual_Tobacco_Rate=0.0, Area_Id=3.0, State_Id=6.0),\n",
       " Row(Individual_Tobacco_Rate=0.0, Area_Id=3.0, State_Id=6.0),\n",
       " Row(Individual_Tobacco_Rate=0.0, Area_Id=3.0, State_Id=6.0),\n",
       " Row(Individual_Tobacco_Rate=0.0, Area_Id=3.0, State_Id=6.0),\n",
       " Row(Individual_Tobacco_Rate=0.0, Area_Id=3.0, State_Id=6.0),\n",
       " Row(Individual_Tobacco_Rate=0.0, Area_Id=3.0, State_Id=6.0),\n",
       " Row(Individual_Tobacco_Rate=0.0, Area_Id=3.0, State_Id=6.0),\n",
       " Row(Individual_Tobacco_Rate=0.0, Area_Id=3.0, State_Id=6.0),\n",
       " Row(Individual_Tobacco_Rate=0.0, Area_Id=3.0, State_Id=6.0),\n",
       " Row(Individual_Tobacco_Rate=0.0, Area_Id=3.0, State_Id=6.0),\n",
       " Row(Individual_Tobacco_Rate=0.0, Area_Id=3.0, State_Id=6.0),\n",
       " Row(Individual_Tobacco_Rate=0.0, Area_Id=3.0, State_Id=6.0),\n",
       " Row(Individual_Tobacco_Rate=0.0, Area_Id=3.0, State_Id=6.0),\n",
       " Row(Individual_Tobacco_Rate=0.0, Area_Id=3.0, State_Id=6.0),\n",
       " Row(Individual_Tobacco_Rate=0.0, Area_Id=3.0, State_Id=6.0),\n",
       " Row(Individual_Tobacco_Rate=0.0, Area_Id=3.0, State_Id=6.0),\n",
       " Row(Individual_Tobacco_Rate=0.0, Area_Id=3.0, State_Id=6.0),\n",
       " Row(Individual_Tobacco_Rate=0.0, Area_Id=3.0, State_Id=6.0),\n",
       " Row(Individual_Tobacco_Rate=0.0, Area_Id=3.0, State_Id=6.0),\n",
       " Row(Individual_Tobacco_Rate=0.0, Area_Id=3.0, State_Id=6.0),\n",
       " Row(Individual_Tobacco_Rate=0.0, Area_Id=3.0, State_Id=6.0),\n",
       " Row(Individual_Tobacco_Rate=0.0, Area_Id=3.0, State_Id=6.0),\n",
       " Row(Individual_Tobacco_Rate=0.0, Area_Id=3.0, State_Id=6.0),\n",
       " Row(Individual_Tobacco_Rate=0.0, Area_Id=3.0, State_Id=6.0),\n",
       " Row(Individual_Tobacco_Rate=0.0, Area_Id=3.0, State_Id=6.0),\n",
       " Row(Individual_Tobacco_Rate=0.0, Area_Id=3.0, State_Id=6.0),\n",
       " Row(Individual_Tobacco_Rate=0.0, Area_Id=3.0, State_Id=6.0),\n",
       " Row(Individual_Tobacco_Rate=0.0, Area_Id=3.0, State_Id=6.0),\n",
       " Row(Individual_Tobacco_Rate=0.0, Area_Id=3.0, State_Id=6.0),\n",
       " Row(Individual_Tobacco_Rate=0.0, Area_Id=3.0, State_Id=6.0),\n",
       " Row(Individual_Tobacco_Rate=0.0, Area_Id=3.0, State_Id=6.0),\n",
       " Row(Individual_Tobacco_Rate=0.0, Area_Id=3.0, State_Id=6.0),\n",
       " Row(Individual_Tobacco_Rate=0.0, Area_Id=3.0, State_Id=6.0),\n",
       " Row(Individual_Tobacco_Rate=0.0, Area_Id=3.0, State_Id=6.0),\n",
       " Row(Individual_Tobacco_Rate=0.0, Area_Id=3.0, State_Id=6.0),\n",
       " Row(Individual_Tobacco_Rate=0.0, Area_Id=3.0, State_Id=6.0),\n",
       " Row(Individual_Tobacco_Rate=0.0, Area_Id=3.0, State_Id=6.0),\n",
       " Row(Individual_Tobacco_Rate=0.0, Area_Id=3.0, State_Id=6.0),\n",
       " Row(Individual_Tobacco_Rate=0.0, Area_Id=3.0, State_Id=6.0),\n",
       " Row(Individual_Tobacco_Rate=0.0, Area_Id=3.0, State_Id=6.0),\n",
       " Row(Individual_Tobacco_Rate=0.0, Area_Id=3.0, State_Id=6.0),\n",
       " Row(Individual_Tobacco_Rate=0.0, Area_Id=3.0, State_Id=6.0),\n",
       " Row(Individual_Tobacco_Rate=0.0, Area_Id=3.0, State_Id=6.0),\n",
       " Row(Individual_Tobacco_Rate=0.0, Area_Id=3.0, State_Id=6.0),\n",
       " Row(Individual_Tobacco_Rate=0.0, Area_Id=3.0, State_Id=6.0),\n",
       " Row(Individual_Tobacco_Rate=0.0, Area_Id=3.0, State_Id=6.0),\n",
       " Row(Individual_Tobacco_Rate=0.0, Area_Id=3.0, State_Id=6.0),\n",
       " Row(Individual_Tobacco_Rate=0.0, Area_Id=3.0, State_Id=6.0),\n",
       " Row(Individual_Tobacco_Rate=0.0, Area_Id=3.0, State_Id=6.0),\n",
       " Row(Individual_Tobacco_Rate=0.0, Area_Id=3.0, State_Id=6.0),\n",
       " Row(Individual_Tobacco_Rate=0.0, Area_Id=3.0, State_Id=6.0),\n",
       " Row(Individual_Tobacco_Rate=0.0, Area_Id=3.0, State_Id=6.0),\n",
       " Row(Individual_Tobacco_Rate=0.0, Area_Id=3.0, State_Id=6.0),\n",
       " Row(Individual_Tobacco_Rate=0.0, Area_Id=3.0, State_Id=6.0),\n",
       " Row(Individual_Tobacco_Rate=0.0, Area_Id=3.0, State_Id=6.0),\n",
       " Row(Individual_Tobacco_Rate=0.0, Area_Id=3.0, State_Id=6.0),\n",
       " Row(Individual_Tobacco_Rate=0.0, Area_Id=3.0, State_Id=6.0),\n",
       " Row(Individual_Tobacco_Rate=0.0, Area_Id=3.0, State_Id=6.0),\n",
       " Row(Individual_Tobacco_Rate=0.0, Area_Id=3.0, State_Id=6.0),\n",
       " Row(Individual_Tobacco_Rate=0.0, Area_Id=3.0, State_Id=6.0),\n",
       " Row(Individual_Tobacco_Rate=0.0, Area_Id=3.0, State_Id=6.0),\n",
       " Row(Individual_Tobacco_Rate=0.0, Area_Id=3.0, State_Id=6.0),\n",
       " Row(Individual_Tobacco_Rate=0.0, Area_Id=3.0, State_Id=6.0),\n",
       " Row(Individual_Tobacco_Rate=0.0, Area_Id=3.0, State_Id=6.0),\n",
       " Row(Individual_Tobacco_Rate=0.0, Area_Id=0.0, State_Id=6.0),\n",
       " Row(Individual_Tobacco_Rate=0.0, Area_Id=3.0, State_Id=6.0),\n",
       " Row(Individual_Tobacco_Rate=0.0, Area_Id=3.0, State_Id=6.0),\n",
       " Row(Individual_Tobacco_Rate=0.0, Area_Id=3.0, State_Id=6.0),\n",
       " Row(Individual_Tobacco_Rate=0.0, Area_Id=3.0, State_Id=6.0),\n",
       " Row(Individual_Tobacco_Rate=0.0, Area_Id=3.0, State_Id=6.0),\n",
       " Row(Individual_Tobacco_Rate=0.0, Area_Id=3.0, State_Id=6.0),\n",
       " Row(Individual_Tobacco_Rate=0.0, Area_Id=3.0, State_Id=6.0),\n",
       " Row(Individual_Tobacco_Rate=0.0, Area_Id=3.0, State_Id=6.0),\n",
       " Row(Individual_Tobacco_Rate=0.0, Area_Id=3.0, State_Id=6.0),\n",
       " Row(Individual_Tobacco_Rate=0.0, Area_Id=3.0, State_Id=6.0),\n",
       " Row(Individual_Tobacco_Rate=0.0, Area_Id=0.0, State_Id=6.0),\n",
       " Row(Individual_Tobacco_Rate=0.0, Area_Id=3.0, State_Id=6.0),\n",
       " Row(Individual_Tobacco_Rate=0.0, Area_Id=3.0, State_Id=6.0),\n",
       " Row(Individual_Tobacco_Rate=0.0, Area_Id=3.0, State_Id=6.0),\n",
       " Row(Individual_Tobacco_Rate=0.0, Area_Id=3.0, State_Id=6.0),\n",
       " Row(Individual_Tobacco_Rate=0.0, Area_Id=3.0, State_Id=6.0),\n",
       " Row(Individual_Tobacco_Rate=0.0, Area_Id=3.0, State_Id=6.0),\n",
       " Row(Individual_Tobacco_Rate=0.0, Area_Id=3.0, State_Id=6.0),\n",
       " Row(Individual_Tobacco_Rate=0.0, Area_Id=3.0, State_Id=6.0),\n",
       " Row(Individual_Tobacco_Rate=0.0, Area_Id=3.0, State_Id=6.0),\n",
       " Row(Individual_Tobacco_Rate=0.0, Area_Id=3.0, State_Id=6.0),\n",
       " Row(Individual_Tobacco_Rate=0.0, Area_Id=3.0, State_Id=6.0),\n",
       " Row(Individual_Tobacco_Rate=0.0, Area_Id=3.0, State_Id=6.0),\n",
       " Row(Individual_Tobacco_Rate=0.0, Area_Id=3.0, State_Id=6.0),\n",
       " Row(Individual_Tobacco_Rate=0.0, Area_Id=3.0, State_Id=6.0),\n",
       " Row(Individual_Tobacco_Rate=0.0, Area_Id=3.0, State_Id=6.0),\n",
       " Row(Individual_Tobacco_Rate=0.0, Area_Id=3.0, State_Id=6.0),\n",
       " Row(Individual_Tobacco_Rate=0.0, Area_Id=3.0, State_Id=6.0),\n",
       " Row(Individual_Tobacco_Rate=0.0, Area_Id=3.0, State_Id=6.0),\n",
       " Row(Individual_Tobacco_Rate=0.0, Area_Id=3.0, State_Id=6.0),\n",
       " Row(Individual_Tobacco_Rate=0.0, Area_Id=0.0, State_Id=6.0),\n",
       " Row(Individual_Tobacco_Rate=0.0, Area_Id=3.0, State_Id=6.0),\n",
       " Row(Individual_Tobacco_Rate=0.0, Area_Id=0.0, State_Id=6.0),\n",
       " Row(Individual_Tobacco_Rate=0.0, Area_Id=3.0, State_Id=6.0),\n",
       " Row(Individual_Tobacco_Rate=0.0, Area_Id=3.0, State_Id=6.0),\n",
       " Row(Individual_Tobacco_Rate=0.0, Area_Id=3.0, State_Id=6.0),\n",
       " Row(Individual_Tobacco_Rate=0.0, Area_Id=3.0, State_Id=6.0),\n",
       " Row(Individual_Tobacco_Rate=0.0, Area_Id=3.0, State_Id=6.0),\n",
       " Row(Individual_Tobacco_Rate=0.0, Area_Id=3.0, State_Id=6.0),\n",
       " Row(Individual_Tobacco_Rate=0.0, Area_Id=0.0, State_Id=6.0),\n",
       " Row(Individual_Tobacco_Rate=0.0, Area_Id=0.0, State_Id=6.0),\n",
       " Row(Individual_Tobacco_Rate=0.0, Area_Id=3.0, State_Id=6.0),\n",
       " Row(Individual_Tobacco_Rate=0.0, Area_Id=3.0, State_Id=6.0),\n",
       " Row(Individual_Tobacco_Rate=0.0, Area_Id=3.0, State_Id=6.0),\n",
       " Row(Individual_Tobacco_Rate=0.0, Area_Id=3.0, State_Id=6.0),\n",
       " Row(Individual_Tobacco_Rate=0.0, Area_Id=3.0, State_Id=6.0),\n",
       " Row(Individual_Tobacco_Rate=0.0, Area_Id=3.0, State_Id=6.0),\n",
       " Row(Individual_Tobacco_Rate=0.0, Area_Id=3.0, State_Id=6.0),\n",
       " Row(Individual_Tobacco_Rate=0.0, Area_Id=3.0, State_Id=6.0),\n",
       " Row(Individual_Tobacco_Rate=0.0, Area_Id=3.0, State_Id=6.0),\n",
       " Row(Individual_Tobacco_Rate=0.0, Area_Id=3.0, State_Id=6.0),\n",
       " Row(Individual_Tobacco_Rate=0.0, Area_Id=3.0, State_Id=6.0),\n",
       " Row(Individual_Tobacco_Rate=0.0, Area_Id=3.0, State_Id=6.0),\n",
       " Row(Individual_Tobacco_Rate=0.0, Area_Id=3.0, State_Id=6.0),\n",
       " Row(Individual_Tobacco_Rate=0.0, Area_Id=0.0, State_Id=6.0),\n",
       " Row(Individual_Tobacco_Rate=0.0, Area_Id=3.0, State_Id=6.0),\n",
       " Row(Individual_Tobacco_Rate=0.0, Area_Id=3.0, State_Id=6.0),\n",
       " Row(Individual_Tobacco_Rate=0.0, Area_Id=3.0, State_Id=6.0),\n",
       " Row(Individual_Tobacco_Rate=0.0, Area_Id=3.0, State_Id=6.0),\n",
       " Row(Individual_Tobacco_Rate=0.0, Area_Id=0.0, State_Id=6.0),\n",
       " Row(Individual_Tobacco_Rate=0.0, Area_Id=0.0, State_Id=6.0),\n",
       " Row(Individual_Tobacco_Rate=0.0, Area_Id=3.0, State_Id=6.0),\n",
       " Row(Individual_Tobacco_Rate=0.0, Area_Id=0.0, State_Id=6.0),\n",
       " Row(Individual_Tobacco_Rate=0.0, Area_Id=3.0, State_Id=6.0),\n",
       " Row(Individual_Tobacco_Rate=0.0, Area_Id=3.0, State_Id=6.0),\n",
       " Row(Individual_Tobacco_Rate=0.0, Area_Id=3.0, State_Id=6.0),\n",
       " Row(Individual_Tobacco_Rate=0.0, Area_Id=3.0, State_Id=6.0),\n",
       " Row(Individual_Tobacco_Rate=0.0, Area_Id=3.0, State_Id=6.0),\n",
       " Row(Individual_Tobacco_Rate=0.0, Area_Id=3.0, State_Id=6.0),\n",
       " Row(Individual_Tobacco_Rate=0.0, Area_Id=3.0, State_Id=6.0),\n",
       " Row(Individual_Tobacco_Rate=0.0, Area_Id=0.0, State_Id=6.0),\n",
       " Row(Individual_Tobacco_Rate=0.0, Area_Id=3.0, State_Id=6.0),\n",
       " Row(Individual_Tobacco_Rate=0.0, Area_Id=3.0, State_Id=6.0),\n",
       " Row(Individual_Tobacco_Rate=0.0, Area_Id=3.0, State_Id=6.0),\n",
       " Row(Individual_Tobacco_Rate=0.0, Area_Id=3.0, State_Id=6.0),\n",
       " Row(Individual_Tobacco_Rate=0.0, Area_Id=3.0, State_Id=6.0),\n",
       " Row(Individual_Tobacco_Rate=0.0, Area_Id=0.0, State_Id=6.0),\n",
       " Row(Individual_Tobacco_Rate=0.0, Area_Id=3.0, State_Id=6.0),\n",
       " Row(Individual_Tobacco_Rate=0.0, Area_Id=3.0, State_Id=6.0),\n",
       " Row(Individual_Tobacco_Rate=0.0, Area_Id=3.0, State_Id=6.0),\n",
       " Row(Individual_Tobacco_Rate=0.0, Area_Id=0.0, State_Id=6.0),\n",
       " Row(Individual_Tobacco_Rate=0.0, Area_Id=3.0, State_Id=6.0),\n",
       " Row(Individual_Tobacco_Rate=0.0, Area_Id=3.0, State_Id=6.0),\n",
       " Row(Individual_Tobacco_Rate=0.0, Area_Id=3.0, State_Id=6.0),\n",
       " Row(Individual_Tobacco_Rate=0.0, Area_Id=3.0, State_Id=6.0),\n",
       " Row(Individual_Tobacco_Rate=0.0, Area_Id=3.0, State_Id=6.0),\n",
       " Row(Individual_Tobacco_Rate=0.0, Area_Id=3.0, State_Id=6.0),\n",
       " Row(Individual_Tobacco_Rate=0.0, Area_Id=3.0, State_Id=6.0),\n",
       " Row(Individual_Tobacco_Rate=0.0, Area_Id=3.0, State_Id=6.0),\n",
       " Row(Individual_Tobacco_Rate=0.0, Area_Id=3.0, State_Id=6.0),\n",
       " Row(Individual_Tobacco_Rate=0.0, Area_Id=3.0, State_Id=6.0),\n",
       " Row(Individual_Tobacco_Rate=0.0, Area_Id=3.0, State_Id=6.0),\n",
       " Row(Individual_Tobacco_Rate=0.0, Area_Id=3.0, State_Id=6.0),\n",
       " Row(Individual_Tobacco_Rate=0.0, Area_Id=0.0, State_Id=6.0),\n",
       " Row(Individual_Tobacco_Rate=0.0, Area_Id=3.0, State_Id=6.0),\n",
       " Row(Individual_Tobacco_Rate=0.0, Area_Id=3.0, State_Id=6.0),\n",
       " Row(Individual_Tobacco_Rate=0.0, Area_Id=0.0, State_Id=6.0),\n",
       " Row(Individual_Tobacco_Rate=0.0, Area_Id=3.0, State_Id=6.0),\n",
       " Row(Individual_Tobacco_Rate=0.0, Area_Id=3.0, State_Id=6.0),\n",
       " Row(Individual_Tobacco_Rate=0.0, Area_Id=3.0, State_Id=6.0),\n",
       " Row(Individual_Tobacco_Rate=0.0, Area_Id=3.0, State_Id=6.0),\n",
       " Row(Individual_Tobacco_Rate=0.0, Area_Id=3.0, State_Id=6.0),\n",
       " Row(Individual_Tobacco_Rate=0.0, Area_Id=3.0, State_Id=6.0),\n",
       " Row(Individual_Tobacco_Rate=0.0, Area_Id=0.0, State_Id=6.0),\n",
       " Row(Individual_Tobacco_Rate=0.0, Area_Id=3.0, State_Id=6.0),\n",
       " Row(Individual_Tobacco_Rate=0.0, Area_Id=3.0, State_Id=6.0),\n",
       " Row(Individual_Tobacco_Rate=0.0, Area_Id=3.0, State_Id=6.0),\n",
       " Row(Individual_Tobacco_Rate=0.0, Area_Id=0.0, State_Id=6.0),\n",
       " Row(Individual_Tobacco_Rate=0.0, Area_Id=3.0, State_Id=6.0),\n",
       " Row(Individual_Tobacco_Rate=0.0, Area_Id=3.0, State_Id=6.0),\n",
       " Row(Individual_Tobacco_Rate=0.0, Area_Id=3.0, State_Id=6.0),\n",
       " Row(Individual_Tobacco_Rate=0.0, Area_Id=3.0, State_Id=6.0),\n",
       " Row(Individual_Tobacco_Rate=0.0, Area_Id=3.0, State_Id=6.0),\n",
       " Row(Individual_Tobacco_Rate=0.0, Area_Id=3.0, State_Id=6.0),\n",
       " Row(Individual_Tobacco_Rate=0.0, Area_Id=3.0, State_Id=6.0),\n",
       " Row(Individual_Tobacco_Rate=0.0, Area_Id=3.0, State_Id=6.0),\n",
       " Row(Individual_Tobacco_Rate=0.0, Area_Id=3.0, State_Id=6.0),\n",
       " Row(Individual_Tobacco_Rate=0.0, Area_Id=3.0, State_Id=6.0),\n",
       " Row(Individual_Tobacco_Rate=0.0, Area_Id=3.0, State_Id=6.0),\n",
       " Row(Individual_Tobacco_Rate=0.0, Area_Id=3.0, State_Id=6.0),\n",
       " Row(Individual_Tobacco_Rate=0.0, Area_Id=0.0, State_Id=6.0),\n",
       " Row(Individual_Tobacco_Rate=0.0, Area_Id=0.0, State_Id=6.0),\n",
       " Row(Individual_Tobacco_Rate=0.0, Area_Id=0.0, State_Id=6.0),\n",
       " Row(Individual_Tobacco_Rate=0.0, Area_Id=3.0, State_Id=6.0),\n",
       " Row(Individual_Tobacco_Rate=0.0, Area_Id=3.0, State_Id=6.0),\n",
       " Row(Individual_Tobacco_Rate=0.0, Area_Id=3.0, State_Id=6.0),\n",
       " Row(Individual_Tobacco_Rate=0.0, Area_Id=3.0, State_Id=6.0),\n",
       " Row(Individual_Tobacco_Rate=0.0, Area_Id=3.0, State_Id=6.0),\n",
       " Row(Individual_Tobacco_Rate=0.0, Area_Id=3.0, State_Id=6.0),\n",
       " Row(Individual_Tobacco_Rate=0.0, Area_Id=3.0, State_Id=6.0),\n",
       " Row(Individual_Tobacco_Rate=0.0, Area_Id=3.0, State_Id=6.0),\n",
       " Row(Individual_Tobacco_Rate=0.0, Area_Id=3.0, State_Id=6.0),\n",
       " Row(Individual_Tobacco_Rate=0.0, Area_Id=3.0, State_Id=6.0),\n",
       " Row(Individual_Tobacco_Rate=0.0, Area_Id=3.0, State_Id=6.0),\n",
       " Row(Individual_Tobacco_Rate=0.0, Area_Id=3.0, State_Id=6.0),\n",
       " Row(Individual_Tobacco_Rate=0.0, Area_Id=3.0, State_Id=6.0),\n",
       " Row(Individual_Tobacco_Rate=0.0, Area_Id=3.0, State_Id=6.0),\n",
       " Row(Individual_Tobacco_Rate=0.0, Area_Id=3.0, State_Id=6.0),\n",
       " Row(Individual_Tobacco_Rate=0.0, Area_Id=3.0, State_Id=6.0),\n",
       " Row(Individual_Tobacco_Rate=0.0, Area_Id=3.0, State_Id=6.0),\n",
       " Row(Individual_Tobacco_Rate=0.0, Area_Id=3.0, State_Id=6.0),\n",
       " Row(Individual_Tobacco_Rate=0.0, Area_Id=3.0, State_Id=6.0),\n",
       " Row(Individual_Tobacco_Rate=0.0, Area_Id=3.0, State_Id=6.0),\n",
       " Row(Individual_Tobacco_Rate=0.0, Area_Id=3.0, State_Id=6.0),\n",
       " Row(Individual_Tobacco_Rate=0.0, Area_Id=3.0, State_Id=6.0),\n",
       " Row(Individual_Tobacco_Rate=0.0, Area_Id=3.0, State_Id=6.0),\n",
       " Row(Individual_Tobacco_Rate=0.0, Area_Id=3.0, State_Id=6.0),\n",
       " Row(Individual_Tobacco_Rate=0.0, Area_Id=3.0, State_Id=6.0),\n",
       " Row(Individual_Tobacco_Rate=0.0, Area_Id=3.0, State_Id=6.0),\n",
       " Row(Individual_Tobacco_Rate=0.0, Area_Id=3.0, State_Id=6.0),\n",
       " Row(Individual_Tobacco_Rate=0.0, Area_Id=3.0, State_Id=6.0),\n",
       " Row(Individual_Tobacco_Rate=0.0, Area_Id=3.0, State_Id=6.0),\n",
       " Row(Individual_Tobacco_Rate=0.0, Area_Id=3.0, State_Id=6.0),\n",
       " Row(Individual_Tobacco_Rate=0.0, Area_Id=3.0, State_Id=6.0),\n",
       " Row(Individual_Tobacco_Rate=0.0, Area_Id=0.0, State_Id=6.0),\n",
       " Row(Individual_Tobacco_Rate=0.0, Area_Id=3.0, State_Id=6.0),\n",
       " Row(Individual_Tobacco_Rate=0.0, Area_Id=3.0, State_Id=6.0),\n",
       " Row(Individual_Tobacco_Rate=0.0, Area_Id=0.0, State_Id=6.0),\n",
       " Row(Individual_Tobacco_Rate=0.0, Area_Id=0.0, State_Id=6.0),\n",
       " Row(Individual_Tobacco_Rate=0.0, Area_Id=3.0, State_Id=6.0),\n",
       " Row(Individual_Tobacco_Rate=0.0, Area_Id=0.0, State_Id=6.0),\n",
       " Row(Individual_Tobacco_Rate=0.0, Area_Id=0.0, State_Id=6.0),\n",
       " Row(Individual_Tobacco_Rate=0.0, Area_Id=3.0, State_Id=6.0),\n",
       " Row(Individual_Tobacco_Rate=0.0, Area_Id=3.0, State_Id=6.0),\n",
       " Row(Individual_Tobacco_Rate=0.0, Area_Id=3.0, State_Id=6.0),\n",
       " Row(Individual_Tobacco_Rate=0.0, Area_Id=3.0, State_Id=6.0),\n",
       " Row(Individual_Tobacco_Rate=0.0, Area_Id=3.0, State_Id=6.0),\n",
       " Row(Individual_Tobacco_Rate=0.0, Area_Id=0.0, State_Id=6.0),\n",
       " Row(Individual_Tobacco_Rate=0.0, Area_Id=3.0, State_Id=6.0),\n",
       " Row(Individual_Tobacco_Rate=0.0, Area_Id=0.0, State_Id=6.0),\n",
       " Row(Individual_Tobacco_Rate=0.0, Area_Id=3.0, State_Id=6.0),\n",
       " Row(Individual_Tobacco_Rate=0.0, Area_Id=3.0, State_Id=6.0),\n",
       " Row(Individual_Tobacco_Rate=0.0, Area_Id=3.0, State_Id=6.0),\n",
       " Row(Individual_Tobacco_Rate=0.0, Area_Id=3.0, State_Id=6.0),\n",
       " Row(Individual_Tobacco_Rate=0.0, Area_Id=3.0, State_Id=6.0),\n",
       " Row(Individual_Tobacco_Rate=0.0, Area_Id=3.0, State_Id=6.0),\n",
       " Row(Individual_Tobacco_Rate=0.0, Area_Id=3.0, State_Id=6.0),\n",
       " Row(Individual_Tobacco_Rate=0.0, Area_Id=3.0, State_Id=6.0),\n",
       " Row(Individual_Tobacco_Rate=0.0, Area_Id=3.0, State_Id=6.0),\n",
       " Row(Individual_Tobacco_Rate=0.0, Area_Id=3.0, State_Id=6.0),\n",
       " Row(Individual_Tobacco_Rate=0.0, Area_Id=3.0, State_Id=6.0),\n",
       " Row(Individual_Tobacco_Rate=0.0, Area_Id=3.0, State_Id=6.0),\n",
       " Row(Individual_Tobacco_Rate=0.0, Area_Id=0.0, State_Id=6.0),\n",
       " Row(Individual_Tobacco_Rate=0.0, Area_Id=3.0, State_Id=6.0),\n",
       " Row(Individual_Tobacco_Rate=0.0, Area_Id=3.0, State_Id=6.0),\n",
       " Row(Individual_Tobacco_Rate=0.0, Area_Id=3.0, State_Id=6.0),\n",
       " Row(Individual_Tobacco_Rate=0.0, Area_Id=3.0, State_Id=6.0),\n",
       " Row(Individual_Tobacco_Rate=0.0, Area_Id=0.0, State_Id=6.0),\n",
       " Row(Individual_Tobacco_Rate=0.0, Area_Id=3.0, State_Id=6.0),\n",
       " Row(Individual_Tobacco_Rate=0.0, Area_Id=3.0, State_Id=6.0),\n",
       " Row(Individual_Tobacco_Rate=0.0, Area_Id=0.0, State_Id=6.0),\n",
       " Row(Individual_Tobacco_Rate=0.0, Area_Id=0.0, State_Id=6.0),\n",
       " Row(Individual_Tobacco_Rate=0.0, Area_Id=3.0, State_Id=6.0),\n",
       " Row(Individual_Tobacco_Rate=0.0, Area_Id=3.0, State_Id=6.0),\n",
       " Row(Individual_Tobacco_Rate=0.0, Area_Id=3.0, State_Id=6.0),\n",
       " Row(Individual_Tobacco_Rate=0.0, Area_Id=3.0, State_Id=6.0),\n",
       " Row(Individual_Tobacco_Rate=0.0, Area_Id=3.0, State_Id=6.0),\n",
       " Row(Individual_Tobacco_Rate=0.0, Area_Id=3.0, State_Id=6.0),\n",
       " Row(Individual_Tobacco_Rate=0.0, Area_Id=3.0, State_Id=6.0),\n",
       " Row(Individual_Tobacco_Rate=0.0, Area_Id=3.0, State_Id=6.0),\n",
       " Row(Individual_Tobacco_Rate=0.0, Area_Id=3.0, State_Id=6.0),\n",
       " Row(Individual_Tobacco_Rate=0.0, Area_Id=3.0, State_Id=6.0),\n",
       " Row(Individual_Tobacco_Rate=0.0, Area_Id=3.0, State_Id=6.0),\n",
       " Row(Individual_Tobacco_Rate=0.0, Area_Id=3.0, State_Id=6.0),\n",
       " Row(Individual_Tobacco_Rate=0.0, Area_Id=3.0, State_Id=6.0),\n",
       " Row(Individual_Tobacco_Rate=0.0, Area_Id=3.0, State_Id=6.0),\n",
       " Row(Individual_Tobacco_Rate=0.0, Area_Id=3.0, State_Id=6.0),\n",
       " Row(Individual_Tobacco_Rate=0.0, Area_Id=3.0, State_Id=6.0),\n",
       " Row(Individual_Tobacco_Rate=0.0, Area_Id=3.0, State_Id=6.0),\n",
       " Row(Individual_Tobacco_Rate=0.0, Area_Id=3.0, State_Id=6.0),\n",
       " Row(Individual_Tobacco_Rate=0.0, Area_Id=3.0, State_Id=6.0),\n",
       " Row(Individual_Tobacco_Rate=0.0, Area_Id=3.0, State_Id=6.0),\n",
       " Row(Individual_Tobacco_Rate=0.0, Area_Id=3.0, State_Id=6.0),\n",
       " Row(Individual_Tobacco_Rate=0.0, Area_Id=3.0, State_Id=6.0),\n",
       " Row(Individual_Tobacco_Rate=0.0, Area_Id=3.0, State_Id=6.0),\n",
       " Row(Individual_Tobacco_Rate=0.0, Area_Id=3.0, State_Id=6.0),\n",
       " Row(Individual_Tobacco_Rate=0.0, Area_Id=3.0, State_Id=6.0),\n",
       " Row(Individual_Tobacco_Rate=0.0, Area_Id=0.0, State_Id=6.0),\n",
       " Row(Individual_Tobacco_Rate=0.0, Area_Id=3.0, State_Id=6.0),\n",
       " Row(Individual_Tobacco_Rate=0.0, Area_Id=3.0, State_Id=6.0),\n",
       " Row(Individual_Tobacco_Rate=0.0, Area_Id=0.0, State_Id=6.0),\n",
       " Row(Individual_Tobacco_Rate=0.0, Area_Id=3.0, State_Id=6.0),\n",
       " Row(Individual_Tobacco_Rate=0.0, Area_Id=3.0, State_Id=6.0),\n",
       " Row(Individual_Tobacco_Rate=0.0, Area_Id=3.0, State_Id=6.0),\n",
       " Row(Individual_Tobacco_Rate=0.0, Area_Id=3.0, State_Id=6.0),\n",
       " Row(Individual_Tobacco_Rate=0.0, Area_Id=3.0, State_Id=6.0),\n",
       " Row(Individual_Tobacco_Rate=0.0, Area_Id=0.0, State_Id=6.0),\n",
       " Row(Individual_Tobacco_Rate=0.0, Area_Id=3.0, State_Id=6.0),\n",
       " Row(Individual_Tobacco_Rate=0.0, Area_Id=3.0, State_Id=6.0),\n",
       " Row(Individual_Tobacco_Rate=0.0, Area_Id=3.0, State_Id=6.0),\n",
       " Row(Individual_Tobacco_Rate=0.0, Area_Id=3.0, State_Id=6.0),\n",
       " Row(Individual_Tobacco_Rate=0.0, Area_Id=0.0, State_Id=6.0),\n",
       " Row(Individual_Tobacco_Rate=0.0, Area_Id=3.0, State_Id=6.0),\n",
       " Row(Individual_Tobacco_Rate=0.0, Area_Id=3.0, State_Id=6.0),\n",
       " Row(Individual_Tobacco_Rate=0.0, Area_Id=0.0, State_Id=6.0),\n",
       " Row(Individual_Tobacco_Rate=0.0, Area_Id=3.0, State_Id=6.0),\n",
       " Row(Individual_Tobacco_Rate=0.0, Area_Id=0.0, State_Id=6.0),\n",
       " Row(Individual_Tobacco_Rate=0.0, Area_Id=3.0, State_Id=6.0),\n",
       " Row(Individual_Tobacco_Rate=0.0, Area_Id=0.0, State_Id=6.0),\n",
       " Row(Individual_Tobacco_Rate=0.0, Area_Id=3.0, State_Id=6.0),\n",
       " Row(Individual_Tobacco_Rate=0.0, Area_Id=0.0, State_Id=6.0),\n",
       " Row(Individual_Tobacco_Rate=0.0, Area_Id=3.0, State_Id=6.0),\n",
       " Row(Individual_Tobacco_Rate=0.0, Area_Id=3.0, State_Id=6.0),\n",
       " Row(Individual_Tobacco_Rate=0.0, Area_Id=0.0, State_Id=6.0),\n",
       " Row(Individual_Tobacco_Rate=0.0, Area_Id=3.0, State_Id=6.0),\n",
       " Row(Individual_Tobacco_Rate=0.0, Area_Id=0.0, State_Id=6.0),\n",
       " Row(Individual_Tobacco_Rate=0.0, Area_Id=3.0, State_Id=6.0),\n",
       " Row(Individual_Tobacco_Rate=0.0, Area_Id=3.0, State_Id=6.0),\n",
       " Row(Individual_Tobacco_Rate=0.0, Area_Id=3.0, State_Id=6.0),\n",
       " Row(Individual_Tobacco_Rate=0.0, Area_Id=3.0, State_Id=6.0),\n",
       " Row(Individual_Tobacco_Rate=0.0, Area_Id=3.0, State_Id=6.0),\n",
       " Row(Individual_Tobacco_Rate=0.0, Area_Id=3.0, State_Id=6.0),\n",
       " Row(Individual_Tobacco_Rate=0.0, Area_Id=3.0, State_Id=6.0),\n",
       " Row(Individual_Tobacco_Rate=0.0, Area_Id=3.0, State_Id=6.0),\n",
       " Row(Individual_Tobacco_Rate=0.0, Area_Id=3.0, State_Id=6.0),\n",
       " Row(Individual_Tobacco_Rate=0.0, Area_Id=3.0, State_Id=6.0),\n",
       " Row(Individual_Tobacco_Rate=0.0, Area_Id=3.0, State_Id=6.0),\n",
       " Row(Individual_Tobacco_Rate=0.0, Area_Id=3.0, State_Id=6.0),\n",
       " Row(Individual_Tobacco_Rate=0.0, Area_Id=3.0, State_Id=6.0),\n",
       " Row(Individual_Tobacco_Rate=0.0, Area_Id=3.0, State_Id=6.0),\n",
       " Row(Individual_Tobacco_Rate=0.0, Area_Id=3.0, State_Id=6.0),\n",
       " Row(Individual_Tobacco_Rate=0.0, Area_Id=3.0, State_Id=6.0),\n",
       " Row(Individual_Tobacco_Rate=0.0, Area_Id=3.0, State_Id=6.0),\n",
       " Row(Individual_Tobacco_Rate=0.0, Area_Id=3.0, State_Id=6.0),\n",
       " Row(Individual_Tobacco_Rate=0.0, Area_Id=3.0, State_Id=6.0),\n",
       " Row(Individual_Tobacco_Rate=0.0, Area_Id=3.0, State_Id=6.0),\n",
       " Row(Individual_Tobacco_Rate=0.0, Area_Id=3.0, State_Id=6.0),\n",
       " Row(Individual_Tobacco_Rate=0.0, Area_Id=3.0, State_Id=6.0),\n",
       " Row(Individual_Tobacco_Rate=0.0, Area_Id=3.0, State_Id=6.0),\n",
       " Row(Individual_Tobacco_Rate=0.0, Area_Id=3.0, State_Id=6.0),\n",
       " Row(Individual_Tobacco_Rate=0.0, Area_Id=3.0, State_Id=6.0),\n",
       " Row(Individual_Tobacco_Rate=0.0, Area_Id=3.0, State_Id=6.0),\n",
       " Row(Individual_Tobacco_Rate=0.0, Area_Id=3.0, State_Id=6.0),\n",
       " Row(Individual_Tobacco_Rate=0.0, Area_Id=3.0, State_Id=6.0),\n",
       " Row(Individual_Tobacco_Rate=0.0, Area_Id=3.0, State_Id=6.0),\n",
       " Row(Individual_Tobacco_Rate=0.0, Area_Id=3.0, State_Id=6.0),\n",
       " Row(Individual_Tobacco_Rate=0.0, Area_Id=3.0, State_Id=6.0),\n",
       " Row(Individual_Tobacco_Rate=0.0, Area_Id=3.0, State_Id=6.0),\n",
       " Row(Individual_Tobacco_Rate=0.0, Area_Id=0.0, State_Id=6.0),\n",
       " Row(Individual_Tobacco_Rate=0.0, Area_Id=3.0, State_Id=6.0),\n",
       " Row(Individual_Tobacco_Rate=0.0, Area_Id=3.0, State_Id=6.0),\n",
       " Row(Individual_Tobacco_Rate=0.0, Area_Id=0.0, State_Id=6.0),\n",
       " Row(Individual_Tobacco_Rate=0.0, Area_Id=3.0, State_Id=6.0),\n",
       " Row(Individual_Tobacco_Rate=0.0, Area_Id=3.0, State_Id=6.0),\n",
       " Row(Individual_Tobacco_Rate=0.0, Area_Id=3.0, State_Id=6.0),\n",
       " Row(Individual_Tobacco_Rate=0.0, Area_Id=0.0, State_Id=6.0),\n",
       " Row(Individual_Tobacco_Rate=0.0, Area_Id=3.0, State_Id=6.0),\n",
       " Row(Individual_Tobacco_Rate=0.0, Area_Id=3.0, State_Id=6.0),\n",
       " Row(Individual_Tobacco_Rate=0.0, Area_Id=3.0, State_Id=6.0),\n",
       " Row(Individual_Tobacco_Rate=0.0, Area_Id=3.0, State_Id=6.0),\n",
       " Row(Individual_Tobacco_Rate=0.0, Area_Id=0.0, State_Id=6.0),\n",
       " Row(Individual_Tobacco_Rate=0.0, Area_Id=3.0, State_Id=6.0),\n",
       " Row(Individual_Tobacco_Rate=0.0, Area_Id=3.0, State_Id=6.0),\n",
       " Row(Individual_Tobacco_Rate=0.0, Area_Id=0.0, State_Id=6.0),\n",
       " Row(Individual_Tobacco_Rate=0.0, Area_Id=3.0, State_Id=6.0),\n",
       " Row(Individual_Tobacco_Rate=0.0, Area_Id=3.0, State_Id=6.0),\n",
       " Row(Individual_Tobacco_Rate=0.0, Area_Id=3.0, State_Id=6.0),\n",
       " Row(Individual_Tobacco_Rate=0.0, Area_Id=3.0, State_Id=6.0),\n",
       " Row(Individual_Tobacco_Rate=0.0, Area_Id=3.0, State_Id=6.0),\n",
       " Row(Individual_Tobacco_Rate=0.0, Area_Id=3.0, State_Id=6.0),\n",
       " Row(Individual_Tobacco_Rate=0.0, Area_Id=3.0, State_Id=6.0),\n",
       " Row(Individual_Tobacco_Rate=0.0, Area_Id=3.0, State_Id=6.0),\n",
       " Row(Individual_Tobacco_Rate=0.0, Area_Id=0.0, State_Id=6.0),\n",
       " Row(Individual_Tobacco_Rate=0.0, Area_Id=3.0, State_Id=6.0),\n",
       " Row(Individual_Tobacco_Rate=0.0, Area_Id=3.0, State_Id=6.0),\n",
       " Row(Individual_Tobacco_Rate=0.0, Area_Id=3.0, State_Id=6.0),\n",
       " Row(Individual_Tobacco_Rate=0.0, Area_Id=0.0, State_Id=6.0),\n",
       " Row(Individual_Tobacco_Rate=0.0, Area_Id=3.0, State_Id=6.0),\n",
       " Row(Individual_Tobacco_Rate=0.0, Area_Id=3.0, State_Id=6.0),\n",
       " Row(Individual_Tobacco_Rate=0.0, Area_Id=3.0, State_Id=6.0),\n",
       " Row(Individual_Tobacco_Rate=0.0, Area_Id=3.0, State_Id=6.0),\n",
       " Row(Individual_Tobacco_Rate=0.0, Area_Id=0.0, State_Id=6.0),\n",
       " Row(Individual_Tobacco_Rate=0.0, Area_Id=3.0, State_Id=6.0),\n",
       " Row(Individual_Tobacco_Rate=0.0, Area_Id=3.0, State_Id=6.0),\n",
       " Row(Individual_Tobacco_Rate=0.0, Area_Id=3.0, State_Id=6.0),\n",
       " Row(Individual_Tobacco_Rate=0.0, Area_Id=3.0, State_Id=6.0),\n",
       " Row(Individual_Tobacco_Rate=0.0, Area_Id=3.0, State_Id=6.0),\n",
       " Row(Individual_Tobacco_Rate=0.0, Area_Id=3.0, State_Id=6.0),\n",
       " Row(Individual_Tobacco_Rate=0.0, Area_Id=3.0, State_Id=6.0),\n",
       " Row(Individual_Tobacco_Rate=0.0, Area_Id=3.0, State_Id=6.0),\n",
       " Row(Individual_Tobacco_Rate=0.0, Area_Id=3.0, State_Id=6.0),\n",
       " Row(Individual_Tobacco_Rate=0.0, Area_Id=3.0, State_Id=6.0),\n",
       " Row(Individual_Tobacco_Rate=0.0, Area_Id=3.0, State_Id=6.0),\n",
       " Row(Individual_Tobacco_Rate=0.0, Area_Id=0.0, State_Id=6.0),\n",
       " Row(Individual_Tobacco_Rate=0.0, Area_Id=3.0, State_Id=6.0),\n",
       " Row(Individual_Tobacco_Rate=0.0, Area_Id=3.0, State_Id=6.0),\n",
       " Row(Individual_Tobacco_Rate=0.0, Area_Id=3.0, State_Id=6.0),\n",
       " Row(Individual_Tobacco_Rate=0.0, Area_Id=3.0, State_Id=6.0),\n",
       " Row(Individual_Tobacco_Rate=0.0, Area_Id=3.0, State_Id=6.0),\n",
       " Row(Individual_Tobacco_Rate=0.0, Area_Id=3.0, State_Id=6.0),\n",
       " Row(Individual_Tobacco_Rate=0.0, Area_Id=0.0, State_Id=6.0),\n",
       " ...]"
      ]
     },
     "execution_count": 167,
     "metadata": {},
     "output_type": "execute_result"
    }
   ],
   "source": [
    "new_df.filter('Individual_Tobacco_Rate >= 0').select('Individual_Tobacco_Rate', 'Area_Id','State_Id').collect()"
   ]
  },
  {
   "cell_type": "code",
   "execution_count": 168,
   "metadata": {},
   "outputs": [
    {
     "name": "stderr",
     "output_type": "stream",
     "text": [
      "                                                                                \r"
     ]
    },
    {
     "name": "stdout",
     "output_type": "stream",
     "text": [
      "+-------------------+\n",
      "|          residuals|\n",
      "+-------------------+\n",
      "| -212.5239813595734|\n",
      "| -208.8739813595734|\n",
      "|-203.34398135957343|\n",
      "|-200.47398135957343|\n",
      "|-194.01398135957342|\n",
      "|-220.52010884050253|\n",
      "|-201.30010884050253|\n",
      "|-200.30010884050253|\n",
      "|  783.6998911594975|\n",
      "|-224.54623632143162|\n",
      "|-211.86623632143161|\n",
      "|-231.83236380236073|\n",
      "|-223.36236380236073|\n",
      "|-218.64236380236073|\n",
      "|-215.87236380236072|\n",
      "|-214.87236380236072|\n",
      "|-214.83236380236073|\n",
      "|-245.26849128328985|\n",
      "|-241.66849128328982|\n",
      "|-222.11849128328984|\n",
      "+-------------------+\n",
      "only showing top 20 rows\n",
      "\n"
     ]
    },
    {
     "data": {
      "image/png": "[encoded data removed]",
      "text/plain": [
       "<Figure size 1440x1152 with 1 Axes>"
      ]
     },
     "metadata": {
      "needs_background": "light"
     },
     "output_type": "display_data"
    }
   ],
   "source": [
    "test_results.residuals.show()\n",
    "\n",
    "figure(figsize=(20, 16))\n",
    "\n",
    "# Convert sex to an array using Numpy and plot it using pyplot. \n",
    "sexArr = np.array(new_df.filter('Individual_Tobacco_Rate >= 0').select('Individual_Tobacco_Rate', 'Area_Id','State_Id').collect())\n",
    "plt.hist(sexArr)\n",
    "plt.show()"
   ]
  },
  {
   "cell_type": "markdown",
   "metadata": {},
   "source": [
    "# Logistic Regression"
   ]
  },
  {
   "cell_type": "code",
   "execution_count": 128,
   "metadata": {},
   "outputs": [],
   "source": [
    "spark = SparkSession.builder.appName('logistic_regression_adv').getOrCreate()\n",
    "\n",
    "# If you're getting an error with numpy, please type 'sudo pip install numpy --user' into the EC2 console.\n",
    "from pyspark.ml.classification import LogisticRegression"
   ]
  },
  {
   "cell_type": "code",
   "execution_count": 129,
   "metadata": {},
   "outputs": [
    {
     "name": "stdout",
     "output_type": "stream",
     "text": [
      "root\n",
      " |-- Age_group: integer (nullable = true)\n",
      " |-- Individual_Rate: double (nullable = false)\n",
      " |-- Individual_Tobacco_Rate: double (nullable = false)\n",
      " |-- Couple: double (nullable = false)\n",
      " |-- State_Id: double (nullable = false)\n",
      " |-- Area_Id: double (nullable = false)\n",
      " |-- Tobacco_new: double (nullable = false)\n",
      "\n"
     ]
    }
   ],
   "source": [
    "new_df.printSchema()"
   ]
  },
  {
   "cell_type": "code",
   "execution_count": 130,
   "metadata": {},
   "outputs": [],
   "source": [
    "# Select a list of relevant columns. \n",
    "# Name, for example, is somewhat irrelevant.\n",
    "my_cols = new_df.select(['Age_group','Individual_Tobacco_Rate','Couple','State_Id','Area_Id',\n",
    "                         'Tobacco_new'])"
   ]
  },
  {
   "cell_type": "code",
   "execution_count": 131,
   "metadata": {},
   "outputs": [],
   "source": [
    "my_final_data = my_cols.na.drop()"
   ]
  },
  {
   "cell_type": "code",
   "execution_count": 132,
   "metadata": {},
   "outputs": [],
   "source": [
    "from pyspark.ml.feature import (VectorAssembler,VectorIndexer,\n",
    "                                OneHotEncoder,StringIndexer)\n",
    "\n",
    "# Now we can assemble all of this as one vector in the features column. \n",
    "assembler = VectorAssembler(inputCols=['Age_group','Individual_Tobacco_Rate','Couple','State_Id','Area_Id',\n",
    "                         'Tobacco_new'],outputCol='features')"
   ]
  },
  {
   "cell_type": "code",
   "execution_count": 133,
   "metadata": {},
   "outputs": [],
   "source": [
    "from pyspark.ml import Pipeline"
   ]
  },
  {
   "cell_type": "code",
   "execution_count": 134,
   "metadata": {},
   "outputs": [],
   "source": [
    "# Note that survived is a categorial variable but didn't require any transformation.\n",
    "# That's because it's already in the format of 1's and 0's. \n",
    "log_reg_titanic = LogisticRegression(featuresCol='features',labelCol='Individual_Rate')"
   ]
  },
  {
   "cell_type": "code",
   "execution_count": 135,
   "metadata": {},
   "outputs": [],
   "source": [
    "train_titanic_data, test_titanic_data = my_final_data.randomSplit([0.5,0.5])"
   ]
  },
  {
   "cell_type": "code",
   "execution_count": 136,
   "metadata": {},
   "outputs": [],
   "source": [
    "my_label = new_df.select(['Individual_Rate'])"
   ]
  },
  {
   "cell_type": "code",
   "execution_count": 137,
   "metadata": {},
   "outputs": [],
   "source": [
    "pipeline = Pipeline(stages=[my_cols,my_label, assembler,log_reg_titanic])"
   ]
  },
  {
   "cell_type": "code",
   "execution_count": 138,
   "metadata": {},
   "outputs": [],
   "source": [
    "# fit_model = pipeline.fit(train_titanic_data)"
   ]
  },
  {
   "cell_type": "code",
   "execution_count": 139,
   "metadata": {},
   "outputs": [],
   "source": [
    "# results = fit_model.transform(test_titanic_data)"
   ]
  },
  {
   "cell_type": "code",
   "execution_count": 140,
   "metadata": {},
   "outputs": [],
   "source": [
    "# # Evaluate the model using the binary classifer.\n",
    "# from pyspark.ml.evaluation import BinaryClassificationEvaluator\n",
    "\n",
    "# my_eval = BinaryClassificationEvaluator(rawPredictionCol='prediction',\n",
    "#                                        labelCol='Individual_Rate')"
   ]
  },
  {
   "cell_type": "markdown",
   "metadata": {},
   "source": [
    "# Tree Methods"
   ]
  },
  {
   "cell_type": "code",
   "execution_count": 141,
   "metadata": {},
   "outputs": [],
   "source": [
    "from pyspark.sql import SparkSession\n",
    "spark = SparkSession.builder.appName('tree_methods_adv').getOrCreate()"
   ]
  },
  {
   "cell_type": "code",
   "execution_count": 142,
   "metadata": {},
   "outputs": [
    {
     "name": "stdout",
     "output_type": "stream",
     "text": [
      "root\n",
      " |-- Age_group: integer (nullable = true)\n",
      " |-- Individual_Rate: double (nullable = false)\n",
      " |-- Individual_Tobacco_Rate: double (nullable = false)\n",
      " |-- Couple: double (nullable = false)\n",
      " |-- State_Id: double (nullable = false)\n",
      " |-- Area_Id: double (nullable = false)\n",
      " |-- Tobacco_new: double (nullable = false)\n",
      "\n"
     ]
    }
   ],
   "source": [
    "new_df.printSchema()"
   ]
  },
  {
   "cell_type": "code",
   "execution_count": 143,
   "metadata": {},
   "outputs": [
    {
     "data": {
      "text/plain": [
       "['Age_group',\n",
       " 'Individual_Rate',\n",
       " 'Individual_Tobacco_Rate',\n",
       " 'Couple',\n",
       " 'State_Id',\n",
       " 'Area_Id',\n",
       " 'Tobacco_new']"
      ]
     },
     "execution_count": 143,
     "metadata": {},
     "output_type": "execute_result"
    }
   ],
   "source": [
    "new_df.columns"
   ]
  },
  {
   "cell_type": "code",
   "execution_count": 144,
   "metadata": {},
   "outputs": [],
   "source": [
    "assembler = VectorAssembler(\n",
    "  inputCols=['Age_group',\n",
    " 'Individual_Rate',\n",
    " 'Individual_Tobacco_Rate',\n",
    " 'Couple',\n",
    " 'State_Id',\n",
    " 'Area_Id'],outputCol=\"features\")"
   ]
  },
  {
   "cell_type": "code",
   "execution_count": 145,
   "metadata": {},
   "outputs": [
    {
     "name": "stderr",
     "output_type": "stream",
     "text": [
      "\r",
      "[Stage 154:============================>                            (1 + 1) / 2]\r",
      "\r",
      "                                                                                \r"
     ]
    }
   ],
   "source": [
    "output = assembler.transform(new_df)\n",
    "\n",
    "indexer = StringIndexer(inputCol=\"Tobacco_new\", outputCol=\"Tobacco_new_index\")\n",
    "output_fixed = indexer.fit(output).transform(output)"
   ]
  },
  {
   "cell_type": "code",
   "execution_count": 146,
   "metadata": {},
   "outputs": [
    {
     "data": {
      "text/plain": [
       "[Row(Tobacco_new=0.0), Row(Tobacco_new=1.0)]"
      ]
     },
     "execution_count": 146,
     "metadata": {},
     "output_type": "execute_result"
    }
   ],
   "source": [
    "new_df.select('Tobacco_new').distinct().collect()"
   ]
  },
  {
   "cell_type": "code",
   "execution_count": 147,
   "metadata": {},
   "outputs": [],
   "source": [
    "final_data = output_fixed.select(\"features\",'Tobacco_new_index')"
   ]
  },
  {
   "cell_type": "code",
   "execution_count": 148,
   "metadata": {},
   "outputs": [],
   "source": [
    "# Split the training and testing set.\n",
    "train_data,test_data = final_data.randomSplit([0.7,0.5])"
   ]
  },
  {
   "cell_type": "code",
   "execution_count": 149,
   "metadata": {},
   "outputs": [],
   "source": [
    "from pyspark.ml.classification import DecisionTreeClassifier,GBTClassifier,RandomForestClassifier\n",
    "from pyspark.ml import Pipeline"
   ]
  },
  {
   "cell_type": "code",
   "execution_count": 150,
   "metadata": {},
   "outputs": [],
   "source": [
    "dtc = DecisionTreeClassifier(labelCol='Tobacco_new_index',featuresCol='features')\n",
    "rfc = RandomForestClassifier(labelCol='Tobacco_new_index',featuresCol='features')\n",
    "gbt = GBTClassifier(labelCol='Tobacco_new_index',featuresCol='features')"
   ]
  },
  {
   "cell_type": "code",
   "execution_count": 151,
   "metadata": {},
   "outputs": [
    {
     "name": "stderr",
     "output_type": "stream",
     "text": [
      "                                                                                \r"
     ]
    }
   ],
   "source": [
    "# Train the models (it's three models, so it might take some time).\n",
    "dtc_model = dtc.fit(train_data)\n",
    "rfc_model = rfc.fit(train_data)\n",
    "gbt_model = gbt.fit(train_data)"
   ]
  },
  {
   "cell_type": "code",
   "execution_count": 152,
   "metadata": {},
   "outputs": [],
   "source": [
    "dtc_predictions = dtc_model.transform(test_data)\n",
    "rfc_predictions = rfc_model.transform(test_data)\n",
    "gbt_predictions = gbt_model.transform(test_data)"
   ]
  },
  {
   "cell_type": "code",
   "execution_count": 153,
   "metadata": {},
   "outputs": [],
   "source": [
    "# Let's start off with binary classification.\n",
    "from pyspark.ml.evaluation import BinaryClassificationEvaluator\n",
    "\n",
    "# Note that the label column isn't named label, it's named Individual_Rate_index in this case.\n",
    "my_binary_eval = BinaryClassificationEvaluator(labelCol = 'Tobacco_new_index')"
   ]
  },
  {
   "cell_type": "code",
   "execution_count": 154,
   "metadata": {},
   "outputs": [
    {
     "name": "stdout",
     "output_type": "stream",
     "text": [
      "DTC\n"
     ]
    },
    {
     "name": "stderr",
     "output_type": "stream",
     "text": [
      "                                                                                \r"
     ]
    },
    {
     "name": "stdout",
     "output_type": "stream",
     "text": [
      "1.0\n",
      "RFC\n"
     ]
    },
    {
     "name": "stderr",
     "output_type": "stream",
     "text": [
      "                                                                                \r"
     ]
    },
    {
     "name": "stdout",
     "output_type": "stream",
     "text": [
      "0.9999999999999999\n",
      "GBT\n"
     ]
    },
    {
     "name": "stderr",
     "output_type": "stream",
     "text": [
      "[Stage 360:============================>                            (1 + 1) / 2]\r"
     ]
    },
    {
     "name": "stdout",
     "output_type": "stream",
     "text": [
      "1.0\n"
     ]
    },
    {
     "name": "stderr",
     "output_type": "stream",
     "text": [
      "\r",
      "                                                                                \r"
     ]
    }
   ],
   "source": [
    "# This is the area under the curve. This indicates that the data is highly seperable.\n",
    "print(\"DTC\")\n",
    "print(my_binary_eval.evaluate(dtc_predictions))\n",
    "\n",
    "# RFC improves accuracy but also model complexity. RFC outperforms DTC in nearly every situation.\n",
    "print(\"RFC\")\n",
    "print(my_binary_eval.evaluate(rfc_predictions))\n",
    "\n",
    "# We can't repeat these exact steps for GBT. If you print the schema of all three, you may be able to notice why.\n",
    "# Instead, let's redefine the object:\n",
    "my_binary_gbt_eval = BinaryClassificationEvaluator(labelCol='Tobacco_new_index', rawPredictionCol='prediction')\n",
    "print(\"GBT\")\n",
    "print(my_binary_gbt_eval.evaluate(gbt_predictions))\n",
    "\n",
    "# Interesting, GBT didn't perform as well as RFC or DTC. But that's because we left the model's settings as default. \n",
    "# In most cases, we should adjust these parameters. More trees may increase accuracy, but decrease precision and recall. \n"
   ]
  },
  {
   "cell_type": "code",
   "execution_count": 155,
   "metadata": {},
   "outputs": [],
   "source": [
    "# Let's import the evaluator.\n",
    "from pyspark.ml.evaluation import MulticlassClassificationEvaluator"
   ]
  },
  {
   "cell_type": "code",
   "execution_count": 156,
   "metadata": {},
   "outputs": [
    {
     "name": "stderr",
     "output_type": "stream",
     "text": [
      "                                                                                \r"
     ]
    }
   ],
   "source": [
    "# Select (prediction, true label) and compute test error. \n",
    "acc_evaluator = MulticlassClassificationEvaluator(labelCol=\"Tobacco_new_index\", predictionCol=\"prediction\", metricName=\"accuracy\")\n",
    "\n",
    "dtc_acc = acc_evaluator.evaluate(dtc_predictions)\n",
    "rfc_acc = acc_evaluator.evaluate(rfc_predictions)\n",
    "gbt_acc = acc_evaluator.evaluate(gbt_predictions)"
   ]
  },
  {
   "cell_type": "code",
   "execution_count": 157,
   "metadata": {},
   "outputs": [
    {
     "name": "stdout",
     "output_type": "stream",
     "text": [
      "Here are the results!\n",
      "----------------------------------------\n",
      "A single decision tree has an accuracy of: 100.00%\n",
      "----------------------------------------\n",
      "A random forest ensemble has an accuracy of: 100.00%\n",
      "----------------------------------------\n",
      "An ensemble using GBT has an accuracy of: 100.00%\n"
     ]
    }
   ],
   "source": [
    "# Let's do something a bit more complex in terms of printing, just so it's formatted nicer. \n",
    "print(\"Here are the results!\")\n",
    "print('-'*40)\n",
    "print('A single decision tree has an accuracy of: {0:2.2f}%'.format(dtc_acc*100))\n",
    "print('-'*40)\n",
    "print('A random forest ensemble has an accuracy of: {0:2.2f}%'.format(rfc_acc*100))\n",
    "print('-'*40)\n",
    "print('An ensemble using GBT has an accuracy of: {0:2.2f}%'.format(gbt_acc*100))"
   ]
  }
 ],
 "metadata": {
  "kernelspec": {
   "display_name": "Python 3 (ipykernel)",
   "language": "python",
   "name": "python3"
  },
  "language_info": {
   "codemirror_mode": {
    "name": "ipython",
    "version": 3
   },
   "file_extension": ".py",
   "mimetype": "text/x-python",
   "name": "python",
   "nbconvert_exporter": "python",
   "pygments_lexer": "ipython3",
   "version": "3.10.4"
  }
 },
 "nbformat": 4,
 "nbformat_minor": 1
}
