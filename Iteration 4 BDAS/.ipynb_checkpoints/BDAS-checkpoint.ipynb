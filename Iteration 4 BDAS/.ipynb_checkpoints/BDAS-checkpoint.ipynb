{
 "cells": [
  {
   "cell_type": "code",
   "execution_count": 51,
   "metadata": {},
   "outputs": [],
   "source": [
    "# Must be included at the beginning of each new notebook. Remember to change the app name.\n",
    "import findspark\n",
    "findspark.init('/home/ubuntu/spark-3.2.1-bin-hadoop2.7')\n",
    "import pyspark\n",
    "from pyspark.sql import SparkSession\n",
    "spark = SparkSession.builder.appName('basics').getOrCreate()\n",
    "\n",
    "from pyspark.sql.functions import col"
   ]
  },
  {
   "cell_type": "code",
   "execution_count": 74,
   "metadata": {},
   "outputs": [
    {
     "name": "stderr",
     "output_type": "stream",
     "text": [
      "                                                                                \r"
     ]
    }
   ],
   "source": [
    "# Let's read in the data. Note that it's in the format of JSON.\n",
    "df = spark.read.csv('data/New_ruf.csv',inferSchema=True, header=True)"
   ]
  },
  {
   "cell_type": "code",
   "execution_count": 9,
   "metadata": {},
   "outputs": [
    {
     "name": "stdout",
     "output_type": "stream",
     "text": [
      "+------------+---------+--------+----------+----------+-------------------+---------+----------+-----------------+------------------+--------------+-------------+--------------------+-------------+--------------+---------------------+------+--------------------------------+---------------------------------+-----------------------------------------+---------------------+----------------------+------------------------------+---------+\n",
      "|BusinessYear|StateCode|IssuerId|SourceName|VersionNum|         ImportDate|IssuerId2|FederalTIN|RateEffectiveDate|RateExpirationDate|        PlanId| RatingAreaId|             Tobacco|          Age|IndividualRate|IndividualTobaccoRate|Couple|PrimarySubscriberAndOneDependent|PrimarySubscriberAndTwoDependents|PrimarySubscriberAndThreeOrMoreDependents|CoupleAndOneDependent|CoupleAndTwoDependents|CoupleAndThreeOrMoreDependents|RowNumber|\n",
      "+------------+---------+--------+----------+----------+-------------------+---------+----------+-----------------+------------------+--------------+-------------+--------------------+-------------+--------------+---------------------+------+--------------------------------+---------------------------------+-----------------------------------------+---------------------+----------------------+------------------------------+---------+\n",
      "|        2016|       AK|   21989|      HIOS|         4|2015-08-22 15:09:32|    21989|93-0438772|       2016-04-01|        2016-06-30|21989AK0080001|Rating Area 1|       No Preference|Family Option|         51.36|                 null| 101.7|                          117.62|                           117.62|                                   117.62|               180.28|                180.28|                        180.28|       14|\n",
      "|        2016|       AK|   21989|      HIOS|         4|2015-08-22 15:09:32|    21989|93-0438772|       2016-01-01|        2016-03-31|21989AK0090001|Rating Area 1|       No Preference|           21|          55.0|                 null|  null|                            null|                             null|                                     null|                 null|                  null|                          null|       15|\n",
      "|        2016|       AK|   21989|      HIOS|         4|2015-08-22 15:09:32|    21989|93-0438772|       2016-04-01|        2016-06-30|21989AK0080001|Rating Area 2|       No Preference|Family Option|         51.36|                 null| 101.7|                          117.62|                           117.62|                                   117.62|               180.28|                180.28|                        180.28|       15|\n",
      "|        2016|       AK|   21989|      HIOS|         4|2015-08-22 15:09:32|    21989|93-0438772|       2016-01-01|        2016-03-31|21989AK0080001|Rating Area 2|       No Preference|Family Option|         50.67|                 null|100.33|                          116.04|                           116.04|                                   116.04|               117.86|                117.86|                        117.86|       15|\n",
      "|        2016|       AK|   21989|      HIOS|         4|2015-08-22 15:09:32|    21989|93-0438772|       2016-01-01|        2016-12-31|21989AK0030001|Rating Area 1|       No Preference|           21|          38.0|                 null|  null|                            null|                             null|                                     null|                 null|                  null|                          null|       15|\n",
      "|        2016|       AK|   21989|      HIOS|         4|2015-08-22 15:09:32|    21989|93-0438772|       2016-07-01|        2016-09-30|21989AK0080001|Rating Area 3|       No Preference|Family Option|         52.06|                 null|103.08|                          119.22|                           119.22|                                   119.22|               182.73|                182.73|                        182.73|       16|\n",
      "|        2016|       AK|   21989|      HIOS|         4|2015-08-22 15:09:32|    21989|93-0438772|       2016-10-01|        2016-12-31|21989AK0080002|Rating Area 1|       No Preference|Family Option|         59.98|                 null|118.76|                          137.35|                           137.35|                                   137.35|               210.53|                210.53|                        210.53|       17|\n",
      "|        2016|       AK|   21989|      HIOS|         4|2015-08-22 15:09:32|    21989|93-0438772|       2016-10-01|        2016-12-31|21989AK0090001|Rating Area 1|       No Preference|           23|          57.0|                 null|  null|                            null|                             null|                                     null|                 null|                  null|                          null|       17|\n",
      "|        2016|       AK|   21989|      HIOS|         4|2015-08-22 15:09:32|    21989|93-0438772|       2016-01-01|        2016-03-31|21989AK0080002|Rating Area 1|       No Preference|Family Option|          57.6|                 null|114.05|                           131.9|                            131.9|                                    131.9|               202.17|                202.17|                        202.17|       17|\n",
      "|        2016|       AK|   21989|      HIOS|         4|2015-08-22 15:09:32|    21989|93-0438772|       2016-07-01|        2016-09-30|21989AK0080002|Rating Area 2|       No Preference|Family Option|         59.18|                 null|117.17|                          135.51|                           135.51|                                   135.51|                207.7|                 207.7|                         207.7|       18|\n",
      "|        2016|       AK|   21989|      HIOS|         4|2015-08-22 15:09:32|    21989|93-0438772|       2016-10-01|        2016-12-31|21989AK0080002|Rating Area 2|       No Preference|Family Option|         59.98|                 null|118.76|                          137.35|                           137.35|                                   137.35|               210.53|                210.53|                        210.53|       18|\n",
      "|        2016|       AK|   21989|      HIOS|         4|2015-08-22 15:09:32|    21989|93-0438772|       2016-07-01|        2016-09-30|21989AK0090001|Rating Area 1|       No Preference|           25|          57.0|                 null|  null|                            null|                             null|                                     null|                 null|                  null|                          null|       19|\n",
      "|        2016|       AK|   21989|      HIOS|         4|2015-08-22 15:09:32|    21989|93-0438772|       2016-04-01|        2016-06-30|21989AK0080002|Rating Area 3|       No Preference|Family Option|         58.38|                 null| 115.6|                          133.69|                           133.69|                                   133.69|               204.92|                204.92|                        204.92|       19|\n",
      "|        2016|       AK|   21989|      HIOS|         4|2015-08-22 15:09:32|    21989|93-0438772|       2016-07-01|        2016-09-30|21989AK0090001|Rating Area 1|       No Preference|           26|          57.0|                 null|  null|                            null|                             null|                                     null|                 null|                  null|                          null|       20|\n",
      "|        2016|       AK|   21989|      HIOS|         4|2015-08-22 15:09:32|    21989|93-0438772|       2016-04-01|        2016-06-30|21989AK0100002|Rating Area 1|       No Preference|Family Option|          51.4|                 null|101.78|                          117.72|                           117.72|                                   117.72|               180.43|                180.43|                        180.43|       22|\n",
      "|        2016|       AK|   21989|      HIOS|         4|2015-08-22 15:09:32|    21989|93-0438772|       2016-01-01|        2016-03-31|21989AK0090001|Rating Area 1|       No Preference|           28|          55.0|                 null|  null|                            null|                             null|                                     null|                 null|                  null|                          null|       22|\n",
      "|        2016|       FL|   27357|      HIOS|         4|2015-10-20 04:38:50|    27357|59-3315064|       2016-01-01|        2016-12-31|27357FL1830025|Rating Area 5|Tobacco User/Non-...|           27|        224.04|               224.04|  null|                            null|                             null|                                     null|                 null|                  null|                          null|     6093|\n",
      "|        2016|       FL|   27357|      HIOS|         4|2015-10-20 04:38:50|    27357|59-3315064|       2016-01-01|        2016-03-31|27357FL1850051|Rating Area 5|Tobacco User/Non-...|           27|        206.88|               206.88|  null|                            null|                             null|                                     null|                 null|                  null|                          null|     6093|\n",
      "|        2016|       FL|   27357|      HIOS|         4|2015-10-20 04:38:50|    27357|59-3315064|       2016-07-01|        2016-09-30|27357FL1850051|Rating Area 5|Tobacco User/Non-...|           28|        221.92|               221.92|  null|                            null|                             null|                                     null|                 null|                  null|                          null|     6094|\n",
      "|        2016|       FL|   27357|      HIOS|         4|2015-10-20 04:38:50|    27357|59-3315064|       2016-04-01|        2016-06-30|27357FL1850051|Rating Area 5|Tobacco User/Non-...|           30|        227.85|               250.64|  null|                            null|                             null|                                     null|                 null|                  null|                          null|     6096|\n",
      "+------------+---------+--------+----------+----------+-------------------+---------+----------+-----------------+------------------+--------------+-------------+--------------------+-------------+--------------+---------------------+------+--------------------------------+---------------------------------+-----------------------------------------+---------------------+----------------------+------------------------------+---------+\n",
      "only showing top 20 rows\n",
      "\n",
      "root\n",
      " |-- BusinessYear: integer (nullable = true)\n",
      " |-- StateCode: string (nullable = true)\n",
      " |-- IssuerId: integer (nullable = true)\n",
      " |-- SourceName: string (nullable = true)\n",
      " |-- VersionNum: integer (nullable = true)\n",
      " |-- ImportDate: string (nullable = true)\n",
      " |-- IssuerId2: integer (nullable = true)\n",
      " |-- FederalTIN: string (nullable = true)\n",
      " |-- RateEffectiveDate: string (nullable = true)\n",
      " |-- RateExpirationDate: string (nullable = true)\n",
      " |-- PlanId: string (nullable = true)\n",
      " |-- RatingAreaId: string (nullable = true)\n",
      " |-- Tobacco: string (nullable = true)\n",
      " |-- Age: string (nullable = true)\n",
      " |-- IndividualRate: double (nullable = true)\n",
      " |-- IndividualTobaccoRate: double (nullable = true)\n",
      " |-- Couple: double (nullable = true)\n",
      " |-- PrimarySubscriberAndOneDependent: double (nullable = true)\n",
      " |-- PrimarySubscriberAndTwoDependents: double (nullable = true)\n",
      " |-- PrimarySubscriberAndThreeOrMoreDependents: double (nullable = true)\n",
      " |-- CoupleAndOneDependent: double (nullable = true)\n",
      " |-- CoupleAndTwoDependents: double (nullable = true)\n",
      " |-- CoupleAndThreeOrMoreDependents: double (nullable = true)\n",
      " |-- RowNumber: integer (nullable = true)\n",
      "\n"
     ]
    }
   ],
   "source": [
    "# Let's see the data.\n",
    "df.show()\n",
    "\n",
    "# And the data schema.\n",
    "df.printSchema()"
   ]
  },
  {
   "cell_type": "code",
   "execution_count": 10,
   "metadata": {},
   "outputs": [
    {
     "name": "stderr",
     "output_type": "stream",
     "text": [
      "[Stage 9:=============================>                             (1 + 1) / 2]\r"
     ]
    },
    {
     "name": "stdout",
     "output_type": "stream",
     "text": [
      "+-------+------------+---------+------------------+----------+-----------------+-------------------+------------------+----------+-----------------+------------------+--------------+-------------+--------------------+-----------------+-----------------+---------------------+-----------------+--------------------------------+---------------------------------+-----------------------------------------+---------------------+----------------------+------------------------------+-----------------+\n",
      "|summary|BusinessYear|StateCode|          IssuerId|SourceName|       VersionNum|         ImportDate|         IssuerId2|FederalTIN|RateEffectiveDate|RateExpirationDate|        PlanId| RatingAreaId|             Tobacco|              Age|   IndividualRate|IndividualTobaccoRate|           Couple|PrimarySubscriberAndOneDependent|PrimarySubscriberAndTwoDependents|PrimarySubscriberAndThreeOrMoreDependents|CoupleAndOneDependent|CoupleAndTwoDependents|CoupleAndThreeOrMoreDependents|        RowNumber|\n",
      "+-------+------------+---------+------------------+----------+-----------------+-------------------+------------------+----------+-----------------+------------------+--------------+-------------+--------------------+-----------------+-----------------+---------------------+-----------------+--------------------------------+---------------------------------+-----------------------------------------+---------------------+----------------------+------------------------------+-----------------+\n",
      "|  count|      621965|   621965|            621965|    621965|           621965|             621965|            621965|    621965|           621965|            621965|        621965|       621965|              621965|           621965|           621965|               225853|             2400|                            2400|                             2400|                                     2400|                 2400|                  2400|                          2400|           621965|\n",
      "|   mean|      2016.0|     null| 53368.43118664234|      null|6.374238100214642|               null| 53368.43118664234|      null|             null|              null|          null|         null|                null|42.49474977055552|336.8426085084079|    547.5562329476157|44.33976250000012|               47.00344583333334|                66.17191666666653|                        83.41383333333343|    67.96780000000015|     83.10323749999989|             100.4217083333334|6435.915720337961|\n",
      "| stddev|         0.0|     null|26690.092800662536|      null|3.982014438113312|               null|26690.092800662536|      null|             null|              null|          null|         null|                null|12.69979259933981|529.5370271371768|   272.82068749008266|34.72857831285025|               33.93650222465852|                48.42373994735527|                        60.82163483291768|    54.27612030249849|     64.83817881714239|             77.86404876151495|9141.324031859853|\n",
      "|    min|        2016|       AK|             10046|      HIOS|                1|2015-04-22 02:23:18|             10046|01-0286541|       2015-01-01|        2015-12-31|10046HI0020003|Rating Area 1|       No Preference|             0-20|              0.0|                60.78|              0.0|                             0.0|                              0.0|                                      0.0|                  0.0|                   0.0|                           0.0|               14|\n",
      "|    max|        2016|       WY|             99969|     SERFF|               24|2015-11-21 06:31:07|             99969|99-0107971|       2016-10-01|        2017-01-01|99969OH0080010|Rating Area 9|Tobacco User/Non-...|    Family Option|           9999.0|              2514.42|           137.72|                          146.58|                           192.36|                                   253.61|               222.79|                260.23|                        321.48|            58156|\n",
      "+-------+------------+---------+------------------+----------+-----------------+-------------------+------------------+----------+-----------------+------------------+--------------+-------------+--------------------+-----------------+-----------------+---------------------+-----------------+--------------------------------+---------------------------------+-----------------------------------------+---------------------+----------------------+------------------------------+-----------------+\n",
      "\n"
     ]
    },
    {
     "name": "stderr",
     "output_type": "stream",
     "text": [
      "\r",
      "                                                                                \r"
     ]
    }
   ],
   "source": [
    "df.describe().show()"
   ]
  },
  {
   "cell_type": "code",
   "execution_count": 7,
   "metadata": {},
   "outputs": [
    {
     "name": "stdout",
     "output_type": "stream",
     "text": [
      "root\n",
      " |-- _c0: string (nullable = true)\n",
      " |-- _c1: string (nullable = true)\n",
      " |-- _c2: string (nullable = true)\n",
      " |-- _c3: string (nullable = true)\n",
      " |-- _c4: string (nullable = true)\n",
      " |-- _c5: string (nullable = true)\n",
      " |-- _c6: string (nullable = true)\n",
      " |-- _c7: string (nullable = true)\n",
      " |-- _c8: string (nullable = true)\n",
      " |-- _c9: string (nullable = true)\n",
      " |-- _c10: string (nullable = true)\n",
      " |-- _c11: string (nullable = true)\n",
      " |-- _c12: string (nullable = true)\n",
      " |-- _c13: string (nullable = true)\n",
      " |-- _c14: string (nullable = true)\n",
      " |-- _c15: string (nullable = true)\n",
      " |-- _c16: string (nullable = true)\n",
      " |-- _c17: string (nullable = true)\n",
      " |-- _c18: string (nullable = true)\n",
      " |-- _c19: string (nullable = true)\n",
      " |-- _c20: string (nullable = true)\n",
      " |-- _c21: string (nullable = true)\n",
      " |-- _c22: string (nullable = true)\n",
      " |-- _c23: string (nullable = true)\n",
      "\n"
     ]
    }
   ],
   "source": [
    "df.printSchema()"
   ]
  },
  {
   "cell_type": "code",
   "execution_count": 11,
   "metadata": {},
   "outputs": [
    {
     "name": "stdout",
     "output_type": "stream",
     "text": [
      "+------------+---------+--------+----------+----------+-------------------+---------+----------+-----------------+------------------+--------------+-------------+--------------------+-------------+--------------+---------------------+------+--------------------------------+---------------------------------+-----------------------------------------+---------------------+----------------------+------------------------------+---------+\n",
      "|BusinessYear|StateCode|IssuerId|SourceName|VersionNum|         ImportDate|IssuerId2|FederalTIN|RateEffectiveDate|RateExpirationDate|        PlanId| RatingAreaId|             Tobacco|          Age|IndividualRate|IndividualTobaccoRate|Couple|PrimarySubscriberAndOneDependent|PrimarySubscriberAndTwoDependents|PrimarySubscriberAndThreeOrMoreDependents|CoupleAndOneDependent|CoupleAndTwoDependents|CoupleAndThreeOrMoreDependents|RowNumber|\n",
      "+------------+---------+--------+----------+----------+-------------------+---------+----------+-----------------+------------------+--------------+-------------+--------------------+-------------+--------------+---------------------+------+--------------------------------+---------------------------------+-----------------------------------------+---------------------+----------------------+------------------------------+---------+\n",
      "|        2016|       AK|   21989|      HIOS|         4|2015-08-22 15:09:32|    21989|93-0438772|       2016-04-01|        2016-06-30|21989AK0080001|Rating Area 1|       No Preference|Family Option|         51.36|                 null| 101.7|                          117.62|                           117.62|                                   117.62|               180.28|                180.28|                        180.28|       14|\n",
      "|        2016|       AK|   21989|      HIOS|         4|2015-08-22 15:09:32|    21989|93-0438772|       2016-01-01|        2016-03-31|21989AK0090001|Rating Area 1|       No Preference|           21|          55.0|                 null|  null|                            null|                             null|                                     null|                 null|                  null|                          null|       15|\n",
      "|        2016|       AK|   21989|      HIOS|         4|2015-08-22 15:09:32|    21989|93-0438772|       2016-04-01|        2016-06-30|21989AK0080001|Rating Area 2|       No Preference|Family Option|         51.36|                 null| 101.7|                          117.62|                           117.62|                                   117.62|               180.28|                180.28|                        180.28|       15|\n",
      "|        2016|       AK|   21989|      HIOS|         4|2015-08-22 15:09:32|    21989|93-0438772|       2016-01-01|        2016-03-31|21989AK0080001|Rating Area 2|       No Preference|Family Option|         50.67|                 null|100.33|                          116.04|                           116.04|                                   116.04|               117.86|                117.86|                        117.86|       15|\n",
      "|        2016|       AK|   21989|      HIOS|         4|2015-08-22 15:09:32|    21989|93-0438772|       2016-01-01|        2016-12-31|21989AK0030001|Rating Area 1|       No Preference|           21|          38.0|                 null|  null|                            null|                             null|                                     null|                 null|                  null|                          null|       15|\n",
      "|        2016|       AK|   21989|      HIOS|         4|2015-08-22 15:09:32|    21989|93-0438772|       2016-07-01|        2016-09-30|21989AK0080001|Rating Area 3|       No Preference|Family Option|         52.06|                 null|103.08|                          119.22|                           119.22|                                   119.22|               182.73|                182.73|                        182.73|       16|\n",
      "|        2016|       AK|   21989|      HIOS|         4|2015-08-22 15:09:32|    21989|93-0438772|       2016-10-01|        2016-12-31|21989AK0080002|Rating Area 1|       No Preference|Family Option|         59.98|                 null|118.76|                          137.35|                           137.35|                                   137.35|               210.53|                210.53|                        210.53|       17|\n",
      "|        2016|       AK|   21989|      HIOS|         4|2015-08-22 15:09:32|    21989|93-0438772|       2016-10-01|        2016-12-31|21989AK0090001|Rating Area 1|       No Preference|           23|          57.0|                 null|  null|                            null|                             null|                                     null|                 null|                  null|                          null|       17|\n",
      "|        2016|       AK|   21989|      HIOS|         4|2015-08-22 15:09:32|    21989|93-0438772|       2016-01-01|        2016-03-31|21989AK0080002|Rating Area 1|       No Preference|Family Option|          57.6|                 null|114.05|                           131.9|                            131.9|                                    131.9|               202.17|                202.17|                        202.17|       17|\n",
      "|        2016|       AK|   21989|      HIOS|         4|2015-08-22 15:09:32|    21989|93-0438772|       2016-07-01|        2016-09-30|21989AK0080002|Rating Area 2|       No Preference|Family Option|         59.18|                 null|117.17|                          135.51|                           135.51|                                   135.51|                207.7|                 207.7|                         207.7|       18|\n",
      "|        2016|       AK|   21989|      HIOS|         4|2015-08-22 15:09:32|    21989|93-0438772|       2016-10-01|        2016-12-31|21989AK0080002|Rating Area 2|       No Preference|Family Option|         59.98|                 null|118.76|                          137.35|                           137.35|                                   137.35|               210.53|                210.53|                        210.53|       18|\n",
      "|        2016|       AK|   21989|      HIOS|         4|2015-08-22 15:09:32|    21989|93-0438772|       2016-07-01|        2016-09-30|21989AK0090001|Rating Area 1|       No Preference|           25|          57.0|                 null|  null|                            null|                             null|                                     null|                 null|                  null|                          null|       19|\n",
      "|        2016|       AK|   21989|      HIOS|         4|2015-08-22 15:09:32|    21989|93-0438772|       2016-04-01|        2016-06-30|21989AK0080002|Rating Area 3|       No Preference|Family Option|         58.38|                 null| 115.6|                          133.69|                           133.69|                                   133.69|               204.92|                204.92|                        204.92|       19|\n",
      "|        2016|       AK|   21989|      HIOS|         4|2015-08-22 15:09:32|    21989|93-0438772|       2016-07-01|        2016-09-30|21989AK0090001|Rating Area 1|       No Preference|           26|          57.0|                 null|  null|                            null|                             null|                                     null|                 null|                  null|                          null|       20|\n",
      "|        2016|       AK|   21989|      HIOS|         4|2015-08-22 15:09:32|    21989|93-0438772|       2016-04-01|        2016-06-30|21989AK0100002|Rating Area 1|       No Preference|Family Option|          51.4|                 null|101.78|                          117.72|                           117.72|                                   117.72|               180.43|                180.43|                        180.43|       22|\n",
      "|        2016|       AK|   21989|      HIOS|         4|2015-08-22 15:09:32|    21989|93-0438772|       2016-01-01|        2016-03-31|21989AK0090001|Rating Area 1|       No Preference|           28|          55.0|                 null|  null|                            null|                             null|                                     null|                 null|                  null|                          null|       22|\n",
      "|        2016|       FL|   27357|      HIOS|         4|2015-10-20 04:38:50|    27357|59-3315064|       2016-01-01|        2016-12-31|27357FL1830025|Rating Area 5|Tobacco User/Non-...|           27|        224.04|               224.04|  null|                            null|                             null|                                     null|                 null|                  null|                          null|     6093|\n",
      "|        2016|       FL|   27357|      HIOS|         4|2015-10-20 04:38:50|    27357|59-3315064|       2016-01-01|        2016-03-31|27357FL1850051|Rating Area 5|Tobacco User/Non-...|           27|        206.88|               206.88|  null|                            null|                             null|                                     null|                 null|                  null|                          null|     6093|\n",
      "|        2016|       FL|   27357|      HIOS|         4|2015-10-20 04:38:50|    27357|59-3315064|       2016-07-01|        2016-09-30|27357FL1850051|Rating Area 5|Tobacco User/Non-...|           28|        221.92|               221.92|  null|                            null|                             null|                                     null|                 null|                  null|                          null|     6094|\n",
      "|        2016|       FL|   27357|      HIOS|         4|2015-10-20 04:38:50|    27357|59-3315064|       2016-04-01|        2016-06-30|27357FL1850051|Rating Area 5|Tobacco User/Non-...|           30|        227.85|               250.64|  null|                            null|                             null|                                     null|                 null|                  null|                          null|     6096|\n",
      "+------------+---------+--------+----------+----------+-------------------+---------+----------+-----------------+------------------+--------------+-------------+--------------------+-------------+--------------+---------------------+------+--------------------------------+---------------------------------+-----------------------------------------+---------------------+----------------------+------------------------------+---------+\n",
      "only showing top 20 rows\n",
      "\n"
     ]
    }
   ],
   "source": [
    "df.show()"
   ]
  },
  {
   "cell_type": "code",
   "execution_count": 17,
   "metadata": {},
   "outputs": [
    {
     "name": "stderr",
     "output_type": "stream",
     "text": [
      "                                                                                \r"
     ]
    },
    {
     "data": {
      "text/plain": [
       "[Row(StateCode='AZ'),\n",
       " Row(StateCode='SC'),\n",
       " Row(StateCode='LA'),\n",
       " Row(StateCode='NJ'),\n",
       " Row(StateCode='NC'),\n",
       " Row(StateCode='MO'),\n",
       " Row(StateCode='ND'),\n",
       " Row(StateCode='MS'),\n",
       " Row(StateCode='AL'),\n",
       " Row(StateCode='IN'),\n",
       " Row(StateCode='PA'),\n",
       " Row(StateCode='GA'),\n",
       " Row(StateCode='FL'),\n",
       " Row(StateCode='AK'),\n",
       " Row(StateCode='OK'),\n",
       " Row(StateCode='OR'),\n",
       " Row(StateCode='VA'),\n",
       " Row(StateCode='WY'),\n",
       " Row(StateCode='NH'),\n",
       " Row(StateCode='MI'),\n",
       " Row(StateCode='NV'),\n",
       " Row(StateCode='WI'),\n",
       " Row(StateCode='NE'),\n",
       " Row(StateCode='MT'),\n",
       " Row(StateCode='DE'),\n",
       " Row(StateCode='IL'),\n",
       " Row(StateCode='ME'),\n",
       " Row(StateCode='OH'),\n",
       " Row(StateCode='TN'),\n",
       " Row(StateCode='IA'),\n",
       " Row(StateCode='NM'),\n",
       " Row(StateCode='SD'),\n",
       " Row(StateCode='TX'),\n",
       " Row(StateCode='WV'),\n",
       " Row(StateCode='KS'),\n",
       " Row(StateCode='AR'),\n",
       " Row(StateCode='UT'),\n",
       " Row(StateCode='HI')]"
      ]
     },
     "execution_count": 17,
     "metadata": {},
     "output_type": "execute_result"
    }
   ],
   "source": [
    "df.select('StateCode').distinct().collect()"
   ]
  },
  {
   "cell_type": "code",
   "execution_count": 41,
   "metadata": {},
   "outputs": [
    {
     "name": "stderr",
     "output_type": "stream",
     "text": [
      "                                                                                \r"
     ]
    },
    {
     "data": {
      "image/png": "[encoded data removed]",
      "text/plain": [
       "<Figure size 1600x1280 with 1 Axes>"
      ]
     },
     "metadata": {
      "needs_background": "light"
     },
     "output_type": "display_data"
    }
   ],
   "source": [
    "import numpy as np\n",
    "import matplotlib.pyplot as plt\n",
    "%matplotlib inline\n",
    "from matplotlib.pyplot import figure\n",
    "\n",
    "figure(figsize=(20, 16), dpi=80)\n",
    "\n",
    "# Convert sex to an array using Numpy and plot it using pyplot. \n",
    "sexArr = np.array(df.select('StateCode').collect())\n",
    "plt.hist(sexArr)\n",
    "plt.show()"
   ]
  },
  {
   "cell_type": "code",
   "execution_count": 42,
   "metadata": {},
   "outputs": [
    {
     "name": "stderr",
     "output_type": "stream",
     "text": [
      "                                                                                \r"
     ]
    },
    {
     "data": {
      "image/png": "[encoded data removed]",
      "text/plain": [
       "<Figure size 1600x1280 with 1 Axes>"
      ]
     },
     "metadata": {
      "needs_background": "light"
     },
     "output_type": "display_data"
    }
   ],
   "source": [
    "import numpy as np\n",
    "import matplotlib.pyplot as plt\n",
    "%matplotlib inline\n",
    "from matplotlib.pyplot import figure\n",
    "\n",
    "figure(figsize=(20, 16), dpi=80)\n",
    "\n",
    "# Convert sex to an array using Numpy and plot it using pyplot. \n",
    "sexArr = np.array(df.select('Age').collect())\n",
    "plt.hist(sexArr)\n",
    "plt.show()"
   ]
  },
  {
   "cell_type": "code",
   "execution_count": 44,
   "metadata": {},
   "outputs": [
    {
     "name": "stderr",
     "output_type": "stream",
     "text": [
      "                                                                                \r"
     ]
    },
    {
     "data": {
      "image/png": "[encoded data removed]",
      "text/plain": [
       "<Figure size 1600x1280 with 1 Axes>"
      ]
     },
     "metadata": {
      "needs_background": "light"
     },
     "output_type": "display_data"
    }
   ],
   "source": [
    "figure(figsize=(20, 16), dpi=80)\n",
    "ageArr = np.array(df.filter('Age > 45').select('Age').collect())\n",
    "plt.hist(ageArr)\n",
    "plt.show()"
   ]
  },
  {
   "cell_type": "code",
   "execution_count": 45,
   "metadata": {},
   "outputs": [
    {
     "name": "stderr",
     "output_type": "stream",
     "text": [
      "                                                                                \r"
     ]
    },
    {
     "data": {
      "image/png": "[encoded data removed]",
      "text/plain": [
       "<Figure size 1600x1280 with 1 Axes>"
      ]
     },
     "metadata": {
      "needs_background": "light"
     },
     "output_type": "display_data"
    }
   ],
   "source": [
    "import numpy as np\n",
    "import matplotlib.pyplot as plt\n",
    "%matplotlib inline\n",
    "from matplotlib.pyplot import figure\n",
    "\n",
    "figure(figsize=(20, 16), dpi=80)\n",
    "\n",
    "# Convert sex to an array using Numpy and plot it using pyplot. \n",
    "sexArr = np.array(df.select('Tobacco').collect())\n",
    "plt.hist(sexArr)\n",
    "plt.show()"
   ]
  },
  {
   "cell_type": "code",
   "execution_count": 54,
   "metadata": {},
   "outputs": [
    {
     "name": "stderr",
     "output_type": "stream",
     "text": [
      "                                                                                \r"
     ]
    },
    {
     "ename": "ConversionError",
     "evalue": "Failed to convert value(s) to axis units: array(['AK', 'AK', 'AK', ..., 'WV', 'WV', 'WV'], dtype=object)",
     "output_type": "error",
     "traceback": [
      "\u001b[0;31m---------------------------------------------------------------------------\u001b[0m",
      "\u001b[0;31mValueError\u001b[0m                                Traceback (most recent call last)",
      "File \u001b[0;32m~/.local/lib/python3.10/site-packages/matplotlib/axis.py:1506\u001b[0m, in \u001b[0;36mAxis.convert_units\u001b[0;34m(self, x)\u001b[0m\n\u001b[1;32m   1505\u001b[0m \u001b[38;5;28;01mtry\u001b[39;00m:\n\u001b[0;32m-> 1506\u001b[0m     ret \u001b[38;5;241m=\u001b[39m \u001b[38;5;28;43mself\u001b[39;49m\u001b[38;5;241;43m.\u001b[39;49m\u001b[43mconverter\u001b[49m\u001b[38;5;241;43m.\u001b[39;49m\u001b[43mconvert\u001b[49m\u001b[43m(\u001b[49m\u001b[43mx\u001b[49m\u001b[43m,\u001b[49m\u001b[43m \u001b[49m\u001b[38;5;28;43mself\u001b[39;49m\u001b[38;5;241;43m.\u001b[39;49m\u001b[43munits\u001b[49m\u001b[43m,\u001b[49m\u001b[43m \u001b[49m\u001b[38;5;28;43mself\u001b[39;49m\u001b[43m)\u001b[49m\n\u001b[1;32m   1507\u001b[0m \u001b[38;5;28;01mexcept\u001b[39;00m \u001b[38;5;167;01mException\u001b[39;00m \u001b[38;5;28;01mas\u001b[39;00m e:\n",
      "File \u001b[0;32m~/.local/lib/python3.10/site-packages/matplotlib/category.py:49\u001b[0m, in \u001b[0;36mStrCategoryConverter.convert\u001b[0;34m(value, unit, axis)\u001b[0m\n\u001b[1;32m     48\u001b[0m \u001b[38;5;28;01mif\u001b[39;00m unit \u001b[38;5;129;01mis\u001b[39;00m \u001b[38;5;28;01mNone\u001b[39;00m:\n\u001b[0;32m---> 49\u001b[0m     \u001b[38;5;28;01mraise\u001b[39;00m \u001b[38;5;167;01mValueError\u001b[39;00m(\n\u001b[1;32m     50\u001b[0m         \u001b[38;5;124m'\u001b[39m\u001b[38;5;124mMissing category information for StrCategoryConverter; \u001b[39m\u001b[38;5;124m'\u001b[39m\n\u001b[1;32m     51\u001b[0m         \u001b[38;5;124m'\u001b[39m\u001b[38;5;124mthis might be caused by unintendedly mixing categorical and \u001b[39m\u001b[38;5;124m'\u001b[39m\n\u001b[1;32m     52\u001b[0m         \u001b[38;5;124m'\u001b[39m\u001b[38;5;124mnumeric data\u001b[39m\u001b[38;5;124m'\u001b[39m)\n\u001b[1;32m     53\u001b[0m StrCategoryConverter\u001b[38;5;241m.\u001b[39m_validate_unit(unit)\n",
      "\u001b[0;31mValueError\u001b[0m: Missing category information for StrCategoryConverter; this might be caused by unintendedly mixing categorical and numeric data",
      "\nThe above exception was the direct cause of the following exception:\n",
      "\u001b[0;31mConversionError\u001b[0m                           Traceback (most recent call last)",
      "Input \u001b[0;32mIn [54]\u001b[0m, in \u001b[0;36m<cell line: 3>\u001b[0;34m()\u001b[0m\n\u001b[1;32m      1\u001b[0m figure(figsize\u001b[38;5;241m=\u001b[39m(\u001b[38;5;241m20\u001b[39m, \u001b[38;5;241m16\u001b[39m), dpi\u001b[38;5;241m=\u001b[39m\u001b[38;5;241m80\u001b[39m)\n\u001b[1;32m      2\u001b[0m ageArr \u001b[38;5;241m=\u001b[39m np\u001b[38;5;241m.\u001b[39marray(df\u001b[38;5;241m.\u001b[39mfilter(col(\u001b[38;5;124m\"\u001b[39m\u001b[38;5;124mAge\u001b[39m\u001b[38;5;124m\"\u001b[39m)\u001b[38;5;241m.\u001b[39mcontains(\u001b[38;5;124m\"\u001b[39m\u001b[38;5;124mFamily Option\u001b[39m\u001b[38;5;124m\"\u001b[39m))\u001b[38;5;241m.\u001b[39mcollect())\n\u001b[0;32m----> 3\u001b[0m \u001b[43mplt\u001b[49m\u001b[38;5;241;43m.\u001b[39;49m\u001b[43mhist\u001b[49m\u001b[43m(\u001b[49m\u001b[43mageArr\u001b[49m\u001b[43m)\u001b[49m\n\u001b[1;32m      4\u001b[0m plt\u001b[38;5;241m.\u001b[39mshow()\n",
      "File \u001b[0;32m~/.local/lib/python3.10/site-packages/matplotlib/pyplot.py:2602\u001b[0m, in \u001b[0;36mhist\u001b[0;34m(x, bins, range, density, weights, cumulative, bottom, histtype, align, orientation, rwidth, log, color, label, stacked, data, **kwargs)\u001b[0m\n\u001b[1;32m   2596\u001b[0m \u001b[38;5;129m@_copy_docstring_and_deprecators\u001b[39m(Axes\u001b[38;5;241m.\u001b[39mhist)\n\u001b[1;32m   2597\u001b[0m \u001b[38;5;28;01mdef\u001b[39;00m \u001b[38;5;21mhist\u001b[39m(\n\u001b[1;32m   2598\u001b[0m         x, bins\u001b[38;5;241m=\u001b[39m\u001b[38;5;28;01mNone\u001b[39;00m, \u001b[38;5;28mrange\u001b[39m\u001b[38;5;241m=\u001b[39m\u001b[38;5;28;01mNone\u001b[39;00m, density\u001b[38;5;241m=\u001b[39m\u001b[38;5;28;01mFalse\u001b[39;00m, weights\u001b[38;5;241m=\u001b[39m\u001b[38;5;28;01mNone\u001b[39;00m,\n\u001b[1;32m   2599\u001b[0m         cumulative\u001b[38;5;241m=\u001b[39m\u001b[38;5;28;01mFalse\u001b[39;00m, bottom\u001b[38;5;241m=\u001b[39m\u001b[38;5;28;01mNone\u001b[39;00m, histtype\u001b[38;5;241m=\u001b[39m\u001b[38;5;124m'\u001b[39m\u001b[38;5;124mbar\u001b[39m\u001b[38;5;124m'\u001b[39m, align\u001b[38;5;241m=\u001b[39m\u001b[38;5;124m'\u001b[39m\u001b[38;5;124mmid\u001b[39m\u001b[38;5;124m'\u001b[39m,\n\u001b[1;32m   2600\u001b[0m         orientation\u001b[38;5;241m=\u001b[39m\u001b[38;5;124m'\u001b[39m\u001b[38;5;124mvertical\u001b[39m\u001b[38;5;124m'\u001b[39m, rwidth\u001b[38;5;241m=\u001b[39m\u001b[38;5;28;01mNone\u001b[39;00m, log\u001b[38;5;241m=\u001b[39m\u001b[38;5;28;01mFalse\u001b[39;00m, color\u001b[38;5;241m=\u001b[39m\u001b[38;5;28;01mNone\u001b[39;00m,\n\u001b[1;32m   2601\u001b[0m         label\u001b[38;5;241m=\u001b[39m\u001b[38;5;28;01mNone\u001b[39;00m, stacked\u001b[38;5;241m=\u001b[39m\u001b[38;5;28;01mFalse\u001b[39;00m, \u001b[38;5;241m*\u001b[39m, data\u001b[38;5;241m=\u001b[39m\u001b[38;5;28;01mNone\u001b[39;00m, \u001b[38;5;241m*\u001b[39m\u001b[38;5;241m*\u001b[39mkwargs):\n\u001b[0;32m-> 2602\u001b[0m     \u001b[38;5;28;01mreturn\u001b[39;00m \u001b[43mgca\u001b[49m\u001b[43m(\u001b[49m\u001b[43m)\u001b[49m\u001b[38;5;241;43m.\u001b[39;49m\u001b[43mhist\u001b[49m\u001b[43m(\u001b[49m\n\u001b[1;32m   2603\u001b[0m \u001b[43m        \u001b[49m\u001b[43mx\u001b[49m\u001b[43m,\u001b[49m\u001b[43m \u001b[49m\u001b[43mbins\u001b[49m\u001b[38;5;241;43m=\u001b[39;49m\u001b[43mbins\u001b[49m\u001b[43m,\u001b[49m\u001b[43m \u001b[49m\u001b[38;5;28;43mrange\u001b[39;49m\u001b[38;5;241;43m=\u001b[39;49m\u001b[38;5;28;43mrange\u001b[39;49m\u001b[43m,\u001b[49m\u001b[43m \u001b[49m\u001b[43mdensity\u001b[49m\u001b[38;5;241;43m=\u001b[39;49m\u001b[43mdensity\u001b[49m\u001b[43m,\u001b[49m\u001b[43m \u001b[49m\u001b[43mweights\u001b[49m\u001b[38;5;241;43m=\u001b[39;49m\u001b[43mweights\u001b[49m\u001b[43m,\u001b[49m\n\u001b[1;32m   2604\u001b[0m \u001b[43m        \u001b[49m\u001b[43mcumulative\u001b[49m\u001b[38;5;241;43m=\u001b[39;49m\u001b[43mcumulative\u001b[49m\u001b[43m,\u001b[49m\u001b[43m \u001b[49m\u001b[43mbottom\u001b[49m\u001b[38;5;241;43m=\u001b[39;49m\u001b[43mbottom\u001b[49m\u001b[43m,\u001b[49m\u001b[43m \u001b[49m\u001b[43mhisttype\u001b[49m\u001b[38;5;241;43m=\u001b[39;49m\u001b[43mhisttype\u001b[49m\u001b[43m,\u001b[49m\n\u001b[1;32m   2605\u001b[0m \u001b[43m        \u001b[49m\u001b[43malign\u001b[49m\u001b[38;5;241;43m=\u001b[39;49m\u001b[43malign\u001b[49m\u001b[43m,\u001b[49m\u001b[43m \u001b[49m\u001b[43morientation\u001b[49m\u001b[38;5;241;43m=\u001b[39;49m\u001b[43morientation\u001b[49m\u001b[43m,\u001b[49m\u001b[43m \u001b[49m\u001b[43mrwidth\u001b[49m\u001b[38;5;241;43m=\u001b[39;49m\u001b[43mrwidth\u001b[49m\u001b[43m,\u001b[49m\u001b[43m \u001b[49m\u001b[43mlog\u001b[49m\u001b[38;5;241;43m=\u001b[39;49m\u001b[43mlog\u001b[49m\u001b[43m,\u001b[49m\n\u001b[1;32m   2606\u001b[0m \u001b[43m        \u001b[49m\u001b[43mcolor\u001b[49m\u001b[38;5;241;43m=\u001b[39;49m\u001b[43mcolor\u001b[49m\u001b[43m,\u001b[49m\u001b[43m \u001b[49m\u001b[43mlabel\u001b[49m\u001b[38;5;241;43m=\u001b[39;49m\u001b[43mlabel\u001b[49m\u001b[43m,\u001b[49m\u001b[43m \u001b[49m\u001b[43mstacked\u001b[49m\u001b[38;5;241;43m=\u001b[39;49m\u001b[43mstacked\u001b[49m\u001b[43m,\u001b[49m\n\u001b[1;32m   2607\u001b[0m \u001b[43m        \u001b[49m\u001b[38;5;241;43m*\u001b[39;49m\u001b[38;5;241;43m*\u001b[39;49m\u001b[43m(\u001b[49m\u001b[43m{\u001b[49m\u001b[38;5;124;43m\"\u001b[39;49m\u001b[38;5;124;43mdata\u001b[39;49m\u001b[38;5;124;43m\"\u001b[39;49m\u001b[43m:\u001b[49m\u001b[43m \u001b[49m\u001b[43mdata\u001b[49m\u001b[43m}\u001b[49m\u001b[43m \u001b[49m\u001b[38;5;28;43;01mif\u001b[39;49;00m\u001b[43m \u001b[49m\u001b[43mdata\u001b[49m\u001b[43m \u001b[49m\u001b[38;5;129;43;01mis\u001b[39;49;00m\u001b[43m \u001b[49m\u001b[38;5;129;43;01mnot\u001b[39;49;00m\u001b[43m \u001b[49m\u001b[38;5;28;43;01mNone\u001b[39;49;00m\u001b[43m \u001b[49m\u001b[38;5;28;43;01melse\u001b[39;49;00m\u001b[43m \u001b[49m\u001b[43m{\u001b[49m\u001b[43m}\u001b[49m\u001b[43m)\u001b[49m\u001b[43m,\u001b[49m\u001b[43m \u001b[49m\u001b[38;5;241;43m*\u001b[39;49m\u001b[38;5;241;43m*\u001b[39;49m\u001b[43mkwargs\u001b[49m\u001b[43m)\u001b[49m\n",
      "File \u001b[0;32m~/.local/lib/python3.10/site-packages/matplotlib/__init__.py:1412\u001b[0m, in \u001b[0;36m_preprocess_data.<locals>.inner\u001b[0;34m(ax, data, *args, **kwargs)\u001b[0m\n\u001b[1;32m   1409\u001b[0m \u001b[38;5;129m@functools\u001b[39m\u001b[38;5;241m.\u001b[39mwraps(func)\n\u001b[1;32m   1410\u001b[0m \u001b[38;5;28;01mdef\u001b[39;00m \u001b[38;5;21minner\u001b[39m(ax, \u001b[38;5;241m*\u001b[39margs, data\u001b[38;5;241m=\u001b[39m\u001b[38;5;28;01mNone\u001b[39;00m, \u001b[38;5;241m*\u001b[39m\u001b[38;5;241m*\u001b[39mkwargs):\n\u001b[1;32m   1411\u001b[0m     \u001b[38;5;28;01mif\u001b[39;00m data \u001b[38;5;129;01mis\u001b[39;00m \u001b[38;5;28;01mNone\u001b[39;00m:\n\u001b[0;32m-> 1412\u001b[0m         \u001b[38;5;28;01mreturn\u001b[39;00m \u001b[43mfunc\u001b[49m\u001b[43m(\u001b[49m\u001b[43max\u001b[49m\u001b[43m,\u001b[49m\u001b[43m \u001b[49m\u001b[38;5;241;43m*\u001b[39;49m\u001b[38;5;28;43mmap\u001b[39;49m\u001b[43m(\u001b[49m\u001b[43msanitize_sequence\u001b[49m\u001b[43m,\u001b[49m\u001b[43m \u001b[49m\u001b[43margs\u001b[49m\u001b[43m)\u001b[49m\u001b[43m,\u001b[49m\u001b[43m \u001b[49m\u001b[38;5;241;43m*\u001b[39;49m\u001b[38;5;241;43m*\u001b[39;49m\u001b[43mkwargs\u001b[49m\u001b[43m)\u001b[49m\n\u001b[1;32m   1414\u001b[0m     bound \u001b[38;5;241m=\u001b[39m new_sig\u001b[38;5;241m.\u001b[39mbind(ax, \u001b[38;5;241m*\u001b[39margs, \u001b[38;5;241m*\u001b[39m\u001b[38;5;241m*\u001b[39mkwargs)\n\u001b[1;32m   1415\u001b[0m     auto_label \u001b[38;5;241m=\u001b[39m (bound\u001b[38;5;241m.\u001b[39marguments\u001b[38;5;241m.\u001b[39mget(label_namer)\n\u001b[1;32m   1416\u001b[0m                   \u001b[38;5;129;01mor\u001b[39;00m bound\u001b[38;5;241m.\u001b[39mkwargs\u001b[38;5;241m.\u001b[39mget(label_namer))\n",
      "File \u001b[0;32m~/.local/lib/python3.10/site-packages/matplotlib/axes/_axes.py:6556\u001b[0m, in \u001b[0;36mAxes.hist\u001b[0;34m(self, x, bins, range, density, weights, cumulative, bottom, histtype, align, orientation, rwidth, log, color, label, stacked, **kwargs)\u001b[0m\n\u001b[1;32m   6554\u001b[0m \u001b[38;5;28;01mif\u001b[39;00m orientation \u001b[38;5;241m==\u001b[39m \u001b[38;5;124m\"\u001b[39m\u001b[38;5;124mvertical\u001b[39m\u001b[38;5;124m\"\u001b[39m:\n\u001b[1;32m   6555\u001b[0m     convert_units \u001b[38;5;241m=\u001b[39m \u001b[38;5;28mself\u001b[39m\u001b[38;5;241m.\u001b[39mconvert_xunits\n\u001b[0;32m-> 6556\u001b[0m     x \u001b[38;5;241m=\u001b[39m [\u001b[38;5;241m*\u001b[39m\u001b[38;5;28mself\u001b[39m\u001b[38;5;241m.\u001b[39m_process_unit_info([(\u001b[38;5;124m\"\u001b[39m\u001b[38;5;124mx\u001b[39m\u001b[38;5;124m\"\u001b[39m, x[\u001b[38;5;241m0\u001b[39m])], kwargs),\n\u001b[1;32m   6557\u001b[0m          \u001b[38;5;241m*\u001b[39m\u001b[38;5;28mmap\u001b[39m(convert_units, x[\u001b[38;5;241m1\u001b[39m:])]\n\u001b[1;32m   6558\u001b[0m \u001b[38;5;28;01melse\u001b[39;00m:  \u001b[38;5;66;03m# horizontal\u001b[39;00m\n\u001b[1;32m   6559\u001b[0m     convert_units \u001b[38;5;241m=\u001b[39m \u001b[38;5;28mself\u001b[39m\u001b[38;5;241m.\u001b[39mconvert_yunits\n",
      "File \u001b[0;32m~/.local/lib/python3.10/site-packages/matplotlib/artist.py:252\u001b[0m, in \u001b[0;36mArtist.convert_xunits\u001b[0;34m(self, x)\u001b[0m\n\u001b[1;32m    250\u001b[0m \u001b[38;5;28;01mif\u001b[39;00m ax \u001b[38;5;129;01mis\u001b[39;00m \u001b[38;5;28;01mNone\u001b[39;00m \u001b[38;5;129;01mor\u001b[39;00m ax\u001b[38;5;241m.\u001b[39mxaxis \u001b[38;5;129;01mis\u001b[39;00m \u001b[38;5;28;01mNone\u001b[39;00m:\n\u001b[1;32m    251\u001b[0m     \u001b[38;5;28;01mreturn\u001b[39;00m x\n\u001b[0;32m--> 252\u001b[0m \u001b[38;5;28;01mreturn\u001b[39;00m \u001b[43max\u001b[49m\u001b[38;5;241;43m.\u001b[39;49m\u001b[43mxaxis\u001b[49m\u001b[38;5;241;43m.\u001b[39;49m\u001b[43mconvert_units\u001b[49m\u001b[43m(\u001b[49m\u001b[43mx\u001b[49m\u001b[43m)\u001b[49m\n",
      "File \u001b[0;32m~/.local/lib/python3.10/site-packages/matplotlib/axis.py:1508\u001b[0m, in \u001b[0;36mAxis.convert_units\u001b[0;34m(self, x)\u001b[0m\n\u001b[1;32m   1506\u001b[0m     ret \u001b[38;5;241m=\u001b[39m \u001b[38;5;28mself\u001b[39m\u001b[38;5;241m.\u001b[39mconverter\u001b[38;5;241m.\u001b[39mconvert(x, \u001b[38;5;28mself\u001b[39m\u001b[38;5;241m.\u001b[39munits, \u001b[38;5;28mself\u001b[39m)\n\u001b[1;32m   1507\u001b[0m \u001b[38;5;28;01mexcept\u001b[39;00m \u001b[38;5;167;01mException\u001b[39;00m \u001b[38;5;28;01mas\u001b[39;00m e:\n\u001b[0;32m-> 1508\u001b[0m     \u001b[38;5;28;01mraise\u001b[39;00m munits\u001b[38;5;241m.\u001b[39mConversionError(\u001b[38;5;124m'\u001b[39m\u001b[38;5;124mFailed to convert value(s) to axis \u001b[39m\u001b[38;5;124m'\u001b[39m\n\u001b[1;32m   1509\u001b[0m                                  \u001b[38;5;124mf\u001b[39m\u001b[38;5;124m'\u001b[39m\u001b[38;5;124munits: \u001b[39m\u001b[38;5;132;01m{\u001b[39;00mx\u001b[38;5;132;01m!r}\u001b[39;00m\u001b[38;5;124m'\u001b[39m) \u001b[38;5;28;01mfrom\u001b[39;00m \u001b[38;5;21;01me\u001b[39;00m\n\u001b[1;32m   1510\u001b[0m \u001b[38;5;28;01mreturn\u001b[39;00m ret\n",
      "\u001b[0;31mConversionError\u001b[0m: Failed to convert value(s) to axis units: array(['AK', 'AK', 'AK', ..., 'WV', 'WV', 'WV'], dtype=object)"
     ]
    },
    {
     "data": {
      "image/png": "[encoded data removed]",
      "text/plain": [
       "<Figure size 1600x1280 with 1 Axes>"
      ]
     },
     "metadata": {
      "needs_background": "light"
     },
     "output_type": "display_data"
    }
   ],
   "source": [
    "figure(figsize=(20, 16), dpi=80)\n",
    "ageArr = np.array(df.filter('Age = Family Option').select('Age').collect())\n",
    "plt.hist(ageArr)\n",
    "plt.show()"
   ]
  },
  {
   "cell_type": "code",
   "execution_count": 52,
   "metadata": {
    "scrolled": false
   },
   "outputs": [
    {
     "name": "stdout",
     "output_type": "stream",
     "text": [
      "+------------+---------+--------+----------+----------+-------------------+---------+----------+-----------------+------------------+--------------+-------------+-------------+-------------+--------------+---------------------+------+--------------------------------+---------------------------------+-----------------------------------------+---------------------+----------------------+------------------------------+---------+\n",
      "|BusinessYear|StateCode|IssuerId|SourceName|VersionNum|         ImportDate|IssuerId2|FederalTIN|RateEffectiveDate|RateExpirationDate|        PlanId| RatingAreaId|      Tobacco|          Age|IndividualRate|IndividualTobaccoRate|Couple|PrimarySubscriberAndOneDependent|PrimarySubscriberAndTwoDependents|PrimarySubscriberAndThreeOrMoreDependents|CoupleAndOneDependent|CoupleAndTwoDependents|CoupleAndThreeOrMoreDependents|RowNumber|\n",
      "+------------+---------+--------+----------+----------+-------------------+---------+----------+-----------------+------------------+--------------+-------------+-------------+-------------+--------------+---------------------+------+--------------------------------+---------------------------------+-----------------------------------------+---------------------+----------------------+------------------------------+---------+\n",
      "|        2016|       AK|   21989|      HIOS|         4|2015-08-22 15:09:32|    21989|93-0438772|       2016-04-01|        2016-06-30|21989AK0080001|Rating Area 1|No Preference|Family Option|         51.36|                 null| 101.7|                          117.62|                           117.62|                                   117.62|               180.28|                180.28|                        180.28|       14|\n",
      "|        2016|       AK|   21989|      HIOS|         4|2015-08-22 15:09:32|    21989|93-0438772|       2016-04-01|        2016-06-30|21989AK0080001|Rating Area 2|No Preference|Family Option|         51.36|                 null| 101.7|                          117.62|                           117.62|                                   117.62|               180.28|                180.28|                        180.28|       15|\n",
      "|        2016|       AK|   21989|      HIOS|         4|2015-08-22 15:09:32|    21989|93-0438772|       2016-01-01|        2016-03-31|21989AK0080001|Rating Area 2|No Preference|Family Option|         50.67|                 null|100.33|                          116.04|                           116.04|                                   116.04|               117.86|                117.86|                        117.86|       15|\n",
      "|        2016|       AK|   21989|      HIOS|         4|2015-08-22 15:09:32|    21989|93-0438772|       2016-07-01|        2016-09-30|21989AK0080001|Rating Area 3|No Preference|Family Option|         52.06|                 null|103.08|                          119.22|                           119.22|                                   119.22|               182.73|                182.73|                        182.73|       16|\n",
      "|        2016|       AK|   21989|      HIOS|         4|2015-08-22 15:09:32|    21989|93-0438772|       2016-10-01|        2016-12-31|21989AK0080002|Rating Area 1|No Preference|Family Option|         59.98|                 null|118.76|                          137.35|                           137.35|                                   137.35|               210.53|                210.53|                        210.53|       17|\n",
      "|        2016|       AK|   21989|      HIOS|         4|2015-08-22 15:09:32|    21989|93-0438772|       2016-01-01|        2016-03-31|21989AK0080002|Rating Area 1|No Preference|Family Option|          57.6|                 null|114.05|                           131.9|                            131.9|                                    131.9|               202.17|                202.17|                        202.17|       17|\n",
      "|        2016|       AK|   21989|      HIOS|         4|2015-08-22 15:09:32|    21989|93-0438772|       2016-07-01|        2016-09-30|21989AK0080002|Rating Area 2|No Preference|Family Option|         59.18|                 null|117.17|                          135.51|                           135.51|                                   135.51|                207.7|                 207.7|                         207.7|       18|\n",
      "|        2016|       AK|   21989|      HIOS|         4|2015-08-22 15:09:32|    21989|93-0438772|       2016-10-01|        2016-12-31|21989AK0080002|Rating Area 2|No Preference|Family Option|         59.98|                 null|118.76|                          137.35|                           137.35|                                   137.35|               210.53|                210.53|                        210.53|       18|\n",
      "|        2016|       AK|   21989|      HIOS|         4|2015-08-22 15:09:32|    21989|93-0438772|       2016-04-01|        2016-06-30|21989AK0080002|Rating Area 3|No Preference|Family Option|         58.38|                 null| 115.6|                          133.69|                           133.69|                                   133.69|               204.92|                204.92|                        204.92|       19|\n",
      "|        2016|       AK|   21989|      HIOS|         4|2015-08-22 15:09:32|    21989|93-0438772|       2016-04-01|        2016-06-30|21989AK0100002|Rating Area 1|No Preference|Family Option|          51.4|                 null|101.78|                          117.72|                           117.72|                                   117.72|               180.43|                180.43|                        180.43|       22|\n",
      "|        2016|       AK|   21989|      HIOS|         4|2015-08-22 15:09:32|    21989|93-0438772|       2016-10-01|        2016-12-31|21989AK0110001|Rating Area 1|No Preference|Family Option|           0.0|                 null|   0.0|                           77.37|                            77.37|                                    77.37|                90.57|                 90.57|                         90.57|       24|\n",
      "|        2016|       AK|   21989|      HIOS|         4|2015-08-22 15:09:32|    21989|93-0438772|       2016-10-01|        2016-12-31|21989AK0110001|Rating Area 2|No Preference|Family Option|           0.0|                 null|   0.0|                           77.37|                            77.37|                                    77.37|                90.57|                 90.57|                         90.57|       25|\n",
      "|        2016|       AK|   21989|      HIOS|         4|2015-08-22 15:09:32|    21989|93-0438772|       2016-01-01|        2016-03-31|21989AK0110001|Rating Area 2|No Preference|Family Option|           0.0|                 null|   0.0|                            74.3|                             74.3|                                     74.3|                86.97|                 86.97|                         86.97|       25|\n",
      "|        2016|       AK|   21989|      HIOS|         4|2015-08-22 15:09:32|    21989|93-0438772|       2016-10-01|        2016-12-31|21989AK0120001|Rating Area 1|No Preference|Family Option|           0.0|                 null|   0.0|                           63.66|                            63.66|                                    63.66|                74.51|                 74.51|                         74.51|       27|\n",
      "|        2016|       AK|   21989|      HIOS|         4|2015-08-22 15:09:32|    21989|93-0438772|       2016-10-01|        2016-12-31|21989AK0120001|Rating Area 2|No Preference|Family Option|           0.0|                 null|   0.0|                           63.66|                            63.66|                                    63.66|                74.51|                 74.51|                         74.51|       28|\n",
      "|        2016|       AK|   47904|      HIOS|         2|2015-07-10 02:19:03|    47904|47-0397286|       2016-07-01|        2016-09-30|47904AK0090001|Rating Area 1|No Preference|Family Option|         45.19|                 null| 45.19|                           45.19|                            45.19|                                    45.19|                45.19|                 45.19|                         45.19|       14|\n",
      "|        2016|       AK|   47904|      HIOS|         2|2015-07-10 02:19:03|    47904|47-0397286|       2016-04-01|        2016-06-30|47904AK0090001|Rating Area 3|No Preference|Family Option|         44.81|                 null| 44.81|                           44.81|                            44.81|                                    44.81|                44.81|                 44.81|                         44.81|       16|\n",
      "|        2016|       AK|   47904|      HIOS|         2|2015-07-10 02:19:03|    47904|47-0397286|       2016-07-01|        2016-09-30|47904AK0090001|Rating Area 3|No Preference|Family Option|         45.19|                 null| 45.19|                           45.19|                            45.19|                                    45.19|                45.19|                 45.19|                         45.19|       16|\n",
      "|        2016|       AK|   47904|      HIOS|         2|2015-07-10 02:19:03|    47904|47-0397286|       2016-07-01|        2016-09-30|47904AK0090002|Rating Area 1|No Preference|Family Option|          35.8|                 null|  35.8|                            35.8|                             35.8|                                     35.8|                 35.8|                  35.8|                          35.8|       17|\n",
      "|        2016|       AK|   47904|      HIOS|         2|2015-07-10 02:19:03|    47904|47-0397286|       2016-01-01|        2016-03-31|47904AK0090002|Rating Area 1|No Preference|Family Option|         35.19|                 null| 35.19|                           35.19|                            35.19|                                    35.19|                35.19|                 35.19|                         35.19|       17|\n",
      "+------------+---------+--------+----------+----------+-------------------+---------+----------+-----------------+------------------+--------------+-------------+-------------+-------------+--------------+---------------------+------+--------------------------------+---------------------------------+-----------------------------------------+---------------------+----------------------+------------------------------+---------+\n",
      "only showing top 20 rows\n",
      "\n"
     ]
    }
   ],
   "source": [
    "df.filter(col(\"Age\").contains(\"Family Option\")).show()"
   ]
  },
  {
   "cell_type": "code",
   "execution_count": 109,
   "metadata": {},
   "outputs": [
    {
     "name": "stderr",
     "output_type": "stream",
     "text": [
      "                                                                                \r"
     ]
    },
    {
     "data": {
      "text/plain": [
       "[Row(StateCode='AZ'),\n",
       " Row(StateCode='SC'),\n",
       " Row(StateCode='LA'),\n",
       " Row(StateCode='NJ'),\n",
       " Row(StateCode='NC'),\n",
       " Row(StateCode='MO'),\n",
       " Row(StateCode='ND'),\n",
       " Row(StateCode='MS'),\n",
       " Row(StateCode='AL'),\n",
       " Row(StateCode='IN'),\n",
       " Row(StateCode='PA'),\n",
       " Row(StateCode='GA'),\n",
       " Row(StateCode='FL'),\n",
       " Row(StateCode='AK'),\n",
       " Row(StateCode='OK'),\n",
       " Row(StateCode='OR'),\n",
       " Row(StateCode='VA'),\n",
       " Row(StateCode='WY'),\n",
       " Row(StateCode='NH'),\n",
       " Row(StateCode='MI'),\n",
       " Row(StateCode='NV'),\n",
       " Row(StateCode='WI'),\n",
       " Row(StateCode='NE'),\n",
       " Row(StateCode='MT'),\n",
       " Row(StateCode='DE'),\n",
       " Row(StateCode='IL'),\n",
       " Row(StateCode='ME'),\n",
       " Row(StateCode='OH'),\n",
       " Row(StateCode='TN'),\n",
       " Row(StateCode='IA'),\n",
       " Row(StateCode='NM'),\n",
       " Row(StateCode='SD'),\n",
       " Row(StateCode='TX'),\n",
       " Row(StateCode='WV'),\n",
       " Row(StateCode='KS'),\n",
       " Row(StateCode='AR'),\n",
       " Row(StateCode='UT'),\n",
       " Row(StateCode='HI')]"
      ]
     },
     "execution_count": 109,
     "metadata": {},
     "output_type": "execute_result"
    }
   ],
   "source": [
    "df.select('StateCode').distinct().collect()"
   ]
  },
  {
   "cell_type": "code",
   "execution_count": 110,
   "metadata": {},
   "outputs": [
    {
     "name": "stderr",
     "output_type": "stream",
     "text": [
      "                                                                                \r"
     ]
    }
   ],
   "source": [
    "# Let's read in the data. Note that it's in the format of JSON.\n",
    "df = spark.read.csv('data/New_ruf.csv',inferSchema=True, header=True)"
   ]
  },
  {
   "cell_type": "code",
   "execution_count": 111,
   "metadata": {},
   "outputs": [],
   "source": [
    "df = df.filter((df.StateCode != 'LA') & (df.StateCode != 'NC') & (df.StateCode != 'MO') & (df.StateCode != 'ND')\n",
    "          & (df.StateCode != 'MS') & (df.StateCode != 'AL') & (df.StateCode != 'PA')& (df.StateCode != 'FL')\n",
    "              & (df.StateCode != 'OK')& (df.StateCode != 'OR')& (df.StateCode != 'VA')& (df.StateCode != 'WY')\n",
    "              & (df.StateCode != 'NH')& (df.StateCode != 'MI')& (df.StateCode != 'NV')& (df.StateCode != 'NE')\n",
    "              & (df.StateCode != 'MT')& (df.StateCode != 'DE')& (df.StateCode != 'OH')& (df.StateCode != 'TN')\n",
    "              & (df.StateCode != 'IA')& (df.StateCode != 'NM')& (df.StateCode != 'SD')& (df.StateCode != 'TX')\n",
    "              & (df.StateCode != 'WV')& (df.StateCode != 'KS')& (df.StateCode != 'AR')& (df.StateCode != 'UT')\n",
    "              & (df.StateCode != 'HI')& (df.StateCode != 'IN')& (df.StateCode != 'ME'))"
   ]
  },
  {
   "cell_type": "code",
   "execution_count": 112,
   "metadata": {},
   "outputs": [
    {
     "name": "stderr",
     "output_type": "stream",
     "text": [
      "                                                                                \r"
     ]
    },
    {
     "data": {
      "text/plain": [
       "7"
      ]
     },
     "execution_count": 112,
     "metadata": {},
     "output_type": "execute_result"
    }
   ],
   "source": [
    "len(df.select('StateCode').distinct().collect())"
   ]
  },
  {
   "cell_type": "code",
   "execution_count": 113,
   "metadata": {},
   "outputs": [
    {
     "name": "stderr",
     "output_type": "stream",
     "text": [
      "                                                                                \r"
     ]
    },
    {
     "data": {
      "text/plain": [
       "[Row(StateCode='AZ'),\n",
       " Row(StateCode='SC'),\n",
       " Row(StateCode='NJ'),\n",
       " Row(StateCode='GA'),\n",
       " Row(StateCode='AK'),\n",
       " Row(StateCode='WI'),\n",
       " Row(StateCode='IL')]"
      ]
     },
     "execution_count": 113,
     "metadata": {},
     "output_type": "execute_result"
    }
   ],
   "source": [
    "df.select('StateCode').distinct().collect()"
   ]
  },
  {
   "cell_type": "code",
   "execution_count": 121,
   "metadata": {},
   "outputs": [
    {
     "name": "stderr",
     "output_type": "stream",
     "text": [
      "                                                                                \r"
     ]
    }
   ],
   "source": [
    "from pyspark.ml.feature import StringIndexer\n",
    "indexer = StringIndexer(inputCol='StateCode', outputCol='StateCode_new')\n",
    "indexer_fitted = indexer.fit(df)\n",
    "df_indexed = indexer_fitted.transform(df)\n",
    "df = df_indexed"
   ]
  },
  {
   "cell_type": "code",
   "execution_count": 122,
   "metadata": {},
   "outputs": [
    {
     "name": "stderr",
     "output_type": "stream",
     "text": [
      "                                                                                \r"
     ]
    },
    {
     "data": {
      "text/plain": [
       "[Row(StateCode='AZ'),\n",
       " Row(StateCode='SC'),\n",
       " Row(StateCode='NJ'),\n",
       " Row(StateCode='GA'),\n",
       " Row(StateCode='AK'),\n",
       " Row(StateCode='WI'),\n",
       " Row(StateCode='IL')]"
      ]
     },
     "execution_count": 122,
     "metadata": {},
     "output_type": "execute_result"
    }
   ],
   "source": [
    "df.select('StateCode').distinct().collect()"
   ]
  },
  {
   "cell_type": "code",
   "execution_count": 123,
   "metadata": {},
   "outputs": [
    {
     "name": "stderr",
     "output_type": "stream",
     "text": [
      "                                                                                \r"
     ]
    },
    {
     "data": {
      "text/plain": [
       "[Row(StateCode_new=0.0),\n",
       " Row(StateCode_new=4.0),\n",
       " Row(StateCode_new=2.0),\n",
       " Row(StateCode_new=6.0),\n",
       " Row(StateCode_new=5.0),\n",
       " Row(StateCode_new=1.0),\n",
       " Row(StateCode_new=3.0)]"
      ]
     },
     "execution_count": 123,
     "metadata": {},
     "output_type": "execute_result"
    }
   ],
   "source": [
    "df.select('StateCode_new').distinct().collect()"
   ]
  },
  {
   "cell_type": "code",
   "execution_count": 125,
   "metadata": {},
   "outputs": [
    {
     "name": "stdout",
     "output_type": "stream",
     "text": [
      "+------------+---------+--------+----------+----------+-------------------+---------+----------+-----------------+------------------+--------------+-------------+-------------+-------------+--------------+---------------------+------+--------------------------------+---------------------------------+-----------------------------------------+---------------------+----------------------+------------------------------+---------+-------------+\n",
      "|BusinessYear|StateCode|IssuerId|SourceName|VersionNum|         ImportDate|IssuerId2|FederalTIN|RateEffectiveDate|RateExpirationDate|        PlanId| RatingAreaId|      Tobacco|          Age|IndividualRate|IndividualTobaccoRate|Couple|PrimarySubscriberAndOneDependent|PrimarySubscriberAndTwoDependents|PrimarySubscriberAndThreeOrMoreDependents|CoupleAndOneDependent|CoupleAndTwoDependents|CoupleAndThreeOrMoreDependents|RowNumber|StateCode_new|\n",
      "+------------+---------+--------+----------+----------+-------------------+---------+----------+-----------------+------------------+--------------+-------------+-------------+-------------+--------------+---------------------+------+--------------------------------+---------------------------------+-----------------------------------------+---------------------+----------------------+------------------------------+---------+-------------+\n",
      "|        2016|       AK|   21989|      HIOS|         4|2015-08-22 15:09:32|    21989|93-0438772|       2016-04-01|        2016-06-30|21989AK0080001|Rating Area 1|No Preference|Family Option|         51.36|                 null| 101.7|                          117.62|                           117.62|                                   117.62|               180.28|                180.28|                        180.28|       14|          6.0|\n",
      "|        2016|       AK|   21989|      HIOS|         4|2015-08-22 15:09:32|    21989|93-0438772|       2016-01-01|        2016-03-31|21989AK0090001|Rating Area 1|No Preference|           21|          55.0|                 null|  null|                            null|                             null|                                     null|                 null|                  null|                          null|       15|          6.0|\n",
      "|        2016|       AK|   21989|      HIOS|         4|2015-08-22 15:09:32|    21989|93-0438772|       2016-04-01|        2016-06-30|21989AK0080001|Rating Area 2|No Preference|Family Option|         51.36|                 null| 101.7|                          117.62|                           117.62|                                   117.62|               180.28|                180.28|                        180.28|       15|          6.0|\n",
      "|        2016|       AK|   21989|      HIOS|         4|2015-08-22 15:09:32|    21989|93-0438772|       2016-01-01|        2016-03-31|21989AK0080001|Rating Area 2|No Preference|Family Option|         50.67|                 null|100.33|                          116.04|                           116.04|                                   116.04|               117.86|                117.86|                        117.86|       15|          6.0|\n",
      "|        2016|       AK|   21989|      HIOS|         4|2015-08-22 15:09:32|    21989|93-0438772|       2016-01-01|        2016-12-31|21989AK0030001|Rating Area 1|No Preference|           21|          38.0|                 null|  null|                            null|                             null|                                     null|                 null|                  null|                          null|       15|          6.0|\n",
      "|        2016|       AK|   21989|      HIOS|         4|2015-08-22 15:09:32|    21989|93-0438772|       2016-07-01|        2016-09-30|21989AK0080001|Rating Area 3|No Preference|Family Option|         52.06|                 null|103.08|                          119.22|                           119.22|                                   119.22|               182.73|                182.73|                        182.73|       16|          6.0|\n",
      "|        2016|       AK|   21989|      HIOS|         4|2015-08-22 15:09:32|    21989|93-0438772|       2016-10-01|        2016-12-31|21989AK0080002|Rating Area 1|No Preference|Family Option|         59.98|                 null|118.76|                          137.35|                           137.35|                                   137.35|               210.53|                210.53|                        210.53|       17|          6.0|\n",
      "|        2016|       AK|   21989|      HIOS|         4|2015-08-22 15:09:32|    21989|93-0438772|       2016-10-01|        2016-12-31|21989AK0090001|Rating Area 1|No Preference|           23|          57.0|                 null|  null|                            null|                             null|                                     null|                 null|                  null|                          null|       17|          6.0|\n",
      "|        2016|       AK|   21989|      HIOS|         4|2015-08-22 15:09:32|    21989|93-0438772|       2016-01-01|        2016-03-31|21989AK0080002|Rating Area 1|No Preference|Family Option|          57.6|                 null|114.05|                           131.9|                            131.9|                                    131.9|               202.17|                202.17|                        202.17|       17|          6.0|\n",
      "|        2016|       AK|   21989|      HIOS|         4|2015-08-22 15:09:32|    21989|93-0438772|       2016-07-01|        2016-09-30|21989AK0080002|Rating Area 2|No Preference|Family Option|         59.18|                 null|117.17|                          135.51|                           135.51|                                   135.51|                207.7|                 207.7|                         207.7|       18|          6.0|\n",
      "|        2016|       AK|   21989|      HIOS|         4|2015-08-22 15:09:32|    21989|93-0438772|       2016-10-01|        2016-12-31|21989AK0080002|Rating Area 2|No Preference|Family Option|         59.98|                 null|118.76|                          137.35|                           137.35|                                   137.35|               210.53|                210.53|                        210.53|       18|          6.0|\n",
      "|        2016|       AK|   21989|      HIOS|         4|2015-08-22 15:09:32|    21989|93-0438772|       2016-07-01|        2016-09-30|21989AK0090001|Rating Area 1|No Preference|           25|          57.0|                 null|  null|                            null|                             null|                                     null|                 null|                  null|                          null|       19|          6.0|\n",
      "|        2016|       AK|   21989|      HIOS|         4|2015-08-22 15:09:32|    21989|93-0438772|       2016-04-01|        2016-06-30|21989AK0080002|Rating Area 3|No Preference|Family Option|         58.38|                 null| 115.6|                          133.69|                           133.69|                                   133.69|               204.92|                204.92|                        204.92|       19|          6.0|\n",
      "|        2016|       AK|   21989|      HIOS|         4|2015-08-22 15:09:32|    21989|93-0438772|       2016-07-01|        2016-09-30|21989AK0090001|Rating Area 1|No Preference|           26|          57.0|                 null|  null|                            null|                             null|                                     null|                 null|                  null|                          null|       20|          6.0|\n",
      "|        2016|       AK|   21989|      HIOS|         4|2015-08-22 15:09:32|    21989|93-0438772|       2016-04-01|        2016-06-30|21989AK0100002|Rating Area 1|No Preference|Family Option|          51.4|                 null|101.78|                          117.72|                           117.72|                                   117.72|               180.43|                180.43|                        180.43|       22|          6.0|\n",
      "|        2016|       AK|   21989|      HIOS|         4|2015-08-22 15:09:32|    21989|93-0438772|       2016-01-01|        2016-03-31|21989AK0090001|Rating Area 1|No Preference|           28|          55.0|                 null|  null|                            null|                             null|                                     null|                 null|                  null|                          null|       22|          6.0|\n",
      "|        2016|       AK|   21989|      HIOS|         4|2015-08-22 15:09:32|    21989|93-0438772|       2016-01-01|        2016-12-31|21989AK0030001|Rating Area 1|No Preference|           30|          38.0|                 null|  null|                            null|                             null|                                     null|                 null|                  null|                          null|       24|          6.0|\n",
      "|        2016|       AK|   21989|      HIOS|         4|2015-08-22 15:09:32|    21989|93-0438772|       2016-01-01|        2016-03-31|21989AK0090001|Rating Area 1|No Preference|           30|          55.0|                 null|  null|                            null|                             null|                                     null|                 null|                  null|                          null|       24|          6.0|\n",
      "|        2016|       AK|   21989|      HIOS|         4|2015-08-22 15:09:32|    21989|93-0438772|       2016-04-01|        2016-06-30|21989AK0090001|Rating Area 1|No Preference|           30|          56.0|                 null|  null|                            null|                             null|                                     null|                 null|                  null|                          null|       24|          6.0|\n",
      "|        2016|       AK|   21989|      HIOS|         4|2015-08-22 15:09:32|    21989|93-0438772|       2016-10-01|        2016-12-31|21989AK0110001|Rating Area 1|No Preference|Family Option|           0.0|                 null|   0.0|                           77.37|                            77.37|                                    77.37|                90.57|                 90.57|                         90.57|       24|          6.0|\n",
      "+------------+---------+--------+----------+----------+-------------------+---------+----------+-----------------+------------------+--------------+-------------+-------------+-------------+--------------+---------------------+------+--------------------------------+---------------------------------+-----------------------------------------+---------------------+----------------------+------------------------------+---------+-------------+\n",
      "only showing top 20 rows\n",
      "\n"
     ]
    }
   ],
   "source": [
    "df.show()"
   ]
  },
  {
   "cell_type": "code",
   "execution_count": 132,
   "metadata": {},
   "outputs": [
    {
     "name": "stdout",
     "output_type": "stream",
     "text": [
      "+------------+---------+--------+----------+----------+-------------------+---------+----------+-----------------+------------------+--------------+-------------+-------------+---+--------------+---------------------+------+--------------------------------+---------------------------------+-----------------------------------------+---------------------+----------------------+------------------------------+---------+-------------+\n",
      "|BusinessYear|StateCode|IssuerId|SourceName|VersionNum|         ImportDate|IssuerId2|FederalTIN|RateEffectiveDate|RateExpirationDate|        PlanId| RatingAreaId|      Tobacco|Age|IndividualRate|IndividualTobaccoRate|Couple|PrimarySubscriberAndOneDependent|PrimarySubscriberAndTwoDependents|PrimarySubscriberAndThreeOrMoreDependents|CoupleAndOneDependent|CoupleAndTwoDependents|CoupleAndThreeOrMoreDependents|RowNumber|StateCode_new|\n",
      "+------------+---------+--------+----------+----------+-------------------+---------+----------+-----------------+------------------+--------------+-------------+-------------+---+--------------+---------------------+------+--------------------------------+---------------------------------+-----------------------------------------+---------------------+----------------------+------------------------------+---------+-------------+\n",
      "|        2016|       GA|   17382|      HIOS|         3|2015-08-18 03:25:03|    17382|57-0523959|       2016-01-01|        2016-12-31|17382GA0020001|Rating Area 1|No Preference| 27|          33.0|                 null|  null|                            null|                             null|                                     null|                 null|                  null|                          null|       21|          2.0|\n",
      "|        2016|       GA|   17382|      HIOS|         3|2015-08-18 03:25:03|    17382|57-0523959|       2016-01-01|        2016-12-31|17382GA0020001|Rating Area 1|No Preference| 28|          33.0|                 null|  null|                            null|                             null|                                     null|                 null|                  null|                          null|       22|          2.0|\n",
      "|        2016|       GA|   17382|      HIOS|         3|2015-08-18 03:25:03|    17382|57-0523959|       2016-01-01|        2016-12-31|17382GA0020001|Rating Area 1|No Preference| 36|          33.0|                 null|  null|                            null|                             null|                                     null|                 null|                  null|                          null|       30|          2.0|\n",
      "|        2016|       GA|   17382|      HIOS|         3|2015-08-18 03:25:03|    17382|57-0523959|       2016-01-01|        2016-12-31|17382GA0020001|Rating Area 1|No Preference| 48|          33.0|                 null|  null|                            null|                             null|                                     null|                 null|                  null|                          null|       42|          2.0|\n",
      "|        2016|       GA|   17382|      HIOS|         3|2015-08-18 03:25:03|    17382|57-0523959|       2016-01-01|        2016-12-31|17382GA0020001|Rating Area 1|No Preference| 52|          33.0|                 null|  null|                            null|                             null|                                     null|                 null|                  null|                          null|       46|          2.0|\n",
      "|        2016|       GA|   17382|      HIOS|         3|2015-08-18 03:25:03|    17382|57-0523959|       2016-01-01|        2016-12-31|17382GA0020001|Rating Area 1|No Preference| 58|          33.0|                 null|  null|                            null|                             null|                                     null|                 null|                  null|                          null|       52|          2.0|\n",
      "|        2016|       GA|   17382|      HIOS|         3|2015-08-18 03:25:03|    17382|57-0523959|       2016-01-01|        2016-12-31|17382GA0020001|Rating Area 2|No Preference| 32|          33.0|                 null|  null|                            null|                             null|                                     null|                 null|                  null|                          null|       72|          2.0|\n",
      "|        2016|       GA|   17382|      HIOS|         3|2015-08-18 03:25:03|    17382|57-0523959|       2016-01-01|        2016-12-31|17382GA0020001|Rating Area 2|No Preference| 35|          33.0|                 null|  null|                            null|                             null|                                     null|                 null|                  null|                          null|       75|          2.0|\n",
      "|        2016|       GA|   17382|      HIOS|         3|2015-08-18 03:25:03|    17382|57-0523959|       2016-01-01|        2016-12-31|17382GA0020001|Rating Area 2|No Preference| 41|          33.0|                 null|  null|                            null|                             null|                                     null|                 null|                  null|                          null|       81|          2.0|\n",
      "|        2016|       GA|   17382|      HIOS|         3|2015-08-18 03:25:03|    17382|57-0523959|       2016-01-01|        2016-12-31|17382GA0020001|Rating Area 2|No Preference| 46|          33.0|                 null|  null|                            null|                             null|                                     null|                 null|                  null|                          null|       86|          2.0|\n",
      "|        2016|       GA|   17382|      HIOS|         3|2015-08-18 03:25:03|    17382|57-0523959|       2016-01-01|        2016-12-31|17382GA0020001|Rating Area 2|No Preference| 50|          33.0|                 null|  null|                            null|                             null|                                     null|                 null|                  null|                          null|       90|          2.0|\n",
      "|        2016|       GA|   17382|      HIOS|         3|2015-08-18 03:25:03|    17382|57-0523959|       2016-01-01|        2016-12-31|17382GA0020001|Rating Area 2|No Preference| 56|          33.0|                 null|  null|                            null|                             null|                                     null|                 null|                  null|                          null|       96|          2.0|\n",
      "|        2016|       GA|   17382|      HIOS|         3|2015-08-18 03:25:03|    17382|57-0523959|       2016-01-01|        2016-12-31|17382GA0020001|Rating Area 2|No Preference| 57|          33.0|                 null|  null|                            null|                             null|                                     null|                 null|                  null|                          null|       97|          2.0|\n",
      "|        2016|       GA|   17382|      HIOS|         3|2015-08-18 03:25:03|    17382|57-0523959|       2016-01-01|        2016-12-31|17382GA0020001|Rating Area 3|No Preference| 23|          33.0|                 null|  null|                            null|                             null|                                     null|                 null|                  null|                          null|      109|          2.0|\n",
      "|        2016|       GA|   17382|      HIOS|         3|2015-08-18 03:25:03|    17382|57-0523959|       2016-01-01|        2016-12-31|17382GA0020001|Rating Area 3|No Preference| 26|          33.0|                 null|  null|                            null|                             null|                                     null|                 null|                  null|                          null|      112|          2.0|\n",
      "|        2016|       GA|   17382|      HIOS|         3|2015-08-18 03:25:03|    17382|57-0523959|       2016-01-01|        2016-12-31|17382GA0020001|Rating Area 3|No Preference| 27|          33.0|                 null|  null|                            null|                             null|                                     null|                 null|                  null|                          null|      113|          2.0|\n",
      "|        2016|       GA|   17382|      HIOS|         3|2015-08-18 03:25:03|    17382|57-0523959|       2016-01-01|        2016-12-31|17382GA0020001|Rating Area 3|No Preference| 28|          33.0|                 null|  null|                            null|                             null|                                     null|                 null|                  null|                          null|      114|          2.0|\n",
      "|        2016|       GA|   17382|      HIOS|         3|2015-08-18 03:25:03|    17382|57-0523959|       2016-01-01|        2016-12-31|17382GA0020001|Rating Area 3|No Preference| 41|          33.0|                 null|  null|                            null|                             null|                                     null|                 null|                  null|                          null|      127|          2.0|\n",
      "|        2016|       GA|   17382|      HIOS|         3|2015-08-18 03:25:03|    17382|57-0523959|       2016-01-01|        2016-12-31|17382GA0020001|Rating Area 3|No Preference| 47|          33.0|                 null|  null|                            null|                             null|                                     null|                 null|                  null|                          null|      133|          2.0|\n",
      "|        2016|       GA|   17382|      HIOS|         3|2015-08-18 03:25:03|    17382|57-0523959|       2016-01-01|        2016-12-31|17382GA0020001|Rating Area 3|No Preference| 49|          33.0|                 null|  null|                            null|                             null|                                     null|                 null|                  null|                          null|      135|          2.0|\n",
      "+------------+---------+--------+----------+----------+-------------------+---------+----------+-----------------+------------------+--------------+-------------+-------------+---+--------------+---------------------+------+--------------------------------+---------------------------------+-----------------------------------------+---------------------+----------------------+------------------------------+---------+-------------+\n",
      "only showing top 20 rows\n",
      "\n"
     ]
    }
   ],
   "source": [
    "df.filter(col(\"StateCode_new\").contains(\"2\")).show()"
   ]
  },
  {
   "cell_type": "code",
   "execution_count": 134,
   "metadata": {},
   "outputs": [
    {
     "name": "stderr",
     "output_type": "stream",
     "text": [
      "                                                                                \r"
     ]
    },
    {
     "data": {
      "image/png": "[encoded data removed]",
      "text/plain": [
       "<Figure size 1600x1280 with 1 Axes>"
      ]
     },
     "metadata": {
      "needs_background": "light"
     },
     "output_type": "display_data"
    }
   ],
   "source": [
    "import numpy as np\n",
    "import matplotlib.pyplot as plt\n",
    "%matplotlib inline\n",
    "from matplotlib.pyplot import figure\n",
    "\n",
    "figure(figsize=(20, 16), dpi=80)\n",
    "\n",
    "# Convert sex to an array using Numpy and plot it using pyplot. \n",
    "sexArr = np.array(df.select('IndividualRate').collect())\n",
    "plt.hist(sexArr)\n",
    "plt.show()"
   ]
  },
  {
   "cell_type": "code",
   "execution_count": 135,
   "metadata": {},
   "outputs": [
    {
     "name": "stdout",
     "output_type": "stream",
     "text": [
      "root\n",
      " |-- BusinessYear: integer (nullable = true)\n",
      " |-- StateCode: string (nullable = true)\n",
      " |-- IssuerId: integer (nullable = true)\n",
      " |-- SourceName: string (nullable = true)\n",
      " |-- VersionNum: integer (nullable = true)\n",
      " |-- ImportDate: string (nullable = true)\n",
      " |-- IssuerId2: integer (nullable = true)\n",
      " |-- FederalTIN: string (nullable = true)\n",
      " |-- RateEffectiveDate: string (nullable = true)\n",
      " |-- RateExpirationDate: string (nullable = true)\n",
      " |-- PlanId: string (nullable = true)\n",
      " |-- RatingAreaId: string (nullable = true)\n",
      " |-- Tobacco: string (nullable = true)\n",
      " |-- Age: string (nullable = true)\n",
      " |-- IndividualRate: double (nullable = true)\n",
      " |-- IndividualTobaccoRate: double (nullable = true)\n",
      " |-- Couple: double (nullable = true)\n",
      " |-- PrimarySubscriberAndOneDependent: double (nullable = true)\n",
      " |-- PrimarySubscriberAndTwoDependents: double (nullable = true)\n",
      " |-- PrimarySubscriberAndThreeOrMoreDependents: double (nullable = true)\n",
      " |-- CoupleAndOneDependent: double (nullable = true)\n",
      " |-- CoupleAndTwoDependents: double (nullable = true)\n",
      " |-- CoupleAndThreeOrMoreDependents: double (nullable = true)\n",
      " |-- RowNumber: integer (nullable = true)\n",
      " |-- StateCode_new: double (nullable = false)\n",
      "\n"
     ]
    }
   ],
   "source": [
    "df.printSchema()"
   ]
  },
  {
   "cell_type": "code",
   "execution_count": 146,
   "metadata": {},
   "outputs": [
    {
     "data": {
      "text/plain": [
       "DataFrame[BusinessYear: int, StateCode: string, IssuerId: int, SourceName: string, VersionNum: int, ImportDate: string, IssuerId2: int, FederalTIN: string, RateEffectiveDate: string, RateExpirationDate: string, PlanId: string, RatingAreaId: string, Tobacco: string, Age: string, IndividualRate: double, IndividualTobaccoRate: double, Couple: double, PrimarySubscriberAndOneDependent: double, PrimarySubscriberAndTwoDependents: double, PrimarySubscriberAndThreeOrMoreDependents: double, CoupleAndOneDependent: double, CoupleAndTwoDependents: double, CoupleAndThreeOrMoreDependents: double, RowNumber: int, StateCode_new: double]"
      ]
     },
     "execution_count": 146,
     "metadata": {},
     "output_type": "execute_result"
    }
   ],
   "source": [
    "df.filter(col(\"Age\").contains(\"Family Option\"))"
   ]
  },
  {
   "cell_type": "code",
   "execution_count": 144,
   "metadata": {},
   "outputs": [
    {
     "name": "stderr",
     "output_type": "stream",
     "text": [
      "                                                                                \r"
     ]
    },
    {
     "ename": "ConversionError",
     "evalue": "Failed to convert value(s) to axis units: array(['GA', 'GA', 'GA', ..., 'GA', 'GA', 'GA'], dtype=object)",
     "output_type": "error",
     "traceback": [
      "\u001b[0;31m---------------------------------------------------------------------------\u001b[0m",
      "\u001b[0;31mValueError\u001b[0m                                Traceback (most recent call last)",
      "File \u001b[0;32m~/.local/lib/python3.10/site-packages/matplotlib/axis.py:1506\u001b[0m, in \u001b[0;36mAxis.convert_units\u001b[0;34m(self, x)\u001b[0m\n\u001b[1;32m   1505\u001b[0m \u001b[38;5;28;01mtry\u001b[39;00m:\n\u001b[0;32m-> 1506\u001b[0m     ret \u001b[38;5;241m=\u001b[39m \u001b[38;5;28;43mself\u001b[39;49m\u001b[38;5;241;43m.\u001b[39;49m\u001b[43mconverter\u001b[49m\u001b[38;5;241;43m.\u001b[39;49m\u001b[43mconvert\u001b[49m\u001b[43m(\u001b[49m\u001b[43mx\u001b[49m\u001b[43m,\u001b[49m\u001b[43m \u001b[49m\u001b[38;5;28;43mself\u001b[39;49m\u001b[38;5;241;43m.\u001b[39;49m\u001b[43munits\u001b[49m\u001b[43m,\u001b[49m\u001b[43m \u001b[49m\u001b[38;5;28;43mself\u001b[39;49m\u001b[43m)\u001b[49m\n\u001b[1;32m   1507\u001b[0m \u001b[38;5;28;01mexcept\u001b[39;00m \u001b[38;5;167;01mException\u001b[39;00m \u001b[38;5;28;01mas\u001b[39;00m e:\n",
      "File \u001b[0;32m~/.local/lib/python3.10/site-packages/matplotlib/category.py:49\u001b[0m, in \u001b[0;36mStrCategoryConverter.convert\u001b[0;34m(value, unit, axis)\u001b[0m\n\u001b[1;32m     48\u001b[0m \u001b[38;5;28;01mif\u001b[39;00m unit \u001b[38;5;129;01mis\u001b[39;00m \u001b[38;5;28;01mNone\u001b[39;00m:\n\u001b[0;32m---> 49\u001b[0m     \u001b[38;5;28;01mraise\u001b[39;00m \u001b[38;5;167;01mValueError\u001b[39;00m(\n\u001b[1;32m     50\u001b[0m         \u001b[38;5;124m'\u001b[39m\u001b[38;5;124mMissing category information for StrCategoryConverter; \u001b[39m\u001b[38;5;124m'\u001b[39m\n\u001b[1;32m     51\u001b[0m         \u001b[38;5;124m'\u001b[39m\u001b[38;5;124mthis might be caused by unintendedly mixing categorical and \u001b[39m\u001b[38;5;124m'\u001b[39m\n\u001b[1;32m     52\u001b[0m         \u001b[38;5;124m'\u001b[39m\u001b[38;5;124mnumeric data\u001b[39m\u001b[38;5;124m'\u001b[39m)\n\u001b[1;32m     53\u001b[0m StrCategoryConverter\u001b[38;5;241m.\u001b[39m_validate_unit(unit)\n",
      "\u001b[0;31mValueError\u001b[0m: Missing category information for StrCategoryConverter; this might be caused by unintendedly mixing categorical and numeric data",
      "\nThe above exception was the direct cause of the following exception:\n",
      "\u001b[0;31mConversionError\u001b[0m                           Traceback (most recent call last)",
      "Input \u001b[0;32mIn [144]\u001b[0m, in \u001b[0;36m<cell line: 3>\u001b[0;34m()\u001b[0m\n\u001b[1;32m      1\u001b[0m figure(figsize\u001b[38;5;241m=\u001b[39m(\u001b[38;5;241m20\u001b[39m, \u001b[38;5;241m16\u001b[39m), dpi\u001b[38;5;241m=\u001b[39m\u001b[38;5;241m80\u001b[39m)\n\u001b[1;32m      2\u001b[0m ageArr \u001b[38;5;241m=\u001b[39m np\u001b[38;5;241m.\u001b[39marray(df\u001b[38;5;241m.\u001b[39mfilter(col(\u001b[38;5;124m\"\u001b[39m\u001b[38;5;124mStateCode_new\u001b[39m\u001b[38;5;124m\"\u001b[39m)\u001b[38;5;241m.\u001b[39mcontains(\u001b[38;5;124m\"\u001b[39m\u001b[38;5;124m2\u001b[39m\u001b[38;5;124m\"\u001b[39m))\u001b[38;5;241m.\u001b[39mcollect())\n\u001b[0;32m----> 3\u001b[0m \u001b[43mplt\u001b[49m\u001b[38;5;241;43m.\u001b[39;49m\u001b[43mhist\u001b[49m\u001b[43m(\u001b[49m\u001b[43mageArr\u001b[49m\u001b[43m)\u001b[49m\n\u001b[1;32m      4\u001b[0m plt\u001b[38;5;241m.\u001b[39mshow()\n",
      "File \u001b[0;32m~/.local/lib/python3.10/site-packages/matplotlib/pyplot.py:2602\u001b[0m, in \u001b[0;36mhist\u001b[0;34m(x, bins, range, density, weights, cumulative, bottom, histtype, align, orientation, rwidth, log, color, label, stacked, data, **kwargs)\u001b[0m\n\u001b[1;32m   2596\u001b[0m \u001b[38;5;129m@_copy_docstring_and_deprecators\u001b[39m(Axes\u001b[38;5;241m.\u001b[39mhist)\n\u001b[1;32m   2597\u001b[0m \u001b[38;5;28;01mdef\u001b[39;00m \u001b[38;5;21mhist\u001b[39m(\n\u001b[1;32m   2598\u001b[0m         x, bins\u001b[38;5;241m=\u001b[39m\u001b[38;5;28;01mNone\u001b[39;00m, \u001b[38;5;28mrange\u001b[39m\u001b[38;5;241m=\u001b[39m\u001b[38;5;28;01mNone\u001b[39;00m, density\u001b[38;5;241m=\u001b[39m\u001b[38;5;28;01mFalse\u001b[39;00m, weights\u001b[38;5;241m=\u001b[39m\u001b[38;5;28;01mNone\u001b[39;00m,\n\u001b[1;32m   2599\u001b[0m         cumulative\u001b[38;5;241m=\u001b[39m\u001b[38;5;28;01mFalse\u001b[39;00m, bottom\u001b[38;5;241m=\u001b[39m\u001b[38;5;28;01mNone\u001b[39;00m, histtype\u001b[38;5;241m=\u001b[39m\u001b[38;5;124m'\u001b[39m\u001b[38;5;124mbar\u001b[39m\u001b[38;5;124m'\u001b[39m, align\u001b[38;5;241m=\u001b[39m\u001b[38;5;124m'\u001b[39m\u001b[38;5;124mmid\u001b[39m\u001b[38;5;124m'\u001b[39m,\n\u001b[1;32m   2600\u001b[0m         orientation\u001b[38;5;241m=\u001b[39m\u001b[38;5;124m'\u001b[39m\u001b[38;5;124mvertical\u001b[39m\u001b[38;5;124m'\u001b[39m, rwidth\u001b[38;5;241m=\u001b[39m\u001b[38;5;28;01mNone\u001b[39;00m, log\u001b[38;5;241m=\u001b[39m\u001b[38;5;28;01mFalse\u001b[39;00m, color\u001b[38;5;241m=\u001b[39m\u001b[38;5;28;01mNone\u001b[39;00m,\n\u001b[1;32m   2601\u001b[0m         label\u001b[38;5;241m=\u001b[39m\u001b[38;5;28;01mNone\u001b[39;00m, stacked\u001b[38;5;241m=\u001b[39m\u001b[38;5;28;01mFalse\u001b[39;00m, \u001b[38;5;241m*\u001b[39m, data\u001b[38;5;241m=\u001b[39m\u001b[38;5;28;01mNone\u001b[39;00m, \u001b[38;5;241m*\u001b[39m\u001b[38;5;241m*\u001b[39mkwargs):\n\u001b[0;32m-> 2602\u001b[0m     \u001b[38;5;28;01mreturn\u001b[39;00m \u001b[43mgca\u001b[49m\u001b[43m(\u001b[49m\u001b[43m)\u001b[49m\u001b[38;5;241;43m.\u001b[39;49m\u001b[43mhist\u001b[49m\u001b[43m(\u001b[49m\n\u001b[1;32m   2603\u001b[0m \u001b[43m        \u001b[49m\u001b[43mx\u001b[49m\u001b[43m,\u001b[49m\u001b[43m \u001b[49m\u001b[43mbins\u001b[49m\u001b[38;5;241;43m=\u001b[39;49m\u001b[43mbins\u001b[49m\u001b[43m,\u001b[49m\u001b[43m \u001b[49m\u001b[38;5;28;43mrange\u001b[39;49m\u001b[38;5;241;43m=\u001b[39;49m\u001b[38;5;28;43mrange\u001b[39;49m\u001b[43m,\u001b[49m\u001b[43m \u001b[49m\u001b[43mdensity\u001b[49m\u001b[38;5;241;43m=\u001b[39;49m\u001b[43mdensity\u001b[49m\u001b[43m,\u001b[49m\u001b[43m \u001b[49m\u001b[43mweights\u001b[49m\u001b[38;5;241;43m=\u001b[39;49m\u001b[43mweights\u001b[49m\u001b[43m,\u001b[49m\n\u001b[1;32m   2604\u001b[0m \u001b[43m        \u001b[49m\u001b[43mcumulative\u001b[49m\u001b[38;5;241;43m=\u001b[39;49m\u001b[43mcumulative\u001b[49m\u001b[43m,\u001b[49m\u001b[43m \u001b[49m\u001b[43mbottom\u001b[49m\u001b[38;5;241;43m=\u001b[39;49m\u001b[43mbottom\u001b[49m\u001b[43m,\u001b[49m\u001b[43m \u001b[49m\u001b[43mhisttype\u001b[49m\u001b[38;5;241;43m=\u001b[39;49m\u001b[43mhisttype\u001b[49m\u001b[43m,\u001b[49m\n\u001b[1;32m   2605\u001b[0m \u001b[43m        \u001b[49m\u001b[43malign\u001b[49m\u001b[38;5;241;43m=\u001b[39;49m\u001b[43malign\u001b[49m\u001b[43m,\u001b[49m\u001b[43m \u001b[49m\u001b[43morientation\u001b[49m\u001b[38;5;241;43m=\u001b[39;49m\u001b[43morientation\u001b[49m\u001b[43m,\u001b[49m\u001b[43m \u001b[49m\u001b[43mrwidth\u001b[49m\u001b[38;5;241;43m=\u001b[39;49m\u001b[43mrwidth\u001b[49m\u001b[43m,\u001b[49m\u001b[43m \u001b[49m\u001b[43mlog\u001b[49m\u001b[38;5;241;43m=\u001b[39;49m\u001b[43mlog\u001b[49m\u001b[43m,\u001b[49m\n\u001b[1;32m   2606\u001b[0m \u001b[43m        \u001b[49m\u001b[43mcolor\u001b[49m\u001b[38;5;241;43m=\u001b[39;49m\u001b[43mcolor\u001b[49m\u001b[43m,\u001b[49m\u001b[43m \u001b[49m\u001b[43mlabel\u001b[49m\u001b[38;5;241;43m=\u001b[39;49m\u001b[43mlabel\u001b[49m\u001b[43m,\u001b[49m\u001b[43m \u001b[49m\u001b[43mstacked\u001b[49m\u001b[38;5;241;43m=\u001b[39;49m\u001b[43mstacked\u001b[49m\u001b[43m,\u001b[49m\n\u001b[1;32m   2607\u001b[0m \u001b[43m        \u001b[49m\u001b[38;5;241;43m*\u001b[39;49m\u001b[38;5;241;43m*\u001b[39;49m\u001b[43m(\u001b[49m\u001b[43m{\u001b[49m\u001b[38;5;124;43m\"\u001b[39;49m\u001b[38;5;124;43mdata\u001b[39;49m\u001b[38;5;124;43m\"\u001b[39;49m\u001b[43m:\u001b[49m\u001b[43m \u001b[49m\u001b[43mdata\u001b[49m\u001b[43m}\u001b[49m\u001b[43m \u001b[49m\u001b[38;5;28;43;01mif\u001b[39;49;00m\u001b[43m \u001b[49m\u001b[43mdata\u001b[49m\u001b[43m \u001b[49m\u001b[38;5;129;43;01mis\u001b[39;49;00m\u001b[43m \u001b[49m\u001b[38;5;129;43;01mnot\u001b[39;49;00m\u001b[43m \u001b[49m\u001b[38;5;28;43;01mNone\u001b[39;49;00m\u001b[43m \u001b[49m\u001b[38;5;28;43;01melse\u001b[39;49;00m\u001b[43m \u001b[49m\u001b[43m{\u001b[49m\u001b[43m}\u001b[49m\u001b[43m)\u001b[49m\u001b[43m,\u001b[49m\u001b[43m \u001b[49m\u001b[38;5;241;43m*\u001b[39;49m\u001b[38;5;241;43m*\u001b[39;49m\u001b[43mkwargs\u001b[49m\u001b[43m)\u001b[49m\n",
      "File \u001b[0;32m~/.local/lib/python3.10/site-packages/matplotlib/__init__.py:1412\u001b[0m, in \u001b[0;36m_preprocess_data.<locals>.inner\u001b[0;34m(ax, data, *args, **kwargs)\u001b[0m\n\u001b[1;32m   1409\u001b[0m \u001b[38;5;129m@functools\u001b[39m\u001b[38;5;241m.\u001b[39mwraps(func)\n\u001b[1;32m   1410\u001b[0m \u001b[38;5;28;01mdef\u001b[39;00m \u001b[38;5;21minner\u001b[39m(ax, \u001b[38;5;241m*\u001b[39margs, data\u001b[38;5;241m=\u001b[39m\u001b[38;5;28;01mNone\u001b[39;00m, \u001b[38;5;241m*\u001b[39m\u001b[38;5;241m*\u001b[39mkwargs):\n\u001b[1;32m   1411\u001b[0m     \u001b[38;5;28;01mif\u001b[39;00m data \u001b[38;5;129;01mis\u001b[39;00m \u001b[38;5;28;01mNone\u001b[39;00m:\n\u001b[0;32m-> 1412\u001b[0m         \u001b[38;5;28;01mreturn\u001b[39;00m \u001b[43mfunc\u001b[49m\u001b[43m(\u001b[49m\u001b[43max\u001b[49m\u001b[43m,\u001b[49m\u001b[43m \u001b[49m\u001b[38;5;241;43m*\u001b[39;49m\u001b[38;5;28;43mmap\u001b[39;49m\u001b[43m(\u001b[49m\u001b[43msanitize_sequence\u001b[49m\u001b[43m,\u001b[49m\u001b[43m \u001b[49m\u001b[43margs\u001b[49m\u001b[43m)\u001b[49m\u001b[43m,\u001b[49m\u001b[43m \u001b[49m\u001b[38;5;241;43m*\u001b[39;49m\u001b[38;5;241;43m*\u001b[39;49m\u001b[43mkwargs\u001b[49m\u001b[43m)\u001b[49m\n\u001b[1;32m   1414\u001b[0m     bound \u001b[38;5;241m=\u001b[39m new_sig\u001b[38;5;241m.\u001b[39mbind(ax, \u001b[38;5;241m*\u001b[39margs, \u001b[38;5;241m*\u001b[39m\u001b[38;5;241m*\u001b[39mkwargs)\n\u001b[1;32m   1415\u001b[0m     auto_label \u001b[38;5;241m=\u001b[39m (bound\u001b[38;5;241m.\u001b[39marguments\u001b[38;5;241m.\u001b[39mget(label_namer)\n\u001b[1;32m   1416\u001b[0m                   \u001b[38;5;129;01mor\u001b[39;00m bound\u001b[38;5;241m.\u001b[39mkwargs\u001b[38;5;241m.\u001b[39mget(label_namer))\n",
      "File \u001b[0;32m~/.local/lib/python3.10/site-packages/matplotlib/axes/_axes.py:6556\u001b[0m, in \u001b[0;36mAxes.hist\u001b[0;34m(self, x, bins, range, density, weights, cumulative, bottom, histtype, align, orientation, rwidth, log, color, label, stacked, **kwargs)\u001b[0m\n\u001b[1;32m   6554\u001b[0m \u001b[38;5;28;01mif\u001b[39;00m orientation \u001b[38;5;241m==\u001b[39m \u001b[38;5;124m\"\u001b[39m\u001b[38;5;124mvertical\u001b[39m\u001b[38;5;124m\"\u001b[39m:\n\u001b[1;32m   6555\u001b[0m     convert_units \u001b[38;5;241m=\u001b[39m \u001b[38;5;28mself\u001b[39m\u001b[38;5;241m.\u001b[39mconvert_xunits\n\u001b[0;32m-> 6556\u001b[0m     x \u001b[38;5;241m=\u001b[39m [\u001b[38;5;241m*\u001b[39m\u001b[38;5;28mself\u001b[39m\u001b[38;5;241m.\u001b[39m_process_unit_info([(\u001b[38;5;124m\"\u001b[39m\u001b[38;5;124mx\u001b[39m\u001b[38;5;124m\"\u001b[39m, x[\u001b[38;5;241m0\u001b[39m])], kwargs),\n\u001b[1;32m   6557\u001b[0m          \u001b[38;5;241m*\u001b[39m\u001b[38;5;28mmap\u001b[39m(convert_units, x[\u001b[38;5;241m1\u001b[39m:])]\n\u001b[1;32m   6558\u001b[0m \u001b[38;5;28;01melse\u001b[39;00m:  \u001b[38;5;66;03m# horizontal\u001b[39;00m\n\u001b[1;32m   6559\u001b[0m     convert_units \u001b[38;5;241m=\u001b[39m \u001b[38;5;28mself\u001b[39m\u001b[38;5;241m.\u001b[39mconvert_yunits\n",
      "File \u001b[0;32m~/.local/lib/python3.10/site-packages/matplotlib/artist.py:252\u001b[0m, in \u001b[0;36mArtist.convert_xunits\u001b[0;34m(self, x)\u001b[0m\n\u001b[1;32m    250\u001b[0m \u001b[38;5;28;01mif\u001b[39;00m ax \u001b[38;5;129;01mis\u001b[39;00m \u001b[38;5;28;01mNone\u001b[39;00m \u001b[38;5;129;01mor\u001b[39;00m ax\u001b[38;5;241m.\u001b[39mxaxis \u001b[38;5;129;01mis\u001b[39;00m \u001b[38;5;28;01mNone\u001b[39;00m:\n\u001b[1;32m    251\u001b[0m     \u001b[38;5;28;01mreturn\u001b[39;00m x\n\u001b[0;32m--> 252\u001b[0m \u001b[38;5;28;01mreturn\u001b[39;00m \u001b[43max\u001b[49m\u001b[38;5;241;43m.\u001b[39;49m\u001b[43mxaxis\u001b[49m\u001b[38;5;241;43m.\u001b[39;49m\u001b[43mconvert_units\u001b[49m\u001b[43m(\u001b[49m\u001b[43mx\u001b[49m\u001b[43m)\u001b[49m\n",
      "File \u001b[0;32m~/.local/lib/python3.10/site-packages/matplotlib/axis.py:1508\u001b[0m, in \u001b[0;36mAxis.convert_units\u001b[0;34m(self, x)\u001b[0m\n\u001b[1;32m   1506\u001b[0m     ret \u001b[38;5;241m=\u001b[39m \u001b[38;5;28mself\u001b[39m\u001b[38;5;241m.\u001b[39mconverter\u001b[38;5;241m.\u001b[39mconvert(x, \u001b[38;5;28mself\u001b[39m\u001b[38;5;241m.\u001b[39munits, \u001b[38;5;28mself\u001b[39m)\n\u001b[1;32m   1507\u001b[0m \u001b[38;5;28;01mexcept\u001b[39;00m \u001b[38;5;167;01mException\u001b[39;00m \u001b[38;5;28;01mas\u001b[39;00m e:\n\u001b[0;32m-> 1508\u001b[0m     \u001b[38;5;28;01mraise\u001b[39;00m munits\u001b[38;5;241m.\u001b[39mConversionError(\u001b[38;5;124m'\u001b[39m\u001b[38;5;124mFailed to convert value(s) to axis \u001b[39m\u001b[38;5;124m'\u001b[39m\n\u001b[1;32m   1509\u001b[0m                                  \u001b[38;5;124mf\u001b[39m\u001b[38;5;124m'\u001b[39m\u001b[38;5;124munits: \u001b[39m\u001b[38;5;132;01m{\u001b[39;00mx\u001b[38;5;132;01m!r}\u001b[39;00m\u001b[38;5;124m'\u001b[39m) \u001b[38;5;28;01mfrom\u001b[39;00m \u001b[38;5;21;01me\u001b[39;00m\n\u001b[1;32m   1510\u001b[0m \u001b[38;5;28;01mreturn\u001b[39;00m ret\n",
      "\u001b[0;31mConversionError\u001b[0m: Failed to convert value(s) to axis units: array(['GA', 'GA', 'GA', ..., 'GA', 'GA', 'GA'], dtype=object)"
     ]
    },
    {
     "data": {
      "image/png": "[encoded data removed]",
      "text/plain": [
       "<Figure size 1600x1280 with 1 Axes>"
      ]
     },
     "metadata": {
      "needs_background": "light"
     },
     "output_type": "display_data"
    }
   ],
   "source": [
    "\n",
    "figure(figsize=(20, 16), dpi=80)\n",
    "ageArr = np.array(df.filter(col(\"StateCode_new\").contains(\"2\")).collect())\n",
    "plt.hist(ageArr)\n",
    "plt.show()\n",
    "\n",
    "df.orderBy('Sales').show()"
   ]
  },
  {
   "cell_type": "code",
   "execution_count": 148,
   "metadata": {},
   "outputs": [
    {
     "name": "stderr",
     "output_type": "stream",
     "text": [
      "[Stage 177:============================>                            (1 + 1) / 2]\r"
     ]
    },
    {
     "name": "stdout",
     "output_type": "stream",
     "text": [
      "+------------+---------+--------+----------+----------+-------------------+---------+----------+-----------------+------------------+--------------+--------------+-------------+----+--------------+---------------------+------+--------------------------------+---------------------------------+-----------------------------------------+---------------------+----------------------+------------------------------+---------+-------------+\n",
      "|BusinessYear|StateCode|IssuerId|SourceName|VersionNum|         ImportDate|IssuerId2|FederalTIN|RateEffectiveDate|RateExpirationDate|        PlanId|  RatingAreaId|      Tobacco| Age|IndividualRate|IndividualTobaccoRate|Couple|PrimarySubscriberAndOneDependent|PrimarySubscriberAndTwoDependents|PrimarySubscriberAndThreeOrMoreDependents|CoupleAndOneDependent|CoupleAndTwoDependents|CoupleAndThreeOrMoreDependents|RowNumber|StateCode_new|\n",
      "+------------+---------+--------+----------+----------+-------------------+---------+----------+-----------------+------------------+--------------+--------------+-------------+----+--------------+---------------------+------+--------------------------------+---------------------------------+-----------------------------------------+---------------------+----------------------+------------------------------+---------+-------------+\n",
      "|        2016|       SC|   97325|      HIOS|         2|2015-06-30 02:19:14|    97325|47-0397286|       2016-07-01|        2016-09-30|97325SC0080003|Rating Area 36|No Preference|0-20|         32.29|                 null|  null|                            null|                             null|                                     null|                 null|                  null|                          null|     5856|          0.0|\n",
      "|        2016|       SC|   97325|      HIOS|         2|2015-06-30 02:19:14|    97325|47-0397286|       2016-07-01|        2016-09-30|97325SC0080004|Rating Area 18|No Preference|0-20|          29.1|                 null|  null|                            null|                             null|                                     null|                 null|                  null|                          null|     7144|          0.0|\n",
      "|        2016|       SC|   97325|      HIOS|         2|2015-06-30 02:19:14|    97325|47-0397286|       2016-10-01|        2016-12-31|97325SC0080003|Rating Area 36|No Preference|0-20|         32.56|                 null|  null|                            null|                             null|                                     null|                 null|                  null|                          null|     5856|          0.0|\n",
      "|        2016|       SC|   97325|      HIOS|         2|2015-06-30 02:19:14|    97325|47-0397286|       2016-07-01|        2016-09-30|97325SC0080003|Rating Area 29|No Preference|0-20|         34.82|                 null|  null|                            null|                             null|                                     null|                 null|                  null|                          null|     5534|          0.0|\n",
      "|        2016|       SC|   97325|      HIOS|         2|2015-06-30 02:19:14|    97325|47-0397286|       2016-07-01|        2016-09-30|97325SC0080003|Rating Area 37|No Preference|0-20|         34.82|                 null|  null|                            null|                             null|                                     null|                 null|                  null|                          null|     5902|          0.0|\n",
      "|        2016|       SC|   97325|      HIOS|         2|2015-06-30 02:19:14|    97325|47-0397286|       2016-04-01|        2016-06-30|97325SC0080003|Rating Area 27|No Preference|0-20|         34.52|                 null|  null|                            null|                             null|                                     null|                 null|                  null|                          null|     5442|          0.0|\n",
      "|        2016|       SC|   97325|      HIOS|         2|2015-06-30 02:19:14|    97325|47-0397286|       2016-01-01|        2016-12-31|97325SC0020001|Rating Area 37|No Preference|0-20|         35.51|                 null|  null|                            null|                             null|                                     null|                 null|                  null|                          null|     5902|          0.0|\n",
      "|        2016|       SC|   97325|      HIOS|         2|2015-06-30 02:19:14|    97325|47-0397286|       2016-04-01|        2016-06-30|97325SC0080003|Rating Area 29|No Preference|0-20|         34.52|                 null|  null|                            null|                             null|                                     null|                 null|                  null|                          null|     5534|          0.0|\n",
      "|        2016|       SC|   97325|      HIOS|         2|2015-06-30 02:19:14|    97325|47-0397286|       2016-01-01|        2016-03-31|97325SC0080003|Rating Area 37|No Preference|0-20|         34.23|                 null|  null|                            null|                             null|                                     null|                 null|                  null|                          null|     5902|          0.0|\n",
      "|        2016|       SC|   97325|      HIOS|         2|2015-06-30 02:19:14|    97325|47-0397286|       2016-01-01|        2016-03-31|97325SC0080003|Rating Area 32|No Preference|0-20|         31.73|                 null|  null|                            null|                             null|                                     null|                 null|                  null|                          null|     5672|          0.0|\n",
      "|        2016|       SC|   97325|      HIOS|         2|2015-06-30 02:19:14|    97325|47-0397286|       2016-04-01|        2016-06-30|97325SC0080003|Rating Area 39|No Preference|0-20|         34.52|                 null|  null|                            null|                             null|                                     null|                 null|                  null|                          null|     5994|          0.0|\n",
      "|        2016|       SC|   97325|      HIOS|         2|2015-06-30 02:19:14|    97325|47-0397286|       2016-07-01|        2016-09-30|97325SC0080003|Rating Area 34|No Preference|0-20|         32.29|                 null|  null|                            null|                             null|                                     null|                 null|                  null|                          null|     5764|          0.0|\n",
      "|        2016|       SC|   97325|      HIOS|         2|2015-06-30 02:19:14|    97325|47-0397286|       2016-04-01|        2016-06-30|97325SC0080003|Rating Area 41|No Preference|0-20|         32.01|                 null|  null|                            null|                             null|                                     null|                 null|                  null|                          null|     6086|          0.0|\n",
      "|        2016|       SC|   97325|      HIOS|         2|2015-06-30 02:19:14|    97325|47-0397286|       2016-01-01|        2016-03-31|97325SC0080003|Rating Area 46|No Preference|0-20|         34.23|                 null|  null|                            null|                             null|                                     null|                 null|                  null|                          null|     6316|          0.0|\n",
      "|        2016|       SC|   97325|      HIOS|         2|2015-06-30 02:19:14|    97325|47-0397286|       2016-01-01|        2016-12-31|97325SC0020002|Rating Area 15|No Preference|0-20|         27.93|                 null|  null|                            null|                             null|                                     null|                 null|                  null|                          null|     7006|          0.0|\n",
      "|        2016|       SC|   97325|      HIOS|         2|2015-06-30 02:19:14|    97325|47-0397286|       2016-07-01|        2016-09-30|97325SC0080004| Rating Area 1|No Preference|0-20|         27.67|                 null|  null|                            null|                             null|                                     null|                 null|                  null|                          null|     6362|          0.0|\n",
      "|        2016|       SC|   97325|      HIOS|         2|2015-06-30 02:19:14|    97325|47-0397286|       2016-01-01|        2016-12-31|97325SC0020001|Rating Area 31|No Preference|0-20|         35.51|                 null|  null|                            null|                             null|                                     null|                 null|                  null|                          null|     5626|          0.0|\n",
      "|        2016|       SC|   97325|      HIOS|         2|2015-06-30 02:19:14|    97325|47-0397286|       2016-01-01|        2016-03-31|97325SC0080004| Rating Area 3|No Preference|0-20|          27.2|                 null|  null|                            null|                             null|                                     null|                 null|                  null|                          null|     6454|          0.0|\n",
      "|        2016|       SC|   97325|      HIOS|         2|2015-06-30 02:19:14|    97325|47-0397286|       2016-01-01|        2016-12-31|97325SC0020001|Rating Area 30|No Preference|0-20|         35.51|                 null|  null|                            null|                             null|                                     null|                 null|                  null|                          null|     5580|          0.0|\n",
      "|        2016|       SC|   97325|      HIOS|         2|2015-06-30 02:19:14|    97325|47-0397286|       2016-04-01|        2016-06-30|97325SC0080004| Rating Area 3|No Preference|0-20|         27.43|                 null|  null|                            null|                             null|                                     null|                 null|                  null|                          null|     6454|          0.0|\n",
      "+------------+---------+--------+----------+----------+-------------------+---------+----------+-----------------+------------------+--------------+--------------+-------------+----+--------------+---------------------+------+--------------------------------+---------------------------------+-----------------------------------------+---------------------+----------------------+------------------------------+---------+-------------+\n",
      "only showing top 20 rows\n",
      "\n"
     ]
    },
    {
     "name": "stderr",
     "output_type": "stream",
     "text": [
      "\r",
      "                                                                                \r"
     ]
    }
   ],
   "source": [
    "df.orderBy('Age').show()"
   ]
  },
  {
   "cell_type": "code",
   "execution_count": 149,
   "metadata": {},
   "outputs": [
    {
     "name": "stderr",
     "output_type": "stream",
     "text": [
      "                                                                                \r"
     ]
    },
    {
     "data": {
      "image/png": "[encoded data removed]",
      "text/plain": [
       "<Figure size 1440x1152 with 1 Axes>"
      ]
     },
     "metadata": {
      "needs_background": "light"
     },
     "output_type": "display_data"
    }
   ],
   "source": [
    "figure(figsize=(20, 16))\n",
    "ageArr = np.array(df.filter('Age < 45').select('Age').collect())\n",
    "plt.hist(ageArr)\n",
    "plt.show()"
   ]
  },
  {
   "cell_type": "code",
   "execution_count": 150,
   "metadata": {},
   "outputs": [
    {
     "name": "stderr",
     "output_type": "stream",
     "text": [
      "                                                                                \r"
     ]
    },
    {
     "data": {
      "text/plain": [
       "119163"
      ]
     },
     "execution_count": 150,
     "metadata": {},
     "output_type": "execute_result"
    }
   ],
   "source": [
    "len(df.filter('Age < 45').select('Age').collect())"
   ]
  },
  {
   "cell_type": "code",
   "execution_count": 151,
   "metadata": {},
   "outputs": [
    {
     "name": "stderr",
     "output_type": "stream",
     "text": [
      "                                                                                \r"
     ]
    },
    {
     "data": {
      "text/plain": [
       "94248"
      ]
     },
     "execution_count": 151,
     "metadata": {},
     "output_type": "execute_result"
    }
   ],
   "source": [
    "len(df.filter('Age > 45').select('Age').collect())"
   ]
  },
  {
   "cell_type": "code",
   "execution_count": 153,
   "metadata": {},
   "outputs": [
    {
     "name": "stderr",
     "output_type": "stream",
     "text": [
      "                                                                                \r"
     ]
    },
    {
     "ename": "TypeError",
     "evalue": "'<=' not supported between instances of 'float' and 'NoneType'",
     "output_type": "error",
     "traceback": [
      "\u001b[0;31m---------------------------------------------------------------------------\u001b[0m",
      "\u001b[0;31mTypeError\u001b[0m                                 Traceback (most recent call last)",
      "Input \u001b[0;32mIn [153]\u001b[0m, in \u001b[0;36m<cell line: 5>\u001b[0;34m()\u001b[0m\n\u001b[1;32m      3\u001b[0m \u001b[38;5;66;03m# Convert sex to an array using Numpy and plot it using pyplot. \u001b[39;00m\n\u001b[1;32m      4\u001b[0m sexArr \u001b[38;5;241m=\u001b[39m np\u001b[38;5;241m.\u001b[39marray(df\u001b[38;5;241m.\u001b[39mselect(\u001b[38;5;124m'\u001b[39m\u001b[38;5;124mCouple\u001b[39m\u001b[38;5;124m'\u001b[39m)\u001b[38;5;241m.\u001b[39mcollect())\n\u001b[0;32m----> 5\u001b[0m \u001b[43mplt\u001b[49m\u001b[38;5;241;43m.\u001b[39;49m\u001b[43mhist\u001b[49m\u001b[43m(\u001b[49m\u001b[43msexArr\u001b[49m\u001b[43m)\u001b[49m\n\u001b[1;32m      6\u001b[0m plt\u001b[38;5;241m.\u001b[39mshow()\n",
      "File \u001b[0;32m~/.local/lib/python3.10/site-packages/matplotlib/pyplot.py:2602\u001b[0m, in \u001b[0;36mhist\u001b[0;34m(x, bins, range, density, weights, cumulative, bottom, histtype, align, orientation, rwidth, log, color, label, stacked, data, **kwargs)\u001b[0m\n\u001b[1;32m   2596\u001b[0m \u001b[38;5;129m@_copy_docstring_and_deprecators\u001b[39m(Axes\u001b[38;5;241m.\u001b[39mhist)\n\u001b[1;32m   2597\u001b[0m \u001b[38;5;28;01mdef\u001b[39;00m \u001b[38;5;21mhist\u001b[39m(\n\u001b[1;32m   2598\u001b[0m         x, bins\u001b[38;5;241m=\u001b[39m\u001b[38;5;28;01mNone\u001b[39;00m, \u001b[38;5;28mrange\u001b[39m\u001b[38;5;241m=\u001b[39m\u001b[38;5;28;01mNone\u001b[39;00m, density\u001b[38;5;241m=\u001b[39m\u001b[38;5;28;01mFalse\u001b[39;00m, weights\u001b[38;5;241m=\u001b[39m\u001b[38;5;28;01mNone\u001b[39;00m,\n\u001b[1;32m   2599\u001b[0m         cumulative\u001b[38;5;241m=\u001b[39m\u001b[38;5;28;01mFalse\u001b[39;00m, bottom\u001b[38;5;241m=\u001b[39m\u001b[38;5;28;01mNone\u001b[39;00m, histtype\u001b[38;5;241m=\u001b[39m\u001b[38;5;124m'\u001b[39m\u001b[38;5;124mbar\u001b[39m\u001b[38;5;124m'\u001b[39m, align\u001b[38;5;241m=\u001b[39m\u001b[38;5;124m'\u001b[39m\u001b[38;5;124mmid\u001b[39m\u001b[38;5;124m'\u001b[39m,\n\u001b[1;32m   2600\u001b[0m         orientation\u001b[38;5;241m=\u001b[39m\u001b[38;5;124m'\u001b[39m\u001b[38;5;124mvertical\u001b[39m\u001b[38;5;124m'\u001b[39m, rwidth\u001b[38;5;241m=\u001b[39m\u001b[38;5;28;01mNone\u001b[39;00m, log\u001b[38;5;241m=\u001b[39m\u001b[38;5;28;01mFalse\u001b[39;00m, color\u001b[38;5;241m=\u001b[39m\u001b[38;5;28;01mNone\u001b[39;00m,\n\u001b[1;32m   2601\u001b[0m         label\u001b[38;5;241m=\u001b[39m\u001b[38;5;28;01mNone\u001b[39;00m, stacked\u001b[38;5;241m=\u001b[39m\u001b[38;5;28;01mFalse\u001b[39;00m, \u001b[38;5;241m*\u001b[39m, data\u001b[38;5;241m=\u001b[39m\u001b[38;5;28;01mNone\u001b[39;00m, \u001b[38;5;241m*\u001b[39m\u001b[38;5;241m*\u001b[39mkwargs):\n\u001b[0;32m-> 2602\u001b[0m     \u001b[38;5;28;01mreturn\u001b[39;00m \u001b[43mgca\u001b[49m\u001b[43m(\u001b[49m\u001b[43m)\u001b[49m\u001b[38;5;241;43m.\u001b[39;49m\u001b[43mhist\u001b[49m\u001b[43m(\u001b[49m\n\u001b[1;32m   2603\u001b[0m \u001b[43m        \u001b[49m\u001b[43mx\u001b[49m\u001b[43m,\u001b[49m\u001b[43m \u001b[49m\u001b[43mbins\u001b[49m\u001b[38;5;241;43m=\u001b[39;49m\u001b[43mbins\u001b[49m\u001b[43m,\u001b[49m\u001b[43m \u001b[49m\u001b[38;5;28;43mrange\u001b[39;49m\u001b[38;5;241;43m=\u001b[39;49m\u001b[38;5;28;43mrange\u001b[39;49m\u001b[43m,\u001b[49m\u001b[43m \u001b[49m\u001b[43mdensity\u001b[49m\u001b[38;5;241;43m=\u001b[39;49m\u001b[43mdensity\u001b[49m\u001b[43m,\u001b[49m\u001b[43m \u001b[49m\u001b[43mweights\u001b[49m\u001b[38;5;241;43m=\u001b[39;49m\u001b[43mweights\u001b[49m\u001b[43m,\u001b[49m\n\u001b[1;32m   2604\u001b[0m \u001b[43m        \u001b[49m\u001b[43mcumulative\u001b[49m\u001b[38;5;241;43m=\u001b[39;49m\u001b[43mcumulative\u001b[49m\u001b[43m,\u001b[49m\u001b[43m \u001b[49m\u001b[43mbottom\u001b[49m\u001b[38;5;241;43m=\u001b[39;49m\u001b[43mbottom\u001b[49m\u001b[43m,\u001b[49m\u001b[43m \u001b[49m\u001b[43mhisttype\u001b[49m\u001b[38;5;241;43m=\u001b[39;49m\u001b[43mhisttype\u001b[49m\u001b[43m,\u001b[49m\n\u001b[1;32m   2605\u001b[0m \u001b[43m        \u001b[49m\u001b[43malign\u001b[49m\u001b[38;5;241;43m=\u001b[39;49m\u001b[43malign\u001b[49m\u001b[43m,\u001b[49m\u001b[43m \u001b[49m\u001b[43morientation\u001b[49m\u001b[38;5;241;43m=\u001b[39;49m\u001b[43morientation\u001b[49m\u001b[43m,\u001b[49m\u001b[43m \u001b[49m\u001b[43mrwidth\u001b[49m\u001b[38;5;241;43m=\u001b[39;49m\u001b[43mrwidth\u001b[49m\u001b[43m,\u001b[49m\u001b[43m \u001b[49m\u001b[43mlog\u001b[49m\u001b[38;5;241;43m=\u001b[39;49m\u001b[43mlog\u001b[49m\u001b[43m,\u001b[49m\n\u001b[1;32m   2606\u001b[0m \u001b[43m        \u001b[49m\u001b[43mcolor\u001b[49m\u001b[38;5;241;43m=\u001b[39;49m\u001b[43mcolor\u001b[49m\u001b[43m,\u001b[49m\u001b[43m \u001b[49m\u001b[43mlabel\u001b[49m\u001b[38;5;241;43m=\u001b[39;49m\u001b[43mlabel\u001b[49m\u001b[43m,\u001b[49m\u001b[43m \u001b[49m\u001b[43mstacked\u001b[49m\u001b[38;5;241;43m=\u001b[39;49m\u001b[43mstacked\u001b[49m\u001b[43m,\u001b[49m\n\u001b[1;32m   2607\u001b[0m \u001b[43m        \u001b[49m\u001b[38;5;241;43m*\u001b[39;49m\u001b[38;5;241;43m*\u001b[39;49m\u001b[43m(\u001b[49m\u001b[43m{\u001b[49m\u001b[38;5;124;43m\"\u001b[39;49m\u001b[38;5;124;43mdata\u001b[39;49m\u001b[38;5;124;43m\"\u001b[39;49m\u001b[43m:\u001b[49m\u001b[43m \u001b[49m\u001b[43mdata\u001b[49m\u001b[43m}\u001b[49m\u001b[43m \u001b[49m\u001b[38;5;28;43;01mif\u001b[39;49;00m\u001b[43m \u001b[49m\u001b[43mdata\u001b[49m\u001b[43m \u001b[49m\u001b[38;5;129;43;01mis\u001b[39;49;00m\u001b[43m \u001b[49m\u001b[38;5;129;43;01mnot\u001b[39;49;00m\u001b[43m \u001b[49m\u001b[38;5;28;43;01mNone\u001b[39;49;00m\u001b[43m \u001b[49m\u001b[38;5;28;43;01melse\u001b[39;49;00m\u001b[43m \u001b[49m\u001b[43m{\u001b[49m\u001b[43m}\u001b[49m\u001b[43m)\u001b[49m\u001b[43m,\u001b[49m\u001b[43m \u001b[49m\u001b[38;5;241;43m*\u001b[39;49m\u001b[38;5;241;43m*\u001b[39;49m\u001b[43mkwargs\u001b[49m\u001b[43m)\u001b[49m\n",
      "File \u001b[0;32m~/.local/lib/python3.10/site-packages/matplotlib/__init__.py:1412\u001b[0m, in \u001b[0;36m_preprocess_data.<locals>.inner\u001b[0;34m(ax, data, *args, **kwargs)\u001b[0m\n\u001b[1;32m   1409\u001b[0m \u001b[38;5;129m@functools\u001b[39m\u001b[38;5;241m.\u001b[39mwraps(func)\n\u001b[1;32m   1410\u001b[0m \u001b[38;5;28;01mdef\u001b[39;00m \u001b[38;5;21minner\u001b[39m(ax, \u001b[38;5;241m*\u001b[39margs, data\u001b[38;5;241m=\u001b[39m\u001b[38;5;28;01mNone\u001b[39;00m, \u001b[38;5;241m*\u001b[39m\u001b[38;5;241m*\u001b[39mkwargs):\n\u001b[1;32m   1411\u001b[0m     \u001b[38;5;28;01mif\u001b[39;00m data \u001b[38;5;129;01mis\u001b[39;00m \u001b[38;5;28;01mNone\u001b[39;00m:\n\u001b[0;32m-> 1412\u001b[0m         \u001b[38;5;28;01mreturn\u001b[39;00m \u001b[43mfunc\u001b[49m\u001b[43m(\u001b[49m\u001b[43max\u001b[49m\u001b[43m,\u001b[49m\u001b[43m \u001b[49m\u001b[38;5;241;43m*\u001b[39;49m\u001b[38;5;28;43mmap\u001b[39;49m\u001b[43m(\u001b[49m\u001b[43msanitize_sequence\u001b[49m\u001b[43m,\u001b[49m\u001b[43m \u001b[49m\u001b[43margs\u001b[49m\u001b[43m)\u001b[49m\u001b[43m,\u001b[49m\u001b[43m \u001b[49m\u001b[38;5;241;43m*\u001b[39;49m\u001b[38;5;241;43m*\u001b[39;49m\u001b[43mkwargs\u001b[49m\u001b[43m)\u001b[49m\n\u001b[1;32m   1414\u001b[0m     bound \u001b[38;5;241m=\u001b[39m new_sig\u001b[38;5;241m.\u001b[39mbind(ax, \u001b[38;5;241m*\u001b[39margs, \u001b[38;5;241m*\u001b[39m\u001b[38;5;241m*\u001b[39mkwargs)\n\u001b[1;32m   1415\u001b[0m     auto_label \u001b[38;5;241m=\u001b[39m (bound\u001b[38;5;241m.\u001b[39marguments\u001b[38;5;241m.\u001b[39mget(label_namer)\n\u001b[1;32m   1416\u001b[0m                   \u001b[38;5;129;01mor\u001b[39;00m bound\u001b[38;5;241m.\u001b[39mkwargs\u001b[38;5;241m.\u001b[39mget(label_namer))\n",
      "File \u001b[0;32m~/.local/lib/python3.10/site-packages/matplotlib/axes/_axes.py:6607\u001b[0m, in \u001b[0;36mAxes.hist\u001b[0;34m(self, x, bins, range, density, weights, cumulative, bottom, histtype, align, orientation, rwidth, log, color, label, stacked, **kwargs)\u001b[0m\n\u001b[1;32m   6603\u001b[0m \u001b[38;5;28;01mfor\u001b[39;00m xi \u001b[38;5;129;01min\u001b[39;00m x:\n\u001b[1;32m   6604\u001b[0m     \u001b[38;5;28;01mif\u001b[39;00m \u001b[38;5;28mlen\u001b[39m(xi):\n\u001b[1;32m   6605\u001b[0m         \u001b[38;5;66;03m# python's min/max ignore nan,\u001b[39;00m\n\u001b[1;32m   6606\u001b[0m         \u001b[38;5;66;03m# np.minnan returns nan for all nan input\u001b[39;00m\n\u001b[0;32m-> 6607\u001b[0m         xmin \u001b[38;5;241m=\u001b[39m \u001b[38;5;28mmin\u001b[39m(xmin, \u001b[43mnp\u001b[49m\u001b[38;5;241;43m.\u001b[39;49m\u001b[43mnanmin\u001b[49m\u001b[43m(\u001b[49m\u001b[43mxi\u001b[49m\u001b[43m)\u001b[49m)\n\u001b[1;32m   6608\u001b[0m         xmax \u001b[38;5;241m=\u001b[39m \u001b[38;5;28mmax\u001b[39m(xmax, np\u001b[38;5;241m.\u001b[39mnanmax(xi))\n\u001b[1;32m   6609\u001b[0m \u001b[38;5;28;01mif\u001b[39;00m xmin \u001b[38;5;241m<\u001b[39m\u001b[38;5;241m=\u001b[39m xmax:  \u001b[38;5;66;03m# Only happens if we have seen a finite value.\u001b[39;00m\n",
      "File \u001b[0;32m<__array_function__ internals>:180\u001b[0m, in \u001b[0;36mnanmin\u001b[0;34m(*args, **kwargs)\u001b[0m\n",
      "File \u001b[0;32m~/.local/lib/python3.10/site-packages/numpy/lib/nanfunctions.py:351\u001b[0m, in \u001b[0;36mnanmin\u001b[0;34m(a, axis, out, keepdims, initial, where)\u001b[0m\n\u001b[1;32m    348\u001b[0m \u001b[38;5;28;01melse\u001b[39;00m:\n\u001b[1;32m    349\u001b[0m     \u001b[38;5;66;03m# Slow, but safe for subclasses of ndarray\u001b[39;00m\n\u001b[1;32m    350\u001b[0m     a, mask \u001b[38;5;241m=\u001b[39m _replace_nan(a, \u001b[38;5;241m+\u001b[39mnp\u001b[38;5;241m.\u001b[39minf)\n\u001b[0;32m--> 351\u001b[0m     res \u001b[38;5;241m=\u001b[39m \u001b[43mnp\u001b[49m\u001b[38;5;241;43m.\u001b[39;49m\u001b[43mamin\u001b[49m\u001b[43m(\u001b[49m\u001b[43ma\u001b[49m\u001b[43m,\u001b[49m\u001b[43m \u001b[49m\u001b[43maxis\u001b[49m\u001b[38;5;241;43m=\u001b[39;49m\u001b[43maxis\u001b[49m\u001b[43m,\u001b[49m\u001b[43m \u001b[49m\u001b[43mout\u001b[49m\u001b[38;5;241;43m=\u001b[39;49m\u001b[43mout\u001b[49m\u001b[43m,\u001b[49m\u001b[43m \u001b[49m\u001b[38;5;241;43m*\u001b[39;49m\u001b[38;5;241;43m*\u001b[39;49m\u001b[43mkwargs\u001b[49m\u001b[43m)\u001b[49m\n\u001b[1;32m    352\u001b[0m     \u001b[38;5;28;01mif\u001b[39;00m mask \u001b[38;5;129;01mis\u001b[39;00m \u001b[38;5;28;01mNone\u001b[39;00m:\n\u001b[1;32m    353\u001b[0m         \u001b[38;5;28;01mreturn\u001b[39;00m res\n",
      "File \u001b[0;32m<__array_function__ internals>:180\u001b[0m, in \u001b[0;36mamin\u001b[0;34m(*args, **kwargs)\u001b[0m\n",
      "File \u001b[0;32m~/.local/lib/python3.10/site-packages/numpy/core/fromnumeric.py:2916\u001b[0m, in \u001b[0;36mamin\u001b[0;34m(a, axis, out, keepdims, initial, where)\u001b[0m\n\u001b[1;32m   2800\u001b[0m \u001b[38;5;129m@array_function_dispatch\u001b[39m(_amin_dispatcher)\n\u001b[1;32m   2801\u001b[0m \u001b[38;5;28;01mdef\u001b[39;00m \u001b[38;5;21mamin\u001b[39m(a, axis\u001b[38;5;241m=\u001b[39m\u001b[38;5;28;01mNone\u001b[39;00m, out\u001b[38;5;241m=\u001b[39m\u001b[38;5;28;01mNone\u001b[39;00m, keepdims\u001b[38;5;241m=\u001b[39mnp\u001b[38;5;241m.\u001b[39m_NoValue, initial\u001b[38;5;241m=\u001b[39mnp\u001b[38;5;241m.\u001b[39m_NoValue,\n\u001b[1;32m   2802\u001b[0m          where\u001b[38;5;241m=\u001b[39mnp\u001b[38;5;241m.\u001b[39m_NoValue):\n\u001b[1;32m   2803\u001b[0m     \u001b[38;5;124;03m\"\"\"\u001b[39;00m\n\u001b[1;32m   2804\u001b[0m \u001b[38;5;124;03m    Return the minimum of an array or minimum along an axis.\u001b[39;00m\n\u001b[1;32m   2805\u001b[0m \n\u001b[0;32m   (...)\u001b[0m\n\u001b[1;32m   2914\u001b[0m \u001b[38;5;124;03m    6\u001b[39;00m\n\u001b[1;32m   2915\u001b[0m \u001b[38;5;124;03m    \"\"\"\u001b[39;00m\n\u001b[0;32m-> 2916\u001b[0m     \u001b[38;5;28;01mreturn\u001b[39;00m \u001b[43m_wrapreduction\u001b[49m\u001b[43m(\u001b[49m\u001b[43ma\u001b[49m\u001b[43m,\u001b[49m\u001b[43m \u001b[49m\u001b[43mnp\u001b[49m\u001b[38;5;241;43m.\u001b[39;49m\u001b[43mminimum\u001b[49m\u001b[43m,\u001b[49m\u001b[43m \u001b[49m\u001b[38;5;124;43m'\u001b[39;49m\u001b[38;5;124;43mmin\u001b[39;49m\u001b[38;5;124;43m'\u001b[39;49m\u001b[43m,\u001b[49m\u001b[43m \u001b[49m\u001b[43maxis\u001b[49m\u001b[43m,\u001b[49m\u001b[43m \u001b[49m\u001b[38;5;28;43;01mNone\u001b[39;49;00m\u001b[43m,\u001b[49m\u001b[43m \u001b[49m\u001b[43mout\u001b[49m\u001b[43m,\u001b[49m\n\u001b[1;32m   2917\u001b[0m \u001b[43m                          \u001b[49m\u001b[43mkeepdims\u001b[49m\u001b[38;5;241;43m=\u001b[39;49m\u001b[43mkeepdims\u001b[49m\u001b[43m,\u001b[49m\u001b[43m \u001b[49m\u001b[43minitial\u001b[49m\u001b[38;5;241;43m=\u001b[39;49m\u001b[43minitial\u001b[49m\u001b[43m,\u001b[49m\u001b[43m \u001b[49m\u001b[43mwhere\u001b[49m\u001b[38;5;241;43m=\u001b[39;49m\u001b[43mwhere\u001b[49m\u001b[43m)\u001b[49m\n",
      "File \u001b[0;32m~/.local/lib/python3.10/site-packages/numpy/core/fromnumeric.py:86\u001b[0m, in \u001b[0;36m_wrapreduction\u001b[0;34m(obj, ufunc, method, axis, dtype, out, **kwargs)\u001b[0m\n\u001b[1;32m     83\u001b[0m         \u001b[38;5;28;01melse\u001b[39;00m:\n\u001b[1;32m     84\u001b[0m             \u001b[38;5;28;01mreturn\u001b[39;00m reduction(axis\u001b[38;5;241m=\u001b[39maxis, out\u001b[38;5;241m=\u001b[39mout, \u001b[38;5;241m*\u001b[39m\u001b[38;5;241m*\u001b[39mpasskwargs)\n\u001b[0;32m---> 86\u001b[0m \u001b[38;5;28;01mreturn\u001b[39;00m \u001b[43mufunc\u001b[49m\u001b[38;5;241;43m.\u001b[39;49m\u001b[43mreduce\u001b[49m\u001b[43m(\u001b[49m\u001b[43mobj\u001b[49m\u001b[43m,\u001b[49m\u001b[43m \u001b[49m\u001b[43maxis\u001b[49m\u001b[43m,\u001b[49m\u001b[43m \u001b[49m\u001b[43mdtype\u001b[49m\u001b[43m,\u001b[49m\u001b[43m \u001b[49m\u001b[43mout\u001b[49m\u001b[43m,\u001b[49m\u001b[43m \u001b[49m\u001b[38;5;241;43m*\u001b[39;49m\u001b[38;5;241;43m*\u001b[39;49m\u001b[43mpasskwargs\u001b[49m\u001b[43m)\u001b[49m\n",
      "\u001b[0;31mTypeError\u001b[0m: '<=' not supported between instances of 'float' and 'NoneType'"
     ]
    },
    {
     "data": {
      "image/png": "[encoded data removed]",
      "text/plain": [
       "<Figure size 1440x1152 with 1 Axes>"
      ]
     },
     "metadata": {
      "needs_background": "light"
     },
     "output_type": "display_data"
    }
   ],
   "source": [
    "figure(figsize=(20, 16))\n",
    "\n",
    "# Convert sex to an array using Numpy and plot it using pyplot. \n",
    "sexArr = np.array(df.select('Couple').collect())\n",
    "plt.hist(sexArr)\n",
    "plt.show()"
   ]
  },
  {
   "cell_type": "code",
   "execution_count": 155,
   "metadata": {},
   "outputs": [
    {
     "name": "stderr",
     "output_type": "stream",
     "text": [
      "                                                                                \r"
     ]
    },
    {
     "data": {
      "text/plain": [
       "[Row(Age='Family Option'),\n",
       " Row(Age='Family Option'),\n",
       " Row(Age='Family Option'),\n",
       " Row(Age='Family Option'),\n",
       " Row(Age='Family Option'),\n",
       " Row(Age='Family Option'),\n",
       " Row(Age='Family Option'),\n",
       " Row(Age='Family Option'),\n",
       " Row(Age='Family Option'),\n",
       " Row(Age='Family Option'),\n",
       " Row(Age='Family Option'),\n",
       " Row(Age='Family Option'),\n",
       " Row(Age='Family Option'),\n",
       " Row(Age='Family Option'),\n",
       " Row(Age='Family Option'),\n",
       " Row(Age='Family Option'),\n",
       " Row(Age='Family Option'),\n",
       " Row(Age='Family Option'),\n",
       " Row(Age='Family Option'),\n",
       " Row(Age='Family Option'),\n",
       " Row(Age='Family Option'),\n",
       " Row(Age='Family Option'),\n",
       " Row(Age='Family Option'),\n",
       " Row(Age='Family Option'),\n",
       " Row(Age='Family Option'),\n",
       " Row(Age='Family Option'),\n",
       " Row(Age='Family Option'),\n",
       " Row(Age='Family Option'),\n",
       " Row(Age='Family Option'),\n",
       " Row(Age='Family Option'),\n",
       " Row(Age='Family Option'),\n",
       " Row(Age='Family Option'),\n",
       " Row(Age='Family Option'),\n",
       " Row(Age='Family Option'),\n",
       " Row(Age='Family Option'),\n",
       " Row(Age='Family Option'),\n",
       " Row(Age='Family Option'),\n",
       " Row(Age='Family Option'),\n",
       " Row(Age='Family Option'),\n",
       " Row(Age='Family Option'),\n",
       " Row(Age='Family Option'),\n",
       " Row(Age='Family Option'),\n",
       " Row(Age='Family Option'),\n",
       " Row(Age='Family Option'),\n",
       " Row(Age='Family Option'),\n",
       " Row(Age='Family Option'),\n",
       " Row(Age='Family Option'),\n",
       " Row(Age='Family Option'),\n",
       " Row(Age='Family Option'),\n",
       " Row(Age='Family Option'),\n",
       " Row(Age='Family Option'),\n",
       " Row(Age='Family Option'),\n",
       " Row(Age='Family Option'),\n",
       " Row(Age='Family Option'),\n",
       " Row(Age='Family Option'),\n",
       " Row(Age='Family Option'),\n",
       " Row(Age='Family Option'),\n",
       " Row(Age='Family Option'),\n",
       " Row(Age='Family Option'),\n",
       " Row(Age='Family Option'),\n",
       " Row(Age='Family Option'),\n",
       " Row(Age='Family Option'),\n",
       " Row(Age='Family Option'),\n",
       " Row(Age='Family Option'),\n",
       " Row(Age='Family Option'),\n",
       " Row(Age='Family Option'),\n",
       " Row(Age='Family Option'),\n",
       " Row(Age='Family Option'),\n",
       " Row(Age='Family Option'),\n",
       " Row(Age='Family Option'),\n",
       " Row(Age='Family Option'),\n",
       " Row(Age='Family Option'),\n",
       " Row(Age='Family Option'),\n",
       " Row(Age='Family Option'),\n",
       " Row(Age='Family Option'),\n",
       " Row(Age='Family Option'),\n",
       " Row(Age='Family Option'),\n",
       " Row(Age='Family Option'),\n",
       " Row(Age='Family Option'),\n",
       " Row(Age='Family Option'),\n",
       " Row(Age='Family Option'),\n",
       " Row(Age='Family Option'),\n",
       " Row(Age='Family Option'),\n",
       " Row(Age='Family Option'),\n",
       " Row(Age='Family Option'),\n",
       " Row(Age='Family Option'),\n",
       " Row(Age='Family Option'),\n",
       " Row(Age='Family Option'),\n",
       " Row(Age='Family Option'),\n",
       " Row(Age='Family Option'),\n",
       " Row(Age='Family Option'),\n",
       " Row(Age='Family Option'),\n",
       " Row(Age='Family Option'),\n",
       " Row(Age='Family Option'),\n",
       " Row(Age='Family Option'),\n",
       " Row(Age='Family Option'),\n",
       " Row(Age='Family Option'),\n",
       " Row(Age='Family Option'),\n",
       " Row(Age='Family Option'),\n",
       " Row(Age='Family Option'),\n",
       " Row(Age='Family Option'),\n",
       " Row(Age='Family Option'),\n",
       " Row(Age='Family Option'),\n",
       " Row(Age='Family Option'),\n",
       " Row(Age='Family Option'),\n",
       " Row(Age='Family Option'),\n",
       " Row(Age='Family Option'),\n",
       " Row(Age='Family Option'),\n",
       " Row(Age='Family Option'),\n",
       " Row(Age='Family Option'),\n",
       " Row(Age='Family Option'),\n",
       " Row(Age='Family Option'),\n",
       " Row(Age='Family Option'),\n",
       " Row(Age='Family Option'),\n",
       " Row(Age='Family Option'),\n",
       " Row(Age='Family Option'),\n",
       " Row(Age='Family Option'),\n",
       " Row(Age='Family Option'),\n",
       " Row(Age='Family Option'),\n",
       " Row(Age='Family Option'),\n",
       " Row(Age='Family Option'),\n",
       " Row(Age='Family Option'),\n",
       " Row(Age='Family Option'),\n",
       " Row(Age='Family Option'),\n",
       " Row(Age='Family Option'),\n",
       " Row(Age='Family Option'),\n",
       " Row(Age='Family Option'),\n",
       " Row(Age='Family Option'),\n",
       " Row(Age='Family Option'),\n",
       " Row(Age='Family Option'),\n",
       " Row(Age='Family Option'),\n",
       " Row(Age='Family Option'),\n",
       " Row(Age='Family Option'),\n",
       " Row(Age='Family Option'),\n",
       " Row(Age='Family Option'),\n",
       " Row(Age='Family Option'),\n",
       " Row(Age='Family Option'),\n",
       " Row(Age='Family Option'),\n",
       " Row(Age='Family Option'),\n",
       " Row(Age='Family Option'),\n",
       " Row(Age='Family Option'),\n",
       " Row(Age='Family Option'),\n",
       " Row(Age='Family Option'),\n",
       " Row(Age='Family Option'),\n",
       " Row(Age='Family Option'),\n",
       " Row(Age='Family Option'),\n",
       " Row(Age='Family Option'),\n",
       " Row(Age='Family Option'),\n",
       " Row(Age='Family Option'),\n",
       " Row(Age='Family Option'),\n",
       " Row(Age='Family Option'),\n",
       " Row(Age='Family Option'),\n",
       " Row(Age='Family Option'),\n",
       " Row(Age='Family Option'),\n",
       " Row(Age='Family Option'),\n",
       " Row(Age='Family Option'),\n",
       " Row(Age='Family Option'),\n",
       " Row(Age='Family Option'),\n",
       " Row(Age='Family Option'),\n",
       " Row(Age='Family Option'),\n",
       " Row(Age='Family Option'),\n",
       " Row(Age='Family Option'),\n",
       " Row(Age='Family Option'),\n",
       " Row(Age='Family Option'),\n",
       " Row(Age='Family Option'),\n",
       " Row(Age='Family Option'),\n",
       " Row(Age='Family Option'),\n",
       " Row(Age='Family Option'),\n",
       " Row(Age='Family Option'),\n",
       " Row(Age='Family Option'),\n",
       " Row(Age='Family Option'),\n",
       " Row(Age='Family Option'),\n",
       " Row(Age='Family Option'),\n",
       " Row(Age='Family Option'),\n",
       " Row(Age='Family Option'),\n",
       " Row(Age='Family Option'),\n",
       " Row(Age='Family Option'),\n",
       " Row(Age='Family Option'),\n",
       " Row(Age='Family Option'),\n",
       " Row(Age='Family Option'),\n",
       " Row(Age='Family Option'),\n",
       " Row(Age='Family Option'),\n",
       " Row(Age='Family Option'),\n",
       " Row(Age='Family Option'),\n",
       " Row(Age='Family Option'),\n",
       " Row(Age='Family Option'),\n",
       " Row(Age='Family Option'),\n",
       " Row(Age='Family Option'),\n",
       " Row(Age='Family Option'),\n",
       " Row(Age='Family Option'),\n",
       " Row(Age='Family Option'),\n",
       " Row(Age='Family Option'),\n",
       " Row(Age='Family Option'),\n",
       " Row(Age='Family Option'),\n",
       " Row(Age='Family Option')]"
      ]
     },
     "execution_count": 155,
     "metadata": {},
     "output_type": "execute_result"
    }
   ],
   "source": [
    "df.filter('couple == 0').select('Age').collect()"
   ]
  },
  {
   "cell_type": "code",
   "execution_count": 158,
   "metadata": {},
   "outputs": [
    {
     "name": "stderr",
     "output_type": "stream",
     "text": [
      "                                                                                \r"
     ]
    },
    {
     "data": {
      "image/png": "[encoded data removed]",
      "text/plain": [
       "<Figure size 1440x1152 with 1 Axes>"
      ]
     },
     "metadata": {
      "needs_background": "light"
     },
     "output_type": "display_data"
    }
   ],
   "source": [
    "figure(figsize=(20, 16))\n",
    "\n",
    "# Convert sex to an array using Numpy and plot it using pyplot. \n",
    "sexArr = np.array(df.filter('couple > 0').select('couple').collect())\n",
    "plt.hist(sexArr)\n",
    "plt.show()"
   ]
  },
  {
   "cell_type": "code",
   "execution_count": null,
   "metadata": {},
   "outputs": [],
   "source": []
  }
 ],
 "metadata": {
  "kernelspec": {
   "display_name": "Python 3 (ipykernel)",
   "language": "python",
   "name": "python3"
  },
  "language_info": {
   "codemirror_mode": {
    "name": "ipython",
    "version": 3
   },
   "file_extension": ".py",
   "mimetype": "text/x-python",
   "name": "python",
   "nbconvert_exporter": "python",
   "pygments_lexer": "ipython3",
   "version": "3.10.4"
  }
 },
 "nbformat": 4,
 "nbformat_minor": 1
}
